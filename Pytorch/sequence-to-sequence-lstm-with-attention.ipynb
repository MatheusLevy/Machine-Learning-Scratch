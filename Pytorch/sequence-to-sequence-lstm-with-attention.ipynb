{
 "cells": [
  {
   "cell_type": "code",
   "execution_count": 1,
   "id": "ef2d6fc4",
   "metadata": {
    "_cell_guid": "b1076dfc-b9ad-4769-8c92-a6c4dae69d19",
    "_uuid": "8f2839f25d086af736a60e9eeb907d3b93b6e0e5",
    "execution": {
     "iopub.execute_input": "2024-04-11T17:41:10.812697Z",
     "iopub.status.busy": "2024-04-11T17:41:10.812412Z",
     "iopub.status.idle": "2024-04-11T17:41:12.060252Z",
     "shell.execute_reply": "2024-04-11T17:41:12.059147Z"
    },
    "papermill": {
     "duration": 1.261728,
     "end_time": "2024-04-11T17:41:12.062378",
     "exception": false,
     "start_time": "2024-04-11T17:41:10.800650",
     "status": "completed"
    },
    "tags": []
   },
   "outputs": [
    {
     "name": "stdout",
     "output_type": "stream",
     "text": [
      "--2024-04-11 17:41:11--  https://raw.githubusercontent.com/Apress/applied-natural-language-processing-w-python/master/data_etc/deu.txt\r\n",
      "Resolving raw.githubusercontent.com (raw.githubusercontent.com)... 185.199.108.133, 185.199.109.133, 185.199.110.133, ...\r\n",
      "Connecting to raw.githubusercontent.com (raw.githubusercontent.com)|185.199.108.133|:443... connected.\r\n",
      "HTTP request sent, awaiting response... 200 OK\r\n",
      "Length: 12316220 (12M) [text/plain]\r\n",
      "Saving to: 'deu.txt'\r\n",
      "\r\n",
      "deu.txt             100%[===================>]  11.75M  --.-KB/s    in 0.1s    \r\n",
      "\r\n",
      "2024-04-11 17:41:11 (116 MB/s) - 'deu.txt' saved [12316220/12316220]\r\n",
      "\r\n"
     ]
    }
   ],
   "source": [
    "!wget 'https://raw.githubusercontent.com/Apress/applied-natural-language-processing-w-python/master/data_etc/deu.txt'"
   ]
  },
  {
   "cell_type": "code",
   "execution_count": 2,
   "id": "16877ec7",
   "metadata": {
    "execution": {
     "iopub.execute_input": "2024-04-11T17:41:12.085639Z",
     "iopub.status.busy": "2024-04-11T17:41:12.085320Z",
     "iopub.status.idle": "2024-04-11T17:41:50.962344Z",
     "shell.execute_reply": "2024-04-11T17:41:50.961387Z"
    },
    "papermill": {
     "duration": 38.891294,
     "end_time": "2024-04-11T17:41:50.964605",
     "exception": false,
     "start_time": "2024-04-11T17:41:12.073311",
     "status": "completed"
    },
    "tags": []
   },
   "outputs": [
    {
     "name": "stdout",
     "output_type": "stream",
     "text": [
      "Collecting en-core-web-sm==3.7.1\r\n",
      "  Downloading https://github.com/explosion/spacy-models/releases/download/en_core_web_sm-3.7.1/en_core_web_sm-3.7.1-py3-none-any.whl (12.8 MB)\r\n",
      "\u001b[2K     \u001b[90m━━━━━━━━━━━━━━━━━━━━━━━━━━━━━━━━━━━━━━━━\u001b[0m \u001b[32m12.8/12.8 MB\u001b[0m \u001b[31m77.3 MB/s\u001b[0m eta \u001b[36m0:00:00\u001b[0m\r\n",
      "\u001b[?25hRequirement already satisfied: spacy<3.8.0,>=3.7.2 in /opt/conda/lib/python3.10/site-packages (from en-core-web-sm==3.7.1) (3.7.2)\r\n",
      "Requirement already satisfied: spacy-legacy<3.1.0,>=3.0.11 in /opt/conda/lib/python3.10/site-packages (from spacy<3.8.0,>=3.7.2->en-core-web-sm==3.7.1) (3.0.12)\r\n",
      "Requirement already satisfied: spacy-loggers<2.0.0,>=1.0.0 in /opt/conda/lib/python3.10/site-packages (from spacy<3.8.0,>=3.7.2->en-core-web-sm==3.7.1) (1.0.5)\r\n",
      "Requirement already satisfied: murmurhash<1.1.0,>=0.28.0 in /opt/conda/lib/python3.10/site-packages (from spacy<3.8.0,>=3.7.2->en-core-web-sm==3.7.1) (1.0.10)\r\n",
      "Requirement already satisfied: cymem<2.1.0,>=2.0.2 in /opt/conda/lib/python3.10/site-packages (from spacy<3.8.0,>=3.7.2->en-core-web-sm==3.7.1) (2.0.8)\r\n",
      "Requirement already satisfied: preshed<3.1.0,>=3.0.2 in /opt/conda/lib/python3.10/site-packages (from spacy<3.8.0,>=3.7.2->en-core-web-sm==3.7.1) (3.0.9)\r\n",
      "Requirement already satisfied: thinc<8.3.0,>=8.1.8 in /opt/conda/lib/python3.10/site-packages (from spacy<3.8.0,>=3.7.2->en-core-web-sm==3.7.1) (8.2.2)\r\n",
      "Requirement already satisfied: wasabi<1.2.0,>=0.9.1 in /opt/conda/lib/python3.10/site-packages (from spacy<3.8.0,>=3.7.2->en-core-web-sm==3.7.1) (1.1.2)\r\n",
      "Requirement already satisfied: srsly<3.0.0,>=2.4.3 in /opt/conda/lib/python3.10/site-packages (from spacy<3.8.0,>=3.7.2->en-core-web-sm==3.7.1) (2.4.8)\r\n",
      "Requirement already satisfied: catalogue<2.1.0,>=2.0.6 in /opt/conda/lib/python3.10/site-packages (from spacy<3.8.0,>=3.7.2->en-core-web-sm==3.7.1) (2.0.10)\r\n",
      "Requirement already satisfied: weasel<0.4.0,>=0.1.0 in /opt/conda/lib/python3.10/site-packages (from spacy<3.8.0,>=3.7.2->en-core-web-sm==3.7.1) (0.3.4)\r\n",
      "Requirement already satisfied: typer<0.10.0,>=0.3.0 in /opt/conda/lib/python3.10/site-packages (from spacy<3.8.0,>=3.7.2->en-core-web-sm==3.7.1) (0.9.0)\r\n",
      "Requirement already satisfied: smart-open<7.0.0,>=5.2.1 in /opt/conda/lib/python3.10/site-packages (from spacy<3.8.0,>=3.7.2->en-core-web-sm==3.7.1) (6.4.0)\r\n",
      "Requirement already satisfied: tqdm<5.0.0,>=4.38.0 in /opt/conda/lib/python3.10/site-packages (from spacy<3.8.0,>=3.7.2->en-core-web-sm==3.7.1) (4.66.1)\r\n",
      "Requirement already satisfied: requests<3.0.0,>=2.13.0 in /opt/conda/lib/python3.10/site-packages (from spacy<3.8.0,>=3.7.2->en-core-web-sm==3.7.1) (2.31.0)\r\n",
      "Requirement already satisfied: pydantic!=1.8,!=1.8.1,<3.0.0,>=1.7.4 in /opt/conda/lib/python3.10/site-packages (from spacy<3.8.0,>=3.7.2->en-core-web-sm==3.7.1) (2.5.3)\r\n",
      "Requirement already satisfied: jinja2 in /opt/conda/lib/python3.10/site-packages (from spacy<3.8.0,>=3.7.2->en-core-web-sm==3.7.1) (3.1.2)\r\n",
      "Requirement already satisfied: setuptools in /opt/conda/lib/python3.10/site-packages (from spacy<3.8.0,>=3.7.2->en-core-web-sm==3.7.1) (69.0.3)\r\n",
      "Requirement already satisfied: packaging>=20.0 in /opt/conda/lib/python3.10/site-packages (from spacy<3.8.0,>=3.7.2->en-core-web-sm==3.7.1) (21.3)\r\n",
      "Requirement already satisfied: langcodes<4.0.0,>=3.2.0 in /opt/conda/lib/python3.10/site-packages (from spacy<3.8.0,>=3.7.2->en-core-web-sm==3.7.1) (3.3.0)\r\n",
      "Requirement already satisfied: numpy>=1.19.0 in /opt/conda/lib/python3.10/site-packages (from spacy<3.8.0,>=3.7.2->en-core-web-sm==3.7.1) (1.26.4)\r\n",
      "Requirement already satisfied: pyparsing!=3.0.5,>=2.0.2 in /opt/conda/lib/python3.10/site-packages (from packaging>=20.0->spacy<3.8.0,>=3.7.2->en-core-web-sm==3.7.1) (3.1.1)\r\n",
      "Requirement already satisfied: annotated-types>=0.4.0 in /opt/conda/lib/python3.10/site-packages (from pydantic!=1.8,!=1.8.1,<3.0.0,>=1.7.4->spacy<3.8.0,>=3.7.2->en-core-web-sm==3.7.1) (0.6.0)\r\n",
      "Requirement already satisfied: pydantic-core==2.14.6 in /opt/conda/lib/python3.10/site-packages (from pydantic!=1.8,!=1.8.1,<3.0.0,>=1.7.4->spacy<3.8.0,>=3.7.2->en-core-web-sm==3.7.1) (2.14.6)\r\n",
      "Requirement already satisfied: typing-extensions>=4.6.1 in /opt/conda/lib/python3.10/site-packages (from pydantic!=1.8,!=1.8.1,<3.0.0,>=1.7.4->spacy<3.8.0,>=3.7.2->en-core-web-sm==3.7.1) (4.9.0)\r\n",
      "Requirement already satisfied: charset-normalizer<4,>=2 in /opt/conda/lib/python3.10/site-packages (from requests<3.0.0,>=2.13.0->spacy<3.8.0,>=3.7.2->en-core-web-sm==3.7.1) (3.3.2)\r\n",
      "Requirement already satisfied: idna<4,>=2.5 in /opt/conda/lib/python3.10/site-packages (from requests<3.0.0,>=2.13.0->spacy<3.8.0,>=3.7.2->en-core-web-sm==3.7.1) (3.6)\r\n",
      "Requirement already satisfied: urllib3<3,>=1.21.1 in /opt/conda/lib/python3.10/site-packages (from requests<3.0.0,>=2.13.0->spacy<3.8.0,>=3.7.2->en-core-web-sm==3.7.1) (1.26.18)\r\n",
      "Requirement already satisfied: certifi>=2017.4.17 in /opt/conda/lib/python3.10/site-packages (from requests<3.0.0,>=2.13.0->spacy<3.8.0,>=3.7.2->en-core-web-sm==3.7.1) (2024.2.2)\r\n",
      "Requirement already satisfied: blis<0.8.0,>=0.7.8 in /opt/conda/lib/python3.10/site-packages (from thinc<8.3.0,>=8.1.8->spacy<3.8.0,>=3.7.2->en-core-web-sm==3.7.1) (0.7.10)\r\n",
      "Requirement already satisfied: confection<1.0.0,>=0.0.1 in /opt/conda/lib/python3.10/site-packages (from thinc<8.3.0,>=8.1.8->spacy<3.8.0,>=3.7.2->en-core-web-sm==3.7.1) (0.1.4)\r\n",
      "Requirement already satisfied: click<9.0.0,>=7.1.1 in /opt/conda/lib/python3.10/site-packages (from typer<0.10.0,>=0.3.0->spacy<3.8.0,>=3.7.2->en-core-web-sm==3.7.1) (8.1.7)\r\n",
      "Requirement already satisfied: cloudpathlib<0.17.0,>=0.7.0 in /opt/conda/lib/python3.10/site-packages (from weasel<0.4.0,>=0.1.0->spacy<3.8.0,>=3.7.2->en-core-web-sm==3.7.1) (0.16.0)\r\n",
      "Requirement already satisfied: MarkupSafe>=2.0 in /opt/conda/lib/python3.10/site-packages (from jinja2->spacy<3.8.0,>=3.7.2->en-core-web-sm==3.7.1) (2.1.3)\r\n",
      "\u001b[38;5;2m✔ Download and installation successful\u001b[0m\r\n",
      "You can now load the package via spacy.load('en_core_web_sm')\r\n",
      "Collecting de-core-news-sm==3.7.0\r\n",
      "  Downloading https://github.com/explosion/spacy-models/releases/download/de_core_news_sm-3.7.0/de_core_news_sm-3.7.0-py3-none-any.whl (14.6 MB)\r\n",
      "\u001b[2K     \u001b[90m━━━━━━━━━━━━━━━━━━━━━━━━━━━━━━━━━━━━━━━━\u001b[0m \u001b[32m14.6/14.6 MB\u001b[0m \u001b[31m76.9 MB/s\u001b[0m eta \u001b[36m0:00:00\u001b[0m\r\n",
      "\u001b[?25hRequirement already satisfied: spacy<3.8.0,>=3.7.0 in /opt/conda/lib/python3.10/site-packages (from de-core-news-sm==3.7.0) (3.7.2)\r\n",
      "Requirement already satisfied: spacy-legacy<3.1.0,>=3.0.11 in /opt/conda/lib/python3.10/site-packages (from spacy<3.8.0,>=3.7.0->de-core-news-sm==3.7.0) (3.0.12)\r\n",
      "Requirement already satisfied: spacy-loggers<2.0.0,>=1.0.0 in /opt/conda/lib/python3.10/site-packages (from spacy<3.8.0,>=3.7.0->de-core-news-sm==3.7.0) (1.0.5)\r\n",
      "Requirement already satisfied: murmurhash<1.1.0,>=0.28.0 in /opt/conda/lib/python3.10/site-packages (from spacy<3.8.0,>=3.7.0->de-core-news-sm==3.7.0) (1.0.10)\r\n",
      "Requirement already satisfied: cymem<2.1.0,>=2.0.2 in /opt/conda/lib/python3.10/site-packages (from spacy<3.8.0,>=3.7.0->de-core-news-sm==3.7.0) (2.0.8)\r\n",
      "Requirement already satisfied: preshed<3.1.0,>=3.0.2 in /opt/conda/lib/python3.10/site-packages (from spacy<3.8.0,>=3.7.0->de-core-news-sm==3.7.0) (3.0.9)\r\n",
      "Requirement already satisfied: thinc<8.3.0,>=8.1.8 in /opt/conda/lib/python3.10/site-packages (from spacy<3.8.0,>=3.7.0->de-core-news-sm==3.7.0) (8.2.2)\r\n",
      "Requirement already satisfied: wasabi<1.2.0,>=0.9.1 in /opt/conda/lib/python3.10/site-packages (from spacy<3.8.0,>=3.7.0->de-core-news-sm==3.7.0) (1.1.2)\r\n",
      "Requirement already satisfied: srsly<3.0.0,>=2.4.3 in /opt/conda/lib/python3.10/site-packages (from spacy<3.8.0,>=3.7.0->de-core-news-sm==3.7.0) (2.4.8)\r\n",
      "Requirement already satisfied: catalogue<2.1.0,>=2.0.6 in /opt/conda/lib/python3.10/site-packages (from spacy<3.8.0,>=3.7.0->de-core-news-sm==3.7.0) (2.0.10)\r\n",
      "Requirement already satisfied: weasel<0.4.0,>=0.1.0 in /opt/conda/lib/python3.10/site-packages (from spacy<3.8.0,>=3.7.0->de-core-news-sm==3.7.0) (0.3.4)\r\n",
      "Requirement already satisfied: typer<0.10.0,>=0.3.0 in /opt/conda/lib/python3.10/site-packages (from spacy<3.8.0,>=3.7.0->de-core-news-sm==3.7.0) (0.9.0)\r\n",
      "Requirement already satisfied: smart-open<7.0.0,>=5.2.1 in /opt/conda/lib/python3.10/site-packages (from spacy<3.8.0,>=3.7.0->de-core-news-sm==3.7.0) (6.4.0)\r\n",
      "Requirement already satisfied: tqdm<5.0.0,>=4.38.0 in /opt/conda/lib/python3.10/site-packages (from spacy<3.8.0,>=3.7.0->de-core-news-sm==3.7.0) (4.66.1)\r\n",
      "Requirement already satisfied: requests<3.0.0,>=2.13.0 in /opt/conda/lib/python3.10/site-packages (from spacy<3.8.0,>=3.7.0->de-core-news-sm==3.7.0) (2.31.0)\r\n",
      "Requirement already satisfied: pydantic!=1.8,!=1.8.1,<3.0.0,>=1.7.4 in /opt/conda/lib/python3.10/site-packages (from spacy<3.8.0,>=3.7.0->de-core-news-sm==3.7.0) (2.5.3)\r\n",
      "Requirement already satisfied: jinja2 in /opt/conda/lib/python3.10/site-packages (from spacy<3.8.0,>=3.7.0->de-core-news-sm==3.7.0) (3.1.2)\r\n",
      "Requirement already satisfied: setuptools in /opt/conda/lib/python3.10/site-packages (from spacy<3.8.0,>=3.7.0->de-core-news-sm==3.7.0) (69.0.3)\r\n",
      "Requirement already satisfied: packaging>=20.0 in /opt/conda/lib/python3.10/site-packages (from spacy<3.8.0,>=3.7.0->de-core-news-sm==3.7.0) (21.3)\r\n",
      "Requirement already satisfied: langcodes<4.0.0,>=3.2.0 in /opt/conda/lib/python3.10/site-packages (from spacy<3.8.0,>=3.7.0->de-core-news-sm==3.7.0) (3.3.0)\r\n",
      "Requirement already satisfied: numpy>=1.19.0 in /opt/conda/lib/python3.10/site-packages (from spacy<3.8.0,>=3.7.0->de-core-news-sm==3.7.0) (1.26.4)\r\n",
      "Requirement already satisfied: pyparsing!=3.0.5,>=2.0.2 in /opt/conda/lib/python3.10/site-packages (from packaging>=20.0->spacy<3.8.0,>=3.7.0->de-core-news-sm==3.7.0) (3.1.1)\r\n",
      "Requirement already satisfied: annotated-types>=0.4.0 in /opt/conda/lib/python3.10/site-packages (from pydantic!=1.8,!=1.8.1,<3.0.0,>=1.7.4->spacy<3.8.0,>=3.7.0->de-core-news-sm==3.7.0) (0.6.0)\r\n",
      "Requirement already satisfied: pydantic-core==2.14.6 in /opt/conda/lib/python3.10/site-packages (from pydantic!=1.8,!=1.8.1,<3.0.0,>=1.7.4->spacy<3.8.0,>=3.7.0->de-core-news-sm==3.7.0) (2.14.6)\r\n",
      "Requirement already satisfied: typing-extensions>=4.6.1 in /opt/conda/lib/python3.10/site-packages (from pydantic!=1.8,!=1.8.1,<3.0.0,>=1.7.4->spacy<3.8.0,>=3.7.0->de-core-news-sm==3.7.0) (4.9.0)\r\n",
      "Requirement already satisfied: charset-normalizer<4,>=2 in /opt/conda/lib/python3.10/site-packages (from requests<3.0.0,>=2.13.0->spacy<3.8.0,>=3.7.0->de-core-news-sm==3.7.0) (3.3.2)\r\n",
      "Requirement already satisfied: idna<4,>=2.5 in /opt/conda/lib/python3.10/site-packages (from requests<3.0.0,>=2.13.0->spacy<3.8.0,>=3.7.0->de-core-news-sm==3.7.0) (3.6)\r\n",
      "Requirement already satisfied: urllib3<3,>=1.21.1 in /opt/conda/lib/python3.10/site-packages (from requests<3.0.0,>=2.13.0->spacy<3.8.0,>=3.7.0->de-core-news-sm==3.7.0) (1.26.18)\r\n",
      "Requirement already satisfied: certifi>=2017.4.17 in /opt/conda/lib/python3.10/site-packages (from requests<3.0.0,>=2.13.0->spacy<3.8.0,>=3.7.0->de-core-news-sm==3.7.0) (2024.2.2)\r\n",
      "Requirement already satisfied: blis<0.8.0,>=0.7.8 in /opt/conda/lib/python3.10/site-packages (from thinc<8.3.0,>=8.1.8->spacy<3.8.0,>=3.7.0->de-core-news-sm==3.7.0) (0.7.10)\r\n",
      "Requirement already satisfied: confection<1.0.0,>=0.0.1 in /opt/conda/lib/python3.10/site-packages (from thinc<8.3.0,>=8.1.8->spacy<3.8.0,>=3.7.0->de-core-news-sm==3.7.0) (0.1.4)\r\n",
      "Requirement already satisfied: click<9.0.0,>=7.1.1 in /opt/conda/lib/python3.10/site-packages (from typer<0.10.0,>=0.3.0->spacy<3.8.0,>=3.7.0->de-core-news-sm==3.7.0) (8.1.7)\r\n",
      "Requirement already satisfied: cloudpathlib<0.17.0,>=0.7.0 in /opt/conda/lib/python3.10/site-packages (from weasel<0.4.0,>=0.1.0->spacy<3.8.0,>=3.7.0->de-core-news-sm==3.7.0) (0.16.0)\r\n",
      "Requirement already satisfied: MarkupSafe>=2.0 in /opt/conda/lib/python3.10/site-packages (from jinja2->spacy<3.8.0,>=3.7.0->de-core-news-sm==3.7.0) (2.1.3)\r\n",
      "Installing collected packages: de-core-news-sm\r\n",
      "Successfully installed de-core-news-sm-3.7.0\r\n",
      "\u001b[38;5;2m✔ Download and installation successful\u001b[0m\r\n",
      "You can now load the package via spacy.load('de_core_news_sm')\r\n"
     ]
    }
   ],
   "source": [
    "!python -m spacy download en_core_web_sm\n",
    "!python -m spacy download de_core_news_sm"
   ]
  },
  {
   "cell_type": "code",
   "execution_count": 3,
   "id": "66112cce",
   "metadata": {
    "execution": {
     "iopub.execute_input": "2024-04-11T17:41:50.993526Z",
     "iopub.status.busy": "2024-04-11T17:41:50.993219Z",
     "iopub.status.idle": "2024-04-11T17:41:52.652991Z",
     "shell.execute_reply": "2024-04-11T17:41:52.652025Z"
    },
    "papermill": {
     "duration": 1.677479,
     "end_time": "2024-04-11T17:41:52.655401",
     "exception": false,
     "start_time": "2024-04-11T17:41:50.977922",
     "status": "completed"
    },
    "tags": []
   },
   "outputs": [],
   "source": [
    "import torch"
   ]
  },
  {
   "cell_type": "code",
   "execution_count": 4,
   "id": "ad1478e3",
   "metadata": {
    "execution": {
     "iopub.execute_input": "2024-04-11T17:41:52.684987Z",
     "iopub.status.busy": "2024-04-11T17:41:52.684099Z",
     "iopub.status.idle": "2024-04-11T17:41:52.703271Z",
     "shell.execute_reply": "2024-04-11T17:41:52.702371Z"
    },
    "papermill": {
     "duration": 0.036417,
     "end_time": "2024-04-11T17:41:52.705326",
     "exception": false,
     "start_time": "2024-04-11T17:41:52.668909",
     "status": "completed"
    },
    "tags": []
   },
   "outputs": [],
   "source": [
    "device = torch.device('cuda' if torch.cuda.is_available() else 'cpu')"
   ]
  },
  {
   "cell_type": "code",
   "execution_count": 5,
   "id": "32f22c1d",
   "metadata": {
    "execution": {
     "iopub.execute_input": "2024-04-11T17:41:52.732623Z",
     "iopub.status.busy": "2024-04-11T17:41:52.732339Z",
     "iopub.status.idle": "2024-04-11T17:41:52.736659Z",
     "shell.execute_reply": "2024-04-11T17:41:52.735826Z"
    },
    "papermill": {
     "duration": 0.020376,
     "end_time": "2024-04-11T17:41:52.738754",
     "exception": false,
     "start_time": "2024-04-11T17:41:52.718378",
     "status": "completed"
    },
    "tags": []
   },
   "outputs": [
    {
     "name": "stdout",
     "output_type": "stream",
     "text": [
      "cuda\n"
     ]
    }
   ],
   "source": [
    "print(device)"
   ]
  },
  {
   "cell_type": "code",
   "execution_count": 6,
   "id": "b2cfe7a2",
   "metadata": {
    "execution": {
     "iopub.execute_input": "2024-04-11T17:41:52.766041Z",
     "iopub.status.busy": "2024-04-11T17:41:52.765727Z",
     "iopub.status.idle": "2024-04-11T17:41:59.143818Z",
     "shell.execute_reply": "2024-04-11T17:41:59.142830Z"
    },
    "papermill": {
     "duration": 6.394219,
     "end_time": "2024-04-11T17:41:59.146179",
     "exception": false,
     "start_time": "2024-04-11T17:41:52.751960",
     "status": "completed"
    },
    "tags": []
   },
   "outputs": [],
   "source": [
    "import torchdata.datapipes as dp\n",
    "import torchtext.transforms as T\n",
    "import spacy\n",
    "import random\n",
    "from torchtext.vocab import build_vocab_from_iterator\n",
    "eng = spacy.load(\"en_core_web_sm\") # Load the English model to tokenize English text\n",
    "de = spacy.load(\"de_core_news_sm\") # Load the German model to tokenize German text"
   ]
  },
  {
   "cell_type": "code",
   "execution_count": 7,
   "id": "2d4b7d81",
   "metadata": {
    "execution": {
     "iopub.execute_input": "2024-04-11T17:41:59.174102Z",
     "iopub.status.busy": "2024-04-11T17:41:59.173467Z",
     "iopub.status.idle": "2024-04-11T17:41:59.447483Z",
     "shell.execute_reply": "2024-04-11T17:41:59.446601Z"
    },
    "papermill": {
     "duration": 0.290354,
     "end_time": "2024-04-11T17:41:59.449780",
     "exception": false,
     "start_time": "2024-04-11T17:41:59.159426",
     "status": "completed"
    },
    "tags": []
   },
   "outputs": [],
   "source": [
    "import random\n",
    "\n",
    "def split_dataset(input_file, train_file, test_file, train_percent):\n",
    "    with open(input_file, 'r') as file:\n",
    "        lines = file.readlines()  \n",
    "\n",
    "    total_lines = len(lines)\n",
    "    train_lines = int(total_lines * train_percent)\n",
    "    test_lines = total_lines - train_lines\n",
    "\n",
    "\n",
    "    random.shuffle(lines)\n",
    "\n",
    "    with open(train_file, 'w') as train:\n",
    "        for line in lines[:train_lines]:\n",
    "            train.write(line)\n",
    "\n",
    "    with open(test_file, 'w') as test:\n",
    "        for line in lines[train_lines:]:\n",
    "            test.write(line)\n",
    "\n",
    "\n",
    "input_file = '/kaggle/working/deu.txt'\n",
    "\n",
    "\n",
    "train_file = 'shiny_train.txt'\n",
    "test_file = 'shiny_test.txt'\n",
    "\n",
    "train_percent = 0.8\n",
    "\n",
    "split_dataset(input_file, train_file, test_file, train_percent)"
   ]
  },
  {
   "cell_type": "code",
   "execution_count": 8,
   "id": "63a76c4b",
   "metadata": {
    "execution": {
     "iopub.execute_input": "2024-04-11T17:41:59.478226Z",
     "iopub.status.busy": "2024-04-11T17:41:59.477455Z",
     "iopub.status.idle": "2024-04-11T17:41:59.482499Z",
     "shell.execute_reply": "2024-04-11T17:41:59.481636Z"
    },
    "papermill": {
     "duration": 0.021187,
     "end_time": "2024-04-11T17:41:59.484417",
     "exception": false,
     "start_time": "2024-04-11T17:41:59.463230",
     "status": "completed"
    },
    "tags": []
   },
   "outputs": [],
   "source": [
    "FILE_PATH = '/kaggle/working/shiny_train.txt'\n",
    "data_pipe = dp.iter.IterableWrapper([FILE_PATH])\n",
    "data_pipe = dp.iter.FileOpener(data_pipe, mode='rb')\n",
    "data_pipe = data_pipe.parse_csv(skip_lines=1, delimiter='\\t', as_tuple=True)"
   ]
  },
  {
   "cell_type": "code",
   "execution_count": 9,
   "id": "2d8775c2",
   "metadata": {
    "execution": {
     "iopub.execute_input": "2024-04-11T17:41:59.511706Z",
     "iopub.status.busy": "2024-04-11T17:41:59.511405Z",
     "iopub.status.idle": "2024-04-11T17:41:59.516481Z",
     "shell.execute_reply": "2024-04-11T17:41:59.515562Z"
    },
    "papermill": {
     "duration": 0.020743,
     "end_time": "2024-04-11T17:41:59.518341",
     "exception": false,
     "start_time": "2024-04-11T17:41:59.497598",
     "status": "completed"
    },
    "tags": []
   },
   "outputs": [
    {
     "name": "stdout",
     "output_type": "stream",
     "text": [
      "('Tom spent three weeks in the hospital.', 'Tom war drei Wochen im Krankenhaus.')\n"
     ]
    }
   ],
   "source": [
    "for sample in data_pipe:\n",
    "    print(sample)\n",
    "    break"
   ]
  },
  {
   "cell_type": "code",
   "execution_count": 10,
   "id": "ff68d7c4",
   "metadata": {
    "execution": {
     "iopub.execute_input": "2024-04-11T17:41:59.545575Z",
     "iopub.status.busy": "2024-04-11T17:41:59.545321Z",
     "iopub.status.idle": "2024-04-11T17:41:59.550393Z",
     "shell.execute_reply": "2024-04-11T17:41:59.549567Z"
    },
    "papermill": {
     "duration": 0.020945,
     "end_time": "2024-04-11T17:41:59.552203",
     "exception": false,
     "start_time": "2024-04-11T17:41:59.531258",
     "status": "completed"
    },
    "tags": []
   },
   "outputs": [],
   "source": [
    "def engTokenize(text):\n",
    "    \"\"\"\n",
    "    Tokenize an English text and return a list of tokens\n",
    "    \"\"\"\n",
    "    return [token.text for token in eng.tokenizer(text)]\n",
    "\n",
    "def deTokenize(text):\n",
    "    \"\"\"\n",
    "    Tokenize a German text and return a list of tokens\n",
    "    \"\"\"\n",
    "    return [token.text for token in de.tokenizer(text)]"
   ]
  },
  {
   "cell_type": "code",
   "execution_count": 11,
   "id": "bc77e52d",
   "metadata": {
    "execution": {
     "iopub.execute_input": "2024-04-11T17:41:59.579133Z",
     "iopub.status.busy": "2024-04-11T17:41:59.578861Z",
     "iopub.status.idle": "2024-04-11T17:41:59.584140Z",
     "shell.execute_reply": "2024-04-11T17:41:59.583243Z"
    },
    "papermill": {
     "duration": 0.020967,
     "end_time": "2024-04-11T17:41:59.586117",
     "exception": false,
     "start_time": "2024-04-11T17:41:59.565150",
     "status": "completed"
    },
    "tags": []
   },
   "outputs": [
    {
     "name": "stdout",
     "output_type": "stream",
     "text": [
      "['Have', 'a', 'good', 'day', '!', '!', '!']\n",
      "['Haben', 'Sie', 'einen', 'guten', 'Tag', '!', '!', '!']\n"
     ]
    }
   ],
   "source": [
    "print(engTokenize(\"Have a good day!!!\"))\n",
    "print(deTokenize(\"Haben Sie einen guten Tag!!!\"))"
   ]
  },
  {
   "cell_type": "code",
   "execution_count": 12,
   "id": "e4e79dff",
   "metadata": {
    "execution": {
     "iopub.execute_input": "2024-04-11T17:41:59.613132Z",
     "iopub.status.busy": "2024-04-11T17:41:59.612887Z",
     "iopub.status.idle": "2024-04-11T17:41:59.617500Z",
     "shell.execute_reply": "2024-04-11T17:41:59.616700Z"
    },
    "papermill": {
     "duration": 0.020166,
     "end_time": "2024-04-11T17:41:59.619321",
     "exception": false,
     "start_time": "2024-04-11T17:41:59.599155",
     "status": "completed"
    },
    "tags": []
   },
   "outputs": [],
   "source": [
    "def getTokens(data_iter, place):\n",
    "    \"\"\"\n",
    "    Function to yield tokens from an iterator. Since, our iterator contains\n",
    "    tuple of sentences (source and target), `place` parameters defines for which\n",
    "    index to return the tokens for. `place=0` for source and `place=1` for target\n",
    "    \"\"\"\n",
    "    for english, german in data_iter:\n",
    "        if place == 0:\n",
    "            yield engTokenize(english)\n",
    "        else:\n",
    "            yield deTokenize(german)"
   ]
  },
  {
   "cell_type": "code",
   "execution_count": 13,
   "id": "f3d40259",
   "metadata": {
    "execution": {
     "iopub.execute_input": "2024-04-11T17:41:59.646587Z",
     "iopub.status.busy": "2024-04-11T17:41:59.646344Z",
     "iopub.status.idle": "2024-04-11T17:42:05.968324Z",
     "shell.execute_reply": "2024-04-11T17:42:05.967524Z"
    },
    "papermill": {
     "duration": 6.338046,
     "end_time": "2024-04-11T17:42:05.970656",
     "exception": false,
     "start_time": "2024-04-11T17:41:59.632610",
     "status": "completed"
    },
    "tags": []
   },
   "outputs": [],
   "source": [
    "source_vocab = build_vocab_from_iterator(\n",
    "    getTokens(data_pipe,0),\n",
    "    min_freq=2,\n",
    "    specials= ['<pad>', '<sos>', '<eos>', '<unk>'],\n",
    "    special_first=True\n",
    ")\n",
    "source_vocab.set_default_index(source_vocab['<unk>'])"
   ]
  },
  {
   "cell_type": "code",
   "execution_count": 14,
   "id": "35bc6277",
   "metadata": {
    "execution": {
     "iopub.execute_input": "2024-04-11T17:42:05.998461Z",
     "iopub.status.busy": "2024-04-11T17:42:05.998176Z",
     "iopub.status.idle": "2024-04-11T17:42:13.906494Z",
     "shell.execute_reply": "2024-04-11T17:42:13.905497Z"
    },
    "papermill": {
     "duration": 7.924797,
     "end_time": "2024-04-11T17:42:13.908933",
     "exception": false,
     "start_time": "2024-04-11T17:42:05.984136",
     "status": "completed"
    },
    "tags": []
   },
   "outputs": [],
   "source": [
    "target_vocab = build_vocab_from_iterator(\n",
    "    getTokens(data_pipe,1),\n",
    "    min_freq=2,\n",
    "    specials= ['<pad>', '<sos>', '<eos>', '<unk>'],\n",
    "    special_first=True\n",
    ")\n",
    "target_vocab.set_default_index(target_vocab['<unk>'])\n",
    "    "
   ]
  },
  {
   "cell_type": "code",
   "execution_count": 15,
   "id": "1b75ff0e",
   "metadata": {
    "execution": {
     "iopub.execute_input": "2024-04-11T17:42:13.936819Z",
     "iopub.status.busy": "2024-04-11T17:42:13.936496Z",
     "iopub.status.idle": "2024-04-11T17:42:13.942098Z",
     "shell.execute_reply": "2024-04-11T17:42:13.941222Z"
    },
    "papermill": {
     "duration": 0.022063,
     "end_time": "2024-04-11T17:42:13.944423",
     "exception": false,
     "start_time": "2024-04-11T17:42:13.922360",
     "status": "completed"
    },
    "tags": []
   },
   "outputs": [
    {
     "name": "stdout",
     "output_type": "stream",
     "text": [
      "['<pad>', '<sos>', '<eos>', '<unk>', '.', 'I', 'Tom', 'to', 'you']\n"
     ]
    }
   ],
   "source": [
    "print(source_vocab.get_itos()[:9])"
   ]
  },
  {
   "cell_type": "code",
   "execution_count": 16,
   "id": "5f94ff95",
   "metadata": {
    "execution": {
     "iopub.execute_input": "2024-04-11T17:42:13.971480Z",
     "iopub.status.busy": "2024-04-11T17:42:13.971205Z",
     "iopub.status.idle": "2024-04-11T17:42:13.976360Z",
     "shell.execute_reply": "2024-04-11T17:42:13.975464Z"
    },
    "papermill": {
     "duration": 0.020701,
     "end_time": "2024-04-11T17:42:13.978161",
     "exception": false,
     "start_time": "2024-04-11T17:42:13.957460",
     "status": "completed"
    },
    "tags": []
   },
   "outputs": [],
   "source": [
    "def getTransform(vocab):\n",
    "    \"\"\"\n",
    "    Create transforms based on given vocabulary. The returned transform is applied to sequence\n",
    "    of tokens.\n",
    "    \"\"\"\n",
    "    text_tranform = T.Sequential(\n",
    "        ## converts the sentences to indices based on given vocabulary\n",
    "        T.VocabTransform(vocab=vocab),\n",
    "        ## Add <sos> at beginning of each sentence. 1 because the index for <sos> in vocabulary is\n",
    "        # 1 as seen in previous section\n",
    "        T.AddToken(1, begin=True),\n",
    "        ## Add <eos> at beginning of each sentence. 2 because the index for <eos> in vocabulary is\n",
    "        # 2 as seen in previous section\n",
    "        T.AddToken(2, begin=False)\n",
    "    )\n",
    "    return text_tranform"
   ]
  },
  {
   "cell_type": "code",
   "execution_count": 17,
   "id": "03b2e03d",
   "metadata": {
    "execution": {
     "iopub.execute_input": "2024-04-11T17:42:14.005034Z",
     "iopub.status.busy": "2024-04-11T17:42:14.004729Z",
     "iopub.status.idle": "2024-04-11T17:42:14.701776Z",
     "shell.execute_reply": "2024-04-11T17:42:14.700837Z"
    },
    "papermill": {
     "duration": 0.712988,
     "end_time": "2024-04-11T17:42:14.704082",
     "exception": false,
     "start_time": "2024-04-11T17:42:13.991094",
     "status": "completed"
    },
    "tags": []
   },
   "outputs": [
    {
     "name": "stdout",
     "output_type": "stream",
     "text": [
      "Some sentence= Why couldn't you do that?\n",
      "Transformed sentence=[1, 94, 91, 12, 8, 15, 18, 10, 2]\n",
      "<sos> Why could n't you do that ? <eos> "
     ]
    }
   ],
   "source": [
    "temp_list = list(data_pipe)\n",
    "some_sentence = temp_list[798][0]\n",
    "print(\"Some sentence= \", end=\"\")\n",
    "print(some_sentence)\n",
    "transformed_sentence = getTransform(source_vocab)(engTokenize(some_sentence))\n",
    "print(\"Transformed sentence=\", end=\"\")\n",
    "print(transformed_sentence)\n",
    "index_to_string = source_vocab.get_itos()\n",
    "for index in transformed_sentence:\n",
    "    print(index_to_string[index], end=\" \")"
   ]
  },
  {
   "cell_type": "code",
   "execution_count": 18,
   "id": "f156f709",
   "metadata": {
    "execution": {
     "iopub.execute_input": "2024-04-11T17:42:14.731683Z",
     "iopub.status.busy": "2024-04-11T17:42:14.731386Z",
     "iopub.status.idle": "2024-04-11T17:42:56.705864Z",
     "shell.execute_reply": "2024-04-11T17:42:56.704912Z"
    },
    "papermill": {
     "duration": 42.003486,
     "end_time": "2024-04-11T17:42:56.721009",
     "exception": false,
     "start_time": "2024-04-11T17:42:14.717523",
     "status": "completed"
    },
    "tags": []
   },
   "outputs": [
    {
     "name": "stdout",
     "output_type": "stream",
     "text": [
      "([1, 6, 638, 150, 969, 16, 9, 648, 4, 2], [1, 6, 35, 149, 1003, 69, 673, 4, 2])\n"
     ]
    }
   ],
   "source": [
    "def applyTransform(sequence_pair):\n",
    "    \"\"\"\n",
    "    Apply transforms to sequence of tokens in a sequence pair\n",
    "    \"\"\"\n",
    "\n",
    "    return (\n",
    "        getTransform(source_vocab)(engTokenize(sequence_pair[0])),\n",
    "        getTransform(target_vocab)(deTokenize(sequence_pair[1]))\n",
    "    )\n",
    "data_pipe = data_pipe.map(applyTransform) ## Apply the function to each element in the iterator\n",
    "temp_list = list(data_pipe)\n",
    "print(temp_list[0])"
   ]
  },
  {
   "cell_type": "code",
   "execution_count": 19,
   "id": "a454d160",
   "metadata": {
    "execution": {
     "iopub.execute_input": "2024-04-11T17:42:56.748376Z",
     "iopub.status.busy": "2024-04-11T17:42:56.748070Z",
     "iopub.status.idle": "2024-04-11T17:42:56.752821Z",
     "shell.execute_reply": "2024-04-11T17:42:56.752052Z"
    },
    "papermill": {
     "duration": 0.020612,
     "end_time": "2024-04-11T17:42:56.754695",
     "exception": false,
     "start_time": "2024-04-11T17:42:56.734083",
     "status": "completed"
    },
    "tags": []
   },
   "outputs": [],
   "source": [
    "def sortBucket(bucket):\n",
    "    \"\"\"\n",
    "    Function to sort a given bucket. Here, we want to sort based on the length of\n",
    "    source and target sequence.\n",
    "    \"\"\"\n",
    "    return sorted(bucket, key=lambda x: (len(x[0]), len(x[1])))"
   ]
  },
  {
   "cell_type": "code",
   "execution_count": 20,
   "id": "d643db5c",
   "metadata": {
    "execution": {
     "iopub.execute_input": "2024-04-11T17:42:56.781993Z",
     "iopub.status.busy": "2024-04-11T17:42:56.781690Z",
     "iopub.status.idle": "2024-04-11T17:42:56.787835Z",
     "shell.execute_reply": "2024-04-11T17:42:56.786645Z"
    },
    "papermill": {
     "duration": 0.021947,
     "end_time": "2024-04-11T17:42:56.789712",
     "exception": false,
     "start_time": "2024-04-11T17:42:56.767765",
     "status": "completed"
    },
    "tags": []
   },
   "outputs": [
    {
     "name": "stdout",
     "output_type": "stream",
     "text": [
      "(['hello', 'world'], ['hallo', 'welt'])\n",
      "(['how', 'are', 'you'], ['wie', 'geht', 'es', 'dir'])\n",
      "(['this', 'is', 'a', 'test'], ['das', 'ist', 'ein', 'test'])\n"
     ]
    }
   ],
   "source": [
    "bucket = [\n",
    "    (['how', 'are', 'you'], ['wie', 'geht', 'es', 'dir']),\n",
    "    (['hello', 'world'], ['hallo', 'welt']),\n",
    "    (['this', 'is', 'a', 'test'], ['das', 'ist', 'ein', 'test'])\n",
    "]\n",
    "\n",
    "sorted_data = sortBucket(bucket)\n",
    "\n",
    "for item in sorted_data:\n",
    "    print(item)"
   ]
  },
  {
   "cell_type": "code",
   "execution_count": 21,
   "id": "a5d53e33",
   "metadata": {
    "execution": {
     "iopub.execute_input": "2024-04-11T17:42:56.817224Z",
     "iopub.status.busy": "2024-04-11T17:42:56.816954Z",
     "iopub.status.idle": "2024-04-11T17:42:56.821289Z",
     "shell.execute_reply": "2024-04-11T17:42:56.820570Z"
    },
    "papermill": {
     "duration": 0.020148,
     "end_time": "2024-04-11T17:42:56.823127",
     "exception": false,
     "start_time": "2024-04-11T17:42:56.802979",
     "status": "completed"
    },
    "tags": []
   },
   "outputs": [],
   "source": [
    "data_pipe = data_pipe.bucketbatch(\n",
    "    batch_size = 64, batch_num=5,  bucket_num=1,\n",
    "    use_in_batch_shuffle=False, sort_key=sortBucket\n",
    ")"
   ]
  },
  {
   "cell_type": "code",
   "execution_count": 22,
   "id": "b9ba9e15",
   "metadata": {
    "execution": {
     "iopub.execute_input": "2024-04-11T17:42:56.851121Z",
     "iopub.status.busy": "2024-04-11T17:42:56.850452Z",
     "iopub.status.idle": "2024-04-11T17:43:39.195858Z",
     "shell.execute_reply": "2024-04-11T17:43:39.194851Z"
    },
    "papermill": {
     "duration": 42.375691,
     "end_time": "2024-04-11T17:43:39.212078",
     "exception": false,
     "start_time": "2024-04-11T17:42:56.836387",
     "status": "completed"
    },
    "tags": []
   },
   "outputs": [
    {
     "name": "stdout",
     "output_type": "stream",
     "text": [
      "[([1, 5, 451, 577, 6, 274, 905, 348, 195, 41, 4, 2], [1, 1746, 6, 292, 115, 4784, 505, 8, 2]), ([1, 73, 235, 52, 89, 10004, 25, 9, 64, 320, 4, 2], [1, 28, 244, 10, 7435, 3, 399, 4, 2]), ([1, 1850, 146, 215, 7, 34, 11, 911, 194, 184, 4, 2], [1, 3998, 312, 84, 1537, 289, 313, 4, 2]), ([1, 27, 297, 65, 12, 22, 102, 346, 11, 268, 4, 2], [1, 4629, 44, 22, 355, 9, 134, 50, 4, 2]), ([1, 6, 13, 11, 159, 519, 975, 105, 8, 37, 4, 2], [1, 6, 10, 21, 3826, 3368, 59, 13, 4, 2]), ([1, 5, 68, 108, 11, 938, 721, 56, 18, 842, 4, 2], [1, 66, 1485, 10, 26, 9, 251, 3, 4, 2]), ([1, 26, 19, 9, 371, 801, 2101, 17, 38, 132, 4, 2], [1, 23, 35, 22, 9432, 2438, 224, 100, 4, 2]), ([1, 27, 808, 13, 2382, 5539, 7, 38, 184, 121, 4, 2], [1, 66, 1797, 1507, 68, 41, 221, 857, 170, 4, 2]), ([1, 190, 310, 294, 98, 1587, 23, 44, 23, 13, 4, 2], [1, 261, 3396, 287, 318, 16, 521, 1207, 63, 4, 2]), ([1, 1877, 117, 36, 20, 324, 7, 742, 36, 64, 4, 2], [1, 2034, 5, 45, 119, 41, 1208, 11, 169, 4, 2]), ([1, 163, 8, 179, 4171, 16, 11, 464, 728, 4036, 10, 2], [1, 260, 13, 80, 146, 18, 111, 10490, 909, 8, 2]), ([1, 27, 644, 19, 2672, 327, 17, 9, 968, 1162, 4, 2], [1, 53, 854, 89, 538, 139, 4096, 5788, 3249, 4, 2]), ([1, 7018, 19, 3852, 77, 11, 3451, 16, 9, 2821, 4, 2], [1, 2935, 15440, 63, 111, 9084, 18, 22, 3222, 4, 2]), ([1, 5, 15, 12, 46, 51, 8, 47, 7, 15, 4, 2], [1, 7, 74, 9, 5, 42, 13, 101, 234, 4, 2]), ([1, 6, 33, 28, 22, 160, 89, 284, 150, 969, 4, 2], [1, 6, 33, 40, 48, 471, 258, 149, 1003, 723, 4, 2]), ([1, 27, 1101, 13, 6349, 35, 711, 25, 9, 1134, 4, 2], [1, 53, 1258, 10, 47, 16, 1953, 29, 736, 15699, 4, 2]), ([1, 163, 8, 359, 9, 166, 322, 36, 9, 7254, 10, 2], [1, 120, 13, 16, 409, 340, 18, 22, 4203, 466, 8, 2]), ([1, 6, 180, 28, 124, 120, 19, 822, 7, 210, 4, 2], [1, 6, 381, 40, 5, 513, 52, 11, 82, 8171, 4, 2]), ([1, 5, 15, 12, 46, 124, 32, 55, 34, 60, 4, 2], [1, 7, 74, 9, 5, 513, 37, 70, 57, 64, 4, 2]), ([1, 50, 1055, 61, 665, 7, 54, 61, 120, 91, 4, 2], [1, 12, 586, 55, 3155, 110, 98, 5, 58, 17, 195, 4, 2]), ([1, 78, 56, 1043, 7, 9, 902, 17, 9, 1480, 10, 2], [1, 62, 1203, 13, 259, 5, 30, 32, 2070, 11, 82, 8, 2]), ([1, 3781, 23, 195, 41, 20, 8, 22, 7, 57, 4, 2], [1, 39, 229, 82, 5, 201, 17, 56, 1255, 398, 118, 9, 4, 2]), ([1, 5, 65, 12, 227, 6, 43, 29, 7, 21, 4, 2], [1, 7, 44, 9, 347, 5, 19, 6, 26, 14, 3507, 20, 4, 2]), ([1, 163, 8, 214, 9, 128, 6, 273, 25, 8, 10, 2], [1, 120, 13, 14, 133, 502, 5, 19, 6, 47, 51, 754, 8, 2]), ([1, 26, 103, 4085, 7, 372, 118, 356, 11, 501, 4, 2], [1, 23, 4114, 17, 102, 5, 69, 592, 146, 67, 127, 11, 476, 4, 2]), ([1, 1468, 20, 104, 18, 14, 41, 51, 5, 1318, 4, 2], [1, 1324, 5, 123, 14, 10, 9, 14, 5, 42, 15, 1996, 24, 4, 2]), ([1, 31, 8, 58, 18, 8, 85, 640, 320, 801, 10, 2], [1, 2167, 13, 5, 19, 17, 51, 1535, 114, 5, 1469, 11, 57, 8, 2]), ([1, 5, 287, 9, 238, 64, 5, 252, 29, 583, 4, 2], [1, 7, 74, 60, 5, 59, 15, 14, 715, 99, 610, 283, 223, 24, 4, 2]), ([1, 27, 185, 9, 399, 1147, 52, 117, 89, 2349, 4, 2], [1, 66, 193, 5, 32, 16, 453, 2336, 88, 5, 10, 142, 161, 30, 8158, 869, 4, 2]), ([1, 100, 14, 11, 137, 17, 428, 76, 9, 282, 1985, 4, 2], [1, 34, 831, 14, 353, 298, 104, 94, 4, 2]), ([1, 59, 282, 20, 2580, 14, 1723, 2601, 36, 11, 731, 4, 2], [1, 3244, 867, 152, 298, 30, 43, 809, 4, 2]), ([1, 24, 53, 41, 405, 7, 2156, 21, 20, 37, 8, 10, 2], [1, 39, 234, 31, 194, 9, 3, 5, 118, 8, 2]), ([1, 6, 206, 7, 134, 109, 20, 104, 32, 91, 12, 4, 2], [1, 6, 148, 78, 106, 5, 194, 37, 179, 9, 4, 2]), ([1, 6, 258, 9, 3237, 48, 9, 1701, 17, 9, 1179, 4, 2], [1, 6, 588, 32, 4220, 30, 46, 2160, 139, 14301, 4, 2]), ([1, 316, 8, 111, 21, 115, 7, 74, 7, 9, 7228, 10, 2], [1, 329, 13, 26, 106, 5, 58, 121, 99, 12699, 191, 8, 2]), ([1, 6, 203, 38, 441, 36, 38, 2965, 419, 14, 5553, 4, 2], [1, 6, 792, 16, 488, 30, 32, 3326, 224, 16406, 267, 4, 2]), ([1, 31, 8, 46, 209, 32, 52, 89, 1183, 77, 154, 10, 2], [1, 439, 13, 5, 246, 37, 9, 18, 22, 180, 35, 8, 2]), ([1, 190, 185, 35, 11, 1245, 4517, 54, 170, 9, 121, 4, 2], [1, 261, 193, 29, 132, 3, 7171, 77, 18, 32, 382, 4, 2]), ([1, 6, 91, 68, 102, 125, 20, 104, 32, 43, 12, 4, 2], [1, 6, 113, 72, 106, 122, 5, 194, 37, 450, 17, 4, 2]), ([1, 315, 6, 178, 8, 10, 181, 5, 58, 97, 4, 181, 2], [1, 202, 8960, 51, 6, 8, 203, 348, 575, 202, 7, 163, 80, 4, 203, 2]), ([1, 26, 2829, 38, 419, 7, 1058, 54, 69, 48, 4538, 2167, 2], [1, 23, 3531, 107, 267, 341, 5, 19, 52, 77, 61, 998, 188, 1757, 2833, 220, 4, 2]), ([1, 6, 91, 372, 38, 225, 124, 32, 19, 150, 194, 184, 4, 2], [1, 658, 149, 302, 179, 6, 159, 375, 476, 4, 2]), ([1, 5, 45, 2306, 69, 117, 4, 316, 8, 129, 23, 517, 10, 2], [1, 7, 44, 142, 9, 418, 4, 3, 17, 512, 525, 8, 2]), ([1, 59, 1333, 13, 1524, 20, 104, 76, 9, 769, 37, 789, 4, 2], [1, 196, 2017, 10, 3401, 5, 123, 164, 362, 48, 1998, 4, 2]), ([1, 24, 15, 12, 22, 7, 3732, 4, 5, 62, 278, 8, 4, 2], [1, 39, 516, 9, 11, 2012, 4, 7, 44, 51, 324, 4, 2]), ([1, 27, 3237, 13, 1430, 7, 605, 2696, 913, 16, 9, 884, 4, 2], [1, 34, 64, 1992, 5, 19, 22, 4220, 849, 69, 1395, 6047, 457, 4, 2]), ([1, 5, 46, 9, 604, 20, 104, 5, 65, 12, 111, 8, 4, 2], [1, 7, 373, 32, 535, 5, 123, 15, 44, 77, 56, 9, 106, 4, 2]), ([1, 78, 140, 63, 23, 123, 7, 9, 296, 409, 87, 925, 10, 2], [1, 73, 176, 1697, 17, 5, 29, 46, 918, 99, 494, 11, 304, 8, 2]), ([1, 6, 102, 18, 32, 1771, 8, 202, 12, 221, 28, 462, 4, 2], [1, 6, 116, 5, 37, 336, 5, 19, 13, 40, 9, 1317, 2217, 9703, 4, 2]), ([1, 261, 350, 51, 5, 15, 20, 5, 65, 12, 129, 6, 1191, 4, 2], [1, 34, 5107, 26, 178, 9, 5, 6, 99, 1660, 11, 444, 4, 2]), ([1, 6, 52, 12, 270, 139, 96, 51, 32, 222, 96, 7, 15, 4, 2], [1, 6, 20, 65, 60, 9, 3180, 5, 42, 71, 76, 236, 4, 2]), ([1, 5, 45, 1156, 2530, 18, 23, 52, 806, 97, 140, 7, 1585, 4, 2], [1, 7, 2748, 31, 5, 19, 17, 55, 176, 99, 1821, 1728, 20, 4, 2]), ([1, 6, 33, 28, 384, 1379, 61, 259, 61, 9, 2171, 384, 438, 4, 2], [1, 6, 33, 40, 5182, 490, 492, 5, 59, 16, 7765, 11, 294, 4253, 4, 2]), ([1, 49, 14, 30, 394, 308, 17, 481, 7, 344, 35, 30, 244, 10, 2], [1, 582, 748, 45, 5689, 616, 13, 56, 108, 1564, 29, 275, 865, 41, 8, 2]), ([1, 5, 15, 12, 227, 16, 1457, 25, 4807, 5, 15, 12, 309, 4, 2], [1, 7, 729, 17, 9, 47, 615, 5, 47, 6782, 11, 701, 5, 16, 15, 9, 3387, 4, 2]), ([1, 31, 8, 58, 23, 55, 34, 396, 7, 205, 11, 218, 16, 138, 10, 2], [1, 718, 13, 5, 17, 10, 406, 5, 18, 128, 36, 4146, 11, 352, 8, 2]), ([1, 73, 19, 439, 3222, 17, 6, 41, 7, 221, 8, 309, 9, 121, 4, 2], [1, 34, 35, 396, 5439, 45, 6, 5, 51, 9, 14, 170, 465, 11, 217, 4, 2]), ([1, 27, 275, 13, 12, 61, 396, 7, 286, 61, 23, 238, 352, 463, 4, 2], [1, 53, 268, 10, 9, 55, 406, 11, 682, 5, 58, 17, 7460, 32, 5632, 50, 144, 4, 2]), ([1, 5, 58, 5, 352, 1190, 8, 20, 104, 5, 22, 12, 479, 270, 4, 2], [1, 7, 3430, 5, 19, 15, 51, 1557, 81, 5, 123, 15, 24, 31, 60, 9, 958, 4, 2]), ([1, 42, 71, 129, 371, 1267, 3386, 110, 8, 5153, 36, 247, 4017, 689, 2449, 4, 2], [1, 53, 656, 1236, 1672, 27, 6038, 5, 105, 121, 368, 745, 5, 19, 52, 16029, 2857, 2182, 236, 4, 2]), ([1, 177, 5, 108, 72, 17, 336, 20, 9, 845, 19, 262, 520, 16, 9, 976, 4, 2], [1, 377, 15, 63, 46, 338, 932, 5, 35, 16, 892, 80, 762, 108, 949, 4, 2]), ([1, 6, 1548, 18, 32, 43, 12, 193, 9, 660, 18, 38, 696, 67, 2010, 25, 54, 4, 2], [1, 6, 239, 11, 5, 19, 37, 32, 624, 9, 6391, 88, 5, 32, 107, 543, 98, 2232, 88, 4, 2]), ([1, 5, 139, 8, 9, 928, 19, 75, 7, 34, 1375, 4, 94, 43, 12, 8, 227, 21, 10, 2], [1, 7, 116, 151, 5, 14, 1165, 114, 1508, 4, 91, 50, 12, 26, 9, 2523, 8, 2]), ([1, 6, 19, 965, 124, 32, 1924, 18, 28, 19, 11, 1350, 9115, 33, 28, 19, 965, 124, 120, 1924, 18, 6, 19, 682, 4, 2], [1, 6, 35, 6438, 5, 59, 37, 9631, 5, 19, 40, 21, 3, 35, 5, 33, 40, 35, 6438, 5, 59, 52, 9631, 5, 19, 6, 21, 8004, 3, 35, 4, 2])]\n"
     ]
    }
   ],
   "source": [
    "print(list(data_pipe)[0])"
   ]
  },
  {
   "cell_type": "code",
   "execution_count": 23,
   "id": "18f7ef66",
   "metadata": {
    "execution": {
     "iopub.execute_input": "2024-04-11T17:43:39.240554Z",
     "iopub.status.busy": "2024-04-11T17:43:39.240234Z",
     "iopub.status.idle": "2024-04-11T17:44:21.792292Z",
     "shell.execute_reply": "2024-04-11T17:44:21.791322Z"
    },
    "papermill": {
     "duration": 42.584778,
     "end_time": "2024-04-11T17:44:21.810522",
     "exception": false,
     "start_time": "2024-04-11T17:43:39.225744",
     "status": "completed"
    },
    "tags": []
   },
   "outputs": [
    {
     "name": "stdout",
     "output_type": "stream",
     "text": [
      "(([1, 6, 1650, 4, 2], [1, 6, 19, 362, 4, 2], [1, 80, 84, 1092, 4, 2], [1, 73, 5332, 21, 4, 2], [1, 741, 14, 191, 4, 2], [1, 2501, 568, 21, 4, 2], [1, 5, 44, 989, 4, 2], [1, 6, 67, 499, 4, 2], [1, 5, 562, 747, 4, 2], [1, 5, 44, 2342, 4, 2], [1, 24, 53, 2996, 4, 2], [1, 3404, 9, 5060, 4, 2], [1, 5, 703, 70, 4, 2], [1, 24, 53, 1593, 4, 2], [1, 2052, 7, 29, 158, 2], [1, 24, 932, 6, 4, 2], [1, 6, 370, 2683, 4, 2], [1, 1783, 186, 82, 4, 2], [1, 1144, 5, 2314, 8, 10, 2], [1, 204, 13, 971, 90, 10, 2], [1, 73, 14, 39, 3134, 4, 2], [1, 49, 71, 8, 584, 10, 2], [1, 42, 14, 39, 128, 4, 2], [1, 888, 9, 1132, 10169, 10, 2], [1, 50, 52, 1005, 2093, 4, 2], [1, 5, 283, 30, 300, 4, 2], [1, 119, 8, 129, 23, 10, 2], [1, 3401, 9, 1534, 2558, 4, 2], [1, 5, 68, 89, 285, 4, 2], [1, 6, 585, 150, 893, 4, 2], [1, 50, 207, 39, 441, 4, 2], [1, 73, 19, 126, 2976, 4, 2], [1, 6, 13, 12, 801, 4, 2], [1, 27, 4507, 37, 1092, 4, 2], [1, 80, 84, 4060, 621, 4, 2], [1, 26, 13, 553, 1410, 4, 2], [1, 204, 91, 474, 23, 10, 2], [1, 5, 45, 66, 1057, 4, 2], [1, 547, 576, 56, 23, 4, 2], [1, 5, 734, 9, 358, 4, 2], [1, 5, 843, 39, 2027, 4, 2], [1, 2574, 9222, 77, 3841, 4, 2], [1, 5, 575, 39, 1887, 4, 2], [1, 5, 492, 9, 4416, 4, 2], [1, 6, 1955, 7, 28, 4, 2], [1, 8280, 960, 36, 2238, 4, 2], [1, 42, 277, 44, 599, 4, 2], [1, 26, 180, 219, 8, 4, 2], [1, 83, 1774, 171, 1437, 4, 2], [1, 130, 7610, 30, 1511, 4, 2], [1, 468, 5, 324, 23, 36, 10, 2], [1, 5, 47, 7, 34, 703, 4, 2], [1, 26, 19, 90, 36, 655, 4, 2], [1, 40, 22, 99, 807, 312, 4, 2], [1, 6094, 88, 1706, 25, 21, 4, 2], [1, 261, 79, 693, 96, 1293, 4, 2], [1, 78, 15, 8, 46, 29, 10, 2], [1, 24, 53, 9, 2096, 79, 4, 2], [1, 24, 86, 74, 284, 155, 4, 2], [1, 508, 609, 9, 301, 268, 4, 2], [1, 5, 68, 108, 88, 288, 4, 2], [1, 24, 55, 377, 25, 18, 4, 2], [1, 6, 234, 56, 29, 262, 4, 2], [1, 1024, 13, 39, 1159, 132, 4, 2]), ([1, 6, 2048, 4, 2], [1, 6, 3093, 4, 2], [1, 12, 200, 2196, 4, 2], [1, 28, 12373, 31, 4, 2], [1, 337, 48, 243, 4, 2], [1, 3336, 12, 26, 4, 2], [1, 7, 4578, 115, 4, 2], [1, 6, 20, 2191, 4, 2], [1, 7, 894, 864, 4, 2], [1, 7, 463, 2075, 4, 2], [1, 39, 75, 3618, 4, 2], [1, 7626, 16, 7913, 4, 2], [1, 7, 24, 52, 1561, 4, 2], [1, 12, 1436, 69, 3363, 4, 2], [1, 757, 56, 14, 41, 25, 2], [1, 39, 75, 6, 350, 175, 4, 2], [1, 6, 486, 18, 22, 4181, 4, 2], [1, 53, 521, 140, 79, 63, 4, 2], [1, 7727, 15, 103, 8, 2], [1, 209, 383, 141, 8, 2], [1, 28, 10, 95, 633, 4, 2], [1, 62, 4603, 13, 41, 8, 2], [1, 28, 10, 131, 133, 4, 2], [1, 295, 16, 1382, 7247, 8, 2], [1, 12, 20, 998, 2642, 4, 2], [1, 7, 1346, 1359, 301, 4, 2], [1, 120, 13, 17, 838, 8, 2], [1, 10606, 16, 4042, 2790, 4, 2], [1, 7, 54, 160, 399, 4, 2], [1, 6, 318, 149, 1042, 4, 2], [1, 12, 342, 95, 488, 4, 2], [1, 28, 35, 158, 4868, 4, 2], [1, 6, 10, 9, 1469, 4, 2], [1, 53, 6197, 48, 2196, 4, 2], [1, 12, 200, 3, 731, 4, 2], [1, 23, 6412, 135, 1799, 4, 2], [1, 209, 228, 52, 365, 8, 2], [1, 7, 54, 68, 1338, 4, 2], [1, 757, 30, 341, 11, 583, 4, 2], [1, 7, 24, 32, 402, 1098, 4, 2], [1, 7, 24, 95, 3345, 644, 4, 2], [1, 1500, 5558, 45, 6783, 204, 4, 2], [1, 7, 24, 95, 2785, 785, 4, 2], [1, 7, 24, 16, 5747, 1254, 4, 2], [1, 6, 401, 40, 61, 1324, 4, 2], [1, 5003, 3397, 27, 45, 3341, 4, 2], [1, 34, 245, 63, 58, 937, 4, 2], [1, 23, 20, 27, 67, 56, 9525, 4, 2], [1, 130, 4994, 282, 90, 60, 846, 4, 2], [1, 192, 1454, 12, 206, 1164, 21, 25, 2], [1, 374, 15, 17, 5404, 8, 2], [1, 7, 85, 1561, 84, 4, 2], [1, 23, 35, 3076, 215, 4, 2], [1, 38, 50, 126, 7903, 4, 2], [1, 3, 26, 21, 2020, 4, 2], [1, 1010, 1029, 65, 1074, 4, 2], [1, 775, 456, 13, 14, 8, 2], [1, 39, 97, 16, 4395, 4, 2], [1, 109, 944, 1649, 635, 4, 2], [1, 337, 583, 14, 1915, 4, 2], [1, 7, 24, 36, 531, 4, 2], [1, 1912, 264, 13, 701, 25, 2], [1, 6, 74, 506, 259, 4, 2], [1, 555, 10, 131, 10442, 4, 2]))\n"
     ]
    }
   ],
   "source": [
    "def separateSourceTarget(sequence_pairs):\n",
    "    \"\"\"\n",
    "    input of form: `[(X_1,y_1), (X_2,y_2), (X_3,y_3), (X_4,y_4)]`\n",
    "    output of form: `((X_1,X_2,X_3,X_4), (y_1,y_2,y_3,y_4))`\n",
    "    \"\"\"\n",
    "    sources,targets = zip(*sequence_pairs)\n",
    "    return sources,targets\n",
    "\n",
    "## Apply the function to each element in the iterator\n",
    "data_pipe = data_pipe.map(separateSourceTarget)\n",
    "print(list(data_pipe)[0])"
   ]
  },
  {
   "cell_type": "code",
   "execution_count": 24,
   "id": "cfeecabd",
   "metadata": {
    "execution": {
     "iopub.execute_input": "2024-04-11T17:44:21.841771Z",
     "iopub.status.busy": "2024-04-11T17:44:21.841474Z",
     "iopub.status.idle": "2024-04-11T17:44:21.846872Z",
     "shell.execute_reply": "2024-04-11T17:44:21.845971Z"
    },
    "papermill": {
     "duration": 0.022887,
     "end_time": "2024-04-11T17:44:21.848894",
     "exception": false,
     "start_time": "2024-04-11T17:44:21.826007",
     "status": "completed"
    },
    "tags": []
   },
   "outputs": [],
   "source": [
    "def applyPadding(pair_of_sequences):\n",
    "    \"\"\"\n",
    "    Convert sequences to tensors and apply padding\n",
    "    \"\"\"\n",
    "    return (T.ToTensor(0)(list(pair_of_sequences[0])), T.ToTensor(0)(list(pair_of_sequences[1])))\n",
    "## `T.ToTensor(0)` returns a transform that converts the sequence to `torch.tensor` and also applies\n",
    "# padding. Here, `0` is passed to the constructor to specify the index of the `<pad>` token in the\n",
    "# vocabulary.\n",
    "data_pipe = data_pipe.map(applyPadding)"
   ]
  },
  {
   "cell_type": "code",
   "execution_count": 25,
   "id": "e71a50b5",
   "metadata": {
    "execution": {
     "iopub.execute_input": "2024-04-11T17:44:21.877871Z",
     "iopub.status.busy": "2024-04-11T17:44:21.877104Z",
     "iopub.status.idle": "2024-04-11T17:45:09.463283Z",
     "shell.execute_reply": "2024-04-11T17:45:09.462412Z"
    },
    "papermill": {
     "duration": 47.617561,
     "end_time": "2024-04-11T17:45:09.480416",
     "exception": false,
     "start_time": "2024-04-11T17:44:21.862855",
     "status": "completed"
    },
    "tags": []
   },
   "outputs": [
    {
     "name": "stdout",
     "output_type": "stream",
     "text": [
      "(tensor([[   1,  667, 2856,    4,    2,    0,    0,    0],\n",
      "        [   1,   24,  256,    4,    2,    0,    0,    0],\n",
      "        [   1,  436,   14, 1030,    4,    2,    0,    0],\n",
      "        [   1,   50, 1899,   96,    4,    2,    0,    0],\n",
      "        [   1,   40,   84, 3675,    4,    2,    0,    0],\n",
      "        [   1,   40,   53,  292,    4,    2,    0,    0],\n",
      "        [   1,    5,  108,  449,    4,    2,    0,    0],\n",
      "        [   1,    5,   44, 1453,    4,    2,    0,    0],\n",
      "        [   1,    6,   13, 5225,    4,    2,    0,    0],\n",
      "        [   1,    6,   13, 3907,    4,    2,    0,    0],\n",
      "        [   1,  116,  867,  489,   10,    2,    0,    0],\n",
      "        [   1,    6,   13, 1649,    4,    2,    0,    0],\n",
      "        [   1,  119,   23,  133,   10,    2,    0,    0],\n",
      "        [   1,   80,  178,   21,    4,    2,    0,    0],\n",
      "        [   1,  767,   13,  641,    4,    2,    0,    0],\n",
      "        [   1,    6,   13,  596,    4,    2,    0,    0],\n",
      "        [   1,    6,   13,  397,    4,    2,    0,    0],\n",
      "        [   1,   73,   19, 4379,    4,    2,    0,    0],\n",
      "        [   1,    6, 1076, 3390,    4,    2,    0,    0],\n",
      "        [   1,    5, 1956,   97,    4,    2,    0,    0],\n",
      "        [   1,    6,  277,  449,    4,    2,    0,    0],\n",
      "        [   1,   40, 1945,  365,    4,    2,    0,    0],\n",
      "        [   1, 8538,  431, 1030,    4,    2,    0,    0],\n",
      "        [   1,  645,  334,  625,    4,    2,    0,    0],\n",
      "        [   1,    6, 1667, 7618,    4,    2,    0,    0],\n",
      "        [   1,    6,  326,  465,    4,    2,    0,    0],\n",
      "        [   1, 8347,   29,  937,    4,    2,    0,    0],\n",
      "        [   1,    6,   19,  932,    4,    2,    0,    0],\n",
      "        [   1,    6,   14,  391, 1501,    4,    2,    0],\n",
      "        [   1,   27, 1253,   52,    3,    4,    2,    0],\n",
      "        [   1,   50,   52, 3308,   54,    4,    2,    0],\n",
      "        [   1,    6,   13,  165, 3821,    4,    2,    0],\n",
      "        [   1,   27,  422,   13, 1741,    4,    2,    0],\n",
      "        [   1,   83,  224,   13,  449,    4,    2,    0],\n",
      "        [   1,   42,   19,   98,  512,    4,    2,    0],\n",
      "        [   1,   24,   53,   97, 1122,    4,    2,    0],\n",
      "        [   1,  153,   14,  354,  230,    4,    2,    0],\n",
      "        [   1,   49,   14,    6,  787,   10,    2,    0],\n",
      "        [   1,    6,   43,   12,  765,    4,    2,    0],\n",
      "        [   1,    6,   19,   11, 3551,    4,    2,    0],\n",
      "        [   1,    5,   45,  395, 2365,    4,    2,    0],\n",
      "        [   1,  533, 1909,   13, 4478,    4,    2,    0],\n",
      "        [   1,    5,   19,  114, 1359,    4,    2,    0],\n",
      "        [   1,    6,   13,   12,  858,    4,    2,    0],\n",
      "        [   1,  116,    6,   16,   90,   10,    2,    0],\n",
      "        [   1,   27,  409,   19, 3293,    4,    2,    0],\n",
      "        [   1,   78,  512,   17,   21,  158,    2,    0],\n",
      "        [   1,    6,   67,   11,  403,    4,    2,    0],\n",
      "        [   1,    6,  157,  131,  118,    4,    2,    0],\n",
      "        [   1,   49,   56,   30,  419,   10,    2,    0],\n",
      "        [   1, 1724,   36,   20,  239,    4,    2,    0],\n",
      "        [   1,   78, 1159,    5,  135,  158,    2,    0],\n",
      "        [   1, 4273,  535,  219,  904,    4,    2,    0],\n",
      "        [   1,   27,  217,  632, 2584,    4,    2,    0],\n",
      "        [   1,    5,  265,  727,   60,    4,    2,    0],\n",
      "        [   1,   49,   14,   18, 1091,   10,    2,    0],\n",
      "        [   1,    6,   14,  744,   13, 6382,    4,    2],\n",
      "        [   1,    5,   22,  264,    7,   15,    4,    2],\n",
      "        [   1,    5,   47,    7,  134, 1102,    4,    2],\n",
      "        [   1,   40,   47,    7,  123,   23,    4,    2],\n",
      "        [   1,    5, 4858,   57,    7,  393,    4,    2],\n",
      "        [   1,   27, 3553,   13,  176,  226,    4,    2],\n",
      "        [   1,   24,  951,    7,   34, 1185,    4,    2],\n",
      "        [   1,   27, 5245,   63,   12,  133,    4,    2]]), tensor([[    1,   408,    68,    25,     2,     0,     0,     0,     0,     0,\n",
      "             0],\n",
      "        [    1,    39,    75,   357,     4,     2,     0,     0,     0,     0,\n",
      "             0],\n",
      "        [    1,   314,    10,  1792,     4,     2,     0,     0,     0,     0,\n",
      "             0],\n",
      "        [    1,    12,  1264,    65,     4,     2,     0,     0,     0,     0,\n",
      "             0],\n",
      "        [    1,    38,   461,  1882,     4,     2,     0,     0,     0,     0,\n",
      "             0],\n",
      "        [    1,  1516,    10,   585,     4,     2,     0,     0,     0,     0,\n",
      "             0],\n",
      "        [    1,     7,    89,   699,     4,     2,     0,     0,     0,     0,\n",
      "             0],\n",
      "        [    1,     7,   463,  2075,     4,     2,     0,     0,     0,     0,\n",
      "             0],\n",
      "        [    1,     6,    10, 16238,     4,     2,     0,     0,     0,     0,\n",
      "             0],\n",
      "        [    1,     6,    10,  3384,     4,     2,     0,     0,     0,     0,\n",
      "             0],\n",
      "        [    1,   145,   746,   331,     8,     2,     0,     0,     0,     0,\n",
      "             0],\n",
      "        [    1,     6,   177,  1315,     4,     2,     0,     0,     0,     0,\n",
      "             0],\n",
      "        [    1,   295,    17,   995,     8,     2,     0,     0,     0,     0,\n",
      "             0],\n",
      "        [    1,    12,   815,    31,     4,     2,     0,     0,     0,     0,\n",
      "             0],\n",
      "        [    1,   704,    10,    79,     4,     2,     0,     0,     0,     0,\n",
      "             0],\n",
      "        [    1,     6,    10,  2054,     4,     2,     0,     0,     0,     0,\n",
      "             0],\n",
      "        [    1,     6,    10,   649,     4,     2,     0,     0,     0,     0,\n",
      "             0],\n",
      "        [    1,    28,    35, 12208,     4,     2,     0,     0,     0,     0,\n",
      "             0],\n",
      "        [    1,     6,  2528,   884,     4,     2,     0,     0,     0,     0,\n",
      "             0],\n",
      "        [    1,    28,   766,    15,    41,     4,     2,     0,     0,     0,\n",
      "             0],\n",
      "        [    1,     6,   245,  1338,    63,     4,     2,     0,     0,     0,\n",
      "             0],\n",
      "        [    1,    38,    48,   307,  5941,     4,     2,     0,     0,     0,\n",
      "             0],\n",
      "        [    1,  3912,   177,    32,  8981,     4,     2,     0,     0,     0,\n",
      "             0],\n",
      "        [    1,   743,    33,  1267,   489,    25,     2,     0,     0,     0,\n",
      "             0],\n",
      "        [    1,     6,   741,  1201,    11,    57,     4,     2,     0,     0,\n",
      "             0],\n",
      "        [    1,     6,   269,   462,    11,    57,     4,     2,     0,     0,\n",
      "             0],\n",
      "        [    1,  5804,    12,   231,  3485,    30,    22,  9090,     4,     2,\n",
      "             0],\n",
      "        [    1,     6,  1157,    17,    29,    22,   350,    11,    76,     4,\n",
      "             2],\n",
      "        [    1,   136,   634,  2148,     4,     2,     0,     0,     0,     0,\n",
      "             0],\n",
      "        [    1,    66,  1467,    20,  8304,     4,     2,     0,     0,     0,\n",
      "             0],\n",
      "        [    1,    12,    20,    98,  2601,     4,     2,     0,     0,     0,\n",
      "             0],\n",
      "        [    1,     6,    10,    90,  5927,     4,     2,     0,     0,     0,\n",
      "             0],\n",
      "        [    1,    53,   442,    10,  9866,     4,     2,     0,     0,     0,\n",
      "             0],\n",
      "        [    1,   174,   198,    10,  1338,     4,     2,     0,     0,     0,\n",
      "             0],\n",
      "        [    1,    28,    35,   178,   920,     4,     2,     0,     0,     0,\n",
      "             0],\n",
      "        [    1,    39,    97,   178,  2817,     4,     2,     0,     0,     0,\n",
      "             0],\n",
      "        [    1,   529,    65,   276,   266,     4,     2,     0,     0,     0,\n",
      "             0],\n",
      "        [    1,   727,    42,  3654,     6,     8,     2,     0,     0,     0,\n",
      "             0],\n",
      "        [    1,     6,    20,     9,  1174,     4,     2,     0,     0,     0,\n",
      "             0],\n",
      "        [    1,     6,    35,    21,  5364,     4,     2,     0,     0,     0,\n",
      "             0],\n",
      "        [    1,     7,    54,   396,   560,     4,     2,     0,     0,     0,\n",
      "             0],\n",
      "        [    1,   206,  2261,    10,  3854,     4,     2,     0,     0,     0,\n",
      "             0],\n",
      "        [    1,     7,    35,    11,  1707,     4,     2,     0,     0,     0,\n",
      "             0],\n",
      "        [    1,     6,   840,     9,    11,     4,     2,     0,     0,     0,\n",
      "             0],\n",
      "        [    1,   145,     6,   141,  1612,     8,     2,     0,     0,     0,\n",
      "             0],\n",
      "        [    1,    66,   494,    35,   548,     4,     2,     0,     0,     0,\n",
      "             0],\n",
      "        [    1,    73,   920,    45,    26,    25,     2,     0,     0,     0,\n",
      "             0],\n",
      "        [    1,     6,    20,    43,   424,   328,     4,     2,     0,     0,\n",
      "             0],\n",
      "        [    1,     6,   648,   235,    67,   127,     4,     2,     0,     0,\n",
      "             0],\n",
      "        [    1,    62,    10,    29,   988,   267,     8,     2,     0,     0,\n",
      "             0],\n",
      "        [    1,  2325,    12,   124,    43,   796,    25,     2,     0,     0,\n",
      "             0],\n",
      "        [    1,    62,    24,    15,    47,    21,   719,    25,     2,     0,\n",
      "             0],\n",
      "        [    1,    66,  1824,   191,    67,    46,   978,     4,     2,     0,\n",
      "             0],\n",
      "        [    1,    66,   219,   417,    30,    11,  3651,     4,     2,     0,\n",
      "             0],\n",
      "        [    1,   425,   829,    15,    31,    18,  1514,     4,     2,     0,\n",
      "             0],\n",
      "        [    1,    62,    47,    21,  1447,    10,    14,     8,     2,     0,\n",
      "             0],\n",
      "        [    1,   136,   948,  9864,     4,     2,     0,     0,     0,     0,\n",
      "             0],\n",
      "        [    1,     7,    54,   296,     4,     2,     0,     0,     0,     0,\n",
      "             0],\n",
      "        [    1,     7,    87,    31,  1883,     4,     2,     0,     0,     0,\n",
      "             0],\n",
      "        [    1,    38,   883,    77,   465,     4,     2,     0,     0,     0,\n",
      "             0],\n",
      "        [    1,     7,    85,    67,   431,     4,     2,     0,     0,     0,\n",
      "             0],\n",
      "        [    1,    28,  4730,    10, 11501,     4,     2,     0,     0,     0,\n",
      "             0],\n",
      "        [    1,    39,   257,    51,  3296,     4,     2,     0,     0,     0,\n",
      "             0],\n",
      "        [    1,    66,  6787,   995,     9,     4,     2,     0,     0,     0,\n",
      "             0]]))\n"
     ]
    }
   ],
   "source": [
    "print(list(data_pipe)[0])"
   ]
  },
  {
   "cell_type": "code",
   "execution_count": 26,
   "id": "fa37ef56",
   "metadata": {
    "execution": {
     "iopub.execute_input": "2024-04-11T17:45:09.509613Z",
     "iopub.status.busy": "2024-04-11T17:45:09.509090Z",
     "iopub.status.idle": "2024-04-11T17:45:16.141883Z",
     "shell.execute_reply": "2024-04-11T17:45:16.141025Z"
    },
    "papermill": {
     "duration": 6.649699,
     "end_time": "2024-04-11T17:45:16.144063",
     "exception": false,
     "start_time": "2024-04-11T17:45:09.494364",
     "status": "completed"
    },
    "tags": []
   },
   "outputs": [
    {
     "name": "stdout",
     "output_type": "stream",
     "text": [
      "Source:  <sos> Tom asked about Mary . <eos> <pad> <pad>\n",
      "Traget:  <sos> Tom hat sich nach Maria erkundigt . <eos> <pad> <pad> <pad>\n",
      "Source:  <sos> Tom is getting bored . <eos> <pad> <pad>\n",
      "Traget:  <sos> Tom fängt an , sich zu langweilen . <eos> <pad> <pad>\n",
      "Source:  <sos> Everything changes over time . <eos> <pad> <pad>\n",
      "Traget:  <sos> Alles ändert sich im Laufe der Zeit . <eos> <pad> <pad>\n",
      "Source:  <sos> Your screams frightened me . <eos> <pad> <pad>\n",
      "Traget:  <sos> Deine Schreie <unk> mich in Angst und Schrecken . <eos> <pad>\n"
     ]
    }
   ],
   "source": [
    "source_index_to_string = source_vocab.get_itos()\n",
    "target_index_to_string = target_vocab.get_itos()\n",
    "\n",
    "def showSomeTransformedSentences(data_pipe):\n",
    "    \"\"\"\n",
    "    Function to show how the sentences look like after applying all transforms.\n",
    "    Here we try to print actual words instead of corresponding index\n",
    "    \"\"\"\n",
    "    for sources,targets in data_pipe:\n",
    "        if sources[0][-1] != 0:\n",
    "            continue # Just to visualize padding of shorter sentences\n",
    "        for i in range(4):\n",
    "            source = \"\"\n",
    "            for token in sources[i]:\n",
    "                source += \" \" + source_index_to_string[token]\n",
    "            target = \"\"\n",
    "            for token in targets[i]:\n",
    "                target += \" \" + target_index_to_string[token]\n",
    "            print(f\"Source: {source}\")\n",
    "            print(f\"Traget: {target}\")\n",
    "        break\n",
    "\n",
    "showSomeTransformedSentences(data_pipe)"
   ]
  },
  {
   "cell_type": "code",
   "execution_count": 27,
   "id": "04e1c9a9",
   "metadata": {
    "execution": {
     "iopub.execute_input": "2024-04-11T17:45:16.173882Z",
     "iopub.status.busy": "2024-04-11T17:45:16.173258Z",
     "iopub.status.idle": "2024-04-11T17:45:22.512504Z",
     "shell.execute_reply": "2024-04-11T17:45:22.511511Z"
    },
    "papermill": {
     "duration": 6.35604,
     "end_time": "2024-04-11T17:45:22.514467",
     "exception": false,
     "start_time": "2024-04-11T17:45:16.158427",
     "status": "completed"
    },
    "tags": []
   },
   "outputs": [
    {
     "name": "stdout",
     "output_type": "stream",
     "text": [
      "tensor([[   1, 4271,  621,  ...,    0,    0,    0],\n",
      "        [   1,   42,   85,  ...,    0,    0,    0],\n",
      "        [   1,   49,   15,  ...,    0,    0,    0],\n",
      "        ...,\n",
      "        [   1,   27,  238,  ...,    4,    2,    0],\n",
      "        [   1,    6,  108,  ...,    4,    2,    0],\n",
      "        [   1,    6, 2458,  ..., 1735,    4,    2]])\n",
      "torch.Size([64, 21])\n",
      "tensor([[   1, 6309,  731,  ...,    0,    0,    0],\n",
      "        [   1,   34,  172,  ...,    0,    0,    0],\n",
      "        [   1,   62,  234,  ...,    0,    0,    0],\n",
      "        ...,\n",
      "        [   1,  377, 3271,  ...,    0,    0,    0],\n",
      "        [   1,    6, 5115,  ...,    0,    0,    0],\n",
      "        [   1,    6, 1675,  ...,    0,    0,    0]])\n",
      "torch.Size([64, 22])\n"
     ]
    }
   ],
   "source": [
    "for (data, target) in data_pipe:\n",
    "    print(data)\n",
    "    print(data.shape)\n",
    "    print(target)\n",
    "    print(target.shape)\n",
    "    break"
   ]
  },
  {
   "cell_type": "code",
   "execution_count": 28,
   "id": "e4928698",
   "metadata": {
    "execution": {
     "iopub.execute_input": "2024-04-11T17:45:22.544225Z",
     "iopub.status.busy": "2024-04-11T17:45:22.543937Z",
     "iopub.status.idle": "2024-04-11T17:45:22.548356Z",
     "shell.execute_reply": "2024-04-11T17:45:22.547488Z"
    },
    "papermill": {
     "duration": 0.021312,
     "end_time": "2024-04-11T17:45:22.550283",
     "exception": false,
     "start_time": "2024-04-11T17:45:22.528971",
     "status": "completed"
    },
    "tags": []
   },
   "outputs": [],
   "source": [
    "import torch.nn as nn\n",
    "import random\n",
    "import torch.optim as optim\n",
    "from tqdm import tqdm\n",
    "import torch"
   ]
  },
  {
   "cell_type": "code",
   "execution_count": 29,
   "id": "01941e5d",
   "metadata": {
    "execution": {
     "iopub.execute_input": "2024-04-11T17:45:22.580066Z",
     "iopub.status.busy": "2024-04-11T17:45:22.579321Z",
     "iopub.status.idle": "2024-04-11T17:45:22.583503Z",
     "shell.execute_reply": "2024-04-11T17:45:22.582821Z"
    },
    "papermill": {
     "duration": 0.020945,
     "end_time": "2024-04-11T17:45:22.585232",
     "exception": false,
     "start_time": "2024-04-11T17:45:22.564287",
     "status": "completed"
    },
    "tags": []
   },
   "outputs": [],
   "source": [
    "device = torch.device('cuda' if torch.cuda.is_available() else 'cpu')"
   ]
  },
  {
   "cell_type": "code",
   "execution_count": 30,
   "id": "38d07a50",
   "metadata": {
    "execution": {
     "iopub.execute_input": "2024-04-11T17:45:22.657493Z",
     "iopub.status.busy": "2024-04-11T17:45:22.656743Z",
     "iopub.status.idle": "2024-04-11T17:45:22.677539Z",
     "shell.execute_reply": "2024-04-11T17:45:22.676714Z"
    },
    "papermill": {
     "duration": 0.03829,
     "end_time": "2024-04-11T17:45:22.679440",
     "exception": false,
     "start_time": "2024-04-11T17:45:22.641150",
     "status": "completed"
    },
    "tags": []
   },
   "outputs": [],
   "source": [
    "class Encoder(nn.Module):\n",
    "    def __init__(self, input_size, embedding_size, hidden_size, num_layers, p):\n",
    "        super(Encoder, self).__init__()\n",
    "        self.hidden_size = hidden_size\n",
    "        self.num_layers = num_layers\n",
    "        self.dropout = nn.Dropout(p)\n",
    "        self.embedding = nn.Embedding(input_size, embedding_size)\n",
    "        self.rnn = nn.LSTM(embedding_size, hidden_size, num_layers,bidirectional=True)\n",
    "        self.fc_hidden = nn.Linear(hidden_size*2, hidden_size)\n",
    "        self.fc_cell = nn.Linear(hidden_size*2, hidden_size)\n",
    "        \n",
    "    def forward (self, x):\n",
    "        #  sequence_lenght x batch_size \n",
    "        embedding = self.dropout(self.embedding(x))\n",
    "        # embedding shape => (sequence_lenght,batch_size,embedding_size)\n",
    "        encoder_states , (hidden, cell) = self.rnn(embedding)\n",
    "        # hidden shape = (2, Batch_size, hidden_size)\n",
    "        hidden = self.fc_hidden(torch.cat((hidden[0:1], hidden[1:2]), dim=2))\n",
    "        # hidden shape = (Batch_size, 2*hidden_size)\n",
    "        cell = self.fc_cell(torch.cat((cell[0:1], cell[1:2]), dim=2))\n",
    "\n",
    "        return encoder_states, hidden, cell\n",
    "    \n",
    "class Decoder(nn.Module):\n",
    "    def __init__(self, input_size, embedding_size, hidden_size, output_size,\n",
    "                num_layers, p):\n",
    "        super(Decoder, self).__init__()\n",
    "        self.hidden_size = hidden_size\n",
    "        self.num_layers = num_layers\n",
    "        self.dropout = nn.Dropout(p)\n",
    "        self.embedding = nn.Embedding(input_size, embedding_size)\n",
    "        self.rnn = nn.LSTM(hidden_size*2 + embedding_size, hidden_size, num_layers)\n",
    "        self.energy = nn.Linear(hidden_size*3, 1)\n",
    "        self.softmax = nn.Softmax(dim=0)\n",
    "        self.relu = nn.ReLU()\n",
    "        self.fc = nn.Linear(hidden_size, output_size)\n",
    "        \n",
    "    def forward(self, x,encoder_states, hidden, cell):\n",
    "        #shape of x: (batch_size) but we want (1, batch_size)\n",
    "        x = x.unsqueeze(0)\n",
    "        embedding = self.dropout(self.embedding(x))\n",
    "        # embedding shape: (1,batch_size, embedding_size)\n",
    "        \n",
    "        sequence_length = encoder_states.shape[0]\n",
    "        \n",
    "        h_reshape = hidden.repeat(sequence_length, 1, 1)\n",
    "        energy = self.relu(self.energy(torch.cat((h_reshape, encoder_states), dim=2)))\n",
    "        attention = self.softmax(energy)\n",
    "        # attention shape = (sequence_lenght, Batch_size, 1)\n",
    "        attention = attention.permute(1, 2, 0) # (N, 1, sequence_len)\n",
    "        # Encoder states ()\n",
    "        encoder_states = encoder_states.permute(1, 0, 2) # (N, seq_len, hidden_size*2)\n",
    "        \n",
    "        #torch.bmm\n",
    "        # (N, 1, hidden_size*2) -> permute -> (1, N, hidden_size*2)\n",
    "        # Performing the attention muplipy element wise\n",
    "        context_vector = torch.bmm(attention, encoder_states).permute(1, 0, 2)\n",
    "        \n",
    "        rnn_input = torch.cat((context_vector, embedding), dim=2)\n",
    "        outputs, (hidden, cell) = self.rnn(rnn_input, (hidden, cell))\n",
    "        \n",
    "        # outputs shape (1, N, hidden_size)\n",
    "        predictions = self.fc(outputs)\n",
    "        # predicitons shape: (1,batch_size, lenght_of_vocab)\n",
    "        predictions = predictions.squeeze(0)\n",
    "        \n",
    "        return predictions, hidden, cell\n",
    "    \n",
    "class Seq2Seq(nn.Module):\n",
    "    def __init__(self, encoder, decoder):\n",
    "        super(Seq2Seq, self).__init__()\n",
    "        self.encoder = encoder\n",
    "        self.decoder = decoder\n",
    "    \n",
    "    def forward(self, source, target, teacher_force_ratio=0.5):\n",
    "        batch_size = source.shape[1]\n",
    "        target_len = target.shape[0]\n",
    "        target_vocab_size = len(target_vocab)\n",
    "        \n",
    "        outputs = torch.zeros(target_len, batch_size, target_vocab_size).to(device)\n",
    "        \n",
    "        encoder_states, hidden, cell = self.encoder(source)\n",
    "        # Grab start token\n",
    "        x = target[0]\n",
    "        \n",
    "        for t in range(1, target_len):\n",
    "            output, hidden, cell = self.decoder(x,encoder_states, hidden, cell)\n",
    "            # output shape: (batch_size, target_vocab_size)\n",
    "            outputs[t] = output\n",
    "            best_guess = output.argmax(1)\n",
    "            \n",
    "            x = target[t] if random.random() < teacher_force_ratio else best_guess\n",
    "        return outputs"
   ]
  },
  {
   "cell_type": "code",
   "execution_count": 31,
   "id": "204899b6",
   "metadata": {
    "execution": {
     "iopub.execute_input": "2024-04-11T17:45:22.708586Z",
     "iopub.status.busy": "2024-04-11T17:45:22.708086Z",
     "iopub.status.idle": "2024-04-11T17:45:22.713471Z",
     "shell.execute_reply": "2024-04-11T17:45:22.712650Z"
    },
    "papermill": {
     "duration": 0.021792,
     "end_time": "2024-04-11T17:45:22.715183",
     "exception": false,
     "start_time": "2024-04-11T17:45:22.693391",
     "status": "completed"
    },
    "tags": []
   },
   "outputs": [],
   "source": [
    "# Training hyper parameters\n",
    "num_epochs = 20\n",
    "learning_rate = 0.001\n",
    "batch_size = 64\n",
    "load_model = False\n",
    "device = torch.device('cuda' if torch.cuda.is_available() else 'cpu')\n",
    "input_size_encoder = len(source_vocab)\n",
    "output_size_decoder = len(target_vocab)\n",
    "encoder_embedding_size = 300\n",
    "decoder_embedding_size = 300\n",
    "hidden_size = 1024\n",
    "num_layers = 1\n",
    "enc_dropout = 0.5\n",
    "dec_dropout = 0.5"
   ]
  },
  {
   "cell_type": "code",
   "execution_count": 32,
   "id": "3777a206",
   "metadata": {
    "execution": {
     "iopub.execute_input": "2024-04-11T17:45:22.744267Z",
     "iopub.status.busy": "2024-04-11T17:45:22.743973Z",
     "iopub.status.idle": "2024-04-11T17:45:23.591040Z",
     "shell.execute_reply": "2024-04-11T17:45:23.590051Z"
    },
    "papermill": {
     "duration": 0.864687,
     "end_time": "2024-04-11T17:45:23.593832",
     "exception": false,
     "start_time": "2024-04-11T17:45:22.729145",
     "status": "completed"
    },
    "tags": []
   },
   "outputs": [],
   "source": [
    "encoder_net = Encoder(input_size_encoder, encoder_embedding_size, hidden_size,num_layers,\n",
    "                    enc_dropout).to(device)\n",
    "decoder_net = Decoder(output_size_decoder, decoder_embedding_size, hidden_size,output_size_decoder, num_layers,\n",
    "                     dec_dropout).to(device)"
   ]
  },
  {
   "cell_type": "code",
   "execution_count": 33,
   "id": "6f88ab8f",
   "metadata": {
    "execution": {
     "iopub.execute_input": "2024-04-11T17:45:23.629457Z",
     "iopub.status.busy": "2024-04-11T17:45:23.628594Z",
     "iopub.status.idle": "2024-04-11T17:45:25.174721Z",
     "shell.execute_reply": "2024-04-11T17:45:25.173930Z"
    },
    "papermill": {
     "duration": 1.563759,
     "end_time": "2024-04-11T17:45:25.177029",
     "exception": false,
     "start_time": "2024-04-11T17:45:23.613270",
     "status": "completed"
    },
    "tags": []
   },
   "outputs": [],
   "source": [
    "model = Seq2Seq(encoder_net, decoder_net).to(device)\n",
    "optimizer = optim.Adam(model.parameters(), lr=learning_rate)\n",
    "pad_idx = target_vocab.lookup_indices(['<pad>'])[0]\n",
    "criterion = nn.CrossEntropyLoss(ignore_index=pad_idx)"
   ]
  },
  {
   "cell_type": "code",
   "execution_count": 34,
   "id": "721f630d",
   "metadata": {
    "execution": {
     "iopub.execute_input": "2024-04-11T17:45:25.207359Z",
     "iopub.status.busy": "2024-04-11T17:45:25.206889Z",
     "iopub.status.idle": "2024-04-11T17:45:25.212046Z",
     "shell.execute_reply": "2024-04-11T17:45:25.211238Z"
    },
    "papermill": {
     "duration": 0.022304,
     "end_time": "2024-04-11T17:45:25.213882",
     "exception": false,
     "start_time": "2024-04-11T17:45:25.191578",
     "status": "completed"
    },
    "tags": []
   },
   "outputs": [],
   "source": [
    "FILE_PATH = '/kaggle/working/shiny_test.txt'\n",
    "test_data_pipe = dp.iter.IterableWrapper([FILE_PATH])\n",
    "test_data_pipe = dp.iter.FileOpener(test_data_pipe, mode='rb')\n",
    "test_data_pipe = test_data_pipe.parse_csv(skip_lines=1, delimiter='\\t', as_tuple=True)"
   ]
  },
  {
   "cell_type": "code",
   "execution_count": 35,
   "id": "b9b9fd3a",
   "metadata": {
    "execution": {
     "iopub.execute_input": "2024-04-11T17:45:25.243698Z",
     "iopub.status.busy": "2024-04-11T17:45:25.243153Z",
     "iopub.status.idle": "2024-04-11T17:45:25.252560Z",
     "shell.execute_reply": "2024-04-11T17:45:25.251771Z"
    },
    "papermill": {
     "duration": 0.026188,
     "end_time": "2024-04-11T17:45:25.254292",
     "exception": false,
     "start_time": "2024-04-11T17:45:25.228104",
     "status": "completed"
    },
    "tags": []
   },
   "outputs": [],
   "source": [
    "import torch\n",
    "import spacy\n",
    "from torchtext.data.metrics import bleu_score\n",
    "import sys\n",
    "\n",
    "\n",
    "def translate_sentence(model, sentence, german_voc, english_voc, spacy_en, device, max_length=50):\n",
    "    \n",
    "    # Create tokens using spacy and everything in lower case (which is what our vocab is)\n",
    "    if type(sentence) == str:\n",
    "        tokens = [token.text.lower() for token in spacy_en(sentence)]\n",
    "    else:\n",
    "        tokens = [token.lower() for token in sentence]\n",
    "      \n",
    "    # Add <SOS> and <EOS> in beginning and end respectively\n",
    "    tokens.insert(0, '<sos>')\n",
    "    tokens.append('<eos>')\n",
    "    # Go through each german token and convert to an index\n",
    "    text_to_indices = english_voc.lookup_indices(tokens)\n",
    "\n",
    "    \n",
    "    # Convert to Tensor\n",
    "    sentence_tensor = torch.tensor(text_to_indices, device=device).unsqueeze(1)\n",
    "    \n",
    "    # Build encoder hidden, cell state\n",
    "    \n",
    "    with torch.no_grad():\n",
    "        encoder_states, hidden, cell = model.encoder(sentence_tensor)\n",
    " \n",
    "    outputs = german_voc.forward(['<sos>'])\n",
    "    end_of_sentece = german_voc.forward(['<eos>'])[0]\n",
    "    \n",
    "    for _ in range(max_length):\n",
    "        previous_word = torch.tensor([outputs[-1]], device=device)\n",
    "        with torch.no_grad():\n",
    "            output, hidden, cell = model.decoder(previous_word, encoder_states, hidden, cell)\n",
    "            best_guess = output.argmax(1).item()\n",
    "        outputs.append(best_guess)\n",
    "    \n",
    "    \n",
    "        # Model predicts it's the end of the sentence\n",
    "        if best_guess == end_of_sentece:\n",
    "            break\n",
    "    \n",
    "    translated_sentence = german_voc.lookup_tokens(outputs)\n",
    "    # remove start token\n",
    "    return translated_sentence[1:]"
   ]
  },
  {
   "cell_type": "code",
   "execution_count": 36,
   "id": "6d98399f",
   "metadata": {
    "execution": {
     "iopub.execute_input": "2024-04-11T17:45:25.284473Z",
     "iopub.status.busy": "2024-04-11T17:45:25.283983Z",
     "iopub.status.idle": "2024-04-11T19:21:46.781758Z",
     "shell.execute_reply": "2024-04-11T19:21:46.780910Z"
    },
    "papermill": {
     "duration": 5781.515885,
     "end_time": "2024-04-11T19:21:46.784273",
     "exception": false,
     "start_time": "2024-04-11T17:45:25.268388",
     "status": "completed"
    },
    "tags": []
   },
   "outputs": [
    {
     "name": "stdout",
     "output_type": "stream",
     "text": [
      "baute entlassen lagen Forelle Spezialität 1969 durchs stirbst Landhaus schlägst hinkommt hinkommt hinkommt Amtes Wecker Begehe Ziegen trösteten Sumo Kern Vorort eingesteckt zahm Schreck viele Komitees Kochbuch Kern gekommen wirfst prüfen Schlag einfältig entsprechend Fahrenheit Notizbücher Töchter Anschuldigungen Gäste witzig fantasievoll 10.000 Bankier Unglückstag abschließt verlängerte erhängt Poet Korinthenkacker\n",
      "Epoch 1 / 20\n",
      "Niemand möchte wissen .\n",
      "Epoch 2 / 20\n",
      "Vielleicht müssen es selbst selbst .\n",
      "Epoch 3 / 20\n",
      "Es muss du selbst wissen .\n",
      "Epoch 4 / 20\n",
      "Jemand müssen es selbst wissen .\n",
      "Epoch 5 / 20\n",
      "Es muss dich selbst wissen .\n",
      "Epoch 6 / 20\n",
      "Jetzt müssen du selbst wissen .\n",
      "Epoch 7 / 20\n",
      "Nichts müssen es selbst kennen .\n",
      "Epoch 8 / 20\n",
      "Mehr muss du selbst kennen .\n",
      "Epoch 9 / 20\n",
      "Man muss dich selbst kennen .\n",
      "Epoch 10 / 20\n",
      "Man muss dich selbst kennen .\n",
      "Epoch 11 / 20\n",
      "Du müsst dich selbst kennen .\n",
      "Epoch 12 / 20\n",
      "Ansonsten müssen du selbst wissen .\n",
      "Epoch 13 / 20\n",
      "Damit müsst du selbst kennen .\n",
      "Epoch 14 / 20\n",
      "Niemand müssen sich selbst kennen .\n",
      "Epoch 15 / 20\n",
      "Ansonsten muss du selbst kennen .\n",
      "Epoch 16 / 20\n",
      "Man muss sich selbst kennen .\n",
      "Epoch 17 / 20\n",
      "Ansonsten müssen du selbst kennen .\n",
      "Epoch 18 / 20\n",
      "Soldaten müssen sich selbst wissen .\n",
      "Epoch 19 / 20\n",
      "Man muss sich selbst kennen .\n",
      "Epoch 20 / 20\n"
     ]
    }
   ],
   "source": [
    "sentence = 'You must know yourself.'\n",
    "spacy_en = spacy.load(\"en_core_web_sm\")\n",
    "\n",
    "for epoch in range(num_epochs):\n",
    "    \n",
    "    model.eval()\n",
    "    translated_sentence = translate_sentence(model, sentence, target_vocab, source_vocab,spacy_en, device)\n",
    "    print(' '.join(translated_sentence[:-1]))\n",
    "    model.train()\n",
    "    print(f'Epoch {epoch+1} / {num_epochs}')\n",
    "    for batch_idx, (data, target) in enumerate(data_pipe):\n",
    "            data = data.permute([1,0])\n",
    "            data = data.to(device)\n",
    "            target = target.permute([1,0])\n",
    "            target = target.to(device)\n",
    "            output = model(data, target)\n",
    "            # output shape: (target_len, batch_size, output_len)\n",
    "            output = output[1:].reshape(-1, output.shape[2])\n",
    "            target = target[1:].reshape(-1)\n",
    "            \n",
    "            optimizer.zero_grad()\n",
    "            loss = criterion(output, target)\n",
    "            loss.backward()\n",
    "            torch.nn.utils.clip_grad_norm_(model.parameters(), max_norm=1)\n",
    "            optimizer.step()     "
   ]
  },
  {
   "cell_type": "code",
   "execution_count": 37,
   "id": "d3ab4ff0",
   "metadata": {
    "execution": {
     "iopub.execute_input": "2024-04-11T19:21:46.819081Z",
     "iopub.status.busy": "2024-04-11T19:21:46.818467Z",
     "iopub.status.idle": "2024-04-11T19:21:48.750233Z",
     "shell.execute_reply": "2024-04-11T19:21:48.749193Z"
    },
    "papermill": {
     "duration": 1.951953,
     "end_time": "2024-04-11T19:21:48.752665",
     "exception": false,
     "start_time": "2024-04-11T19:21:46.800712",
     "status": "completed"
    },
    "tags": []
   },
   "outputs": [],
   "source": [
    "from torchmetrics.functional.text import bleu_score\n",
    "from torch.utils.data import DataLoader\n",
    "\n",
    "\n",
    "def bleu(data_pipe, model, german_vocab, english_vocab, device):\n",
    "    spacy_en = spacy.load(\"en_core_web_sm\")\n",
    "    targets = []\n",
    "    outputs = []\n",
    "    \n",
    "    for idx, (source, target) in enumerate(data_pipe):\n",
    "        if idx % 10000 == 0:\n",
    "            print(idx)\n",
    "        \n",
    "        prediction = translate_sentence(model, source, german_vocab, english_vocab, spacy_en, device)\n",
    "        prediction = prediction[:-1]\n",
    "        detokenized  = ' '.join(deTokenize(target))\n",
    "        targets.append([detokenized])\n",
    "        outputs.append(\" \".join(prediction))\n",
    "#         print(f'Source: {source} Target: {t} Pred: {detokenized}', end='\\n\\n')\n",
    "    return bleu_score(outputs, targets)"
   ]
  },
  {
   "cell_type": "code",
   "execution_count": 38,
   "id": "3e12fa13",
   "metadata": {
    "execution": {
     "iopub.execute_input": "2024-04-11T19:21:48.787044Z",
     "iopub.status.busy": "2024-04-11T19:21:48.786227Z",
     "iopub.status.idle": "2024-04-11T19:29:51.690440Z",
     "shell.execute_reply": "2024-04-11T19:29:51.689371Z"
    },
    "papermill": {
     "duration": 482.923671,
     "end_time": "2024-04-11T19:29:51.692927",
     "exception": false,
     "start_time": "2024-04-11T19:21:48.769256",
     "status": "completed"
    },
    "tags": []
   },
   "outputs": [
    {
     "name": "stdout",
     "output_type": "stream",
     "text": [
      "0\n",
      "10000\n",
      "20000\n",
      "30000\n"
     ]
    }
   ],
   "source": [
    "score = bleu(test_data_pipe, model, target_vocab, source_vocab, device)"
   ]
  },
  {
   "cell_type": "code",
   "execution_count": 39,
   "id": "67955dea",
   "metadata": {
    "execution": {
     "iopub.execute_input": "2024-04-11T19:29:51.726691Z",
     "iopub.status.busy": "2024-04-11T19:29:51.726379Z",
     "iopub.status.idle": "2024-04-11T19:29:51.737151Z",
     "shell.execute_reply": "2024-04-11T19:29:51.736132Z"
    },
    "papermill": {
     "duration": 0.029548,
     "end_time": "2024-04-11T19:29:51.739003",
     "exception": false,
     "start_time": "2024-04-11T19:29:51.709455",
     "status": "completed"
    },
    "tags": []
   },
   "outputs": [
    {
     "name": "stdout",
     "output_type": "stream",
     "text": [
      "tensor(0.1147)\n"
     ]
    }
   ],
   "source": [
    "print(score)"
   ]
  }
 ],
 "metadata": {
  "kaggle": {
   "accelerator": "gpu",
   "dataSources": [],
   "dockerImageVersionId": 30684,
   "isGpuEnabled": true,
   "isInternetEnabled": true,
   "language": "python",
   "sourceType": "notebook"
  },
  "kernelspec": {
   "display_name": "Python 3",
   "language": "python",
   "name": "python3"
  },
  "language_info": {
   "codemirror_mode": {
    "name": "ipython",
    "version": 3
   },
   "file_extension": ".py",
   "mimetype": "text/x-python",
   "name": "python",
   "nbconvert_exporter": "python",
   "pygments_lexer": "ipython3",
   "version": "3.10.13"
  },
  "papermill": {
   "default_parameters": {},
   "duration": 6525.579853,
   "end_time": "2024-04-11T19:29:53.592766",
   "environment_variables": {},
   "exception": null,
   "input_path": "__notebook__.ipynb",
   "output_path": "__notebook__.ipynb",
   "parameters": {},
   "start_time": "2024-04-11T17:41:08.012913",
   "version": "2.5.0"
  }
 },
 "nbformat": 4,
 "nbformat_minor": 5
}
