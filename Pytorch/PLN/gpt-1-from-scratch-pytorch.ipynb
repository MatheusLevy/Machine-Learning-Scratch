{
 "cells": [
  {
   "cell_type": "code",
   "execution_count": 1,
   "id": "09df98f6",
   "metadata": {
    "_cell_guid": "b1076dfc-b9ad-4769-8c92-a6c4dae69d19",
    "_uuid": "8f2839f25d086af736a60e9eeb907d3b93b6e0e5",
    "execution": {
     "iopub.execute_input": "2024-04-16T15:03:46.996006Z",
     "iopub.status.busy": "2024-04-16T15:03:46.995578Z",
     "iopub.status.idle": "2024-04-16T15:03:50.889284Z",
     "shell.execute_reply": "2024-04-16T15:03:50.888277Z"
    },
    "papermill": {
     "duration": 3.910764,
     "end_time": "2024-04-16T15:03:50.891754",
     "exception": false,
     "start_time": "2024-04-16T15:03:46.980990",
     "status": "completed"
    },
    "tags": []
   },
   "outputs": [],
   "source": [
    "import torch\n",
    "import torch.nn as nn"
   ]
  },
  {
   "cell_type": "code",
   "execution_count": 2,
   "id": "f4d33654",
   "metadata": {
    "execution": {
     "iopub.execute_input": "2024-04-16T15:03:50.920080Z",
     "iopub.status.busy": "2024-04-16T15:03:50.919593Z",
     "iopub.status.idle": "2024-04-16T15:03:50.932135Z",
     "shell.execute_reply": "2024-04-16T15:03:50.931186Z"
    },
    "papermill": {
     "duration": 0.028992,
     "end_time": "2024-04-16T15:03:50.934222",
     "exception": false,
     "start_time": "2024-04-16T15:03:50.905230",
     "status": "completed"
    },
    "tags": []
   },
   "outputs": [],
   "source": [
    "class SelfAttention(nn.Module):\n",
    "    def __init__(self, embed_size, heads):\n",
    "        super(SelfAttention, self).__init__()\n",
    "        self.embed_size = embed_size\n",
    "        self.heads = heads\n",
    "        self.head_dim = embed_size // heads  # embed_size: 256 and heads: 8 then each head is\n",
    "                                             # 256 // 8 = 32 dim\n",
    "        assert (self.head_dim * heads == embed_size), 'Embed size needs to be div by heads'\n",
    "        \n",
    "        self.values = nn.Linear(self.head_dim, self.head_dim, bias= False)\n",
    "        self.keys =  nn.Linear(self.head_dim, self.head_dim, bias= False)\n",
    "        self.queries = nn.Linear(self.head_dim, self.head_dim, bias= False)\n",
    "        self.fc_out = nn.Linear(heads*self.head_dim, embed_size)\n",
    "        \n",
    "    def forward(self, values, keys, query, mask):\n",
    "        N = query.shape[0]\n",
    "        value_len, key_len, query_len = values.shape[1], keys.shape[1], query.shape[1]\n",
    "        \n",
    "        # Split embedding into self.head pieces\n",
    "        values = values.reshape(N, value_len, self.heads, self.head_dim)\n",
    "        keys = keys.reshape(N, key_len, self.heads, self.head_dim)\n",
    "        queries = query.reshape(N, query_len, self.heads, self.head_dim)\n",
    "        \n",
    "        values = self.values(values)\n",
    "        keys = self.keys(keys)\n",
    "        queries = self.queries(queries)\n",
    "        \n",
    "        energy = torch.einsum('nqhd,nkhd->nhqk', [queries, keys])\n",
    "        # queries shape: (N, query_len, heads, head_dim)\n",
    "        # keys shape: (N, keys_len, heads, head_dim)\n",
    "        # energy = (N, heads, query_len, key_len)\n",
    "        \n",
    "        if mask is not None:\n",
    "            energy = energy.masked_fill(mask == 0, float('-1e20'))\n",
    "        \n",
    "        attention = torch.softmax(energy/(self.embed_size ** (1/2)), dim=3)\n",
    "        \n",
    "        out = torch.einsum('nhql,nlhd->nqhd', [attention, values]).reshape(\n",
    "            N, query_len, self.heads*self.head_dim\n",
    "        )\n",
    "        # attention shape: (N, heads, query_len, key_len)\n",
    "        # values shape: (N, values_len, heads, heads_dim)\n",
    "        # (N, query_len, heads, head_dim) then flatten last two dimension\n",
    "        # (n, query_len, embed_size)\n",
    "        out = self.fc_out(out)\n",
    "        return out"
   ]
  },
  {
   "cell_type": "code",
   "execution_count": 3,
   "id": "586971bc",
   "metadata": {
    "execution": {
     "iopub.execute_input": "2024-04-16T15:03:50.960914Z",
     "iopub.status.busy": "2024-04-16T15:03:50.960528Z",
     "iopub.status.idle": "2024-04-16T15:03:50.968498Z",
     "shell.execute_reply": "2024-04-16T15:03:50.967568Z"
    },
    "papermill": {
     "duration": 0.023735,
     "end_time": "2024-04-16T15:03:50.970485",
     "exception": false,
     "start_time": "2024-04-16T15:03:50.946750",
     "status": "completed"
    },
    "tags": []
   },
   "outputs": [],
   "source": [
    "class TransformerBlock(nn.Module):\n",
    "    def __init__(self, embed_size, heads, dropout, forward_expansion):\n",
    "        super(TransformerBlock, self).__init__()\n",
    "        self.attention = SelfAttention(embed_size, heads)\n",
    "        self.norm1 = nn.LayerNorm(embed_size)\n",
    "        self.norm2 = nn.LayerNorm(embed_size)\n",
    "        \n",
    "        self.feed_forward = nn.Sequential(\n",
    "            nn.Linear(embed_size, forward_expansion*embed_size),\n",
    "            nn.ReLU(),\n",
    "            nn.Linear(forward_expansion*embed_size, embed_size)\n",
    "        )\n",
    "        \n",
    "        self.dropout = nn.Dropout(dropout)\n",
    "        \n",
    "    def forward(self, value, key, query, mask):\n",
    "        attention = self.attention(value, key, query, mask)\n",
    "        x = self.dropout(self.norm1(attention + query))\n",
    "        forward = self.feed_forward(x)\n",
    "        out = self.dropout(self.norm2(forward + x))\n",
    "        return out"
   ]
  },
  {
   "cell_type": "code",
   "execution_count": 4,
   "id": "57db428a",
   "metadata": {
    "execution": {
     "iopub.execute_input": "2024-04-16T15:03:50.997502Z",
     "iopub.status.busy": "2024-04-16T15:03:50.997193Z",
     "iopub.status.idle": "2024-04-16T15:03:51.003985Z",
     "shell.execute_reply": "2024-04-16T15:03:51.003138Z"
    },
    "papermill": {
     "duration": 0.021795,
     "end_time": "2024-04-16T15:03:51.005897",
     "exception": false,
     "start_time": "2024-04-16T15:03:50.984102",
     "status": "completed"
    },
    "tags": []
   },
   "outputs": [],
   "source": [
    "class DecoderBlock(nn.Module):\n",
    "    def __init__(self, embed_size, heads, forward_expansion, dropout, device):\n",
    "        super(DecoderBlock, self).__init__()\n",
    "        self.attention = SelfAttention(embed_size, heads)\n",
    "        self.norm = nn.LayerNorm(embed_size)\n",
    "        self.transformer_block = TransformerBlock(\n",
    "            embed_size, heads, dropout, forward_expansion\n",
    "        )\n",
    "        self.dropout = nn.Dropout(dropout)\n",
    "        \n",
    "    def forward(self, x, value, key, trg_mask):\n",
    "        attention = self.attention(x, x, x, trg_mask)\n",
    "        query = self.dropout(self.norm(attention + x))\n",
    "        out = self.transformer_block(value, key, query, trg_mask)\n",
    "        return out"
   ]
  },
  {
   "cell_type": "code",
   "execution_count": 5,
   "id": "a94c9cbc",
   "metadata": {
    "execution": {
     "iopub.execute_input": "2024-04-16T15:03:51.031228Z",
     "iopub.status.busy": "2024-04-16T15:03:51.030936Z",
     "iopub.status.idle": "2024-04-16T15:03:51.039455Z",
     "shell.execute_reply": "2024-04-16T15:03:51.038592Z"
    },
    "papermill": {
     "duration": 0.023486,
     "end_time": "2024-04-16T15:03:51.041491",
     "exception": false,
     "start_time": "2024-04-16T15:03:51.018005",
     "status": "completed"
    },
    "tags": []
   },
   "outputs": [],
   "source": [
    "class Decoder(nn.Module):\n",
    "    def __init__(self,\n",
    "                 trg_vocab_size,\n",
    "                 embed_size,\n",
    "                 num_layers,\n",
    "                 heads,\n",
    "                 forward_expansion,\n",
    "                 dropout,\n",
    "                 device,\n",
    "                 max_lenght\n",
    "                ):\n",
    "        super(Decoder, self).__init__()\n",
    "        self.device = device\n",
    "        self.word_embedding = nn.Embedding(trg_vocab_size, embed_size)\n",
    "        self.positional_embedding = nn.Embedding(max_lenght, embed_size)\n",
    "        self.layers = nn.ModuleList(\n",
    "            [DecoderBlock(embed_size, heads, forward_expansion, dropout, device)\n",
    "            for _ in range(num_layers)\n",
    "            ]\n",
    "        )\n",
    "        self.fc_out = nn.Linear(embed_size, trg_vocab_size)\n",
    "        self.dropout = nn.Dropout(dropout)\n",
    "        \n",
    "    def forward(self, x, trg_mask):\n",
    "        N, seq_lenght = x.shape\n",
    "        positions = torch.arange(0, seq_lenght).expand(N, seq_lenght).to(self.device)\n",
    "        x = self.dropout((self.word_embedding(x) + self.positional_embedding(positions)))\n",
    "        for layer in self.layers:\n",
    "            x = layer(x, x, x, trg_mask)\n",
    "        \n",
    "        out = self.fc_out(x)\n",
    "        return out"
   ]
  },
  {
   "cell_type": "code",
   "execution_count": 6,
   "id": "fb7bf58d",
   "metadata": {
    "execution": {
     "iopub.execute_input": "2024-04-16T15:03:51.066977Z",
     "iopub.status.busy": "2024-04-16T15:03:51.066471Z",
     "iopub.status.idle": "2024-04-16T15:03:51.075040Z",
     "shell.execute_reply": "2024-04-16T15:03:51.074184Z"
    },
    "papermill": {
     "duration": 0.023521,
     "end_time": "2024-04-16T15:03:51.077051",
     "exception": false,
     "start_time": "2024-04-16T15:03:51.053530",
     "status": "completed"
    },
    "tags": []
   },
   "outputs": [],
   "source": [
    "class GPT(nn.Module):\n",
    "    def __init__(\n",
    "        self,\n",
    "        trg_vocab_size,\n",
    "        trg_pad_idx,\n",
    "        embed_size=256,\n",
    "        num_layers=6,\n",
    "        forward_expansion=4,\n",
    "        heads= 8,\n",
    "        dropout=0,\n",
    "        device='cuda',\n",
    "        max_lenght=100\n",
    "    ):\n",
    "        super(GPT, self).__init__()\n",
    "        self.decoder = Decoder(\n",
    "            trg_vocab_size,\n",
    "            embed_size,\n",
    "            num_layers,\n",
    "            heads,\n",
    "            forward_expansion,\n",
    "            dropout,\n",
    "            device,\n",
    "            max_lenght   \n",
    "        )\n",
    "        self.trg_pad_ix = trg_pad_idx\n",
    "        self.device = device\n",
    "        \n",
    "    def make_src_mask(self, src):\n",
    "        src_mask = (src != self.src_pad_idx).unsqueeze(1).unsqueeze(2)\n",
    "        # (N, 1, 1, src_len)\n",
    "        return src_mask.to(self.device)\n",
    "    \n",
    "    def make_trg_mask(self, trg):\n",
    "        N, trg_len = trg.shape\n",
    "        trg_mask = torch.tril(torch.ones((trg_len, trg_len))).expand(N,1,trg_len, trg_len)\n",
    "        return trg_mask.to(self.device)\n",
    "    \n",
    "    def forward(self, trg):\n",
    "        trg_mask = self.make_trg_mask(trg)\n",
    "        out = self.decoder(trg, trg_mask)\n",
    "        return out"
   ]
  },
  {
   "cell_type": "code",
   "execution_count": 7,
   "id": "1d88269a",
   "metadata": {
    "execution": {
     "iopub.execute_input": "2024-04-16T15:03:51.103981Z",
     "iopub.status.busy": "2024-04-16T15:03:51.103634Z",
     "iopub.status.idle": "2024-04-16T15:03:51.412883Z",
     "shell.execute_reply": "2024-04-16T15:03:51.411775Z"
    },
    "papermill": {
     "duration": 0.326404,
     "end_time": "2024-04-16T15:03:51.415946",
     "exception": false,
     "start_time": "2024-04-16T15:03:51.089542",
     "status": "completed"
    },
    "tags": []
   },
   "outputs": [],
   "source": [
    "trg_vocab_size = 10\n",
    "trg_pad_idx = 0\n",
    "device = torch.device('cuda' if torch.cuda.is_available() else 'cpu')\n",
    "model = GPT(trg_vocab_size, trg_pad_idx, device=device).to(device)"
   ]
  },
  {
   "cell_type": "code",
   "execution_count": 8,
   "id": "68186605",
   "metadata": {
    "execution": {
     "iopub.execute_input": "2024-04-16T15:03:51.450355Z",
     "iopub.status.busy": "2024-04-16T15:03:51.449913Z",
     "iopub.status.idle": "2024-04-16T15:03:52.127623Z",
     "shell.execute_reply": "2024-04-16T15:03:52.126676Z"
    },
    "papermill": {
     "duration": 0.697715,
     "end_time": "2024-04-16T15:03:52.130095",
     "exception": false,
     "start_time": "2024-04-16T15:03:51.432380",
     "status": "completed"
    },
    "tags": []
   },
   "outputs": [
    {
     "name": "stdout",
     "output_type": "stream",
     "text": [
      "torch.Size([2, 8, 10])\n",
      "torch.Size([2, 8])\n",
      "2.3172292709350586\n",
      "tensor([6, 1, 1, 5, 3, 1, 0, 3, 7, 1, 5, 7, 4, 9], device='cuda:0')\n"
     ]
    }
   ],
   "source": [
    "TRG_PAD_IDX = 0\n",
    "criterion = nn.CrossEntropyLoss(ignore_index = TRG_PAD_IDX)\n",
    "trg = torch.tensor([[1, 7, 4, 3, 5, 9, 2, 0], [1, 5, 6, 2, 4, 7, 6, 2]]).to(device)\n",
    "output = model(trg)\n",
    "print(output.shape)\n",
    "# output shape (N, seq_len, vocab_Size)\n",
    "output_dim = output.shape[-1] #\n",
    "output = output[:, 1:].contiguous().view(-1, output_dim) # shape (N * seq_len)\n",
    "# trg shape = (N, seq_len)\n",
    "print(trg.shape)\n",
    "trg = trg[:, 1:].contiguous().view(-1) # Remove start token from stences so shape \n",
    "                                       # (N*seq_len - N)\n",
    "loss = criterion(output, trg)\n",
    "print(loss.item())\n",
    "predicted_tokens = torch.argmax(output, dim=-1)\n",
    "print(predicted_tokens)"
   ]
  },
  {
   "cell_type": "code",
   "execution_count": 9,
   "id": "6dca8b0d",
   "metadata": {
    "execution": {
     "iopub.execute_input": "2024-04-16T15:03:52.157587Z",
     "iopub.status.busy": "2024-04-16T15:03:52.157243Z",
     "iopub.status.idle": "2024-04-16T15:03:53.478022Z",
     "shell.execute_reply": "2024-04-16T15:03:53.476904Z"
    },
    "papermill": {
     "duration": 1.33785,
     "end_time": "2024-04-16T15:03:53.480675",
     "exception": false,
     "start_time": "2024-04-16T15:03:52.142825",
     "status": "completed"
    },
    "tags": []
   },
   "outputs": [
    {
     "name": "stdout",
     "output_type": "stream",
     "text": [
      "--2024-04-16 15:03:53--  https://raw.githubusercontent.com/Apress/applied-natural-language-processing-w-python/master/data_etc/deu.txt\r\n",
      "Resolving raw.githubusercontent.com (raw.githubusercontent.com)... 185.199.108.133, 185.199.109.133, 185.199.110.133, ...\r\n",
      "Connecting to raw.githubusercontent.com (raw.githubusercontent.com)|185.199.108.133|:443... connected.\r\n",
      "HTTP request sent, awaiting response... 200 OK\r\n",
      "Length: 12316220 (12M) [text/plain]\r\n",
      "Saving to: 'deu.txt'\r\n",
      "\r\n",
      "deu.txt             100%[===================>]  11.75M  --.-KB/s    in 0.08s   \r\n",
      "\r\n",
      "2024-04-16 15:03:53 (146 MB/s) - 'deu.txt' saved [12316220/12316220]\r\n",
      "\r\n"
     ]
    }
   ],
   "source": [
    "!wget 'https://raw.githubusercontent.com/Apress/applied-natural-language-processing-w-python/master/data_etc/deu.txt'"
   ]
  },
  {
   "cell_type": "code",
   "execution_count": 10,
   "id": "4f287c96",
   "metadata": {
    "execution": {
     "iopub.execute_input": "2024-04-16T15:03:53.508486Z",
     "iopub.status.busy": "2024-04-16T15:03:53.508110Z",
     "iopub.status.idle": "2024-04-16T15:04:30.975178Z",
     "shell.execute_reply": "2024-04-16T15:04:30.974144Z"
    },
    "papermill": {
     "duration": 37.483623,
     "end_time": "2024-04-16T15:04:30.977669",
     "exception": false,
     "start_time": "2024-04-16T15:03:53.494046",
     "status": "completed"
    },
    "tags": []
   },
   "outputs": [
    {
     "name": "stdout",
     "output_type": "stream",
     "text": [
      "Collecting en-core-web-sm==3.7.1\r\n",
      "  Downloading https://github.com/explosion/spacy-models/releases/download/en_core_web_sm-3.7.1/en_core_web_sm-3.7.1-py3-none-any.whl (12.8 MB)\r\n",
      "\u001b[2K     \u001b[90m━━━━━━━━━━━━━━━━━━━━━━━━━━━━━━━━━━━━━━━━\u001b[0m \u001b[32m12.8/12.8 MB\u001b[0m \u001b[31m79.7 MB/s\u001b[0m eta \u001b[36m0:00:00\u001b[0m\r\n",
      "\u001b[?25hRequirement already satisfied: spacy<3.8.0,>=3.7.2 in /opt/conda/lib/python3.10/site-packages (from en-core-web-sm==3.7.1) (3.7.2)\r\n",
      "Requirement already satisfied: spacy-legacy<3.1.0,>=3.0.11 in /opt/conda/lib/python3.10/site-packages (from spacy<3.8.0,>=3.7.2->en-core-web-sm==3.7.1) (3.0.12)\r\n",
      "Requirement already satisfied: spacy-loggers<2.0.0,>=1.0.0 in /opt/conda/lib/python3.10/site-packages (from spacy<3.8.0,>=3.7.2->en-core-web-sm==3.7.1) (1.0.5)\r\n",
      "Requirement already satisfied: murmurhash<1.1.0,>=0.28.0 in /opt/conda/lib/python3.10/site-packages (from spacy<3.8.0,>=3.7.2->en-core-web-sm==3.7.1) (1.0.10)\r\n",
      "Requirement already satisfied: cymem<2.1.0,>=2.0.2 in /opt/conda/lib/python3.10/site-packages (from spacy<3.8.0,>=3.7.2->en-core-web-sm==3.7.1) (2.0.8)\r\n",
      "Requirement already satisfied: preshed<3.1.0,>=3.0.2 in /opt/conda/lib/python3.10/site-packages (from spacy<3.8.0,>=3.7.2->en-core-web-sm==3.7.1) (3.0.9)\r\n",
      "Requirement already satisfied: thinc<8.3.0,>=8.1.8 in /opt/conda/lib/python3.10/site-packages (from spacy<3.8.0,>=3.7.2->en-core-web-sm==3.7.1) (8.2.2)\r\n",
      "Requirement already satisfied: wasabi<1.2.0,>=0.9.1 in /opt/conda/lib/python3.10/site-packages (from spacy<3.8.0,>=3.7.2->en-core-web-sm==3.7.1) (1.1.2)\r\n",
      "Requirement already satisfied: srsly<3.0.0,>=2.4.3 in /opt/conda/lib/python3.10/site-packages (from spacy<3.8.0,>=3.7.2->en-core-web-sm==3.7.1) (2.4.8)\r\n",
      "Requirement already satisfied: catalogue<2.1.0,>=2.0.6 in /opt/conda/lib/python3.10/site-packages (from spacy<3.8.0,>=3.7.2->en-core-web-sm==3.7.1) (2.0.10)\r\n",
      "Requirement already satisfied: weasel<0.4.0,>=0.1.0 in /opt/conda/lib/python3.10/site-packages (from spacy<3.8.0,>=3.7.2->en-core-web-sm==3.7.1) (0.3.4)\r\n",
      "Requirement already satisfied: typer<0.10.0,>=0.3.0 in /opt/conda/lib/python3.10/site-packages (from spacy<3.8.0,>=3.7.2->en-core-web-sm==3.7.1) (0.9.0)\r\n",
      "Requirement already satisfied: smart-open<7.0.0,>=5.2.1 in /opt/conda/lib/python3.10/site-packages (from spacy<3.8.0,>=3.7.2->en-core-web-sm==3.7.1) (6.4.0)\r\n",
      "Requirement already satisfied: tqdm<5.0.0,>=4.38.0 in /opt/conda/lib/python3.10/site-packages (from spacy<3.8.0,>=3.7.2->en-core-web-sm==3.7.1) (4.66.1)\r\n",
      "Requirement already satisfied: requests<3.0.0,>=2.13.0 in /opt/conda/lib/python3.10/site-packages (from spacy<3.8.0,>=3.7.2->en-core-web-sm==3.7.1) (2.31.0)\r\n",
      "Requirement already satisfied: pydantic!=1.8,!=1.8.1,<3.0.0,>=1.7.4 in /opt/conda/lib/python3.10/site-packages (from spacy<3.8.0,>=3.7.2->en-core-web-sm==3.7.1) (2.5.3)\r\n",
      "Requirement already satisfied: jinja2 in /opt/conda/lib/python3.10/site-packages (from spacy<3.8.0,>=3.7.2->en-core-web-sm==3.7.1) (3.1.2)\r\n",
      "Requirement already satisfied: setuptools in /opt/conda/lib/python3.10/site-packages (from spacy<3.8.0,>=3.7.2->en-core-web-sm==3.7.1) (69.0.3)\r\n",
      "Requirement already satisfied: packaging>=20.0 in /opt/conda/lib/python3.10/site-packages (from spacy<3.8.0,>=3.7.2->en-core-web-sm==3.7.1) (21.3)\r\n",
      "Requirement already satisfied: langcodes<4.0.0,>=3.2.0 in /opt/conda/lib/python3.10/site-packages (from spacy<3.8.0,>=3.7.2->en-core-web-sm==3.7.1) (3.3.0)\r\n",
      "Requirement already satisfied: numpy>=1.19.0 in /opt/conda/lib/python3.10/site-packages (from spacy<3.8.0,>=3.7.2->en-core-web-sm==3.7.1) (1.26.4)\r\n",
      "Requirement already satisfied: pyparsing!=3.0.5,>=2.0.2 in /opt/conda/lib/python3.10/site-packages (from packaging>=20.0->spacy<3.8.0,>=3.7.2->en-core-web-sm==3.7.1) (3.1.1)\r\n",
      "Requirement already satisfied: annotated-types>=0.4.0 in /opt/conda/lib/python3.10/site-packages (from pydantic!=1.8,!=1.8.1,<3.0.0,>=1.7.4->spacy<3.8.0,>=3.7.2->en-core-web-sm==3.7.1) (0.6.0)\r\n",
      "Requirement already satisfied: pydantic-core==2.14.6 in /opt/conda/lib/python3.10/site-packages (from pydantic!=1.8,!=1.8.1,<3.0.0,>=1.7.4->spacy<3.8.0,>=3.7.2->en-core-web-sm==3.7.1) (2.14.6)\r\n",
      "Requirement already satisfied: typing-extensions>=4.6.1 in /opt/conda/lib/python3.10/site-packages (from pydantic!=1.8,!=1.8.1,<3.0.0,>=1.7.4->spacy<3.8.0,>=3.7.2->en-core-web-sm==3.7.1) (4.9.0)\r\n",
      "Requirement already satisfied: charset-normalizer<4,>=2 in /opt/conda/lib/python3.10/site-packages (from requests<3.0.0,>=2.13.0->spacy<3.8.0,>=3.7.2->en-core-web-sm==3.7.1) (3.3.2)\r\n",
      "Requirement already satisfied: idna<4,>=2.5 in /opt/conda/lib/python3.10/site-packages (from requests<3.0.0,>=2.13.0->spacy<3.8.0,>=3.7.2->en-core-web-sm==3.7.1) (3.6)\r\n",
      "Requirement already satisfied: urllib3<3,>=1.21.1 in /opt/conda/lib/python3.10/site-packages (from requests<3.0.0,>=2.13.0->spacy<3.8.0,>=3.7.2->en-core-web-sm==3.7.1) (1.26.18)\r\n",
      "Requirement already satisfied: certifi>=2017.4.17 in /opt/conda/lib/python3.10/site-packages (from requests<3.0.0,>=2.13.0->spacy<3.8.0,>=3.7.2->en-core-web-sm==3.7.1) (2024.2.2)\r\n",
      "Requirement already satisfied: blis<0.8.0,>=0.7.8 in /opt/conda/lib/python3.10/site-packages (from thinc<8.3.0,>=8.1.8->spacy<3.8.0,>=3.7.2->en-core-web-sm==3.7.1) (0.7.10)\r\n",
      "Requirement already satisfied: confection<1.0.0,>=0.0.1 in /opt/conda/lib/python3.10/site-packages (from thinc<8.3.0,>=8.1.8->spacy<3.8.0,>=3.7.2->en-core-web-sm==3.7.1) (0.1.4)\r\n",
      "Requirement already satisfied: click<9.0.0,>=7.1.1 in /opt/conda/lib/python3.10/site-packages (from typer<0.10.0,>=0.3.0->spacy<3.8.0,>=3.7.2->en-core-web-sm==3.7.1) (8.1.7)\r\n",
      "Requirement already satisfied: cloudpathlib<0.17.0,>=0.7.0 in /opt/conda/lib/python3.10/site-packages (from weasel<0.4.0,>=0.1.0->spacy<3.8.0,>=3.7.2->en-core-web-sm==3.7.1) (0.16.0)\r\n",
      "Requirement already satisfied: MarkupSafe>=2.0 in /opt/conda/lib/python3.10/site-packages (from jinja2->spacy<3.8.0,>=3.7.2->en-core-web-sm==3.7.1) (2.1.3)\r\n",
      "\u001b[38;5;2m✔ Download and installation successful\u001b[0m\r\n",
      "You can now load the package via spacy.load('en_core_web_sm')\r\n",
      "Collecting de-core-news-sm==3.7.0\r\n",
      "  Downloading https://github.com/explosion/spacy-models/releases/download/de_core_news_sm-3.7.0/de_core_news_sm-3.7.0-py3-none-any.whl (14.6 MB)\r\n",
      "\u001b[2K     \u001b[90m━━━━━━━━━━━━━━━━━━━━━━━━━━━━━━━━━━━━━━━━\u001b[0m \u001b[32m14.6/14.6 MB\u001b[0m \u001b[31m77.4 MB/s\u001b[0m eta \u001b[36m0:00:00\u001b[0m\r\n",
      "\u001b[?25hRequirement already satisfied: spacy<3.8.0,>=3.7.0 in /opt/conda/lib/python3.10/site-packages (from de-core-news-sm==3.7.0) (3.7.2)\r\n",
      "Requirement already satisfied: spacy-legacy<3.1.0,>=3.0.11 in /opt/conda/lib/python3.10/site-packages (from spacy<3.8.0,>=3.7.0->de-core-news-sm==3.7.0) (3.0.12)\r\n",
      "Requirement already satisfied: spacy-loggers<2.0.0,>=1.0.0 in /opt/conda/lib/python3.10/site-packages (from spacy<3.8.0,>=3.7.0->de-core-news-sm==3.7.0) (1.0.5)\r\n",
      "Requirement already satisfied: murmurhash<1.1.0,>=0.28.0 in /opt/conda/lib/python3.10/site-packages (from spacy<3.8.0,>=3.7.0->de-core-news-sm==3.7.0) (1.0.10)\r\n",
      "Requirement already satisfied: cymem<2.1.0,>=2.0.2 in /opt/conda/lib/python3.10/site-packages (from spacy<3.8.0,>=3.7.0->de-core-news-sm==3.7.0) (2.0.8)\r\n",
      "Requirement already satisfied: preshed<3.1.0,>=3.0.2 in /opt/conda/lib/python3.10/site-packages (from spacy<3.8.0,>=3.7.0->de-core-news-sm==3.7.0) (3.0.9)\r\n",
      "Requirement already satisfied: thinc<8.3.0,>=8.1.8 in /opt/conda/lib/python3.10/site-packages (from spacy<3.8.0,>=3.7.0->de-core-news-sm==3.7.0) (8.2.2)\r\n",
      "Requirement already satisfied: wasabi<1.2.0,>=0.9.1 in /opt/conda/lib/python3.10/site-packages (from spacy<3.8.0,>=3.7.0->de-core-news-sm==3.7.0) (1.1.2)\r\n",
      "Requirement already satisfied: srsly<3.0.0,>=2.4.3 in /opt/conda/lib/python3.10/site-packages (from spacy<3.8.0,>=3.7.0->de-core-news-sm==3.7.0) (2.4.8)\r\n",
      "Requirement already satisfied: catalogue<2.1.0,>=2.0.6 in /opt/conda/lib/python3.10/site-packages (from spacy<3.8.0,>=3.7.0->de-core-news-sm==3.7.0) (2.0.10)\r\n",
      "Requirement already satisfied: weasel<0.4.0,>=0.1.0 in /opt/conda/lib/python3.10/site-packages (from spacy<3.8.0,>=3.7.0->de-core-news-sm==3.7.0) (0.3.4)\r\n",
      "Requirement already satisfied: typer<0.10.0,>=0.3.0 in /opt/conda/lib/python3.10/site-packages (from spacy<3.8.0,>=3.7.0->de-core-news-sm==3.7.0) (0.9.0)\r\n",
      "Requirement already satisfied: smart-open<7.0.0,>=5.2.1 in /opt/conda/lib/python3.10/site-packages (from spacy<3.8.0,>=3.7.0->de-core-news-sm==3.7.0) (6.4.0)\r\n",
      "Requirement already satisfied: tqdm<5.0.0,>=4.38.0 in /opt/conda/lib/python3.10/site-packages (from spacy<3.8.0,>=3.7.0->de-core-news-sm==3.7.0) (4.66.1)\r\n",
      "Requirement already satisfied: requests<3.0.0,>=2.13.0 in /opt/conda/lib/python3.10/site-packages (from spacy<3.8.0,>=3.7.0->de-core-news-sm==3.7.0) (2.31.0)\r\n",
      "Requirement already satisfied: pydantic!=1.8,!=1.8.1,<3.0.0,>=1.7.4 in /opt/conda/lib/python3.10/site-packages (from spacy<3.8.0,>=3.7.0->de-core-news-sm==3.7.0) (2.5.3)\r\n",
      "Requirement already satisfied: jinja2 in /opt/conda/lib/python3.10/site-packages (from spacy<3.8.0,>=3.7.0->de-core-news-sm==3.7.0) (3.1.2)\r\n",
      "Requirement already satisfied: setuptools in /opt/conda/lib/python3.10/site-packages (from spacy<3.8.0,>=3.7.0->de-core-news-sm==3.7.0) (69.0.3)\r\n",
      "Requirement already satisfied: packaging>=20.0 in /opt/conda/lib/python3.10/site-packages (from spacy<3.8.0,>=3.7.0->de-core-news-sm==3.7.0) (21.3)\r\n",
      "Requirement already satisfied: langcodes<4.0.0,>=3.2.0 in /opt/conda/lib/python3.10/site-packages (from spacy<3.8.0,>=3.7.0->de-core-news-sm==3.7.0) (3.3.0)\r\n",
      "Requirement already satisfied: numpy>=1.19.0 in /opt/conda/lib/python3.10/site-packages (from spacy<3.8.0,>=3.7.0->de-core-news-sm==3.7.0) (1.26.4)\r\n",
      "Requirement already satisfied: pyparsing!=3.0.5,>=2.0.2 in /opt/conda/lib/python3.10/site-packages (from packaging>=20.0->spacy<3.8.0,>=3.7.0->de-core-news-sm==3.7.0) (3.1.1)\r\n",
      "Requirement already satisfied: annotated-types>=0.4.0 in /opt/conda/lib/python3.10/site-packages (from pydantic!=1.8,!=1.8.1,<3.0.0,>=1.7.4->spacy<3.8.0,>=3.7.0->de-core-news-sm==3.7.0) (0.6.0)\r\n",
      "Requirement already satisfied: pydantic-core==2.14.6 in /opt/conda/lib/python3.10/site-packages (from pydantic!=1.8,!=1.8.1,<3.0.0,>=1.7.4->spacy<3.8.0,>=3.7.0->de-core-news-sm==3.7.0) (2.14.6)\r\n",
      "Requirement already satisfied: typing-extensions>=4.6.1 in /opt/conda/lib/python3.10/site-packages (from pydantic!=1.8,!=1.8.1,<3.0.0,>=1.7.4->spacy<3.8.0,>=3.7.0->de-core-news-sm==3.7.0) (4.9.0)\r\n",
      "Requirement already satisfied: charset-normalizer<4,>=2 in /opt/conda/lib/python3.10/site-packages (from requests<3.0.0,>=2.13.0->spacy<3.8.0,>=3.7.0->de-core-news-sm==3.7.0) (3.3.2)\r\n",
      "Requirement already satisfied: idna<4,>=2.5 in /opt/conda/lib/python3.10/site-packages (from requests<3.0.0,>=2.13.0->spacy<3.8.0,>=3.7.0->de-core-news-sm==3.7.0) (3.6)\r\n",
      "Requirement already satisfied: urllib3<3,>=1.21.1 in /opt/conda/lib/python3.10/site-packages (from requests<3.0.0,>=2.13.0->spacy<3.8.0,>=3.7.0->de-core-news-sm==3.7.0) (1.26.18)\r\n",
      "Requirement already satisfied: certifi>=2017.4.17 in /opt/conda/lib/python3.10/site-packages (from requests<3.0.0,>=2.13.0->spacy<3.8.0,>=3.7.0->de-core-news-sm==3.7.0) (2024.2.2)\r\n",
      "Requirement already satisfied: blis<0.8.0,>=0.7.8 in /opt/conda/lib/python3.10/site-packages (from thinc<8.3.0,>=8.1.8->spacy<3.8.0,>=3.7.0->de-core-news-sm==3.7.0) (0.7.10)\r\n",
      "Requirement already satisfied: confection<1.0.0,>=0.0.1 in /opt/conda/lib/python3.10/site-packages (from thinc<8.3.0,>=8.1.8->spacy<3.8.0,>=3.7.0->de-core-news-sm==3.7.0) (0.1.4)\r\n",
      "Requirement already satisfied: click<9.0.0,>=7.1.1 in /opt/conda/lib/python3.10/site-packages (from typer<0.10.0,>=0.3.0->spacy<3.8.0,>=3.7.0->de-core-news-sm==3.7.0) (8.1.7)\r\n",
      "Requirement already satisfied: cloudpathlib<0.17.0,>=0.7.0 in /opt/conda/lib/python3.10/site-packages (from weasel<0.4.0,>=0.1.0->spacy<3.8.0,>=3.7.0->de-core-news-sm==3.7.0) (0.16.0)\r\n",
      "Requirement already satisfied: MarkupSafe>=2.0 in /opt/conda/lib/python3.10/site-packages (from jinja2->spacy<3.8.0,>=3.7.0->de-core-news-sm==3.7.0) (2.1.3)\r\n",
      "Installing collected packages: de-core-news-sm\r\n",
      "Successfully installed de-core-news-sm-3.7.0\r\n",
      "\u001b[38;5;2m✔ Download and installation successful\u001b[0m\r\n",
      "You can now load the package via spacy.load('de_core_news_sm')\r\n"
     ]
    }
   ],
   "source": [
    "!python -m spacy download en_core_web_sm\n",
    "!python -m spacy download de_core_news_sm"
   ]
  },
  {
   "cell_type": "code",
   "execution_count": 11,
   "id": "0ec6006e",
   "metadata": {
    "execution": {
     "iopub.execute_input": "2024-04-16T15:04:31.010238Z",
     "iopub.status.busy": "2024-04-16T15:04:31.009870Z",
     "iopub.status.idle": "2024-04-16T15:04:31.014674Z",
     "shell.execute_reply": "2024-04-16T15:04:31.013946Z"
    },
    "papermill": {
     "duration": 0.023431,
     "end_time": "2024-04-16T15:04:31.016586",
     "exception": false,
     "start_time": "2024-04-16T15:04:30.993155",
     "status": "completed"
    },
    "tags": []
   },
   "outputs": [],
   "source": [
    "import torch"
   ]
  },
  {
   "cell_type": "code",
   "execution_count": 12,
   "id": "c5762e2d",
   "metadata": {
    "execution": {
     "iopub.execute_input": "2024-04-16T15:04:31.047477Z",
     "iopub.status.busy": "2024-04-16T15:04:31.047198Z",
     "iopub.status.idle": "2024-04-16T15:04:31.051362Z",
     "shell.execute_reply": "2024-04-16T15:04:31.050607Z"
    },
    "papermill": {
     "duration": 0.021682,
     "end_time": "2024-04-16T15:04:31.053304",
     "exception": false,
     "start_time": "2024-04-16T15:04:31.031622",
     "status": "completed"
    },
    "tags": []
   },
   "outputs": [],
   "source": [
    "device = torch.device('cuda' if torch.cuda.is_available() else 'cpu')"
   ]
  },
  {
   "cell_type": "code",
   "execution_count": 13,
   "id": "8d8e63e8",
   "metadata": {
    "execution": {
     "iopub.execute_input": "2024-04-16T15:04:31.084640Z",
     "iopub.status.busy": "2024-04-16T15:04:31.084305Z",
     "iopub.status.idle": "2024-04-16T15:04:37.685006Z",
     "shell.execute_reply": "2024-04-16T15:04:37.684205Z"
    },
    "papermill": {
     "duration": 6.61908,
     "end_time": "2024-04-16T15:04:37.687418",
     "exception": false,
     "start_time": "2024-04-16T15:04:31.068338",
     "status": "completed"
    },
    "tags": []
   },
   "outputs": [],
   "source": [
    "import torchdata.datapipes as dp\n",
    "import torchtext.transforms as T\n",
    "import spacy\n",
    "import random\n",
    "from torchtext.vocab import build_vocab_from_iterator\n",
    "eng = spacy.load(\"en_core_web_sm\") # Load the English model to tokenize English text\n",
    "de = spacy.load(\"de_core_news_sm\") # Load the German model to tokenize German text"
   ]
  },
  {
   "cell_type": "code",
   "execution_count": 14,
   "id": "961f4431",
   "metadata": {
    "execution": {
     "iopub.execute_input": "2024-04-16T15:04:37.719179Z",
     "iopub.status.busy": "2024-04-16T15:04:37.718579Z",
     "iopub.status.idle": "2024-04-16T15:04:38.015627Z",
     "shell.execute_reply": "2024-04-16T15:04:38.014622Z"
    },
    "papermill": {
     "duration": 0.315532,
     "end_time": "2024-04-16T15:04:38.018148",
     "exception": false,
     "start_time": "2024-04-16T15:04:37.702616",
     "status": "completed"
    },
    "tags": []
   },
   "outputs": [],
   "source": [
    "import random\n",
    "\n",
    "def split_dataset(input_file, train_file, test_file, train_percent):\n",
    "    with open(input_file, 'r') as file:\n",
    "        lines = file.readlines()  \n",
    "\n",
    "    total_lines = len(lines)\n",
    "    train_lines = int(total_lines * train_percent)\n",
    "    test_lines = total_lines - train_lines\n",
    "\n",
    "\n",
    "    random.shuffle(lines)\n",
    "\n",
    "    with open(train_file, 'w') as train:\n",
    "        for line in lines[:train_lines]:\n",
    "            train.write(line)\n",
    "\n",
    "    with open(test_file, 'w') as test:\n",
    "        for line in lines[train_lines:]:\n",
    "            test.write(line)\n",
    "\n",
    "\n",
    "input_file = '/kaggle/working/deu.txt'\n",
    "\n",
    "\n",
    "train_file = 'shiny_train.txt'\n",
    "test_file = 'shiny_test.txt'\n",
    "\n",
    "train_percent = 0.8\n",
    "\n",
    "split_dataset(input_file, train_file, test_file, train_percent)"
   ]
  },
  {
   "cell_type": "code",
   "execution_count": 15,
   "id": "113da505",
   "metadata": {
    "execution": {
     "iopub.execute_input": "2024-04-16T15:04:38.049530Z",
     "iopub.status.busy": "2024-04-16T15:04:38.049201Z",
     "iopub.status.idle": "2024-04-16T15:04:38.054042Z",
     "shell.execute_reply": "2024-04-16T15:04:38.053177Z"
    },
    "papermill": {
     "duration": 0.022598,
     "end_time": "2024-04-16T15:04:38.055950",
     "exception": false,
     "start_time": "2024-04-16T15:04:38.033352",
     "status": "completed"
    },
    "tags": []
   },
   "outputs": [],
   "source": [
    "FILE_PATH = '/kaggle/working/shiny_train.txt'\n",
    "data_pipe = dp.iter.IterableWrapper([FILE_PATH])\n",
    "data_pipe = dp.iter.FileOpener(data_pipe, mode='rb')\n",
    "data_pipe = data_pipe.parse_csv(skip_lines=1, delimiter='\\t', as_tuple=True)"
   ]
  },
  {
   "cell_type": "code",
   "execution_count": 16,
   "id": "61e8583d",
   "metadata": {
    "execution": {
     "iopub.execute_input": "2024-04-16T15:04:38.087350Z",
     "iopub.status.busy": "2024-04-16T15:04:38.087055Z",
     "iopub.status.idle": "2024-04-16T15:04:38.092350Z",
     "shell.execute_reply": "2024-04-16T15:04:38.091463Z"
    },
    "papermill": {
     "duration": 0.023353,
     "end_time": "2024-04-16T15:04:38.094251",
     "exception": false,
     "start_time": "2024-04-16T15:04:38.070898",
     "status": "completed"
    },
    "tags": []
   },
   "outputs": [
    {
     "name": "stdout",
     "output_type": "stream",
     "text": [
      "(\"Mary isn't my girlfriend anymore.\", 'Ich bin nicht mehr mit Maria zusammen.')\n"
     ]
    }
   ],
   "source": [
    "for sample in data_pipe:\n",
    "    print(sample)\n",
    "    break"
   ]
  },
  {
   "cell_type": "code",
   "execution_count": 17,
   "id": "3258beda",
   "metadata": {
    "execution": {
     "iopub.execute_input": "2024-04-16T15:04:38.125457Z",
     "iopub.status.busy": "2024-04-16T15:04:38.124771Z",
     "iopub.status.idle": "2024-04-16T15:04:38.130020Z",
     "shell.execute_reply": "2024-04-16T15:04:38.129235Z"
    },
    "papermill": {
     "duration": 0.022964,
     "end_time": "2024-04-16T15:04:38.131990",
     "exception": false,
     "start_time": "2024-04-16T15:04:38.109026",
     "status": "completed"
    },
    "tags": []
   },
   "outputs": [],
   "source": [
    "def engTokenize(text):\n",
    "    \"\"\"\n",
    "    Tokenize an English text and return a list of tokens\n",
    "    \"\"\"\n",
    "    return [token.text for token in eng.tokenizer(text)]\n",
    "\n",
    "def deTokenize(text):\n",
    "    \"\"\"\n",
    "    Tokenize a German text and return a list of tokens\n",
    "    \"\"\"\n",
    "    return [token.text for token in de.tokenizer(text)]"
   ]
  },
  {
   "cell_type": "code",
   "execution_count": 18,
   "id": "8984a9df",
   "metadata": {
    "execution": {
     "iopub.execute_input": "2024-04-16T15:04:38.162907Z",
     "iopub.status.busy": "2024-04-16T15:04:38.162630Z",
     "iopub.status.idle": "2024-04-16T15:04:38.168111Z",
     "shell.execute_reply": "2024-04-16T15:04:38.167318Z"
    },
    "papermill": {
     "duration": 0.023236,
     "end_time": "2024-04-16T15:04:38.169997",
     "exception": false,
     "start_time": "2024-04-16T15:04:38.146761",
     "status": "completed"
    },
    "tags": []
   },
   "outputs": [
    {
     "name": "stdout",
     "output_type": "stream",
     "text": [
      "['Have', 'a', 'good', 'day', '!', '!', '!']\n",
      "['Haben', 'Sie', 'einen', 'guten', 'Tag', '!', '!', '!']\n"
     ]
    }
   ],
   "source": [
    "print(engTokenize(\"Have a good day!!!\"))\n",
    "print(deTokenize(\"Haben Sie einen guten Tag!!!\"))"
   ]
  },
  {
   "cell_type": "code",
   "execution_count": 19,
   "id": "41b30faf",
   "metadata": {
    "execution": {
     "iopub.execute_input": "2024-04-16T15:04:38.200907Z",
     "iopub.status.busy": "2024-04-16T15:04:38.200615Z",
     "iopub.status.idle": "2024-04-16T15:04:38.205394Z",
     "shell.execute_reply": "2024-04-16T15:04:38.204591Z"
    },
    "papermill": {
     "duration": 0.022338,
     "end_time": "2024-04-16T15:04:38.207276",
     "exception": false,
     "start_time": "2024-04-16T15:04:38.184938",
     "status": "completed"
    },
    "tags": []
   },
   "outputs": [],
   "source": [
    "def getTokens(data_iter, place):\n",
    "    \"\"\"\n",
    "    Function to yield tokens from an iterator. Since, our iterator contains\n",
    "    tuple of sentences (source and target), `place` parameters defines for which\n",
    "    index to return the tokens for. `place=0` for source and `place=1` for target\n",
    "    \"\"\"\n",
    "    for english, german in data_iter:\n",
    "        if place == 0:\n",
    "            yield engTokenize(english)\n",
    "        else:\n",
    "            yield deTokenize(german)"
   ]
  },
  {
   "cell_type": "code",
   "execution_count": 20,
   "id": "4f45175f",
   "metadata": {
    "execution": {
     "iopub.execute_input": "2024-04-16T15:04:38.238260Z",
     "iopub.status.busy": "2024-04-16T15:04:38.237995Z",
     "iopub.status.idle": "2024-04-16T15:04:44.573331Z",
     "shell.execute_reply": "2024-04-16T15:04:44.572267Z"
    },
    "papermill": {
     "duration": 6.35346,
     "end_time": "2024-04-16T15:04:44.575790",
     "exception": false,
     "start_time": "2024-04-16T15:04:38.222330",
     "status": "completed"
    },
    "tags": []
   },
   "outputs": [],
   "source": [
    "source_vocab = build_vocab_from_iterator(\n",
    "    getTokens(data_pipe,0),\n",
    "    min_freq=2,\n",
    "    specials= ['<pad>', '<sos>', '<eos>', '<unk>'],\n",
    "    special_first=True\n",
    ")\n",
    "source_vocab.set_default_index(source_vocab['<unk>'])"
   ]
  },
  {
   "cell_type": "code",
   "execution_count": 21,
   "id": "9812658b",
   "metadata": {
    "execution": {
     "iopub.execute_input": "2024-04-16T15:04:44.608394Z",
     "iopub.status.busy": "2024-04-16T15:04:44.607593Z",
     "iopub.status.idle": "2024-04-16T15:04:52.644826Z",
     "shell.execute_reply": "2024-04-16T15:04:52.643991Z"
    },
    "papermill": {
     "duration": 8.05604,
     "end_time": "2024-04-16T15:04:52.647301",
     "exception": false,
     "start_time": "2024-04-16T15:04:44.591261",
     "status": "completed"
    },
    "tags": []
   },
   "outputs": [],
   "source": [
    "target_vocab = build_vocab_from_iterator(\n",
    "    getTokens(data_pipe,1),\n",
    "    min_freq=2,\n",
    "    specials= ['<pad>', '<sos>', '<eos>', '<unk>'],\n",
    "    special_first=True\n",
    ")\n",
    "target_vocab.set_default_index(target_vocab['<unk>'])"
   ]
  },
  {
   "cell_type": "code",
   "execution_count": 22,
   "id": "1596cbe4",
   "metadata": {
    "execution": {
     "iopub.execute_input": "2024-04-16T15:04:52.727684Z",
     "iopub.status.busy": "2024-04-16T15:04:52.726807Z",
     "iopub.status.idle": "2024-04-16T15:04:52.733008Z",
     "shell.execute_reply": "2024-04-16T15:04:52.732092Z"
    },
    "papermill": {
     "duration": 0.024451,
     "end_time": "2024-04-16T15:04:52.735085",
     "exception": false,
     "start_time": "2024-04-16T15:04:52.710634",
     "status": "completed"
    },
    "tags": []
   },
   "outputs": [
    {
     "name": "stdout",
     "output_type": "stream",
     "text": [
      "['<pad>', '<sos>', '<eos>', '<unk>', '.', 'I', 'Tom', 'to', 'you']\n"
     ]
    }
   ],
   "source": [
    "print(source_vocab.get_itos()[:9])"
   ]
  },
  {
   "cell_type": "code",
   "execution_count": 23,
   "id": "ad1a00d2",
   "metadata": {
    "execution": {
     "iopub.execute_input": "2024-04-16T15:04:52.767626Z",
     "iopub.status.busy": "2024-04-16T15:04:52.767373Z",
     "iopub.status.idle": "2024-04-16T15:04:52.772685Z",
     "shell.execute_reply": "2024-04-16T15:04:52.771882Z"
    },
    "papermill": {
     "duration": 0.024119,
     "end_time": "2024-04-16T15:04:52.774610",
     "exception": false,
     "start_time": "2024-04-16T15:04:52.750491",
     "status": "completed"
    },
    "tags": []
   },
   "outputs": [],
   "source": [
    "def getTransform(vocab):\n",
    "    \"\"\"\n",
    "    Create transforms based on given vocabulary. The returned transform is applied to sequence\n",
    "    of tokens.\n",
    "    \"\"\"\n",
    "    text_tranform = T.Sequential(\n",
    "        ## converts the sentences to indices based on given vocabulary\n",
    "        T.VocabTransform(vocab=vocab),\n",
    "        ## Add <sos> at beginning of each sentence. 1 because the index for <sos> in vocabulary is\n",
    "        # 1 as seen in previous section\n",
    "        T.AddToken(1, begin=True),\n",
    "        ## Add <eos> at beginning of each sentence. 2 because the index for <eos> in vocabulary is\n",
    "        # 2 as seen in previous section\n",
    "        T.AddToken(2, begin=False)\n",
    "    )\n",
    "    return text_tranform"
   ]
  },
  {
   "cell_type": "code",
   "execution_count": 24,
   "id": "cbc79f69",
   "metadata": {
    "execution": {
     "iopub.execute_input": "2024-04-16T15:04:52.806536Z",
     "iopub.status.busy": "2024-04-16T15:04:52.806268Z",
     "iopub.status.idle": "2024-04-16T15:04:53.500634Z",
     "shell.execute_reply": "2024-04-16T15:04:53.499334Z"
    },
    "papermill": {
     "duration": 0.712765,
     "end_time": "2024-04-16T15:04:53.502903",
     "exception": false,
     "start_time": "2024-04-16T15:04:52.790138",
     "status": "completed"
    },
    "tags": []
   },
   "outputs": [
    {
     "name": "stdout",
     "output_type": "stream",
     "text": [
      "Some sentence= I want you to help me clean it up.\n",
      "Transformed sentence=[1, 5, 46, 8, 7, 94, 21, 694, 23, 67, 4, 2]\n",
      "<sos> I want you to help me clean it up . <eos> "
     ]
    }
   ],
   "source": [
    "temp_list = list(data_pipe)\n",
    "some_sentence = temp_list[798][0]\n",
    "print(\"Some sentence= \", end=\"\")\n",
    "print(some_sentence)\n",
    "transformed_sentence = getTransform(source_vocab)(engTokenize(some_sentence))\n",
    "print(\"Transformed sentence=\", end=\"\")\n",
    "print(transformed_sentence)\n",
    "index_to_string = source_vocab.get_itos()\n",
    "for index in transformed_sentence:\n",
    "    print(index_to_string[index], end=\" \")"
   ]
  },
  {
   "cell_type": "code",
   "execution_count": 25,
   "id": "8c3fa578",
   "metadata": {
    "execution": {
     "iopub.execute_input": "2024-04-16T15:04:53.536600Z",
     "iopub.status.busy": "2024-04-16T15:04:53.536271Z",
     "iopub.status.idle": "2024-04-16T15:05:35.440824Z",
     "shell.execute_reply": "2024-04-16T15:05:35.439886Z"
    },
    "papermill": {
     "duration": 41.938197,
     "end_time": "2024-04-16T15:05:35.458363",
     "exception": false,
     "start_time": "2024-04-16T15:04:53.520166",
     "status": "completed"
    },
    "tags": []
   },
   "outputs": [
    {
     "name": "stdout",
     "output_type": "stream",
     "text": [
      "([1, 28, 13, 12, 41, 707, 314, 4, 2], [1, 7, 54, 9, 78, 29, 39, 298, 4, 2])\n"
     ]
    }
   ],
   "source": [
    "def applyTransform(sequence_pair):\n",
    "    \"\"\"\n",
    "    Apply transforms to sequence of tokens in a sequence pair\n",
    "    \"\"\"\n",
    "\n",
    "    return (\n",
    "        getTransform(source_vocab)(engTokenize(sequence_pair[0])),\n",
    "        getTransform(target_vocab)(deTokenize(sequence_pair[1]))\n",
    "    )\n",
    "data_pipe = data_pipe.map(applyTransform) ## Apply the function to each element in the iterator\n",
    "temp_list = list(data_pipe)\n",
    "print(temp_list[0])"
   ]
  },
  {
   "cell_type": "code",
   "execution_count": 26,
   "id": "c4977fa8",
   "metadata": {
    "execution": {
     "iopub.execute_input": "2024-04-16T15:05:35.489850Z",
     "iopub.status.busy": "2024-04-16T15:05:35.489530Z",
     "iopub.status.idle": "2024-04-16T15:05:35.494253Z",
     "shell.execute_reply": "2024-04-16T15:05:35.493509Z"
    },
    "papermill": {
     "duration": 0.022517,
     "end_time": "2024-04-16T15:05:35.496082",
     "exception": false,
     "start_time": "2024-04-16T15:05:35.473565",
     "status": "completed"
    },
    "tags": []
   },
   "outputs": [],
   "source": [
    "def sortBucket(bucket):\n",
    "    \"\"\"\n",
    "    Function to sort a given bucket. Here, we want to sort based on the length of\n",
    "    source and target sequence.\n",
    "    \"\"\"\n",
    "    return sorted(bucket, key=lambda x: (len(x[0]), len(x[1])))"
   ]
  },
  {
   "cell_type": "code",
   "execution_count": 27,
   "id": "06b073ca",
   "metadata": {
    "execution": {
     "iopub.execute_input": "2024-04-16T15:05:35.527625Z",
     "iopub.status.busy": "2024-04-16T15:05:35.526986Z",
     "iopub.status.idle": "2024-04-16T15:05:35.532584Z",
     "shell.execute_reply": "2024-04-16T15:05:35.531755Z"
    },
    "papermill": {
     "duration": 0.023391,
     "end_time": "2024-04-16T15:05:35.534516",
     "exception": false,
     "start_time": "2024-04-16T15:05:35.511125",
     "status": "completed"
    },
    "tags": []
   },
   "outputs": [
    {
     "name": "stdout",
     "output_type": "stream",
     "text": [
      "(['hello', 'world'], ['hallo', 'welt'])\n",
      "(['how', 'are', 'you'], ['wie', 'geht', 'es', 'dir'])\n",
      "(['this', 'is', 'a', 'test'], ['das', 'ist', 'ein', 'test'])\n"
     ]
    }
   ],
   "source": [
    "bucket = [\n",
    "    (['how', 'are', 'you'], ['wie', 'geht', 'es', 'dir']),\n",
    "    (['hello', 'world'], ['hallo', 'welt']),\n",
    "    (['this', 'is', 'a', 'test'], ['das', 'ist', 'ein', 'test'])\n",
    "]\n",
    "\n",
    "sorted_data = sortBucket(bucket)\n",
    "\n",
    "for item in sorted_data:\n",
    "    print(item)"
   ]
  },
  {
   "cell_type": "code",
   "execution_count": 28,
   "id": "fbb2b692",
   "metadata": {
    "execution": {
     "iopub.execute_input": "2024-04-16T15:05:35.566188Z",
     "iopub.status.busy": "2024-04-16T15:05:35.565696Z",
     "iopub.status.idle": "2024-04-16T15:05:35.570039Z",
     "shell.execute_reply": "2024-04-16T15:05:35.569245Z"
    },
    "papermill": {
     "duration": 0.022202,
     "end_time": "2024-04-16T15:05:35.571816",
     "exception": false,
     "start_time": "2024-04-16T15:05:35.549614",
     "status": "completed"
    },
    "tags": []
   },
   "outputs": [],
   "source": [
    "data_pipe = data_pipe.bucketbatch(\n",
    "    batch_size = 128, batch_num=5,  bucket_num=1,\n",
    "    use_in_batch_shuffle=False, sort_key=sortBucket\n",
    ")"
   ]
  },
  {
   "cell_type": "code",
   "execution_count": 29,
   "id": "d709c7db",
   "metadata": {
    "execution": {
     "iopub.execute_input": "2024-04-16T15:05:35.603777Z",
     "iopub.status.busy": "2024-04-16T15:05:35.603287Z",
     "iopub.status.idle": "2024-04-16T15:06:18.326565Z",
     "shell.execute_reply": "2024-04-16T15:06:18.325442Z"
    },
    "papermill": {
     "duration": 42.75726,
     "end_time": "2024-04-16T15:06:18.344339",
     "exception": false,
     "start_time": "2024-04-16T15:05:35.587079",
     "status": "completed"
    },
    "tags": []
   },
   "outputs": [
    {
     "name": "stdout",
     "output_type": "stream",
     "text": [
      "[([1, 6, 1051, 4, 2], [1, 6, 1660, 196, 4, 2]), ([1, 3106, 80, 4, 2], [1, 2396, 439, 63, 4, 2]), ([1, 467, 155, 4, 2], [1, 1217, 12, 161, 4, 2]), ([1, 4579, 9, 4655, 4, 2], [1, 14849, 25, 2]), ([1, 8589, 83, 1284, 4, 2], [1, 6307, 487, 1866, 4, 2]), ([1, 59, 13, 3674, 4, 2], [1, 28, 19, 14008, 4, 2]), ([1, 503, 222, 123, 4, 2], [1, 608, 85, 116, 4, 2]), ([1, 25, 63, 824, 4, 2], [1, 40, 185, 2632, 4, 2]), ([1, 6, 14, 446, 4, 2], [1, 6, 10, 807, 4, 2]), ([1, 25, 53, 466, 4, 2], [1, 40, 98, 1898, 4, 2]), ([1, 6, 13, 3, 4, 2], [1, 6, 6416, 61, 4, 2]), ([1, 26, 652, 4119, 4, 2], [1, 23, 89, 9554, 4, 2]), ([1, 1023, 11, 984, 4, 2], [1, 10545, 35, 552, 25, 2]), ([1, 6, 13, 3, 4, 2], [1, 6, 10, 2732, 4, 2]), ([1, 76, 1585, 1046, 4, 2], [1, 28, 1338, 12052, 4, 2]), ([1, 6, 1986, 28, 4, 2], [1, 6, 1489, 111, 4, 2]), ([1, 6, 13, 81, 4, 2], [1, 6, 10, 4247, 4, 2]), ([1, 107, 3049, 834, 10, 2], [1, 375, 4392, 16310, 8, 2]), ([1, 107, 8, 2711, 10, 2], [1, 270, 13, 4297, 8, 2]), ([1, 59, 13, 402, 4, 2], [1, 28, 10, 317, 4, 2]), ([1, 25, 53, 8920, 4, 2], [1, 108, 362, 16543, 4, 2]), ([1, 5, 738, 117, 4, 2], [1, 7, 1057, 3947, 4, 2]), ([1, 76, 917, 4461, 4, 2], [1, 28, 1173, 16884, 4, 2]), ([1, 107, 8, 950, 10, 2], [1, 270, 13, 960, 8, 2]), ([1, 8366, 29, 3229, 4, 2], [1, 14872, 236, 3375, 4, 2]), ([1, 42, 14, 1008, 4, 2], [1, 37, 10, 1578, 4, 2]), ([1, 39, 53, 2438, 4, 2], [1, 38, 51, 1198, 4, 2]), ([1, 5, 137, 4948, 4, 2], [1, 7, 54, 3, 4, 2]), ([1, 456, 30, 66, 4, 2], [1, 257, 56, 103, 4, 2]), ([1, 42, 14, 328, 4, 2], [1, 37, 10, 1455, 4, 2]), ([1, 201, 14, 3, 10, 2], [1, 211, 11937, 26, 3530, 8, 2]), ([1, 27, 1566, 1973, 4, 2], [1, 67, 7869, 19, 4273, 4, 2]), ([1, 5, 812, 321, 4, 2], [1, 7, 143, 413, 334, 4, 2]), ([1, 5, 213, 8, 4, 2], [1, 7, 24, 102, 159, 4, 2]), ([1, 127, 94, 21, 4, 2], [1, 4702, 12, 27, 125, 4, 2]), ([1, 5, 45, 340, 4, 2], [1, 7, 54, 435, 140, 4, 2]), ([1, 6, 509, 1062, 4, 2], [1, 6, 559, 17, 11, 1128, 4, 2]), ([1, 5, 169, 1747, 4, 2], [1, 7, 463, 17, 11, 976, 4, 2]), ([1, 6, 776, 528, 4, 2], [1, 6, 701, 1025, 11, 57, 4, 2]), ([1, 6, 717, 1849, 4, 2], [1, 6, 1541, 17, 11, 4323, 4, 2]), ([1, 5, 546, 3206, 4, 2], [1, 7, 24, 31, 3681, 3689, 4, 2]), ([1, 50, 2794, 21, 4, 2], [1, 12, 19, 27, 32, 5742, 491, 4, 2]), ([1, 6, 19, 911, 4, 2], [1, 6, 1293, 17, 29, 22, 348, 11, 76, 4, 2]), ([1, 7046, 174, 3300, 4, 2], [1, 10624, 41, 5, 503, 13, 204, 206, 678, 25, 2]), ([1, 39, 53, 547, 117, 4, 2], [1, 38, 260, 129, 4, 2]), ([1, 5, 44, 2808, 490, 4, 2], [1, 7, 143, 13479, 4, 2]), ([1, 6, 13, 11, 587, 4, 2], [1, 6, 10, 1200, 4, 2]), ([1, 26, 13, 157, 395, 4, 2], [1, 23, 1017, 923, 4, 2]), ([1, 5, 45, 1263, 29, 4, 2], [1, 7, 3511, 14, 4, 2]), ([1, 6, 376, 17, 3050, 4, 2], [1, 6, 702, 13426, 4, 2]), ([1, 39, 53, 337, 23, 4, 2], [1, 38, 424, 14, 4, 2]), ([1, 6, 204, 7, 1698, 4, 2], [1, 6, 150, 2820, 4, 2]), ([1, 116, 6, 337, 154, 10, 2], [1, 3, 26, 6, 8, 2]), ([1, 455, 240, 7, 21, 4, 2], [1, 441, 49, 27, 25, 2]), ([1, 35, 8, 218, 60, 10, 2], [1, 6369, 13, 70, 8, 2]), ([1, 2100, 44, 7, 181, 4, 2], [1, 784, 291, 114, 4, 2]), ([1, 459, 6, 56, 23, 4, 2], [1, 2209, 17, 6, 4, 2]), ([1, 313, 1580, 13, 2513, 4, 2], [1, 647, 1369, 5435, 4, 2]), ([1, 25, 22, 7, 454, 4, 2], [1, 40, 231, 927, 25, 2]), ([1, 93, 64, 1277, 302, 10, 2], [1, 91, 7992, 477, 8, 2]), ([1, 39, 53, 1745, 66, 4, 2], [1, 38, 2592, 468, 103, 4, 2]), ([1, 25, 83, 41, 280, 4, 2], [1, 40, 654, 131, 272, 4, 2]), ([1, 5, 91, 821, 8, 4, 2], [1, 7, 182, 102, 1392, 4, 2]), ([1, 5, 47, 30, 220, 4, 2], [1, 7, 373, 276, 374, 4, 2]), ([1, 59, 13, 12, 3325, 4, 2], [1, 28, 10, 9, 8245, 4, 2]), ([1, 6, 13, 65, 3, 4, 2], [1, 6, 10, 68, 16981, 4, 2]), ([1, 76, 14, 65, 81, 4, 2], [1, 28, 10, 68, 79, 4, 2]), ([1, 27, 299, 13, 954, 4, 2], [1, 67, 360, 10, 6746, 4, 2]), ([1, 76, 14, 121, 4199, 4, 2], [1, 28, 10, 155, 4651, 25, 2]), ([1, 50, 3, 24, 123, 4, 2], [1, 12, 3, 61, 116, 4, 2]), ([1, 27, 2054, 13, 347, 4, 2], [1, 53, 6738, 10, 1752, 4, 2]), ([1, 5, 213, 7, 23, 4, 2], [1, 7, 24, 429, 5112, 4, 2]), ([1, 77, 13, 18, 525, 10, 2], [1, 73, 10, 14, 562, 8, 2]), ([1, 5, 44, 9, 221, 4, 2], [1, 7, 143, 32, 217, 4, 2]), ([1, 59, 2615, 13, 3, 4, 2], [1, 195, 4930, 10, 3, 4, 2]), ([1, 79, 22, 323, 333, 4, 2], [1, 12, 50, 1547, 340, 4, 2]), ([1, 6, 19, 40, 5968, 4, 2], [1, 6, 34, 126, 3, 4, 2]), ([1, 93, 13, 18, 81, 10, 2], [1, 91, 10, 14, 79, 8, 2]), ([1, 25, 69, 261, 126, 4, 2], [1, 40, 74, 72, 350, 4, 2]), ([1, 25, 272, 34, 948, 4, 2], [1, 384, 74, 13, 899, 4, 2]), ([1, 515, 298, 13, 255, 4, 2], [1, 872, 320, 19, 1746, 4, 2]), ([1, 313, 189, 509, 8, 4, 2], [1, 719, 170, 559, 52, 4, 2]), ([1, 79, 43, 12, 535, 4, 2], [1, 12, 50, 9, 5217, 4, 2]), ([1, 42, 14, 44, 2409, 4, 2], [1, 37, 10, 59, 14861, 4, 2]), ([1, 116, 18, 88, 595, 10, 2], [1, 147, 14, 21, 3223, 8, 2]), ([1, 6, 539, 113, 112, 4, 2], [1, 6, 509, 11, 93, 4, 2]), ([1, 26, 102, 109, 114, 4, 2], [1, 23, 10, 137, 6524, 4, 2]), ([1, 5, 45, 97, 194, 4, 2], [1, 7, 54, 55, 246, 4, 2]), ([1, 8542, 3, 33, 7225, 4, 2], [1, 14007, 3, 29, 7539, 4, 2]), ([1, 85, 3125, 13, 679, 4, 2], [1, 136, 12539, 10, 1503, 4, 2]), ([1, 49, 43, 6, 643, 10, 2], [1, 62, 19, 6, 1249, 8, 2]), ([1, 6, 52, 8946, 9709, 4, 2], [1, 6, 19, 3, 3, 4, 2]), ([1, 270, 169, 1092, 303, 4, 2], [1, 489, 879, 10, 3, 4, 2]), ([1, 107, 188, 121, 1462, 10, 2], [1, 375, 49, 155, 1417, 8, 2]), ([1, 6, 52, 81, 3, 4, 2], [1, 6, 19, 290, 3, 4, 2]), ([1, 5, 254, 11, 1011, 4, 2], [1, 7, 1100, 35, 4482, 4, 2]), ([1, 59, 72, 15, 7781, 4, 2], [1, 3939, 66, 17, 2129, 4, 2]), ([1, 1571, 30, 599, 220, 4, 2], [1, 1383, 12, 541, 3913, 374, 25, 2]), ([1, 6, 109, 3505, 1088, 4, 2], [1, 6, 89, 84, 5318, 3844, 4, 2]), ([1, 39, 63, 946, 650, 4, 2], [1, 38, 119, 117, 305, 1418, 4, 2]), ([1, 549, 605, 2704, 67, 4, 2], [1, 108, 817, 11778, 26, 30, 4, 2]), ([1, 26, 509, 520, 4873, 4, 2], [1, 23, 160, 241, 30, 2691, 4, 2]), ([1, 77, 56, 11, 378, 10, 2], [1, 73, 4118, 29, 113, 1559, 8, 2]), ([1, 6, 13, 12, 10080, 4, 2], [1, 6, 385, 9, 303, 3, 4, 2]), ([1, 6, 211, 12, 1129, 4, 2], [1, 6, 66, 189, 755, 50, 4, 2]), ([1, 455, 21, 196, 396, 4, 2], [1, 441, 27, 97, 223, 448, 25, 2]), ([1, 116, 29, 30, 1112, 10, 2], [1, 147, 14, 70, 108, 484, 8, 2]), ([1, 6, 13, 168, 1323, 4, 2], [1, 6, 10, 60, 88, 1523, 4, 2]), ([1, 6, 1209, 11, 635, 4, 2], [1, 6, 19, 21, 622, 1860, 4, 2]), ([1, 1096, 30, 212, 2752, 4, 2], [1, 1885, 12, 541, 464, 5047, 30, 25, 2]), ([1, 572, 48, 18, 156, 4, 2], [1, 900, 56, 14, 168, 215, 41, 25, 2]), ([1, 5, 1077, 41, 6391, 4, 2], [1, 7, 50, 181, 8944, 1204, 210, 4, 2]), ([1, 6, 1363, 33, 7624, 4, 2], [1, 6, 19, 156, 1975, 29, 10195, 1387, 4, 2]), ([1, 305, 82, 400, 6648, 10, 2], [1, 420, 71, 65, 303, 725, 357, 465, 8, 2]), ([1, 141, 8, 287, 136, 10, 2], [1, 306, 13, 52, 41, 2986, 72, 614, 8, 2]), ([1, 736, 24, 951, 21, 4, 2], [1, 416, 5, 18, 12, 26, 47, 31, 103, 457, 4, 2]), ([1, 85, 3, 83, 73, 562, 4, 2], [1, 329, 3, 3893, 4, 2]), ([1, 26, 14, 11, 208, 5991, 4, 2], [1, 23, 10, 397, 3, 4, 2]), ([1, 517, 71, 17, 41, 262, 164, 2], [1, 5037, 63, 248, 221, 25, 2]), ([1, 5, 69, 109, 88, 294, 4, 2], [1, 7, 24, 35, 528, 4, 2]), ([1, 326, 6, 218, 16, 139, 10, 2], [1, 4018, 6, 20, 128, 8, 2]), ([1, 35, 8, 22, 88, 1240, 10, 2], [1, 219, 12, 43, 1745, 8, 2]), ([1, 93, 38, 8, 74, 71, 10, 2], [1, 91, 600, 13, 63, 8, 2]), ([1, 25, 15, 12, 1529, 60, 4, 2], [1, 40, 9538, 9, 771, 4, 2]), ([1, 5, 137, 4696, 9, 443, 4, 2], [1, 7, 3, 14, 580, 4, 2]), ([1, 581, 8, 24, 30, 1916, 4, 2], [1, 416, 47, 108, 4473, 4, 2]), ([1, 5, 68, 7, 3150, 453, 4, 2], [1, 7, 461, 31, 4334, 4, 2]), ([1, 35, 12, 8, 95, 21, 10, 2], [1, 2158, 13, 31, 9, 8, 2])]\n"
     ]
    }
   ],
   "source": [
    "print(list(data_pipe)[0])"
   ]
  },
  {
   "cell_type": "code",
   "execution_count": 30,
   "id": "4bbed535",
   "metadata": {
    "execution": {
     "iopub.execute_input": "2024-04-16T15:06:18.377165Z",
     "iopub.status.busy": "2024-04-16T15:06:18.376783Z",
     "iopub.status.idle": "2024-04-16T15:07:01.365549Z",
     "shell.execute_reply": "2024-04-16T15:07:01.364580Z"
    },
    "papermill": {
     "duration": 43.02448,
     "end_time": "2024-04-16T15:07:01.384573",
     "exception": false,
     "start_time": "2024-04-16T15:06:18.360093",
     "status": "completed"
    },
    "tags": []
   },
   "outputs": [
    {
     "name": "stdout",
     "output_type": "stream",
     "text": [
      "(([1, 25, 53, 81, 48, 117, 20, 38, 12, 8, 10, 2], [1, 6, 31, 5, 22, 90, 476, 11, 134, 370, 4, 2], [1, 25, 22, 160, 7, 197, 54, 11, 208, 94, 4, 2], [1, 59, 1859, 64, 40, 57, 1721, 9, 6748, 654, 4, 2], [1, 76, 14, 6, 14, 156, 33, 9, 607, 1460, 4, 2], [1, 42, 437, 21, 9981, 102, 7, 58, 17, 23, 4, 2], [1, 42, 1419, 11, 134, 839, 2985, 60, 16, 2663, 4, 2], [1, 5, 22, 12, 279, 54, 24, 11, 144, 66, 4, 2], [1, 5, 160, 251, 9, 625, 17, 6, 14, 972, 4, 2], [1, 27, 1145, 68, 11, 771, 2525, 36, 9, 2020, 4, 2], [1, 5, 58, 495, 568, 11, 584, 1401, 48, 436, 4, 2], [1, 313, 227, 84, 22, 90, 65, 848, 17, 8, 4, 2], [1, 93, 15, 12, 8, 1630, 184, 11, 208, 584, 10, 2], [1, 27, 1398, 9873, 185, 37, 146, 24, 2024, 195, 4, 2], [1, 39, 4802, 11, 166, 156, 24, 3037, 1158, 550, 4, 2], [1, 77, 460, 13, 23, 78, 60, 7, 9, 403, 10, 2], [1, 5, 43, 12, 47, 18, 6, 91, 170, 117, 4, 2], [1, 5, 43, 12, 57, 20, 103, 641, 48, 114, 4, 2], [1, 79, 8060, 9, 1462, 33, 259, 345, 31, 316, 4, 2], [1, 176, 32, 223, 20, 5, 19, 877, 11, 341, 4, 2], [1, 5, 84, 197, 8, 9, 1403, 110, 5, 91, 4, 2], [1, 6, 4410, 7, 244, 16, 139, 24, 153, 334, 4, 2], [1, 5, 62, 12, 207, 18, 2018, 60, 33, 8, 4, 2], [1, 5, 45, 1541, 7, 1000, 16, 169, 33, 8, 4, 2], [1, 141, 8, 111, 21, 206, 6, 13, 173, 18, 10, 2], [1, 25, 15, 12, 473, 113, 194, 7, 95, 21, 4, 2], [1, 1748, 17, 240, 91, 230, 51, 115, 19, 4709, 4, 2], [1, 39, 63, 75, 51, 82, 46, 243, 30, 94, 4, 2], [1, 6, 104, 18, 14, 51, 32, 222, 7, 15, 4, 2], [1, 42, 209, 54, 153, 195, 7, 365, 9, 1072, 4, 2], [1, 5, 15, 12, 46, 89, 7, 34, 135, 3059, 4, 2], [1, 5, 62, 12, 287, 145, 5, 253, 23, 7, 4, 2], [1, 26, 142, 21, 18, 37, 840, 13, 185, 3666, 4, 2], [1, 42, 13, 99, 308, 2588, 33, 54, 56, 23, 4, 2], [1, 193, 1353, 3119, 7, 73, 2713, 19, 846, 1333, 4, 2], [1, 5, 158, 8, 104, 6, 84, 106, 446, 28, 4, 2], [1, 26, 3456, 33, 1533, 124, 32, 213, 9, 2485, 4, 2], [1, 93, 15, 12, 8, 332, 372, 6, 568, 60, 10, 2], [1, 59, 13, 9, 1031, 171, 5, 632, 41, 1971, 4, 2], [1, 5, 158, 5, 251, 369, 3480, 36, 9, 236, 4, 2], [1, 50, 271, 9, 187, 429, 24, 212, 7, 232, 4, 2], [1, 5, 19, 2041, 110, 8, 269, 171, 6, 19, 4, 2], [1, 666, 4190, 17, 3321, 38, 36, 9, 4219, 17, 6417, 4, 2], [1, 6, 72, 531, 34, 9, 149, 80, 7, 15, 18, 4, 2], [1, 27, 611, 266, 474, 71, 7, 34, 11, 3, 9954, 4, 2], [1, 849, 149, 20, 188, 1333, 9, 903, 17, 9, 985, 4, 2], [1, 5, 15, 12, 46, 7, 95, 30, 605, 177, 155, 4, 2], [1, 59, 1521, 84, 34, 315, 154, 33, 196, 833, 9069, 4, 2], [1, 5, 69, 90, 363, 24, 8, 24, 185, 11, 277, 4, 2], [1, 26, 52, 153, 436, 61, 167, 333, 61, 5, 22, 4, 2], [1, 35, 8, 100, 11, 1190, 7, 308, 88, 2796, 3543, 10, 2], [1, 42, 14, 390, 7, 95, 9, 4678, 78, 185, 89, 4, 2], [1, 27, 8819, 17, 9, 1705, 38, 1115, 7, 22, 739, 4, 2], [1, 5, 62, 12, 1141, 71, 206, 1277, 574, 60, 314, 4, 2], [1, 50, 14, 40, 61, 1503, 61, 115, 250, 7, 34, 4, 2], [1, 6, 19, 1614, 86, 11, 3, 3710, 36, 4945, 132, 4, 2], [1, 467, 51, 272, 20, 5, 211, 12, 426, 41, 649, 4, 2], [1, 6, 486, 16, 9, 236, 48, 102, 9, 140, 66, 4, 2], [1, 1130, 65, 1957, 318, 7, 34, 1207, 16, 9, 493, 4, 2], [1, 98, 13, 11, 553, 782, 17, 2164, 16, 29, 1002, 4, 2], [1, 305, 8, 111, 21, 118, 7, 75, 7, 9, 5005, 10, 2], [1, 50, 13, 65, 578, 20, 97, 115, 1066, 437, 685, 4, 2], [1, 27, 361, 276, 13, 420, 396, 1075, 378, 78, 60, 4, 2], [1, 956, 145, 218, 16, 810, 1705, 87, 40, 1447, 4850, 4, 2], [1, 27, 979, 19, 7755, 20, 103, 6, 579, 23, 1358, 4, 2], [1, 5, 45, 382, 4, 5, 87, 12, 22, 104, 18, 4, 2], [1, 42, 209, 21, 387, 396, 7, 378, 7, 9, 403, 4, 2], [1, 6, 31, 28, 83, 160, 1689, 124, 188, 237, 374, 4, 2], [1, 93, 38, 8, 866, 10, 42, 14, 102, 11, 478, 4, 2], [1, 6, 64, 12, 22, 7, 244, 114, 7, 94, 28, 4, 2], [1, 5, 45, 344, 4, 5, 45, 74, 7, 592, 184, 4, 2], [1, 35, 8, 57, 7, 151, 36, 1272, 199, 86, 544, 10, 2], [1, 5, 284, 5, 68, 9, 1288, 7, 439, 41, 1070, 4, 2], [1, 39, 83, 533, 17, 760, 8, 7, 1150, 203, 554, 4, 2], [1, 193, 1253, 341, 13, 250, 48, 9, 844, 17, 11, 965, 4, 2], [1, 1750, 740, 16, 9, 1502, 20, 115, 254, 70, 7713, 714, 4, 2], [1, 27, 2987, 325, 16, 9, 1474, 13, 12, 11, 2357, 2102, 4, 2], [1, 147, 6, 13, 60, 20, 8, 15, 12, 100, 7, 514, 4, 2], [1, 4913, 14, 1669, 4285, 1260, 2215, 1312, 146, 292, 9, 362, 4, 2], [1, 1034, 499, 279, 70, 174, 20, 5, 43, 40, 47, 70, 4, 2], [1, 6, 656, 32, 63, 15, 9, 214, 154, 101, 327, 300, 4, 2], [1, 5, 58, 89, 14, 99, 796, 16, 406, 7, 1269, 70, 4, 2], [1, 5, 15, 40, 31, 106, 72, 915, 41, 221, 1946, 511, 4, 2], [1, 50, 106, 2397, 115, 92, 400, 54, 16, 11, 1043, 465, 4, 2], [1, 5, 45, 348, 1019, 23, 19, 6, 145, 1406, 41, 1106, 4, 2], [1, 6, 31, 28, 283, 18, 252, 212, 469, 72, 34, 11, 339, 4, 2], [1, 42, 19, 402, 24, 21, 7, 129, 71, 51, 32, 19, 513, 4, 2], [1, 42, 14, 11, 433, 17, 28, 31, 70, 144, 180, 7597, 930, 4, 2], [1, 6, 179, 28, 7, 244, 20, 103, 115, 43, 12, 46, 7, 4, 2], [1, 85, 189, 250, 7, 304, 635, 20, 103, 120, 32, 1149, 2641, 4, 2], [1, 27, 9077, 36, 9, 1352, 15, 12, 1626, 482, 36, 9, 3, 4, 2], [1, 59, 13, 9, 295, 478, 5, 69, 279, 16, 11, 144, 66, 4, 2], [1, 93, 43, 12, 8, 111, 96, 8, 269, 118, 7, 170, 117, 10, 2], [1, 42, 14, 260, 7, 111, 565, 6, 3, 37, 409, 199, 40, 4, 2], [1, 79, 152, 7, 9, 1578, 20, 103, 9, 564, 19, 12, 401, 4, 2], [1, 27, 150, 16, 677, 9, 845, 19, 335, 1326, 19, 65, 477, 4, 2], [1, 5, 158, 2938, 8, 91, 111, 21, 51, 5, 100, 7, 47, 4, 2], [1, 5, 284, 5, 91, 1141, 71, 118, 7, 1269, 6, 7, 244, 4, 2], [1, 5, 62, 12, 111, 8, 118, 112, 5, 1140, 73, 30, 94, 4, 2], [1, 2862, 8, 207, 114, 20, 129, 202, 30, 3498, 22, 259, 345, 4, 2], [1, 838, 186, 48, 256, 4351, 5090, 36, 565, 188, 38, 491, 199, 671, 4, 2], [1, 25, 15, 12, 22, 7, 224, 9, 611, 266, 78, 844, 7, 625, 4, 2], [1, 176, 5, 251, 17, 37, 953, 20, 5, 557, 11, 341, 7, 54, 4, 2], [1, 26, 143, 23, 947, 18, 32, 68, 232, 7, 15, 33, 9, 359, 4, 2], [1, 116, 12, 23, 296, 18, 8, 899, 70, 36, 9, 217, 16, 291, 10, 2], [1, 5, 158, 8, 92, 90, 496, 4, 5, 45, 556, 5, 19, 235, 4, 2], [1, 6, 13, 168, 1263, 9, 1106, 5, 253, 54, 36, 37, 3, 583, 4, 2], [1, 6, 104, 18, 32, 43, 12, 58, 18, 28, 121, 681, 7, 15, 18, 4, 2], [1, 27, 1214, 17, 9, 683, 223, 16, 476, 9, 347, 1587, 17, 9, 361, 4, 2], [1, 35, 8, 47, 206, 6, 64, 12, 46, 7, 57, 7, 139, 33, 96, 10, 2], [1, 5, 22, 224, 394, 17, 290, 333, 20, 103, 1579, 17, 240, 13, 518, 4, 2], [1, 5, 129, 23, 11, 1369, 7, 2168, 41, 1215, 174, 5, 57, 7, 342, 4, 2], [1, 5, 218, 570, 9, 1315, 97, 5, 268, 75, 7, 57, 7, 9, 770, 4, 2], [1, 5, 45, 466, 202, 18, 6, 52, 264, 1345, 51, 5, 142, 54, 238, 4, 2], [1, 42, 209, 6, 1593, 396, 17, 9322, 174, 32, 261, 51, 32, 19, 229, 24, 4, 2], [1, 6, 13, 11, 328, 820, 4, 182, 5, 91, 12, 561, 33, 8, 108, 4, 182, 2], [1, 407, 595, 7, 6663, 24, 9, 9386, 8, 163, 22, 88, 3181, 33, 9, 10053, 4, 2], [1, 5, 58, 51, 1188, 21, 377, 19, 9, 162, 6, 91, 181, 7, 102, 56, 327, 4, 2], [1, 147, 8, 306, 2488, 123, 44, 18, 20, 8, 55, 34, 484, 174, 8, 47, 23, 4, 2], [1, 1006, 75, 11, 429, 48, 6, 14, 3, 20, 8, 22, 7, 129, 5895, 968, 16, 1852, 4, 2], [1, 35, 12, 1341, 4890, 21, 67, 48, 6047, 2264, 5, 15, 12, 358, 7, 57, 1055, 192, 4, 2], [1, 6, 261, 71, 18, 262, 36, 9, 733, 19, 12, 61, 390, 61, 32, 158, 23, 84, 34, 4, 2], [1, 5, 45, 466, 202, 9, 237, 266, 8, 55, 46, 7, 15, 124, 8, 75, 7, 139, 13, 273, 114, 4, 2], [1, 4003, 946, 3, 292, 9, 2162, 17, 387, 7, 2021, 20, 31, 938, 292, 9, 2162, 17, 2021, 7, 2090, 4, 2], [1, 732, 918, 6, 2884, 28, 40, 7, 57, 20, 115, 200, 33, 9, 245, 31, 152, 7, 218, 33, 70, 227, 4, 2], [1, 6, 19, 4365, 33, 88, 5108, 2368, 124, 37, 227, 376, 874, 11, 1547, 6307, 156, 24, 54, 7, 694, 67, 4, 2], [1, 2755, 51, 14, 16, 9, 737, 36, 9, 190, 886, 17, 9, 2374, 10, 182, 98, 38, 3, 36, 9, 1519, 654, 31, 3, 1721, 240, 4, 182, 2], [1, 849, 11, 702, 124, 203, 2020, 13, 2070, 20, 203, 6281, 38, 7367, 2406, 48, 9, 3044, 4143, 397, 9, 3, 20, 31, 6014, 38, 1541, 7, 2962, 155, 20, 82, 22, 7, 129, 138, 3598, 56, 9, 329, 17, 465, 82, 46, 7, 34, 4, 2]), ([1, 40, 98, 79, 20, 129, 5, 118, 8, 2], [1, 6, 33, 15, 50, 298, 93, 8087, 4, 2], [1, 40, 231, 96, 97, 21, 502, 153, 4, 2], [1, 256, 3775, 160, 97, 200, 100, 10111, 1560, 4, 2], [1, 28, 168, 29, 46, 2047, 1760, 10, 132, 4, 2], [1, 3618, 3, 5, 99, 15, 97, 344, 212, 4, 2], [1, 419, 20, 3769, 904, 17, 69, 3776, 93, 4, 2], [1, 7, 24, 77, 80, 174, 9, 78, 159, 4, 2], [1, 7, 431, 97, 32, 1434, 44, 132, 999, 4, 2], [1, 67, 1795, 90, 2586, 3023, 47, 16, 2783, 4, 2], [1, 7, 212, 5, 706, 1828, 26, 1263, 1683, 4, 2], [1, 647, 202, 171, 68, 815, 30, 52, 354, 25, 2], [1, 91, 210, 12, 17, 9, 72, 2084, 4771, 8, 2], [1, 67, 1567, 19, 2740, 287, 57, 3150, 7347, 4, 2], [1, 38, 5971, 21, 546, 168, 47, 3, 451, 4, 2], [1, 73, 574, 10, 17, 44, 70, 100, 488, 8, 2], [1, 7, 255, 369, 9, 5, 18, 6, 129, 313, 4, 2], [1, 7, 54, 9, 2348, 5, 944, 11, 127, 1517, 4, 2], [1, 12, 12276, 16, 1417, 29, 3507, 2687, 33, 332, 4, 2], [1, 391, 36, 193, 5, 1030, 15, 137, 43, 347, 4, 2], [1, 7, 2578, 56, 32, 1987, 5, 99, 15, 227, 4, 2], [1, 6, 3842, 5, 151, 454, 20, 128, 11, 16867, 4, 2], [1, 7, 45, 14, 2431, 9, 70, 110, 56, 210, 4, 2], [1, 7, 2972, 41, 5, 31, 20, 52, 11, 4328, 4, 2], [1, 306, 13, 27, 106, 5, 243, 6, 14, 288, 8, 2], [1, 40, 1873, 9, 901, 1895, 5, 31, 11, 138, 4, 2], [1, 1032, 44, 565, 182, 424, 5, 42, 49, 3, 4, 2], [1, 38, 119, 261, 124, 240, 327, 5, 42, 71, 238, 4, 2], [1, 6, 120, 5, 14, 10, 5, 42, 36, 76, 86, 4, 2], [1, 23, 958, 151, 287, 429, 5, 32, 1310, 11, 480, 4, 2], [1, 7, 85, 9, 5, 18, 17, 11, 4283, 3800, 198, 4, 2], [1, 7, 75, 9, 78, 5, 853, 15, 17, 491, 24, 4, 2], [1, 23, 120, 27, 5, 18, 57, 1070, 105, 5991, 10, 4, 2], [1, 37, 1258, 11, 92, 5, 29, 96, 262, 11, 1581, 4, 2], [1, 37, 89, 2283, 35, 47, 165, 3, 3, 1381, 8127, 4, 2], [1, 40, 74, 197, 139, 5, 6, 112, 39, 101, 1785, 4, 2], [1, 23, 9476, 84, 348, 5, 58, 36, 16, 2506, 229, 4, 2], [1, 91, 4628, 13, 9, 55, 174, 5, 200, 6, 70, 10, 8, 2], [1, 631, 10, 14, 1213, 5, 20, 46, 15, 95, 2032, 1461, 24, 4, 2], [1, 299, 34, 5, 58, 115, 15, 531, 41, 16, 1993, 16018, 333, 4, 2], [1, 12, 19, 32, 782, 452, 47, 43, 1240, 33, 21, 2101, 5916, 4, 2], [1, 7, 24, 31, 812, 5, 205, 13, 440, 5, 201, 26, 6, 738, 4, 2], [1, 620, 3, 51, 372, 6705, 3279, 4, 2], [1, 6, 66, 14, 3190, 58, 1075, 76, 4, 2], [1, 53, 345, 623, 15479, 26, 58, 3, 4, 2], [1, 10694, 5099, 49, 16, 4454, 142, 4131, 4, 2], [1, 7, 86, 186, 817, 656, 161, 138, 4, 2], [1, 619, 223, 3, 171, 222, 3624, 60, 175, 4, 2], [1, 7, 24, 105, 35, 283, 30, 52, 1389, 4, 2], [1, 23, 19, 1451, 55, 146, 340, 59, 15, 4, 2], [1, 5247, 121, 47, 43, 8100, 4736, 43, 1549, 8, 2], [1, 949, 215, 45, 121, 14, 5678, 79, 138, 4, 2], [1, 37, 166, 791, 937, 29, 32, 3, 22, 2028, 4, 2], [1, 7, 536, 9, 5, 243, 477, 78, 771, 198, 4, 2], [1, 12, 10, 9, 78, 55, 1931, 59, 478, 88, 4, 2], [1, 6, 89, 11, 7656, 44, 113, 3, 2678, 3057, 4, 2], [1, 3959, 42, 954, 5, 15, 3, 95, 405, 9, 4, 2], [1, 6, 193, 403, 69, 3089, 834, 322, 16, 274, 4, 2], [1, 556, 660, 263, 72, 68, 4206, 84, 26, 11, 82, 4, 2], [1, 214, 46, 997, 166, 17, 35, 414, 3, 41, 2319, 4, 2], [1, 420, 12, 27, 106, 5, 59, 121, 100, 8568, 198, 8, 2], [1, 12, 10, 68, 945, 798, 2264, 178, 49, 875, 297, 4, 2], [1, 53, 2430, 45, 121, 20, 113, 13198, 44, 70, 992, 4, 2], [1, 211, 69, 3, 1250, 5, 220, 9, 29, 6326, 2242, 4, 2], [1, 28, 886, 34, 12055, 5, 123, 6, 1246, 17, 1972, 4, 2], [1, 1201, 27, 423, 4, 28, 115, 15, 9, 106, 233, 4, 2], [1, 7, 24, 383, 448, 1802, 5, 61, 100, 488, 11, 779, 4, 2], [1, 6, 33, 39, 191, 496, 2128, 5, 58, 49, 26, 9652, 4, 2], [1, 91, 7455, 13, 363, 8, 28, 10, 197, 97, 21, 512, 25, 2], [1, 6, 421, 9, 11, 127, 11, 284, 5, 61, 39, 11, 153, 4, 2], [1, 7, 54, 367, 4, 7, 81, 31, 21, 476, 1272, 1989, 1925, 4, 2], [1, 1763, 13, 11, 785, 158, 172, 118, 2874, 13, 29, 46, 484, 8, 2], [1, 7, 2021, 27, 5, 32, 1368, 11, 50, 5, 95, 1105, 11, 686, 4, 2], [1, 38, 15572, 5, 12, 11, 494, 5, 205, 12, 9, 883, 1792, 6424, 979, 4, 2], [1, 1239, 3, 2241, 121, 43, 5697, 4, 2], [1, 12, 1100, 310, 1558, 69, 6126, 382, 3, 4, 2], [1, 28, 7260, 266, 20, 46, 512, 10, 87, 12008, 2447, 4, 2], [1, 135, 6, 70, 10, 5, 119, 12, 249, 3664, 57, 4, 2], [1, 2198, 3214, 1643, 302, 30, 22, 377, 51, 44, 10140, 3, 4, 2], [1, 12915, 15, 48, 60, 101, 2332, 34, 5, 1276, 15, 49, 9, 4, 2], [1, 6, 649, 5, 18, 36, 16, 1077, 175, 58, 706, 365, 8060, 45, 4, 2], [1, 37, 19, 5, 212, 15, 5, 189, 2400, 5, 43, 3, 110, 48, 11, 2289, 4, 2], [1, 7, 1057, 248, 217, 145, 189, 5153, 827, 11, 1404, 33, 81, 14, 183, 656, 76, 4, 2], [1, 12, 115, 26, 101, 4103, 210, 5, 18, 49, 96, 20, 113, 11651, 520, 5425, 112, 4, 2], [1, 7, 54, 27, 311, 218, 5, 18, 6, 1024, 34, 5, 22, 27, 181, 3601, 732, 19, 4, 2], [1, 6, 33, 39, 2662, 26, 58, 1277, 43, 681, 4, 2], [1, 7, 182, 9, 611, 424, 5, 42, 36, 120, 4, 2], [1, 28, 10, 21, 530, 44, 39, 33, 558, 3, 272, 4, 2], [1, 6, 387, 39, 11, 284, 5, 123, 49, 150, 9, 4, 2], [1, 1525, 1424, 131, 170, 622, 5, 123, 117, 1152, 36, 3, 4, 2], [1, 53, 2842, 30, 46, 1000, 2135, 9, 11, 1146, 30, 32, 3, 4, 2], [1, 28, 10, 22, 912, 512, 5, 32, 15, 268, 3182, 159, 24, 4, 2], [1, 91, 50, 12, 65, 363, 9, 139, 5, 18, 12, 129, 177, 8, 2], [1, 37, 10, 317, 11, 2042, 5, 205, 6, 57, 909, 11663, 118, 9, 4, 2], [1, 12, 51, 20, 16, 2601, 294, 5, 123, 14, 661, 34, 9, 394, 4, 2], [1, 37, 34, 68, 778, 20, 46, 206, 5, 20, 46, 16, 880, 3, 4, 2], [1, 7, 239, 5, 48, 3879, 27, 3863, 106, 5, 42, 15, 167, 94, 4, 2], [1, 7, 356, 5, 15, 4544, 35, 1342, 5, 6, 264, 11, 1463, 11, 284, 4, 2], [1, 7, 45, 56, 369, 9, 106, 5, 59, 1653, 15, 56, 47, 124, 240, 54, 25, 2], [1, 14695, 52, 5, 18, 124, 4700, 300, 2687, 50, 5, 503, 13, 14, 168, 3099, 4, 2], [1, 6289, 33, 3650, 302, 50, 35, 365, 6961, 4, 2], [1, 40, 231, 14, 6797, 9, 44, 1611, 200, 495, 3, 4, 2], [1, 391, 15, 44, 224, 755, 3679, 5, 1030, 15, 96, 43, 347, 4, 2], [1, 23, 639, 864, 5, 18, 36, 29, 22, 623, 92, 11, 76, 90, 4, 2], [1, 147, 17, 9, 304, 5, 18, 13, 49, 20, 22, 9506, 289, 933, 74, 8, 2], [1, 7, 239, 5, 121, 115, 12, 1219, 4, 7, 54, 1895, 5, 18, 14, 9, 764, 4, 2], [1, 6, 19, 60, 88, 14, 2066, 20, 3232, 5, 14, 15, 96, 11, 224, 12451, 690, 1868, 24, 4, 2], [1, 6, 1011, 5, 18, 39, 14, 369, 9, 1412, 76, 1542, 4, 2], [1, 67, 2681, 22, 694, 9394, 322, 16, 7336, 436, 142, 10305, 4, 2], [1, 1014, 12, 5, 243, 6, 9, 29, 65, 64, 128, 163, 85, 8, 2], [1, 7, 24, 428, 340, 515, 5, 123, 3304, 44, 565, 10, 813, 4, 2], [1, 7, 5997, 27, 7235, 16, 1514, 5, 503, 15, 204, 346, 323, 4, 2], [1, 7, 1212, 1444, 109, 1433, 5, 1470, 45, 15, 247, 41, 32, 857, 82, 4, 2], [1, 7, 54, 27, 395, 218, 5, 18, 6, 80, 381, 19, 5, 42, 15, 96, 213, 1360, 4, 2], [1, 2915, 64, 133, 3, 3, 599, 6, 14, 3, 4, 2], [1, 194, 6, 10, 21, 5181, 1437, 4, 199, 343, 860, 194, 392, 54, 15, 249, 422, 405, 25, 199, 2], [1, 729, 26, 47, 32, 3758, 20, 133, 13210, 11, 16287, 5, 154, 12, 41, 113, 8802, 29, 32, 14401, 2288, 4, 2], [1, 1239, 652, 19, 31, 292, 1485, 5, 59, 6, 29, 3409, 993, 291, 182, 4, 2], [1, 135, 13, 14, 116, 500, 55, 63, 46, 436, 3, 5, 98, 13, 1131, 3186, 5, 58, 13, 3176, 185, 4, 2], [1, 729, 20, 194, 132, 3, 199, 43, 452, 11, 327, 5, 94, 121, 1001, 2019, 4594, 210, 4, 2], [1, 40, 523, 31, 9, 61, 725, 188, 401, 11, 3102, 4, 7, 24, 9, 84, 5, 184, 1998, 11, 82, 4, 2], [1, 6, 639, 961, 5, 18, 14, 221, 30, 22, 417, 9, 55, 397, 34, 5, 59, 36, 17, 26, 3205, 90, 4, 2], [1, 135, 48, 20, 128, 3380, 5, 1013, 48, 643, 496, 144, 11, 127, 1044, 4, 2], [1, 266, 163, 636, 29, 383, 118, 2516, 321, 20, 16, 3, 5, 681, 636, 29, 2516, 118, 2144, 321, 4, 2], [1, 1309, 6, 39, 3, 5, 9, 11, 82, 5, 330, 49, 16, 209, 33, 640, 11, 498, 202, 5, 61, 215, 11, 406, 4, 2], [1, 6, 229, 26, 133, 4303, 1077, 940, 5, 58, 107, 202, 702, 33, 96, 21, 641, 3, 168, 3541, 5, 14, 17, 4232, 8153, 4, 2], [1, 194, 1887, 42, 10, 20, 46, 828, 30, 22, 358, 775, 142, 3, 8, 199, 860, 194, 556, 5263, 51, 3, 33, 262, 3, 4, 199, 2], [1, 214, 113, 834, 5, 20, 46, 468, 2783, 3426, 5, 468, 12756, 55, 280, 411, 8535, 942, 59, 4120, 20, 32, 3, 5, 33, 16, 13233, 1971, 5, 154, 71, 2297, 465, 33, 65, 2294, 5, 42, 47, 21, 520, 71, 57, 238, 4, 2]))\n"
     ]
    }
   ],
   "source": [
    "def separateSourceTarget(sequence_pairs):\n",
    "    \"\"\"\n",
    "    input of form: `[(X_1,y_1), (X_2,y_2), (X_3,y_3), (X_4,y_4)]`\n",
    "    output of form: `((X_1,X_2,X_3,X_4), (y_1,y_2,y_3,y_4))`\n",
    "    \"\"\"\n",
    "    sources,targets = zip(*sequence_pairs)\n",
    "    return sources,targets\n",
    "\n",
    "## Apply the function to each element in the iterator\n",
    "data_pipe = data_pipe.map(separateSourceTarget)\n",
    "print(list(data_pipe)[0])"
   ]
  },
  {
   "cell_type": "code",
   "execution_count": 31,
   "id": "06e5e655",
   "metadata": {
    "execution": {
     "iopub.execute_input": "2024-04-16T15:07:01.420338Z",
     "iopub.status.busy": "2024-04-16T15:07:01.420011Z",
     "iopub.status.idle": "2024-04-16T15:07:01.425517Z",
     "shell.execute_reply": "2024-04-16T15:07:01.424507Z"
    },
    "papermill": {
     "duration": 0.027643,
     "end_time": "2024-04-16T15:07:01.428018",
     "exception": false,
     "start_time": "2024-04-16T15:07:01.400375",
     "status": "completed"
    },
    "tags": []
   },
   "outputs": [],
   "source": [
    "def applyPadding(pair_of_sequences):\n",
    "    \"\"\"\n",
    "    Convert sequences to tensors and apply padding\n",
    "    \"\"\"\n",
    "    return (T.ToTensor(0)(list(pair_of_sequences[0])), T.ToTensor(0)(list(pair_of_sequences[1])))\n",
    "## `T.ToTensor(0)` returns a transform that converts the sequence to `torch.tensor` and also applies\n",
    "# padding. Here, `0` is passed to the constructor to specify the index of the `<pad>` token in the\n",
    "# vocabulary.\n",
    "data_pipe = data_pipe.map(applyPadding)"
   ]
  },
  {
   "cell_type": "code",
   "execution_count": 32,
   "id": "37d67753",
   "metadata": {
    "execution": {
     "iopub.execute_input": "2024-04-16T15:07:01.474928Z",
     "iopub.status.busy": "2024-04-16T15:07:01.474289Z",
     "iopub.status.idle": "2024-04-16T15:07:48.829130Z",
     "shell.execute_reply": "2024-04-16T15:07:48.828165Z"
    },
    "papermill": {
     "duration": 47.394287,
     "end_time": "2024-04-16T15:07:48.846994",
     "exception": false,
     "start_time": "2024-04-16T15:07:01.452707",
     "status": "completed"
    },
    "tags": []
   },
   "outputs": [
    {
     "name": "stdout",
     "output_type": "stream",
     "text": [
      "(tensor([[   1,   25,   87,  ...,    2,    0,    0],\n",
      "        [   1,    6,   13,  ...,    2,    0,    0],\n",
      "        [   1,   25,   22,  ...,    2,    0,    0],\n",
      "        ...,\n",
      "        [   1,    6,   31,  ..., 2077,    4,    2],\n",
      "        [   1,   77,   15,  ...,  117,   10,    2],\n",
      "        [   1,    5,  211,  ..., 1040,    4,    2]]), tensor([[  1,  40, 254,  ...,   0,   0,   0],\n",
      "        [  1,   6,  10,  ...,   0,   0,   0],\n",
      "        [  1,  40, 231,  ...,   0,   0,   0],\n",
      "        ...,\n",
      "        [  1,   6,  33,  ...,   0,   0,   0],\n",
      "        [  1,  73, 228,  ...,   0,   0,   0],\n",
      "        [  1,   7,  81,  ...,   0,   0,   0]]))\n"
     ]
    }
   ],
   "source": [
    "print(list(data_pipe)[0])"
   ]
  },
  {
   "cell_type": "code",
   "execution_count": 33,
   "id": "1fc0df2f",
   "metadata": {
    "execution": {
     "iopub.execute_input": "2024-04-16T15:07:48.880725Z",
     "iopub.status.busy": "2024-04-16T15:07:48.879935Z",
     "iopub.status.idle": "2024-04-16T15:08:14.804745Z",
     "shell.execute_reply": "2024-04-16T15:08:14.803883Z"
    },
    "papermill": {
     "duration": 25.943964,
     "end_time": "2024-04-16T15:08:14.806903",
     "exception": false,
     "start_time": "2024-04-16T15:07:48.862939",
     "status": "completed"
    },
    "tags": []
   },
   "outputs": [
    {
     "name": "stdout",
     "output_type": "stream",
     "text": [
      "Source:  <sos> Tom is n't as active as Mary . <eos> <pad> <pad>\n",
      "Traget:  <sos> Tom ist nicht so lebhaft wie Mary . <eos> <pad> <pad> <pad> <pad> <pad>\n",
      "Source:  <sos> Tom hung his jacket on a hook . <eos> <pad> <pad>\n",
      "Traget:  <sos> Tom hängte seine Jacke an einen Haken . <eos> <pad> <pad> <pad> <pad> <pad>\n",
      "Source:  <sos> Tom had the whole <unk> to himself . <eos> <pad> <pad>\n",
      "Traget:  <sos> Tom hatte den ganzen Campingplatz für sich . <eos> <pad> <pad> <pad> <pad> <pad>\n",
      "Source:  <sos> Do n't forget that we have homework . <eos> <pad> <pad>\n",
      "Traget:  <sos> Vergiss nicht , dass wir Hausaufgaben haben . <eos> <pad> <pad> <pad> <pad> <pad>\n"
     ]
    }
   ],
   "source": [
    "source_index_to_string = source_vocab.get_itos()\n",
    "target_index_to_string = target_vocab.get_itos()\n",
    "\n",
    "def showSomeTransformedSentences(data_pipe):\n",
    "    \"\"\"\n",
    "    Function to show how the sentences look like after applying all transforms.\n",
    "    Here we try to print actual words instead of corresponding index\n",
    "    \"\"\"\n",
    "    for sources,targets in data_pipe:\n",
    "        if sources[0][-1] != 0:\n",
    "            continue # Just to visualize padding of shorter sentences\n",
    "        for i in range(4):\n",
    "            source = \"\"\n",
    "            for token in sources[i]:\n",
    "                source += \" \" + source_index_to_string[token]\n",
    "            target = \"\"\n",
    "            for token in targets[i]:\n",
    "                target += \" \" + target_index_to_string[token]\n",
    "            print(f\"Source: {source}\")\n",
    "            print(f\"Traget: {target}\")\n",
    "        break\n",
    "\n",
    "showSomeTransformedSentences(data_pipe)"
   ]
  },
  {
   "cell_type": "code",
   "execution_count": 34,
   "id": "901b8d20",
   "metadata": {
    "execution": {
     "iopub.execute_input": "2024-04-16T15:08:14.840428Z",
     "iopub.status.busy": "2024-04-16T15:08:14.840110Z",
     "iopub.status.idle": "2024-04-16T15:08:40.823919Z",
     "shell.execute_reply": "2024-04-16T15:08:40.822647Z"
    },
    "papermill": {
     "duration": 26.002865,
     "end_time": "2024-04-16T15:08:40.826094",
     "exception": false,
     "start_time": "2024-04-16T15:08:14.823229",
     "status": "completed"
    },
    "tags": []
   },
   "outputs": [
    {
     "name": "stdout",
     "output_type": "stream",
     "text": [
      "tensor([[   1,  706, 3801,  ...,    0,    0,    0],\n",
      "        [   1,    6, 1412,  ...,    0,    0,    0],\n",
      "        [   1,    6, 2964,  ...,    0,    0,    0],\n",
      "        ...,\n",
      "        [   1,    5,   46,  ...,   54,    4,    2],\n",
      "        [   1,    5,  169,  ...,  333,    4,    2],\n",
      "        [   1,    6,   13,  ...,   21,    4,    2]])\n",
      "torch.Size([128, 8])\n",
      "tensor([[   1,  634, 6550,  ...,    0,    0,    0],\n",
      "        [   1,    6,  521,  ...,    0,    0,    0],\n",
      "        [   1,    6, 1005,  ...,    0,    0,    0],\n",
      "        ...,\n",
      "        [   1,    7,   85,  ...,    2,    0,    0],\n",
      "        [   1,    7, 1606,  ...,    2,    0,    0],\n",
      "        [   1,    6, 2183,  ...,    2,    0,    0]])\n",
      "torch.Size([128, 9])\n"
     ]
    }
   ],
   "source": [
    "for (data, target) in data_pipe:\n",
    "    print(data)\n",
    "    print(data.shape)\n",
    "    print(target)\n",
    "    print(target.shape)\n",
    "    break"
   ]
  },
  {
   "cell_type": "code",
   "execution_count": 35,
   "id": "230c3129",
   "metadata": {
    "execution": {
     "iopub.execute_input": "2024-04-16T15:08:40.859966Z",
     "iopub.status.busy": "2024-04-16T15:08:40.859654Z",
     "iopub.status.idle": "2024-04-16T15:08:40.864035Z",
     "shell.execute_reply": "2024-04-16T15:08:40.863186Z"
    },
    "papermill": {
     "duration": 0.023327,
     "end_time": "2024-04-16T15:08:40.865949",
     "exception": false,
     "start_time": "2024-04-16T15:08:40.842622",
     "status": "completed"
    },
    "tags": []
   },
   "outputs": [],
   "source": [
    "import torch.nn as nn\n",
    "import random\n",
    "import torch.optim as optim\n",
    "from tqdm import tqdm\n",
    "import torch"
   ]
  },
  {
   "cell_type": "code",
   "execution_count": 36,
   "id": "3b8331ec",
   "metadata": {
    "execution": {
     "iopub.execute_input": "2024-04-16T15:08:40.899542Z",
     "iopub.status.busy": "2024-04-16T15:08:40.899261Z",
     "iopub.status.idle": "2024-04-16T15:08:40.903401Z",
     "shell.execute_reply": "2024-04-16T15:08:40.902576Z"
    },
    "papermill": {
     "duration": 0.023183,
     "end_time": "2024-04-16T15:08:40.905284",
     "exception": false,
     "start_time": "2024-04-16T15:08:40.882101",
     "status": "completed"
    },
    "tags": []
   },
   "outputs": [],
   "source": [
    "device = torch.device('cuda' if torch.cuda.is_available() else 'cpu')"
   ]
  },
  {
   "cell_type": "code",
   "execution_count": null,
   "id": "7d33808e",
   "metadata": {
    "papermill": {
     "duration": 0.015898,
     "end_time": "2024-04-16T15:08:40.937279",
     "exception": false,
     "start_time": "2024-04-16T15:08:40.921381",
     "status": "completed"
    },
    "tags": []
   },
   "outputs": [],
   "source": []
  },
  {
   "cell_type": "code",
   "execution_count": 37,
   "id": "cf2fd3b3",
   "metadata": {
    "execution": {
     "iopub.execute_input": "2024-04-16T15:08:40.971031Z",
     "iopub.status.busy": "2024-04-16T15:08:40.970684Z",
     "iopub.status.idle": "2024-04-16T15:08:42.827577Z",
     "shell.execute_reply": "2024-04-16T15:08:42.826652Z"
    },
    "papermill": {
     "duration": 1.876609,
     "end_time": "2024-04-16T15:08:42.829964",
     "exception": false,
     "start_time": "2024-04-16T15:08:40.953355",
     "status": "completed"
    },
    "tags": []
   },
   "outputs": [],
   "source": [
    "trg_vocab_size = len(source_vocab)\n",
    "trg_pad_idx = source_vocab.lookup_indices(['<pad>'])[0]\n",
    "device = torch.device('cuda' if torch.cuda.is_available() else 'cpu')\n",
    "model = GPT(trg_vocab_size, trg_pad_idx, device=device).to(device)\n",
    "criterion = nn.CrossEntropyLoss(ignore_index = trg_pad_idx)\n",
    "optimizer = optim.Adam(model.parameters())\n",
    "clip = 1"
   ]
  },
  {
   "cell_type": "code",
   "execution_count": 38,
   "id": "ff5add5e",
   "metadata": {
    "execution": {
     "iopub.execute_input": "2024-04-16T15:08:42.866304Z",
     "iopub.status.busy": "2024-04-16T15:08:42.865352Z",
     "iopub.status.idle": "2024-04-16T15:08:42.870480Z",
     "shell.execute_reply": "2024-04-16T15:08:42.869543Z"
    },
    "papermill": {
     "duration": 0.025789,
     "end_time": "2024-04-16T15:08:42.872570",
     "exception": false,
     "start_time": "2024-04-16T15:08:42.846781",
     "status": "completed"
    },
    "tags": []
   },
   "outputs": [],
   "source": [
    "def calc_len_dp(dp):\n",
    "    i=0 \n",
    "    for _ in dp:\n",
    "        i+=1\n",
    "    return i"
   ]
  },
  {
   "cell_type": "code",
   "execution_count": 39,
   "id": "a77f7c1f",
   "metadata": {
    "execution": {
     "iopub.execute_input": "2024-04-16T15:08:42.908244Z",
     "iopub.status.busy": "2024-04-16T15:08:42.907851Z",
     "iopub.status.idle": "2024-04-16T15:09:30.819172Z",
     "shell.execute_reply": "2024-04-16T15:09:30.818147Z"
    },
    "papermill": {
     "duration": 47.932023,
     "end_time": "2024-04-16T15:09:30.821747",
     "exception": false,
     "start_time": "2024-04-16T15:08:42.889724",
     "status": "completed"
    },
    "tags": []
   },
   "outputs": [],
   "source": [
    "len_dp_train = calc_len_dp(data_pipe)"
   ]
  },
  {
   "cell_type": "code",
   "execution_count": 40,
   "id": "40d86ecd",
   "metadata": {
    "execution": {
     "iopub.execute_input": "2024-04-16T15:09:30.855675Z",
     "iopub.status.busy": "2024-04-16T15:09:30.855372Z",
     "iopub.status.idle": "2024-04-16T15:09:30.861904Z",
     "shell.execute_reply": "2024-04-16T15:09:30.861001Z"
    },
    "papermill": {
     "duration": 0.025773,
     "end_time": "2024-04-16T15:09:30.864075",
     "exception": false,
     "start_time": "2024-04-16T15:09:30.838302",
     "status": "completed"
    },
    "tags": []
   },
   "outputs": [
    {
     "data": {
      "text/plain": [
       "1062"
      ]
     },
     "execution_count": 40,
     "metadata": {},
     "output_type": "execute_result"
    }
   ],
   "source": [
    "len_dp_train"
   ]
  },
  {
   "cell_type": "code",
   "execution_count": 41,
   "id": "e0813dc1",
   "metadata": {
    "execution": {
     "iopub.execute_input": "2024-04-16T15:09:30.898360Z",
     "iopub.status.busy": "2024-04-16T15:09:30.897675Z",
     "iopub.status.idle": "2024-04-16T15:09:30.908119Z",
     "shell.execute_reply": "2024-04-16T15:09:30.907296Z"
    },
    "papermill": {
     "duration": 0.029523,
     "end_time": "2024-04-16T15:09:30.909953",
     "exception": false,
     "start_time": "2024-04-16T15:09:30.880430",
     "status": "completed"
    },
    "tags": []
   },
   "outputs": [],
   "source": [
    "import torch\n",
    "import torch.nn as nn\n",
    "import torch.optim as optim\n",
    "\n",
    "def train_gpt(model, iterator, optimizer, criterion, clip, epochs):\n",
    "\n",
    "    model.train()\n",
    "    for epoch in range(epochs):\n",
    "        epoch_loss = 0\n",
    "        print(f'Epoch {epoch}/{epochs}')\n",
    "        for idx, (trg, _) in enumerate(iterator):\n",
    "\n",
    "            # trg shape N, seq_len\n",
    "            trg = trg[:, 1:]\n",
    "            N, seq_len = trg.shape\n",
    "            trg = trg.to(device)\n",
    "\n",
    "            output = model(trg)\n",
    "\n",
    "            output_dim = output.shape[-1]\n",
    "            output = output[:].contiguous().view(-1, output_dim)\n",
    "            trg = trg.contiguous().view(-1)\n",
    "\n",
    "            if (idx==0) and (epoch!=0):\n",
    "\n",
    "                predicted_tokens = torch.argmax(output, dim=-1)\n",
    "                print('source')\n",
    "                src_tokens = source_vocab.lookup_tokens(trg.tolist())\n",
    "                print(' '.join(src_tokens[:src_tokens.index('<eos>')]))\n",
    "                print('pred')\n",
    "                pred_tokens = source_vocab.lookup_tokens(predicted_tokens.tolist())\n",
    "                print(' '.join(pred_tokens[:pred_tokens.index('<eos>')]))\n",
    "\n",
    "            optimizer.zero_grad()\n",
    "            loss = criterion(output, trg)\n",
    "            loss.backward()\n",
    "\n",
    "            torch.nn.utils.clip_grad_norm_(model.parameters(), max_norm=clip)\n",
    "            optimizer.step()\n",
    "\n",
    "            epoch_loss += loss.item()\n",
    "        print('Loss: ', epoch_loss/len_dp_train)"
   ]
  },
  {
   "cell_type": "code",
   "execution_count": 42,
   "id": "892448fb",
   "metadata": {
    "execution": {
     "iopub.execute_input": "2024-04-16T15:09:30.944272Z",
     "iopub.status.busy": "2024-04-16T15:09:30.943624Z",
     "iopub.status.idle": "2024-04-16T15:16:35.174767Z",
     "shell.execute_reply": "2024-04-16T15:16:35.173786Z"
    },
    "papermill": {
     "duration": 424.268172,
     "end_time": "2024-04-16T15:16:35.194377",
     "exception": false,
     "start_time": "2024-04-16T15:09:30.926205",
     "status": "completed"
    },
    "tags": []
   },
   "outputs": [
    {
     "name": "stdout",
     "output_type": "stream",
     "text": [
      "Epoch 0/5\n",
      "Loss:  0.33511102960309935\n",
      "Epoch 1/5\n",
      "source\n",
      "Tom could n't live up to Mary 's expectations .\n",
      "pred\n",
      "Tom could n't live up to Mary 's expectations .\n",
      "Loss:  0.0045517692039030114\n",
      "Epoch 2/5\n",
      "source\n",
      "Come downstairs .\n",
      "pred\n",
      "Come downstairs .\n",
      "Loss:  0.00017305313568405953\n",
      "Epoch 3/5\n",
      "source\n",
      "Tom says he does n't like chocolate ice cream .\n",
      "pred\n",
      "Tom says he does n't like chocolate ice cream .\n",
      "Loss:  7.851041723173173e-05\n",
      "Epoch 4/5\n",
      "source\n",
      "Let 's take a tea break .\n",
      "pred\n",
      "Let 's take a tea break .\n",
      "Loss:  4.459371802594606e-05\n"
     ]
    }
   ],
   "source": [
    "epochs = 5\n",
    "train_gpt(model, data_pipe, optimizer, criterion, clip, epochs)"
   ]
  },
  {
   "cell_type": "code",
   "execution_count": 43,
   "id": "12bab174",
   "metadata": {
    "execution": {
     "iopub.execute_input": "2024-04-16T15:16:35.231642Z",
     "iopub.status.busy": "2024-04-16T15:16:35.230919Z",
     "iopub.status.idle": "2024-04-16T15:16:37.557471Z",
     "shell.execute_reply": "2024-04-16T15:16:37.556599Z"
    },
    "papermill": {
     "duration": 2.347967,
     "end_time": "2024-04-16T15:16:37.559882",
     "exception": false,
     "start_time": "2024-04-16T15:16:35.211915",
     "status": "completed"
    },
    "tags": []
   },
   "outputs": [],
   "source": [
    "from torchmetrics.functional.text import bleu_score\n",
    "import numpy as np\n",
    "def bleu(data_pipe, model, device):\n",
    "    targets = []\n",
    "    outputs = []\n",
    "    \n",
    "    model.eval()\n",
    "    for idx, (trg, _) in enumerate(data_pipe):\n",
    "        \n",
    "        if idx % 10000 == 0:\n",
    "            print(idx)\n",
    "            \n",
    "        with torch.no_grad():\n",
    "            trg = torch.tensor(trg, device=device).unsqueeze(0)\n",
    "             # trg shape N, seq_len\n",
    "            trg = trg[:, 1:]\n",
    "            N, seq_len = trg.shape\n",
    "            trg = trg.to(device)\n",
    "            output = model(trg)\n",
    "            output_dim = output.shape[-1]\n",
    "            output = output[:].contiguous().view(-1, output_dim)\n",
    "            trg = trg.contiguous().view(-1)\n",
    "            predicted_tokens = torch.argmax(output, dim=-1)\n",
    "            src_tokens = source_vocab.lookup_tokens(trg.tolist())\n",
    "            pred_tokens = source_vocab.lookup_tokens(predicted_tokens.tolist())\n",
    "            \n",
    "            targets.append(' '.join(src_tokens[:src_tokens.index('<eos>')]))\n",
    "            outputs.append(' '.join(pred_tokens[:pred_tokens.index('<eos>')]))\n",
    "            \n",
    "    return bleu_score(outputs, targets)"
   ]
  },
  {
   "cell_type": "code",
   "execution_count": 44,
   "id": "ee5eea70",
   "metadata": {
    "execution": {
     "iopub.execute_input": "2024-04-16T15:16:37.596663Z",
     "iopub.status.busy": "2024-04-16T15:16:37.595923Z",
     "iopub.status.idle": "2024-04-16T15:16:37.601214Z",
     "shell.execute_reply": "2024-04-16T15:16:37.600350Z"
    },
    "papermill": {
     "duration": 0.025164,
     "end_time": "2024-04-16T15:16:37.603138",
     "exception": false,
     "start_time": "2024-04-16T15:16:37.577974",
     "status": "completed"
    },
    "tags": []
   },
   "outputs": [],
   "source": [
    "FILE_PATH = '/kaggle/working/shiny_test.txt'\n",
    "test_data_pipe = dp.iter.IterableWrapper([FILE_PATH])\n",
    "test_data_pipe = dp.iter.FileOpener(test_data_pipe, mode='rb')\n",
    "test_data_pipe = test_data_pipe.parse_csv(skip_lines=1, delimiter='\\t', as_tuple=True)"
   ]
  },
  {
   "cell_type": "code",
   "execution_count": 45,
   "id": "897c68d2",
   "metadata": {
    "execution": {
     "iopub.execute_input": "2024-04-16T15:16:37.638547Z",
     "iopub.status.busy": "2024-04-16T15:16:37.637985Z",
     "iopub.status.idle": "2024-04-16T15:16:48.506383Z",
     "shell.execute_reply": "2024-04-16T15:16:48.505014Z"
    },
    "papermill": {
     "duration": 10.888511,
     "end_time": "2024-04-16T15:16:48.508729",
     "exception": false,
     "start_time": "2024-04-16T15:16:37.620218",
     "status": "completed"
    },
    "tags": []
   },
   "outputs": [
    {
     "name": "stdout",
     "output_type": "stream",
     "text": [
      "([1, 79, 211, 12, 446, 8, 4, 2], [1, 12, 83, 56, 92, 76, 4, 2])\n"
     ]
    }
   ],
   "source": [
    "test_data_pipe = test_data_pipe.map(applyTransform) ## Apply the function to each element in the iterator\n",
    "temp_list = list(test_data_pipe)\n",
    "print(temp_list[0])"
   ]
  },
  {
   "cell_type": "code",
   "execution_count": 46,
   "id": "eedc5797",
   "metadata": {
    "execution": {
     "iopub.execute_input": "2024-04-16T15:16:48.547017Z",
     "iopub.status.busy": "2024-04-16T15:16:48.546645Z",
     "iopub.status.idle": "2024-04-16T15:21:45.013992Z",
     "shell.execute_reply": "2024-04-16T15:21:45.013136Z"
    },
    "papermill": {
     "duration": 296.489028,
     "end_time": "2024-04-16T15:21:45.016462",
     "exception": false,
     "start_time": "2024-04-16T15:16:48.527434",
     "status": "completed"
    },
    "tags": []
   },
   "outputs": [
    {
     "name": "stdout",
     "output_type": "stream",
     "text": [
      "0\n",
      "10000\n",
      "20000\n",
      "30000\n"
     ]
    }
   ],
   "source": [
    "score = bleu(test_data_pipe, model, device)"
   ]
  },
  {
   "cell_type": "code",
   "execution_count": 47,
   "id": "53936ade",
   "metadata": {
    "execution": {
     "iopub.execute_input": "2024-04-16T15:21:45.053389Z",
     "iopub.status.busy": "2024-04-16T15:21:45.053087Z",
     "iopub.status.idle": "2024-04-16T15:21:45.063799Z",
     "shell.execute_reply": "2024-04-16T15:21:45.062971Z"
    },
    "papermill": {
     "duration": 0.031127,
     "end_time": "2024-04-16T15:21:45.065744",
     "exception": false,
     "start_time": "2024-04-16T15:21:45.034617",
     "status": "completed"
    },
    "tags": []
   },
   "outputs": [
    {
     "data": {
      "text/plain": [
       "tensor(1.)"
      ]
     },
     "execution_count": 47,
     "metadata": {},
     "output_type": "execute_result"
    }
   ],
   "source": [
    "score"
   ]
  }
 ],
 "metadata": {
  "kaggle": {
   "accelerator": "gpu",
   "dataSources": [],
   "dockerImageVersionId": 30684,
   "isGpuEnabled": true,
   "isInternetEnabled": true,
   "language": "python",
   "sourceType": "notebook"
  },
  "kernelspec": {
   "display_name": "Python 3",
   "language": "python",
   "name": "python3"
  },
  "language_info": {
   "codemirror_mode": {
    "name": "ipython",
    "version": 3
   },
   "file_extension": ".py",
   "mimetype": "text/x-python",
   "name": "python",
   "nbconvert_exporter": "python",
   "pygments_lexer": "ipython3",
   "version": "3.10.13"
  },
  "papermill": {
   "default_parameters": {},
   "duration": 1083.784002,
   "end_time": "2024-04-16T15:21:47.857056",
   "environment_variables": {},
   "exception": null,
   "input_path": "__notebook__.ipynb",
   "output_path": "__notebook__.ipynb",
   "parameters": {},
   "start_time": "2024-04-16T15:03:44.073054",
   "version": "2.5.0"
  }
 },
 "nbformat": 4,
 "nbformat_minor": 5
}
