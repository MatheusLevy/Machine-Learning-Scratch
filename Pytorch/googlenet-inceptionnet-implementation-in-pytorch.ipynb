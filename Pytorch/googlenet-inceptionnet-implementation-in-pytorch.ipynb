{
 "cells": [
  {
   "cell_type": "code",
   "execution_count": 1,
   "id": "b185f023",
   "metadata": {
    "_cell_guid": "b1076dfc-b9ad-4769-8c92-a6c4dae69d19",
    "_uuid": "8f2839f25d086af736a60e9eeb907d3b93b6e0e5",
    "execution": {
     "iopub.execute_input": "2024-03-20T23:43:37.744627Z",
     "iopub.status.busy": "2024-03-20T23:43:37.744364Z",
     "iopub.status.idle": "2024-03-20T23:43:44.656809Z",
     "shell.execute_reply": "2024-03-20T23:43:44.656007Z"
    },
    "papermill": {
     "duration": 6.920738,
     "end_time": "2024-03-20T23:43:44.659169",
     "exception": false,
     "start_time": "2024-03-20T23:43:37.738431",
     "status": "completed"
    },
    "tags": []
   },
   "outputs": [],
   "source": [
    "import torch\n",
    "import torch.nn as nn\n",
    "import torch.optim as optim\n",
    "import torch.nn.functional as F\n",
    "from torch.utils.data import DataLoader\n",
    "import torchvision.datasets as datasets\n",
    "import torchvision.transforms as transforms\n",
    "from tqdm import tqdm\n",
    "from sklearn.metrics import confusion_matrix\n",
    "import sklearn\n",
    "import matplotlib.pyplot as plt\n",
    "import torchvision"
   ]
  },
  {
   "cell_type": "code",
   "execution_count": 2,
   "id": "6969fd06",
   "metadata": {
    "execution": {
     "iopub.execute_input": "2024-03-20T23:43:44.670002Z",
     "iopub.status.busy": "2024-03-20T23:43:44.669631Z",
     "iopub.status.idle": "2024-03-20T23:43:44.684940Z",
     "shell.execute_reply": "2024-03-20T23:43:44.684118Z"
    },
    "papermill": {
     "duration": 0.022677,
     "end_time": "2024-03-20T23:43:44.686851",
     "exception": false,
     "start_time": "2024-03-20T23:43:44.664174",
     "status": "completed"
    },
    "tags": []
   },
   "outputs": [],
   "source": [
    "class GoogLeNet(nn.Module):\n",
    "    def __init__(self, num_classes=1000, in_channels= 3):\n",
    "        super(GoogLeNet, self).__init__()\n",
    "        self.conv1 = conv_block(in_channels=in_channels, out_channels=64, kernel_size=(7,7),\n",
    "                                stride=(2,2), padding=(3,3))\n",
    "        self.maxpool1 = nn.MaxPool2d(kernel_size=3, stride=2, padding=1)\n",
    "        self.conv2 = conv_block(64, 192, kernel_size=3, stride=1, padding=1)\n",
    "        self.maxpool2 = nn.MaxPool2d(kernel_size=3, stride=2, padding=1)\n",
    "        \n",
    "        # in_channels, out_1x1, reduction_3x3, out_3x3, reduction_5x5, out_5x5, out_1x1_poo\n",
    "        self.Inception3a = Inception_block(192, 64, 96, 128, 16, 32, 32) # From paper table\n",
    "        self.Inception3b = Inception_block(256, 128, 128, 192, 32, 96, 64)\n",
    "        self.maxpool3 = nn.MaxPool2d(kernel_size=3, stride=2, padding=1)\n",
    "        \n",
    "        self.Inception4a = Inception_block(480, 192, 96, 208, 16, 48, 64)\n",
    "        self.Inception4b = Inception_block(512, 160, 112, 224, 24, 64, 64)\n",
    "        self.Inception4c = Inception_block(512, 128, 128, 256, 24, 64, 64)\n",
    "        self.Inception4d = Inception_block(512, 112, 144, 288, 32, 64, 64)\n",
    "        self.Inception4e = Inception_block(528, 256, 160, 320, 32, 128, 128)\n",
    "        self.maxpool4 = nn.MaxPool2d(kernel_size=3, stride=2, padding=1)\n",
    "        \n",
    "        self.Inception5a = Inception_block(832, 256, 160, 320, 32, 128, 128)\n",
    "        self.Inception5b = Inception_block(832, 384, 192, 384, 48, 128, 128)\n",
    "        \n",
    "        self.avgpool = nn.AvgPool2d(kernel_size=7, stride=1)\n",
    "        self.dropout = nn.Dropout(p=0.4)\n",
    "        self.fc1 = nn.Linear(1024, num_classes)\n",
    "        \n",
    "    def forward(self, x):\n",
    "        x = self.conv1(x)\n",
    "        x = self.maxpool1(x)\n",
    "        x = self.conv2(x)\n",
    "        x = self.maxpool2(x)\n",
    "         \n",
    "        x = self.Inception3a(x)\n",
    "        x = self.Inception3b(x)\n",
    "        x = self.maxpool3(x)\n",
    "        \n",
    "        \n",
    "        x = self.Inception4a(x)\n",
    "        x = self.Inception4b(x)\n",
    "        x = self.Inception4c(x)\n",
    "        x = self.Inception4d(x)\n",
    "        x = self.Inception4e(x)\n",
    "        x = self.maxpool4(x)\n",
    "        \n",
    "        \n",
    "        x = self.Inception5a(x)\n",
    "        x = self.Inception5b(x)\n",
    "        x = self.avgpool(x)\n",
    "        x = x.reshape(x.shape[0], -1)\n",
    "        x = self.dropout(x)\n",
    "        x = self.fc1(x)\n",
    "        return x"
   ]
  },
  {
   "cell_type": "code",
   "execution_count": 3,
   "id": "57564c51",
   "metadata": {
    "execution": {
     "iopub.execute_input": "2024-03-20T23:43:44.696784Z",
     "iopub.status.busy": "2024-03-20T23:43:44.696530Z",
     "iopub.status.idle": "2024-03-20T23:43:44.704321Z",
     "shell.execute_reply": "2024-03-20T23:43:44.703463Z"
    },
    "papermill": {
     "duration": 0.014864,
     "end_time": "2024-03-20T23:43:44.706158",
     "exception": false,
     "start_time": "2024-03-20T23:43:44.691294",
     "status": "completed"
    },
    "tags": []
   },
   "outputs": [],
   "source": [
    "class Inception_block(nn.Module):\n",
    "    def __init__(self, in_channels, out_1x1, reduction_3x3, out_3x3, reduction_5x5, out_5x5, out_1x1_pool):\n",
    "        super(Inception_block, self).__init__()\n",
    "        self.branch1 = conv_block(in_channels, out_1x1, kernel_size=1)\n",
    "        self.branch2 = nn.Sequential(\n",
    "            conv_block(in_channels, reduction_3x3, kernel_size=1),\n",
    "            conv_block(reduction_3x3, out_3x3, kernel_size=3, stride=1, padding=1)\n",
    "        )\n",
    "        self.branch3 = nn.Sequential(\n",
    "            conv_block(in_channels, reduction_5x5, kernel_size=1),\n",
    "            conv_block(reduction_5x5, out_5x5, kernel_size=5, stride=1, padding=2)\n",
    "        )\n",
    "        self.branch4 = nn.Sequential(\n",
    "            nn.MaxPool2d(kernel_size=3, stride=1, padding=1),\n",
    "            conv_block(in_channels, out_1x1_pool, kernel_size=1)\n",
    "        )\n",
    "    \n",
    "    def forward(self, x):\n",
    "        return torch.cat([self.branch1(x), self.branch2(x), self.branch3(x), self.branch4(x)], 1)\n",
    "    \n",
    "        "
   ]
  },
  {
   "cell_type": "code",
   "execution_count": 4,
   "id": "d518a63c",
   "metadata": {
    "execution": {
     "iopub.execute_input": "2024-03-20T23:43:44.716268Z",
     "iopub.status.busy": "2024-03-20T23:43:44.715972Z",
     "iopub.status.idle": "2024-03-20T23:43:44.721436Z",
     "shell.execute_reply": "2024-03-20T23:43:44.720641Z"
    },
    "papermill": {
     "duration": 0.012667,
     "end_time": "2024-03-20T23:43:44.723281",
     "exception": false,
     "start_time": "2024-03-20T23:43:44.710614",
     "status": "completed"
    },
    "tags": []
   },
   "outputs": [],
   "source": [
    "class conv_block(nn.Module):\n",
    "    def __init__(self, in_channels, out_channels, **kwargs):\n",
    "        super(conv_block, self).__init__()\n",
    "        self.relu = nn.ReLU()\n",
    "        self.conv = nn.Conv2d(in_channels, out_channels, **kwargs) # kernel_size and other\n",
    "        self.bn = nn.BatchNorm2d(out_channels)\n",
    "        \n",
    "    def forward(self, x):\n",
    "        return self.relu(self.bn(self.conv(x)))"
   ]
  },
  {
   "cell_type": "code",
   "execution_count": 5,
   "id": "c8fec72e",
   "metadata": {
    "execution": {
     "iopub.execute_input": "2024-03-20T23:43:44.733192Z",
     "iopub.status.busy": "2024-03-20T23:43:44.732899Z",
     "iopub.status.idle": "2024-03-20T23:43:45.381884Z",
     "shell.execute_reply": "2024-03-20T23:43:45.380863Z"
    },
    "papermill": {
     "duration": 0.656371,
     "end_time": "2024-03-20T23:43:45.384069",
     "exception": false,
     "start_time": "2024-03-20T23:43:44.727698",
     "status": "completed"
    },
    "tags": []
   },
   "outputs": [
    {
     "name": "stdout",
     "output_type": "stream",
     "text": [
      "torch.Size([3, 1000])\n"
     ]
    }
   ],
   "source": [
    "x = torch.randn(3, 3, 224, 224)\n",
    "model = GoogLeNet()\n",
    "print(model(x).shape)"
   ]
  },
  {
   "cell_type": "code",
   "execution_count": 6,
   "id": "4dafd7d0",
   "metadata": {
    "execution": {
     "iopub.execute_input": "2024-03-20T23:43:45.394949Z",
     "iopub.status.busy": "2024-03-20T23:43:45.394444Z",
     "iopub.status.idle": "2024-03-20T23:43:45.400635Z",
     "shell.execute_reply": "2024-03-20T23:43:45.399810Z"
    },
    "papermill": {
     "duration": 0.013599,
     "end_time": "2024-03-20T23:43:45.402497",
     "exception": false,
     "start_time": "2024-03-20T23:43:45.388898",
     "status": "completed"
    },
    "tags": []
   },
   "outputs": [],
   "source": [
    "imgSize = 224\n",
    "\n",
    "# Transformations\n",
    "# Training transformer\n",
    "transformer = transforms.Compose([\n",
    "    transforms.RandomRotation(degrees = 20),\n",
    "    \n",
    "    transforms.RandomHorizontalFlip(p = 0.3),\n",
    "    transforms.RandomVerticalFlip(p = 0.3),\n",
    "    \n",
    "    transforms.Resize(size = (imgSize, imgSize), antialias = True),\n",
    "    transforms.ToTensor(),\n",
    "#     transforms.Normalize(mean = [0.485, 0.456, 0.406], std = [0.229, 0.224, 0.225])\n",
    "])\n",
    "\n",
    "# Validation transformer\n",
    "valTransformer = transforms.Compose([\n",
    "    transforms.Resize(size = (imgSize, imgSize), antialias = True),\n",
    "    transforms.ToTensor(),\n",
    "#     transforms.Normalize(mean = [0.485, 0.456, 0.406], std = [0.229, 0.224, 0.225])\n",
    "])"
   ]
  },
  {
   "cell_type": "code",
   "execution_count": 7,
   "id": "e9cb640b",
   "metadata": {
    "execution": {
     "iopub.execute_input": "2024-03-20T23:43:45.412601Z",
     "iopub.status.busy": "2024-03-20T23:43:45.412349Z",
     "iopub.status.idle": "2024-03-20T23:43:45.458507Z",
     "shell.execute_reply": "2024-03-20T23:43:45.457757Z"
    },
    "papermill": {
     "duration": 0.053422,
     "end_time": "2024-03-20T23:43:45.460469",
     "exception": false,
     "start_time": "2024-03-20T23:43:45.407047",
     "status": "completed"
    },
    "tags": []
   },
   "outputs": [],
   "source": [
    "device = torch.device(\"cuda\" if torch.cuda.is_available() else \"cpu\")"
   ]
  },
  {
   "cell_type": "code",
   "execution_count": 8,
   "id": "fc7a29d9",
   "metadata": {
    "execution": {
     "iopub.execute_input": "2024-03-20T23:43:45.470831Z",
     "iopub.status.busy": "2024-03-20T23:43:45.470293Z",
     "iopub.status.idle": "2024-03-20T23:43:45.474000Z",
     "shell.execute_reply": "2024-03-20T23:43:45.473186Z"
    },
    "papermill": {
     "duration": 0.010873,
     "end_time": "2024-03-20T23:43:45.475874",
     "exception": false,
     "start_time": "2024-03-20T23:43:45.465001",
     "status": "completed"
    },
    "tags": []
   },
   "outputs": [],
   "source": [
    "# hyperparameters\n",
    "BATCH_SIZE = 64\n",
    "epochs = 30\n",
    "learning_rate = 0.001"
   ]
  },
  {
   "cell_type": "code",
   "execution_count": 9,
   "id": "72770ee8",
   "metadata": {
    "execution": {
     "iopub.execute_input": "2024-03-20T23:43:45.487250Z",
     "iopub.status.busy": "2024-03-20T23:43:45.486718Z",
     "iopub.status.idle": "2024-03-20T23:43:56.370190Z",
     "shell.execute_reply": "2024-03-20T23:43:56.369398Z"
    },
    "papermill": {
     "duration": 10.890993,
     "end_time": "2024-03-20T23:43:56.372465",
     "exception": false,
     "start_time": "2024-03-20T23:43:45.481472",
     "status": "completed"
    },
    "tags": []
   },
   "outputs": [],
   "source": [
    "path = '/kaggle/input/melanoma-cancer-dataset/train'\n",
    "valPath = '/kaggle/input/melanoma-cancer-dataset/test'\n",
    "\n",
    "# Reading data\n",
    "trainData = datasets.ImageFolder(root = path, transform = transformer)\n",
    "testData = datasets.ImageFolder(root = valPath, transform = valTransformer)\n",
    "\n",
    "train_loader = DataLoader(dataset=trainData,batch_size= BATCH_SIZE, shuffle= True)\n",
    "test_loader = DataLoader(dataset=testData, batch_size= BATCH_SIZE, shuffle= False)"
   ]
  },
  {
   "cell_type": "code",
   "execution_count": 10,
   "id": "2c654cf9",
   "metadata": {
    "execution": {
     "iopub.execute_input": "2024-03-20T23:43:56.383116Z",
     "iopub.status.busy": "2024-03-20T23:43:56.382838Z",
     "iopub.status.idle": "2024-03-20T23:43:56.629237Z",
     "shell.execute_reply": "2024-03-20T23:43:56.628253Z"
    },
    "papermill": {
     "duration": 0.254195,
     "end_time": "2024-03-20T23:43:56.631547",
     "exception": false,
     "start_time": "2024-03-20T23:43:56.377352",
     "status": "completed"
    },
    "tags": []
   },
   "outputs": [
    {
     "data": {
      "text/plain": [
       "GoogLeNet(\n",
       "  (conv1): conv_block(\n",
       "    (relu): ReLU()\n",
       "    (conv): Conv2d(3, 64, kernel_size=(7, 7), stride=(2, 2), padding=(3, 3))\n",
       "    (bn): BatchNorm2d(64, eps=1e-05, momentum=0.1, affine=True, track_running_stats=True)\n",
       "  )\n",
       "  (maxpool1): MaxPool2d(kernel_size=3, stride=2, padding=1, dilation=1, ceil_mode=False)\n",
       "  (conv2): conv_block(\n",
       "    (relu): ReLU()\n",
       "    (conv): Conv2d(64, 192, kernel_size=(3, 3), stride=(1, 1), padding=(1, 1))\n",
       "    (bn): BatchNorm2d(192, eps=1e-05, momentum=0.1, affine=True, track_running_stats=True)\n",
       "  )\n",
       "  (maxpool2): MaxPool2d(kernel_size=3, stride=2, padding=1, dilation=1, ceil_mode=False)\n",
       "  (Inception3a): Inception_block(\n",
       "    (branch1): conv_block(\n",
       "      (relu): ReLU()\n",
       "      (conv): Conv2d(192, 64, kernel_size=(1, 1), stride=(1, 1))\n",
       "      (bn): BatchNorm2d(64, eps=1e-05, momentum=0.1, affine=True, track_running_stats=True)\n",
       "    )\n",
       "    (branch2): Sequential(\n",
       "      (0): conv_block(\n",
       "        (relu): ReLU()\n",
       "        (conv): Conv2d(192, 96, kernel_size=(1, 1), stride=(1, 1))\n",
       "        (bn): BatchNorm2d(96, eps=1e-05, momentum=0.1, affine=True, track_running_stats=True)\n",
       "      )\n",
       "      (1): conv_block(\n",
       "        (relu): ReLU()\n",
       "        (conv): Conv2d(96, 128, kernel_size=(3, 3), stride=(1, 1), padding=(1, 1))\n",
       "        (bn): BatchNorm2d(128, eps=1e-05, momentum=0.1, affine=True, track_running_stats=True)\n",
       "      )\n",
       "    )\n",
       "    (branch3): Sequential(\n",
       "      (0): conv_block(\n",
       "        (relu): ReLU()\n",
       "        (conv): Conv2d(192, 16, kernel_size=(1, 1), stride=(1, 1))\n",
       "        (bn): BatchNorm2d(16, eps=1e-05, momentum=0.1, affine=True, track_running_stats=True)\n",
       "      )\n",
       "      (1): conv_block(\n",
       "        (relu): ReLU()\n",
       "        (conv): Conv2d(16, 32, kernel_size=(5, 5), stride=(1, 1), padding=(2, 2))\n",
       "        (bn): BatchNorm2d(32, eps=1e-05, momentum=0.1, affine=True, track_running_stats=True)\n",
       "      )\n",
       "    )\n",
       "    (branch4): Sequential(\n",
       "      (0): MaxPool2d(kernel_size=3, stride=1, padding=1, dilation=1, ceil_mode=False)\n",
       "      (1): conv_block(\n",
       "        (relu): ReLU()\n",
       "        (conv): Conv2d(192, 32, kernel_size=(1, 1), stride=(1, 1))\n",
       "        (bn): BatchNorm2d(32, eps=1e-05, momentum=0.1, affine=True, track_running_stats=True)\n",
       "      )\n",
       "    )\n",
       "  )\n",
       "  (Inception3b): Inception_block(\n",
       "    (branch1): conv_block(\n",
       "      (relu): ReLU()\n",
       "      (conv): Conv2d(256, 128, kernel_size=(1, 1), stride=(1, 1))\n",
       "      (bn): BatchNorm2d(128, eps=1e-05, momentum=0.1, affine=True, track_running_stats=True)\n",
       "    )\n",
       "    (branch2): Sequential(\n",
       "      (0): conv_block(\n",
       "        (relu): ReLU()\n",
       "        (conv): Conv2d(256, 128, kernel_size=(1, 1), stride=(1, 1))\n",
       "        (bn): BatchNorm2d(128, eps=1e-05, momentum=0.1, affine=True, track_running_stats=True)\n",
       "      )\n",
       "      (1): conv_block(\n",
       "        (relu): ReLU()\n",
       "        (conv): Conv2d(128, 192, kernel_size=(3, 3), stride=(1, 1), padding=(1, 1))\n",
       "        (bn): BatchNorm2d(192, eps=1e-05, momentum=0.1, affine=True, track_running_stats=True)\n",
       "      )\n",
       "    )\n",
       "    (branch3): Sequential(\n",
       "      (0): conv_block(\n",
       "        (relu): ReLU()\n",
       "        (conv): Conv2d(256, 32, kernel_size=(1, 1), stride=(1, 1))\n",
       "        (bn): BatchNorm2d(32, eps=1e-05, momentum=0.1, affine=True, track_running_stats=True)\n",
       "      )\n",
       "      (1): conv_block(\n",
       "        (relu): ReLU()\n",
       "        (conv): Conv2d(32, 96, kernel_size=(5, 5), stride=(1, 1), padding=(2, 2))\n",
       "        (bn): BatchNorm2d(96, eps=1e-05, momentum=0.1, affine=True, track_running_stats=True)\n",
       "      )\n",
       "    )\n",
       "    (branch4): Sequential(\n",
       "      (0): MaxPool2d(kernel_size=3, stride=1, padding=1, dilation=1, ceil_mode=False)\n",
       "      (1): conv_block(\n",
       "        (relu): ReLU()\n",
       "        (conv): Conv2d(256, 64, kernel_size=(1, 1), stride=(1, 1))\n",
       "        (bn): BatchNorm2d(64, eps=1e-05, momentum=0.1, affine=True, track_running_stats=True)\n",
       "      )\n",
       "    )\n",
       "  )\n",
       "  (maxpool3): MaxPool2d(kernel_size=3, stride=2, padding=1, dilation=1, ceil_mode=False)\n",
       "  (Inception4a): Inception_block(\n",
       "    (branch1): conv_block(\n",
       "      (relu): ReLU()\n",
       "      (conv): Conv2d(480, 192, kernel_size=(1, 1), stride=(1, 1))\n",
       "      (bn): BatchNorm2d(192, eps=1e-05, momentum=0.1, affine=True, track_running_stats=True)\n",
       "    )\n",
       "    (branch2): Sequential(\n",
       "      (0): conv_block(\n",
       "        (relu): ReLU()\n",
       "        (conv): Conv2d(480, 96, kernel_size=(1, 1), stride=(1, 1))\n",
       "        (bn): BatchNorm2d(96, eps=1e-05, momentum=0.1, affine=True, track_running_stats=True)\n",
       "      )\n",
       "      (1): conv_block(\n",
       "        (relu): ReLU()\n",
       "        (conv): Conv2d(96, 208, kernel_size=(3, 3), stride=(1, 1), padding=(1, 1))\n",
       "        (bn): BatchNorm2d(208, eps=1e-05, momentum=0.1, affine=True, track_running_stats=True)\n",
       "      )\n",
       "    )\n",
       "    (branch3): Sequential(\n",
       "      (0): conv_block(\n",
       "        (relu): ReLU()\n",
       "        (conv): Conv2d(480, 16, kernel_size=(1, 1), stride=(1, 1))\n",
       "        (bn): BatchNorm2d(16, eps=1e-05, momentum=0.1, affine=True, track_running_stats=True)\n",
       "      )\n",
       "      (1): conv_block(\n",
       "        (relu): ReLU()\n",
       "        (conv): Conv2d(16, 48, kernel_size=(5, 5), stride=(1, 1), padding=(2, 2))\n",
       "        (bn): BatchNorm2d(48, eps=1e-05, momentum=0.1, affine=True, track_running_stats=True)\n",
       "      )\n",
       "    )\n",
       "    (branch4): Sequential(\n",
       "      (0): MaxPool2d(kernel_size=3, stride=1, padding=1, dilation=1, ceil_mode=False)\n",
       "      (1): conv_block(\n",
       "        (relu): ReLU()\n",
       "        (conv): Conv2d(480, 64, kernel_size=(1, 1), stride=(1, 1))\n",
       "        (bn): BatchNorm2d(64, eps=1e-05, momentum=0.1, affine=True, track_running_stats=True)\n",
       "      )\n",
       "    )\n",
       "  )\n",
       "  (Inception4b): Inception_block(\n",
       "    (branch1): conv_block(\n",
       "      (relu): ReLU()\n",
       "      (conv): Conv2d(512, 160, kernel_size=(1, 1), stride=(1, 1))\n",
       "      (bn): BatchNorm2d(160, eps=1e-05, momentum=0.1, affine=True, track_running_stats=True)\n",
       "    )\n",
       "    (branch2): Sequential(\n",
       "      (0): conv_block(\n",
       "        (relu): ReLU()\n",
       "        (conv): Conv2d(512, 112, kernel_size=(1, 1), stride=(1, 1))\n",
       "        (bn): BatchNorm2d(112, eps=1e-05, momentum=0.1, affine=True, track_running_stats=True)\n",
       "      )\n",
       "      (1): conv_block(\n",
       "        (relu): ReLU()\n",
       "        (conv): Conv2d(112, 224, kernel_size=(3, 3), stride=(1, 1), padding=(1, 1))\n",
       "        (bn): BatchNorm2d(224, eps=1e-05, momentum=0.1, affine=True, track_running_stats=True)\n",
       "      )\n",
       "    )\n",
       "    (branch3): Sequential(\n",
       "      (0): conv_block(\n",
       "        (relu): ReLU()\n",
       "        (conv): Conv2d(512, 24, kernel_size=(1, 1), stride=(1, 1))\n",
       "        (bn): BatchNorm2d(24, eps=1e-05, momentum=0.1, affine=True, track_running_stats=True)\n",
       "      )\n",
       "      (1): conv_block(\n",
       "        (relu): ReLU()\n",
       "        (conv): Conv2d(24, 64, kernel_size=(5, 5), stride=(1, 1), padding=(2, 2))\n",
       "        (bn): BatchNorm2d(64, eps=1e-05, momentum=0.1, affine=True, track_running_stats=True)\n",
       "      )\n",
       "    )\n",
       "    (branch4): Sequential(\n",
       "      (0): MaxPool2d(kernel_size=3, stride=1, padding=1, dilation=1, ceil_mode=False)\n",
       "      (1): conv_block(\n",
       "        (relu): ReLU()\n",
       "        (conv): Conv2d(512, 64, kernel_size=(1, 1), stride=(1, 1))\n",
       "        (bn): BatchNorm2d(64, eps=1e-05, momentum=0.1, affine=True, track_running_stats=True)\n",
       "      )\n",
       "    )\n",
       "  )\n",
       "  (Inception4c): Inception_block(\n",
       "    (branch1): conv_block(\n",
       "      (relu): ReLU()\n",
       "      (conv): Conv2d(512, 128, kernel_size=(1, 1), stride=(1, 1))\n",
       "      (bn): BatchNorm2d(128, eps=1e-05, momentum=0.1, affine=True, track_running_stats=True)\n",
       "    )\n",
       "    (branch2): Sequential(\n",
       "      (0): conv_block(\n",
       "        (relu): ReLU()\n",
       "        (conv): Conv2d(512, 128, kernel_size=(1, 1), stride=(1, 1))\n",
       "        (bn): BatchNorm2d(128, eps=1e-05, momentum=0.1, affine=True, track_running_stats=True)\n",
       "      )\n",
       "      (1): conv_block(\n",
       "        (relu): ReLU()\n",
       "        (conv): Conv2d(128, 256, kernel_size=(3, 3), stride=(1, 1), padding=(1, 1))\n",
       "        (bn): BatchNorm2d(256, eps=1e-05, momentum=0.1, affine=True, track_running_stats=True)\n",
       "      )\n",
       "    )\n",
       "    (branch3): Sequential(\n",
       "      (0): conv_block(\n",
       "        (relu): ReLU()\n",
       "        (conv): Conv2d(512, 24, kernel_size=(1, 1), stride=(1, 1))\n",
       "        (bn): BatchNorm2d(24, eps=1e-05, momentum=0.1, affine=True, track_running_stats=True)\n",
       "      )\n",
       "      (1): conv_block(\n",
       "        (relu): ReLU()\n",
       "        (conv): Conv2d(24, 64, kernel_size=(5, 5), stride=(1, 1), padding=(2, 2))\n",
       "        (bn): BatchNorm2d(64, eps=1e-05, momentum=0.1, affine=True, track_running_stats=True)\n",
       "      )\n",
       "    )\n",
       "    (branch4): Sequential(\n",
       "      (0): MaxPool2d(kernel_size=3, stride=1, padding=1, dilation=1, ceil_mode=False)\n",
       "      (1): conv_block(\n",
       "        (relu): ReLU()\n",
       "        (conv): Conv2d(512, 64, kernel_size=(1, 1), stride=(1, 1))\n",
       "        (bn): BatchNorm2d(64, eps=1e-05, momentum=0.1, affine=True, track_running_stats=True)\n",
       "      )\n",
       "    )\n",
       "  )\n",
       "  (Inception4d): Inception_block(\n",
       "    (branch1): conv_block(\n",
       "      (relu): ReLU()\n",
       "      (conv): Conv2d(512, 112, kernel_size=(1, 1), stride=(1, 1))\n",
       "      (bn): BatchNorm2d(112, eps=1e-05, momentum=0.1, affine=True, track_running_stats=True)\n",
       "    )\n",
       "    (branch2): Sequential(\n",
       "      (0): conv_block(\n",
       "        (relu): ReLU()\n",
       "        (conv): Conv2d(512, 144, kernel_size=(1, 1), stride=(1, 1))\n",
       "        (bn): BatchNorm2d(144, eps=1e-05, momentum=0.1, affine=True, track_running_stats=True)\n",
       "      )\n",
       "      (1): conv_block(\n",
       "        (relu): ReLU()\n",
       "        (conv): Conv2d(144, 288, kernel_size=(3, 3), stride=(1, 1), padding=(1, 1))\n",
       "        (bn): BatchNorm2d(288, eps=1e-05, momentum=0.1, affine=True, track_running_stats=True)\n",
       "      )\n",
       "    )\n",
       "    (branch3): Sequential(\n",
       "      (0): conv_block(\n",
       "        (relu): ReLU()\n",
       "        (conv): Conv2d(512, 32, kernel_size=(1, 1), stride=(1, 1))\n",
       "        (bn): BatchNorm2d(32, eps=1e-05, momentum=0.1, affine=True, track_running_stats=True)\n",
       "      )\n",
       "      (1): conv_block(\n",
       "        (relu): ReLU()\n",
       "        (conv): Conv2d(32, 64, kernel_size=(5, 5), stride=(1, 1), padding=(2, 2))\n",
       "        (bn): BatchNorm2d(64, eps=1e-05, momentum=0.1, affine=True, track_running_stats=True)\n",
       "      )\n",
       "    )\n",
       "    (branch4): Sequential(\n",
       "      (0): MaxPool2d(kernel_size=3, stride=1, padding=1, dilation=1, ceil_mode=False)\n",
       "      (1): conv_block(\n",
       "        (relu): ReLU()\n",
       "        (conv): Conv2d(512, 64, kernel_size=(1, 1), stride=(1, 1))\n",
       "        (bn): BatchNorm2d(64, eps=1e-05, momentum=0.1, affine=True, track_running_stats=True)\n",
       "      )\n",
       "    )\n",
       "  )\n",
       "  (Inception4e): Inception_block(\n",
       "    (branch1): conv_block(\n",
       "      (relu): ReLU()\n",
       "      (conv): Conv2d(528, 256, kernel_size=(1, 1), stride=(1, 1))\n",
       "      (bn): BatchNorm2d(256, eps=1e-05, momentum=0.1, affine=True, track_running_stats=True)\n",
       "    )\n",
       "    (branch2): Sequential(\n",
       "      (0): conv_block(\n",
       "        (relu): ReLU()\n",
       "        (conv): Conv2d(528, 160, kernel_size=(1, 1), stride=(1, 1))\n",
       "        (bn): BatchNorm2d(160, eps=1e-05, momentum=0.1, affine=True, track_running_stats=True)\n",
       "      )\n",
       "      (1): conv_block(\n",
       "        (relu): ReLU()\n",
       "        (conv): Conv2d(160, 320, kernel_size=(3, 3), stride=(1, 1), padding=(1, 1))\n",
       "        (bn): BatchNorm2d(320, eps=1e-05, momentum=0.1, affine=True, track_running_stats=True)\n",
       "      )\n",
       "    )\n",
       "    (branch3): Sequential(\n",
       "      (0): conv_block(\n",
       "        (relu): ReLU()\n",
       "        (conv): Conv2d(528, 32, kernel_size=(1, 1), stride=(1, 1))\n",
       "        (bn): BatchNorm2d(32, eps=1e-05, momentum=0.1, affine=True, track_running_stats=True)\n",
       "      )\n",
       "      (1): conv_block(\n",
       "        (relu): ReLU()\n",
       "        (conv): Conv2d(32, 128, kernel_size=(5, 5), stride=(1, 1), padding=(2, 2))\n",
       "        (bn): BatchNorm2d(128, eps=1e-05, momentum=0.1, affine=True, track_running_stats=True)\n",
       "      )\n",
       "    )\n",
       "    (branch4): Sequential(\n",
       "      (0): MaxPool2d(kernel_size=3, stride=1, padding=1, dilation=1, ceil_mode=False)\n",
       "      (1): conv_block(\n",
       "        (relu): ReLU()\n",
       "        (conv): Conv2d(528, 128, kernel_size=(1, 1), stride=(1, 1))\n",
       "        (bn): BatchNorm2d(128, eps=1e-05, momentum=0.1, affine=True, track_running_stats=True)\n",
       "      )\n",
       "    )\n",
       "  )\n",
       "  (maxpool4): MaxPool2d(kernel_size=3, stride=2, padding=1, dilation=1, ceil_mode=False)\n",
       "  (Inception5a): Inception_block(\n",
       "    (branch1): conv_block(\n",
       "      (relu): ReLU()\n",
       "      (conv): Conv2d(832, 256, kernel_size=(1, 1), stride=(1, 1))\n",
       "      (bn): BatchNorm2d(256, eps=1e-05, momentum=0.1, affine=True, track_running_stats=True)\n",
       "    )\n",
       "    (branch2): Sequential(\n",
       "      (0): conv_block(\n",
       "        (relu): ReLU()\n",
       "        (conv): Conv2d(832, 160, kernel_size=(1, 1), stride=(1, 1))\n",
       "        (bn): BatchNorm2d(160, eps=1e-05, momentum=0.1, affine=True, track_running_stats=True)\n",
       "      )\n",
       "      (1): conv_block(\n",
       "        (relu): ReLU()\n",
       "        (conv): Conv2d(160, 320, kernel_size=(3, 3), stride=(1, 1), padding=(1, 1))\n",
       "        (bn): BatchNorm2d(320, eps=1e-05, momentum=0.1, affine=True, track_running_stats=True)\n",
       "      )\n",
       "    )\n",
       "    (branch3): Sequential(\n",
       "      (0): conv_block(\n",
       "        (relu): ReLU()\n",
       "        (conv): Conv2d(832, 32, kernel_size=(1, 1), stride=(1, 1))\n",
       "        (bn): BatchNorm2d(32, eps=1e-05, momentum=0.1, affine=True, track_running_stats=True)\n",
       "      )\n",
       "      (1): conv_block(\n",
       "        (relu): ReLU()\n",
       "        (conv): Conv2d(32, 128, kernel_size=(5, 5), stride=(1, 1), padding=(2, 2))\n",
       "        (bn): BatchNorm2d(128, eps=1e-05, momentum=0.1, affine=True, track_running_stats=True)\n",
       "      )\n",
       "    )\n",
       "    (branch4): Sequential(\n",
       "      (0): MaxPool2d(kernel_size=3, stride=1, padding=1, dilation=1, ceil_mode=False)\n",
       "      (1): conv_block(\n",
       "        (relu): ReLU()\n",
       "        (conv): Conv2d(832, 128, kernel_size=(1, 1), stride=(1, 1))\n",
       "        (bn): BatchNorm2d(128, eps=1e-05, momentum=0.1, affine=True, track_running_stats=True)\n",
       "      )\n",
       "    )\n",
       "  )\n",
       "  (Inception5b): Inception_block(\n",
       "    (branch1): conv_block(\n",
       "      (relu): ReLU()\n",
       "      (conv): Conv2d(832, 384, kernel_size=(1, 1), stride=(1, 1))\n",
       "      (bn): BatchNorm2d(384, eps=1e-05, momentum=0.1, affine=True, track_running_stats=True)\n",
       "    )\n",
       "    (branch2): Sequential(\n",
       "      (0): conv_block(\n",
       "        (relu): ReLU()\n",
       "        (conv): Conv2d(832, 192, kernel_size=(1, 1), stride=(1, 1))\n",
       "        (bn): BatchNorm2d(192, eps=1e-05, momentum=0.1, affine=True, track_running_stats=True)\n",
       "      )\n",
       "      (1): conv_block(\n",
       "        (relu): ReLU()\n",
       "        (conv): Conv2d(192, 384, kernel_size=(3, 3), stride=(1, 1), padding=(1, 1))\n",
       "        (bn): BatchNorm2d(384, eps=1e-05, momentum=0.1, affine=True, track_running_stats=True)\n",
       "      )\n",
       "    )\n",
       "    (branch3): Sequential(\n",
       "      (0): conv_block(\n",
       "        (relu): ReLU()\n",
       "        (conv): Conv2d(832, 48, kernel_size=(1, 1), stride=(1, 1))\n",
       "        (bn): BatchNorm2d(48, eps=1e-05, momentum=0.1, affine=True, track_running_stats=True)\n",
       "      )\n",
       "      (1): conv_block(\n",
       "        (relu): ReLU()\n",
       "        (conv): Conv2d(48, 128, kernel_size=(5, 5), stride=(1, 1), padding=(2, 2))\n",
       "        (bn): BatchNorm2d(128, eps=1e-05, momentum=0.1, affine=True, track_running_stats=True)\n",
       "      )\n",
       "    )\n",
       "    (branch4): Sequential(\n",
       "      (0): MaxPool2d(kernel_size=3, stride=1, padding=1, dilation=1, ceil_mode=False)\n",
       "      (1): conv_block(\n",
       "        (relu): ReLU()\n",
       "        (conv): Conv2d(832, 128, kernel_size=(1, 1), stride=(1, 1))\n",
       "        (bn): BatchNorm2d(128, eps=1e-05, momentum=0.1, affine=True, track_running_stats=True)\n",
       "      )\n",
       "    )\n",
       "  )\n",
       "  (avgpool): AvgPool2d(kernel_size=7, stride=1, padding=0)\n",
       "  (dropout): Dropout(p=0.4, inplace=False)\n",
       "  (fc1): Linear(in_features=1024, out_features=2, bias=True)\n",
       ")"
      ]
     },
     "execution_count": 10,
     "metadata": {},
     "output_type": "execute_result"
    }
   ],
   "source": [
    "model = model = GoogLeNet(num_classes=2)\n",
    "model.to(device)"
   ]
  },
  {
   "cell_type": "code",
   "execution_count": 11,
   "id": "85f5b127",
   "metadata": {
    "execution": {
     "iopub.execute_input": "2024-03-20T23:43:56.643064Z",
     "iopub.status.busy": "2024-03-20T23:43:56.642773Z",
     "iopub.status.idle": "2024-03-20T23:43:56.648506Z",
     "shell.execute_reply": "2024-03-20T23:43:56.647664Z"
    },
    "papermill": {
     "duration": 0.013549,
     "end_time": "2024-03-20T23:43:56.650456",
     "exception": false,
     "start_time": "2024-03-20T23:43:56.636907",
     "status": "completed"
    },
    "tags": []
   },
   "outputs": [],
   "source": [
    "criterion = nn.CrossEntropyLoss()\n",
    "optimizer = optim.Adam(model.parameters(), lr= learning_rate)"
   ]
  },
  {
   "cell_type": "code",
   "execution_count": 12,
   "id": "aad9b7ce",
   "metadata": {
    "execution": {
     "iopub.execute_input": "2024-03-20T23:43:56.661553Z",
     "iopub.status.busy": "2024-03-20T23:43:56.661081Z",
     "iopub.status.idle": "2024-03-20T23:43:56.667833Z",
     "shell.execute_reply": "2024-03-20T23:43:56.666979Z"
    },
    "papermill": {
     "duration": 0.014432,
     "end_time": "2024-03-20T23:43:56.669845",
     "exception": false,
     "start_time": "2024-03-20T23:43:56.655413",
     "status": "completed"
    },
    "tags": []
   },
   "outputs": [],
   "source": [
    "def check_accuracy(loader, model, Train= True):\n",
    "    if Train:\n",
    "        print('Checking accuracy on training data')\n",
    "    else:\n",
    "        print('Checking accuracy on test data')\n",
    "    num_correct = 0\n",
    "    num_samples = 0\n",
    "    model.eval()\n",
    "    with torch.no_grad():\n",
    "        for x, y in loader:\n",
    "            x = x.to(device)\n",
    "            y = y.to(device)\n",
    "\n",
    "            scores = model(x)\n",
    "            _, predictions = scores.max(1)\n",
    "            num_correct += (predictions == y).sum()\n",
    "            num_samples += predictions.size(0)\n",
    "    acc = float(num_correct/float(num_samples))\n",
    "    print(f'{num_correct}/{num_samples} with accuracy {float(num_correct/float(num_samples))*100:.2f}')\n",
    "    model.train()\n",
    "    return acc"
   ]
  },
  {
   "cell_type": "code",
   "execution_count": 13,
   "id": "8deaedc3",
   "metadata": {
    "execution": {
     "iopub.execute_input": "2024-03-20T23:43:56.680925Z",
     "iopub.status.busy": "2024-03-20T23:43:56.680664Z",
     "iopub.status.idle": "2024-03-20T23:43:56.684669Z",
     "shell.execute_reply": "2024-03-20T23:43:56.683839Z"
    },
    "papermill": {
     "duration": 0.011611,
     "end_time": "2024-03-20T23:43:56.686511",
     "exception": false,
     "start_time": "2024-03-20T23:43:56.674900",
     "status": "completed"
    },
    "tags": []
   },
   "outputs": [],
   "source": [
    "# Early Stopping\n",
    "patience = 5\n",
    "minDelta = 0.01\n",
    "currentPatience = 0\n",
    "bestLoss = float('inf')"
   ]
  },
  {
   "cell_type": "code",
   "execution_count": 14,
   "id": "6a01b96b",
   "metadata": {
    "execution": {
     "iopub.execute_input": "2024-03-20T23:43:56.697652Z",
     "iopub.status.busy": "2024-03-20T23:43:56.697393Z",
     "iopub.status.idle": "2024-03-21T00:01:11.328479Z",
     "shell.execute_reply": "2024-03-21T00:01:11.327531Z"
    },
    "papermill": {
     "duration": 1034.638752,
     "end_time": "2024-03-21T00:01:11.330386",
     "exception": false,
     "start_time": "2024-03-20T23:43:56.691634",
     "status": "completed"
    },
    "tags": []
   },
   "outputs": [
    {
     "name": "stderr",
     "output_type": "stream",
     "text": [
      "                                                                          \r"
     ]
    },
    {
     "name": "stdout",
     "output_type": "stream",
     "text": [
      "Checking accuracy on training data\n",
      "10093/11879 with accuracy 84.97\n"
     ]
    },
    {
     "name": "stderr",
     "output_type": "stream",
     "text": [
      "                                                                           \r"
     ]
    },
    {
     "name": "stdout",
     "output_type": "stream",
     "text": [
      "Checking accuracy on training data\n",
      "10230/11879 with accuracy 86.12\n"
     ]
    },
    {
     "name": "stderr",
     "output_type": "stream",
     "text": [
      "                                                                           \r"
     ]
    },
    {
     "name": "stdout",
     "output_type": "stream",
     "text": [
      "Checking accuracy on training data\n",
      "9968/11879 with accuracy 83.91\n"
     ]
    },
    {
     "name": "stderr",
     "output_type": "stream",
     "text": [
      "                                                                           \r"
     ]
    },
    {
     "name": "stdout",
     "output_type": "stream",
     "text": [
      "Checking accuracy on training data\n",
      "10139/11879 with accuracy 85.35\n"
     ]
    },
    {
     "name": "stderr",
     "output_type": "stream",
     "text": [
      "                                                                           \r"
     ]
    },
    {
     "name": "stdout",
     "output_type": "stream",
     "text": [
      "Checking accuracy on training data\n",
      "10085/11879 with accuracy 84.90\n"
     ]
    },
    {
     "name": "stderr",
     "output_type": "stream",
     "text": [
      "                                                                            \r"
     ]
    },
    {
     "name": "stdout",
     "output_type": "stream",
     "text": [
      "Checking accuracy on training data\n",
      "10432/11879 with accuracy 87.82\n"
     ]
    },
    {
     "name": "stderr",
     "output_type": "stream",
     "text": [
      "                                                                          \r"
     ]
    },
    {
     "name": "stdout",
     "output_type": "stream",
     "text": [
      "Checking accuracy on training data\n",
      "10451/11879 with accuracy 87.98\n"
     ]
    },
    {
     "name": "stderr",
     "output_type": "stream",
     "text": [
      "                                                                           \r"
     ]
    },
    {
     "name": "stdout",
     "output_type": "stream",
     "text": [
      "Checking accuracy on training data\n",
      "9861/11879 with accuracy 83.01\n"
     ]
    },
    {
     "name": "stderr",
     "output_type": "stream",
     "text": [
      "                                                                           \r"
     ]
    },
    {
     "name": "stdout",
     "output_type": "stream",
     "text": [
      "Checking accuracy on training data\n",
      "10388/11879 with accuracy 87.45\n"
     ]
    },
    {
     "name": "stderr",
     "output_type": "stream",
     "text": [
      "                                                                          \r"
     ]
    },
    {
     "name": "stdout",
     "output_type": "stream",
     "text": [
      "Checking accuracy on training data\n",
      "10023/11879 with accuracy 84.38\n",
      "Checking accuracy on test data\n",
      "1374/2000 with accuracy 68.70\n"
     ]
    },
    {
     "data": {
      "text/plain": [
       "0.687000036239624"
      ]
     },
     "execution_count": 14,
     "metadata": {},
     "output_type": "execute_result"
    }
   ],
   "source": [
    "epochs = 10\n",
    "for epoch in range(epochs):\n",
    "    model.train()\n",
    "    runningLoss = 0.0\n",
    "    loop = tqdm(enumerate(train_loader), total= len(train_loader), leave= False)\n",
    "    for batch_idx, (data, targets) in loop:\n",
    "        # Send data to device\n",
    "        data = data.to(device)\n",
    "        targets = targets.to(device)\n",
    "        \n",
    "        # forward\n",
    "        scores = model(data)\n",
    "        loss = criterion(scores, targets)\n",
    "        \n",
    "        #backprop\n",
    "        optimizer.zero_grad()\n",
    "        loss.backward()\n",
    "        \n",
    "        #log\n",
    "        runningLoss += loss.item()\n",
    "        \n",
    "        #otimizer\n",
    "        optimizer.step()\n",
    "        \n",
    "        # update progress bar\n",
    "        loop.set_description(f'Epoch [{epoch}/{epochs}]')\n",
    "        loop.set_postfix(loss = loss.item())\n",
    "    \n",
    "    trainLoss= runningLoss/len(train_loader)\n",
    "    check_accuracy(train_loader, model, Train=True)\n",
    "check_accuracy(test_loader, model, Train=False)"
   ]
  }
 ],
 "metadata": {
  "kaggle": {
   "accelerator": "gpu",
   "dataSources": [
    {
     "datasetId": 4459076,
     "sourceId": 7649273,
     "sourceType": "datasetVersion"
    }
   ],
   "dockerImageVersionId": 30674,
   "isGpuEnabled": true,
   "isInternetEnabled": true,
   "language": "python",
   "sourceType": "notebook"
  },
  "kernelspec": {
   "display_name": "Python 3",
   "language": "python",
   "name": "python3"
  },
  "language_info": {
   "codemirror_mode": {
    "name": "ipython",
    "version": 3
   },
   "file_extension": ".py",
   "mimetype": "text/x-python",
   "name": "python",
   "nbconvert_exporter": "python",
   "pygments_lexer": "ipython3",
   "version": "3.10.13"
  },
  "papermill": {
   "default_parameters": {},
   "duration": 1058.089181,
   "end_time": "2024-03-21T00:01:13.234903",
   "environment_variables": {},
   "exception": null,
   "input_path": "__notebook__.ipynb",
   "output_path": "__notebook__.ipynb",
   "parameters": {},
   "start_time": "2024-03-20T23:43:35.145722",
   "version": "2.5.0"
  }
 },
 "nbformat": 4,
 "nbformat_minor": 5
}
