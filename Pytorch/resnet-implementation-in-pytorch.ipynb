{
 "cells": [
  {
   "cell_type": "code",
   "execution_count": 1,
   "id": "03b16bcb",
   "metadata": {
    "_cell_guid": "b1076dfc-b9ad-4769-8c92-a6c4dae69d19",
    "_uuid": "8f2839f25d086af736a60e9eeb907d3b93b6e0e5",
    "execution": {
     "iopub.execute_input": "2024-03-21T00:51:00.011579Z",
     "iopub.status.busy": "2024-03-21T00:51:00.010728Z",
     "iopub.status.idle": "2024-03-21T00:51:08.086411Z",
     "shell.execute_reply": "2024-03-21T00:51:08.085383Z"
    },
    "papermill": {
     "duration": 8.08598,
     "end_time": "2024-03-21T00:51:08.089038",
     "exception": false,
     "start_time": "2024-03-21T00:51:00.003058",
     "status": "completed"
    },
    "tags": []
   },
   "outputs": [],
   "source": [
    "import torch\n",
    "import torch.nn as nn\n",
    "import torch.optim as optim\n",
    "import torch.nn.functional as F\n",
    "from torch.utils.data import DataLoader\n",
    "import torchvision.datasets as datasets\n",
    "import torchvision.transforms as transforms\n",
    "from tqdm import tqdm\n",
    "from sklearn.metrics import confusion_matrix\n",
    "import sklearn\n",
    "import matplotlib.pyplot as plt\n",
    "import torchvision"
   ]
  },
  {
   "cell_type": "code",
   "execution_count": 2,
   "id": "3993047f",
   "metadata": {
    "execution": {
     "iopub.execute_input": "2024-03-21T00:51:08.102308Z",
     "iopub.status.busy": "2024-03-21T00:51:08.101832Z",
     "iopub.status.idle": "2024-03-21T00:51:08.114540Z",
     "shell.execute_reply": "2024-03-21T00:51:08.113629Z"
    },
    "papermill": {
     "duration": 0.02146,
     "end_time": "2024-03-21T00:51:08.116723",
     "exception": false,
     "start_time": "2024-03-21T00:51:08.095263",
     "status": "completed"
    },
    "tags": []
   },
   "outputs": [],
   "source": [
    "class block(nn.Module):\n",
    "    def __init__(self, in_channels, out_channels, identity_downsample=None, stride=1):\n",
    "        super(block, self).__init__()\n",
    "        self.expansion = 4\n",
    "        self.conv1 = nn.Conv2d(in_channels, out_channels, kernel_size=1, padding=0)\n",
    "        self.bn1 = nn.BatchNorm2d(out_channels)\n",
    "        self.conv2 = nn.Conv2d(out_channels, out_channels,kernel_size=3, stride= stride, padding=1)\n",
    "        self.bn2 = nn.BatchNorm2d(out_channels)\n",
    "        self.conv3 = nn.Conv2d(out_channels, out_channels*self.expansion, kernel_size=1, stride=1, padding=0)\n",
    "        self.bn3 = nn.BatchNorm2d(out_channels*self.expansion)\n",
    "        self.relu = nn.ReLU()\n",
    "        self.identity_downsample = identity_downsample\n",
    "        \n",
    "    def forward(self, x):\n",
    "        identity = x\n",
    "        \n",
    "        x = self.conv1(x)\n",
    "        x = self.bn1(x)\n",
    "        x = self.relu(x)\n",
    "        x = self.conv2(x)\n",
    "        x = self.bn2(x)\n",
    "        x = self.relu(x)\n",
    "        x = self.conv3(x)\n",
    "        x = self.bn3(x)\n",
    "        x = self.relu(x)\n",
    "        \n",
    "        if self.identity_downsample is not None:\n",
    "            identity = self.identity_downsample(identity)\n",
    "        x  = x + identity\n",
    "        x = self.relu(x)\n",
    "        return x"
   ]
  },
  {
   "cell_type": "code",
   "execution_count": 3,
   "id": "cd9afcab",
   "metadata": {
    "execution": {
     "iopub.execute_input": "2024-03-21T00:51:08.128883Z",
     "iopub.status.busy": "2024-03-21T00:51:08.128548Z",
     "iopub.status.idle": "2024-03-21T00:51:08.142953Z",
     "shell.execute_reply": "2024-03-21T00:51:08.141985Z"
    },
    "papermill": {
     "duration": 0.022962,
     "end_time": "2024-03-21T00:51:08.145165",
     "exception": false,
     "start_time": "2024-03-21T00:51:08.122203",
     "status": "completed"
    },
    "tags": []
   },
   "outputs": [],
   "source": [
    "class Resnet(nn.Module): # layers list of how many times we are going to use the block\n",
    "    def __init__(self, block, layers, image_channels, num_classes):\n",
    "        super(Resnet, self).__init__()\n",
    "        # Steam\n",
    "        self.in_channels = 64\n",
    "        self.conv1 = nn.Conv2d(image_channels, 64, kernel_size=7, stride=2, padding=3)\n",
    "        self.bn1 = nn.BatchNorm2d(64)\n",
    "        self.relu = nn.ReLU()\n",
    "        self.maxpool = nn.MaxPool2d(kernel_size=3, stride=2, padding=1)\n",
    "        \n",
    "        # ResNet Layers\n",
    "        self.layer1 = self._make_layer(block, layers[0], out_channels=64, stride= 1)\n",
    "        self.layer2 = self._make_layer(block, layers[1], out_channels=128, stride= 2)\n",
    "        self.layer3 = self._make_layer(block, layers[2], out_channels=256, stride= 2)\n",
    "        self.layer4 = self._make_layer(block, layers[3], out_channels=512, stride= 2) # 2048\n",
    "        \n",
    "        self.avgpool = nn.AdaptiveAvgPool2d((1,1))\n",
    "        self.fc = nn.Linear(512*4, num_classes)\n",
    "        \n",
    "    def forward(self, x):\n",
    "        x = self.conv1(x)\n",
    "        x = self.bn1(x)\n",
    "        x = self.relu(x)\n",
    "        x = self.maxpool(x)\n",
    "        \n",
    "        x = self.layer1(x)\n",
    "        x = self.layer2(x)\n",
    "        x = self.layer3(x)\n",
    "        x = self.layer4(x)\n",
    "        \n",
    "        x = self.avgpool(x)\n",
    "        x = x.reshape(x.shape[0], -1)\n",
    "        x = self.fc(x)\n",
    "        return x\n",
    "    \n",
    "    def _make_layer(self, block, num_residual_blocks, out_channels, stride):\n",
    "        identity_downsample = None\n",
    "        layers = []\n",
    "        if stride !=1 or self.in_channels != out_channels * 4:\n",
    "            identity_downsample = nn.Sequential(nn.Conv2d(self.in_channels, out_channels*4, kernel_size=1\n",
    "                                                         , stride=stride),\n",
    "                                               nn.BatchNorm2d(out_channels*4))\n",
    "        \n",
    "        layers.append(block(self.in_channels, out_channels, identity_downsample, stride))\n",
    "        self.in_channels = out_channels*4\n",
    "        for i in range(num_residual_blocks-1):\n",
    "            layers.append(block(self.in_channels, out_channels))\n",
    "            \n",
    "        return nn.Sequential(*layers)\n",
    "        "
   ]
  },
  {
   "cell_type": "code",
   "execution_count": 4,
   "id": "59a0aac6",
   "metadata": {
    "execution": {
     "iopub.execute_input": "2024-03-21T00:51:08.156501Z",
     "iopub.status.busy": "2024-03-21T00:51:08.156220Z",
     "iopub.status.idle": "2024-03-21T00:51:08.162440Z",
     "shell.execute_reply": "2024-03-21T00:51:08.161431Z"
    },
    "papermill": {
     "duration": 0.014608,
     "end_time": "2024-03-21T00:51:08.164751",
     "exception": false,
     "start_time": "2024-03-21T00:51:08.150143",
     "status": "completed"
    },
    "tags": []
   },
   "outputs": [],
   "source": [
    "def Resnet50(in_channels=3, num_classes=1000):\n",
    "    return Resnet(block, [3,4,6,3], in_channels, num_classes)\n",
    "\n",
    "def Resnet101(in_channels=3, num_classses=1000):\n",
    "    return Resnet(block, [3,4,23,3], in_channels, num_classes)\n",
    "\n",
    "def Resnet152(in_channels=3, num_classses=1000):\n",
    "    return Resnet(block, [3,8,36,3], in_channels, num_classes)"
   ]
  },
  {
   "cell_type": "code",
   "execution_count": 5,
   "id": "8b89abfc",
   "metadata": {
    "execution": {
     "iopub.execute_input": "2024-03-21T00:51:08.176393Z",
     "iopub.status.busy": "2024-03-21T00:51:08.176061Z",
     "iopub.status.idle": "2024-03-21T00:51:08.181564Z",
     "shell.execute_reply": "2024-03-21T00:51:08.180686Z"
    },
    "papermill": {
     "duration": 0.013957,
     "end_time": "2024-03-21T00:51:08.183667",
     "exception": false,
     "start_time": "2024-03-21T00:51:08.169710",
     "status": "completed"
    },
    "tags": []
   },
   "outputs": [],
   "source": [
    "def test():\n",
    "    net = Resnet50()\n",
    "    x = torch.randn(2, 3, 224, 224)\n",
    "    y = net(x).to('cpu')\n",
    "    print(y.shape)"
   ]
  },
  {
   "cell_type": "code",
   "execution_count": 6,
   "id": "8d040004",
   "metadata": {
    "execution": {
     "iopub.execute_input": "2024-03-21T00:51:08.195438Z",
     "iopub.status.busy": "2024-03-21T00:51:08.194670Z",
     "iopub.status.idle": "2024-03-21T00:51:08.981131Z",
     "shell.execute_reply": "2024-03-21T00:51:08.980222Z"
    },
    "papermill": {
     "duration": 0.794808,
     "end_time": "2024-03-21T00:51:08.983461",
     "exception": false,
     "start_time": "2024-03-21T00:51:08.188653",
     "status": "completed"
    },
    "tags": []
   },
   "outputs": [
    {
     "name": "stdout",
     "output_type": "stream",
     "text": [
      "torch.Size([2, 1000])\n"
     ]
    }
   ],
   "source": [
    "test()"
   ]
  },
  {
   "cell_type": "code",
   "execution_count": 7,
   "id": "e2efbd58",
   "metadata": {
    "execution": {
     "iopub.execute_input": "2024-03-21T00:51:08.994693Z",
     "iopub.status.busy": "2024-03-21T00:51:08.994400Z",
     "iopub.status.idle": "2024-03-21T00:51:09.000455Z",
     "shell.execute_reply": "2024-03-21T00:51:08.999572Z"
    },
    "papermill": {
     "duration": 0.013842,
     "end_time": "2024-03-21T00:51:09.002426",
     "exception": false,
     "start_time": "2024-03-21T00:51:08.988584",
     "status": "completed"
    },
    "tags": []
   },
   "outputs": [],
   "source": [
    "imgSize = 224\n",
    "\n",
    "# Transformations\n",
    "# Training transformer\n",
    "transformer = transforms.Compose([\n",
    "    transforms.RandomRotation(degrees = 20),\n",
    "    \n",
    "    transforms.RandomHorizontalFlip(p = 0.3),\n",
    "    transforms.RandomVerticalFlip(p = 0.3),\n",
    "    \n",
    "    transforms.Resize(size = (imgSize, imgSize), antialias = True),\n",
    "    transforms.ToTensor(),\n",
    "#     transforms.Normalize(mean = [0.485, 0.456, 0.406], std = [0.229, 0.224, 0.225])\n",
    "])\n",
    "\n",
    "# Validation transformer\n",
    "valTransformer = transforms.Compose([\n",
    "    transforms.Resize(size = (imgSize, imgSize), antialias = True),\n",
    "    transforms.ToTensor(),\n",
    "#     transforms.Normalize(mean = [0.485, 0.456, 0.406], std = [0.229, 0.224, 0.225])\n",
    "])"
   ]
  },
  {
   "cell_type": "code",
   "execution_count": 8,
   "id": "cabacae8",
   "metadata": {
    "execution": {
     "iopub.execute_input": "2024-03-21T00:51:09.013152Z",
     "iopub.status.busy": "2024-03-21T00:51:09.012854Z",
     "iopub.status.idle": "2024-03-21T00:51:09.016855Z",
     "shell.execute_reply": "2024-03-21T00:51:09.016035Z"
    },
    "papermill": {
     "duration": 0.01139,
     "end_time": "2024-03-21T00:51:09.018678",
     "exception": false,
     "start_time": "2024-03-21T00:51:09.007288",
     "status": "completed"
    },
    "tags": []
   },
   "outputs": [],
   "source": [
    "# hyperparameters\n",
    "BATCH_SIZE = 32\n",
    "learning_rate = 0.0001"
   ]
  },
  {
   "cell_type": "code",
   "execution_count": 9,
   "id": "81b09757",
   "metadata": {
    "execution": {
     "iopub.execute_input": "2024-03-21T00:51:09.029380Z",
     "iopub.status.busy": "2024-03-21T00:51:09.029117Z",
     "iopub.status.idle": "2024-03-21T00:51:23.419639Z",
     "shell.execute_reply": "2024-03-21T00:51:23.418530Z"
    },
    "papermill": {
     "duration": 14.398567,
     "end_time": "2024-03-21T00:51:23.422212",
     "exception": false,
     "start_time": "2024-03-21T00:51:09.023645",
     "status": "completed"
    },
    "tags": []
   },
   "outputs": [],
   "source": [
    "path = '/kaggle/input/melanoma-cancer-dataset/train'\n",
    "valPath = '/kaggle/input/melanoma-cancer-dataset/test'\n",
    "\n",
    "# Reading data\n",
    "trainData = datasets.ImageFolder(root = path, transform = transformer)\n",
    "testData = datasets.ImageFolder(root = valPath, transform = valTransformer)\n",
    "\n",
    "train_loader = DataLoader(dataset=trainData,batch_size= BATCH_SIZE, shuffle= True)\n",
    "test_loader = DataLoader(dataset=testData, batch_size= BATCH_SIZE, shuffle= False)"
   ]
  },
  {
   "cell_type": "code",
   "execution_count": 10,
   "id": "b7e3ce6b",
   "metadata": {
    "execution": {
     "iopub.execute_input": "2024-03-21T00:51:23.434212Z",
     "iopub.status.busy": "2024-03-21T00:51:23.433857Z",
     "iopub.status.idle": "2024-03-21T00:51:23.933816Z",
     "shell.execute_reply": "2024-03-21T00:51:23.932848Z"
    },
    "papermill": {
     "duration": 0.508795,
     "end_time": "2024-03-21T00:51:23.936426",
     "exception": false,
     "start_time": "2024-03-21T00:51:23.427631",
     "status": "completed"
    },
    "tags": []
   },
   "outputs": [
    {
     "data": {
      "text/plain": [
       "Resnet(\n",
       "  (conv1): Conv2d(3, 64, kernel_size=(7, 7), stride=(2, 2), padding=(3, 3))\n",
       "  (bn1): BatchNorm2d(64, eps=1e-05, momentum=0.1, affine=True, track_running_stats=True)\n",
       "  (relu): ReLU()\n",
       "  (maxpool): MaxPool2d(kernel_size=3, stride=2, padding=1, dilation=1, ceil_mode=False)\n",
       "  (layer1): Sequential(\n",
       "    (0): block(\n",
       "      (conv1): Conv2d(64, 64, kernel_size=(1, 1), stride=(1, 1))\n",
       "      (bn1): BatchNorm2d(64, eps=1e-05, momentum=0.1, affine=True, track_running_stats=True)\n",
       "      (conv2): Conv2d(64, 64, kernel_size=(3, 3), stride=(1, 1), padding=(1, 1))\n",
       "      (bn2): BatchNorm2d(64, eps=1e-05, momentum=0.1, affine=True, track_running_stats=True)\n",
       "      (conv3): Conv2d(64, 256, kernel_size=(1, 1), stride=(1, 1))\n",
       "      (bn3): BatchNorm2d(256, eps=1e-05, momentum=0.1, affine=True, track_running_stats=True)\n",
       "      (relu): ReLU()\n",
       "      (identity_downsample): Sequential(\n",
       "        (0): Conv2d(64, 256, kernel_size=(1, 1), stride=(1, 1))\n",
       "        (1): BatchNorm2d(256, eps=1e-05, momentum=0.1, affine=True, track_running_stats=True)\n",
       "      )\n",
       "    )\n",
       "    (1): block(\n",
       "      (conv1): Conv2d(256, 64, kernel_size=(1, 1), stride=(1, 1))\n",
       "      (bn1): BatchNorm2d(64, eps=1e-05, momentum=0.1, affine=True, track_running_stats=True)\n",
       "      (conv2): Conv2d(64, 64, kernel_size=(3, 3), stride=(1, 1), padding=(1, 1))\n",
       "      (bn2): BatchNorm2d(64, eps=1e-05, momentum=0.1, affine=True, track_running_stats=True)\n",
       "      (conv3): Conv2d(64, 256, kernel_size=(1, 1), stride=(1, 1))\n",
       "      (bn3): BatchNorm2d(256, eps=1e-05, momentum=0.1, affine=True, track_running_stats=True)\n",
       "      (relu): ReLU()\n",
       "    )\n",
       "    (2): block(\n",
       "      (conv1): Conv2d(256, 64, kernel_size=(1, 1), stride=(1, 1))\n",
       "      (bn1): BatchNorm2d(64, eps=1e-05, momentum=0.1, affine=True, track_running_stats=True)\n",
       "      (conv2): Conv2d(64, 64, kernel_size=(3, 3), stride=(1, 1), padding=(1, 1))\n",
       "      (bn2): BatchNorm2d(64, eps=1e-05, momentum=0.1, affine=True, track_running_stats=True)\n",
       "      (conv3): Conv2d(64, 256, kernel_size=(1, 1), stride=(1, 1))\n",
       "      (bn3): BatchNorm2d(256, eps=1e-05, momentum=0.1, affine=True, track_running_stats=True)\n",
       "      (relu): ReLU()\n",
       "    )\n",
       "  )\n",
       "  (layer2): Sequential(\n",
       "    (0): block(\n",
       "      (conv1): Conv2d(256, 128, kernel_size=(1, 1), stride=(1, 1))\n",
       "      (bn1): BatchNorm2d(128, eps=1e-05, momentum=0.1, affine=True, track_running_stats=True)\n",
       "      (conv2): Conv2d(128, 128, kernel_size=(3, 3), stride=(2, 2), padding=(1, 1))\n",
       "      (bn2): BatchNorm2d(128, eps=1e-05, momentum=0.1, affine=True, track_running_stats=True)\n",
       "      (conv3): Conv2d(128, 512, kernel_size=(1, 1), stride=(1, 1))\n",
       "      (bn3): BatchNorm2d(512, eps=1e-05, momentum=0.1, affine=True, track_running_stats=True)\n",
       "      (relu): ReLU()\n",
       "      (identity_downsample): Sequential(\n",
       "        (0): Conv2d(256, 512, kernel_size=(1, 1), stride=(2, 2))\n",
       "        (1): BatchNorm2d(512, eps=1e-05, momentum=0.1, affine=True, track_running_stats=True)\n",
       "      )\n",
       "    )\n",
       "    (1): block(\n",
       "      (conv1): Conv2d(512, 128, kernel_size=(1, 1), stride=(1, 1))\n",
       "      (bn1): BatchNorm2d(128, eps=1e-05, momentum=0.1, affine=True, track_running_stats=True)\n",
       "      (conv2): Conv2d(128, 128, kernel_size=(3, 3), stride=(1, 1), padding=(1, 1))\n",
       "      (bn2): BatchNorm2d(128, eps=1e-05, momentum=0.1, affine=True, track_running_stats=True)\n",
       "      (conv3): Conv2d(128, 512, kernel_size=(1, 1), stride=(1, 1))\n",
       "      (bn3): BatchNorm2d(512, eps=1e-05, momentum=0.1, affine=True, track_running_stats=True)\n",
       "      (relu): ReLU()\n",
       "    )\n",
       "    (2): block(\n",
       "      (conv1): Conv2d(512, 128, kernel_size=(1, 1), stride=(1, 1))\n",
       "      (bn1): BatchNorm2d(128, eps=1e-05, momentum=0.1, affine=True, track_running_stats=True)\n",
       "      (conv2): Conv2d(128, 128, kernel_size=(3, 3), stride=(1, 1), padding=(1, 1))\n",
       "      (bn2): BatchNorm2d(128, eps=1e-05, momentum=0.1, affine=True, track_running_stats=True)\n",
       "      (conv3): Conv2d(128, 512, kernel_size=(1, 1), stride=(1, 1))\n",
       "      (bn3): BatchNorm2d(512, eps=1e-05, momentum=0.1, affine=True, track_running_stats=True)\n",
       "      (relu): ReLU()\n",
       "    )\n",
       "    (3): block(\n",
       "      (conv1): Conv2d(512, 128, kernel_size=(1, 1), stride=(1, 1))\n",
       "      (bn1): BatchNorm2d(128, eps=1e-05, momentum=0.1, affine=True, track_running_stats=True)\n",
       "      (conv2): Conv2d(128, 128, kernel_size=(3, 3), stride=(1, 1), padding=(1, 1))\n",
       "      (bn2): BatchNorm2d(128, eps=1e-05, momentum=0.1, affine=True, track_running_stats=True)\n",
       "      (conv3): Conv2d(128, 512, kernel_size=(1, 1), stride=(1, 1))\n",
       "      (bn3): BatchNorm2d(512, eps=1e-05, momentum=0.1, affine=True, track_running_stats=True)\n",
       "      (relu): ReLU()\n",
       "    )\n",
       "  )\n",
       "  (layer3): Sequential(\n",
       "    (0): block(\n",
       "      (conv1): Conv2d(512, 256, kernel_size=(1, 1), stride=(1, 1))\n",
       "      (bn1): BatchNorm2d(256, eps=1e-05, momentum=0.1, affine=True, track_running_stats=True)\n",
       "      (conv2): Conv2d(256, 256, kernel_size=(3, 3), stride=(2, 2), padding=(1, 1))\n",
       "      (bn2): BatchNorm2d(256, eps=1e-05, momentum=0.1, affine=True, track_running_stats=True)\n",
       "      (conv3): Conv2d(256, 1024, kernel_size=(1, 1), stride=(1, 1))\n",
       "      (bn3): BatchNorm2d(1024, eps=1e-05, momentum=0.1, affine=True, track_running_stats=True)\n",
       "      (relu): ReLU()\n",
       "      (identity_downsample): Sequential(\n",
       "        (0): Conv2d(512, 1024, kernel_size=(1, 1), stride=(2, 2))\n",
       "        (1): BatchNorm2d(1024, eps=1e-05, momentum=0.1, affine=True, track_running_stats=True)\n",
       "      )\n",
       "    )\n",
       "    (1): block(\n",
       "      (conv1): Conv2d(1024, 256, kernel_size=(1, 1), stride=(1, 1))\n",
       "      (bn1): BatchNorm2d(256, eps=1e-05, momentum=0.1, affine=True, track_running_stats=True)\n",
       "      (conv2): Conv2d(256, 256, kernel_size=(3, 3), stride=(1, 1), padding=(1, 1))\n",
       "      (bn2): BatchNorm2d(256, eps=1e-05, momentum=0.1, affine=True, track_running_stats=True)\n",
       "      (conv3): Conv2d(256, 1024, kernel_size=(1, 1), stride=(1, 1))\n",
       "      (bn3): BatchNorm2d(1024, eps=1e-05, momentum=0.1, affine=True, track_running_stats=True)\n",
       "      (relu): ReLU()\n",
       "    )\n",
       "    (2): block(\n",
       "      (conv1): Conv2d(1024, 256, kernel_size=(1, 1), stride=(1, 1))\n",
       "      (bn1): BatchNorm2d(256, eps=1e-05, momentum=0.1, affine=True, track_running_stats=True)\n",
       "      (conv2): Conv2d(256, 256, kernel_size=(3, 3), stride=(1, 1), padding=(1, 1))\n",
       "      (bn2): BatchNorm2d(256, eps=1e-05, momentum=0.1, affine=True, track_running_stats=True)\n",
       "      (conv3): Conv2d(256, 1024, kernel_size=(1, 1), stride=(1, 1))\n",
       "      (bn3): BatchNorm2d(1024, eps=1e-05, momentum=0.1, affine=True, track_running_stats=True)\n",
       "      (relu): ReLU()\n",
       "    )\n",
       "    (3): block(\n",
       "      (conv1): Conv2d(1024, 256, kernel_size=(1, 1), stride=(1, 1))\n",
       "      (bn1): BatchNorm2d(256, eps=1e-05, momentum=0.1, affine=True, track_running_stats=True)\n",
       "      (conv2): Conv2d(256, 256, kernel_size=(3, 3), stride=(1, 1), padding=(1, 1))\n",
       "      (bn2): BatchNorm2d(256, eps=1e-05, momentum=0.1, affine=True, track_running_stats=True)\n",
       "      (conv3): Conv2d(256, 1024, kernel_size=(1, 1), stride=(1, 1))\n",
       "      (bn3): BatchNorm2d(1024, eps=1e-05, momentum=0.1, affine=True, track_running_stats=True)\n",
       "      (relu): ReLU()\n",
       "    )\n",
       "    (4): block(\n",
       "      (conv1): Conv2d(1024, 256, kernel_size=(1, 1), stride=(1, 1))\n",
       "      (bn1): BatchNorm2d(256, eps=1e-05, momentum=0.1, affine=True, track_running_stats=True)\n",
       "      (conv2): Conv2d(256, 256, kernel_size=(3, 3), stride=(1, 1), padding=(1, 1))\n",
       "      (bn2): BatchNorm2d(256, eps=1e-05, momentum=0.1, affine=True, track_running_stats=True)\n",
       "      (conv3): Conv2d(256, 1024, kernel_size=(1, 1), stride=(1, 1))\n",
       "      (bn3): BatchNorm2d(1024, eps=1e-05, momentum=0.1, affine=True, track_running_stats=True)\n",
       "      (relu): ReLU()\n",
       "    )\n",
       "    (5): block(\n",
       "      (conv1): Conv2d(1024, 256, kernel_size=(1, 1), stride=(1, 1))\n",
       "      (bn1): BatchNorm2d(256, eps=1e-05, momentum=0.1, affine=True, track_running_stats=True)\n",
       "      (conv2): Conv2d(256, 256, kernel_size=(3, 3), stride=(1, 1), padding=(1, 1))\n",
       "      (bn2): BatchNorm2d(256, eps=1e-05, momentum=0.1, affine=True, track_running_stats=True)\n",
       "      (conv3): Conv2d(256, 1024, kernel_size=(1, 1), stride=(1, 1))\n",
       "      (bn3): BatchNorm2d(1024, eps=1e-05, momentum=0.1, affine=True, track_running_stats=True)\n",
       "      (relu): ReLU()\n",
       "    )\n",
       "  )\n",
       "  (layer4): Sequential(\n",
       "    (0): block(\n",
       "      (conv1): Conv2d(1024, 512, kernel_size=(1, 1), stride=(1, 1))\n",
       "      (bn1): BatchNorm2d(512, eps=1e-05, momentum=0.1, affine=True, track_running_stats=True)\n",
       "      (conv2): Conv2d(512, 512, kernel_size=(3, 3), stride=(2, 2), padding=(1, 1))\n",
       "      (bn2): BatchNorm2d(512, eps=1e-05, momentum=0.1, affine=True, track_running_stats=True)\n",
       "      (conv3): Conv2d(512, 2048, kernel_size=(1, 1), stride=(1, 1))\n",
       "      (bn3): BatchNorm2d(2048, eps=1e-05, momentum=0.1, affine=True, track_running_stats=True)\n",
       "      (relu): ReLU()\n",
       "      (identity_downsample): Sequential(\n",
       "        (0): Conv2d(1024, 2048, kernel_size=(1, 1), stride=(2, 2))\n",
       "        (1): BatchNorm2d(2048, eps=1e-05, momentum=0.1, affine=True, track_running_stats=True)\n",
       "      )\n",
       "    )\n",
       "    (1): block(\n",
       "      (conv1): Conv2d(2048, 512, kernel_size=(1, 1), stride=(1, 1))\n",
       "      (bn1): BatchNorm2d(512, eps=1e-05, momentum=0.1, affine=True, track_running_stats=True)\n",
       "      (conv2): Conv2d(512, 512, kernel_size=(3, 3), stride=(1, 1), padding=(1, 1))\n",
       "      (bn2): BatchNorm2d(512, eps=1e-05, momentum=0.1, affine=True, track_running_stats=True)\n",
       "      (conv3): Conv2d(512, 2048, kernel_size=(1, 1), stride=(1, 1))\n",
       "      (bn3): BatchNorm2d(2048, eps=1e-05, momentum=0.1, affine=True, track_running_stats=True)\n",
       "      (relu): ReLU()\n",
       "    )\n",
       "    (2): block(\n",
       "      (conv1): Conv2d(2048, 512, kernel_size=(1, 1), stride=(1, 1))\n",
       "      (bn1): BatchNorm2d(512, eps=1e-05, momentum=0.1, affine=True, track_running_stats=True)\n",
       "      (conv2): Conv2d(512, 512, kernel_size=(3, 3), stride=(1, 1), padding=(1, 1))\n",
       "      (bn2): BatchNorm2d(512, eps=1e-05, momentum=0.1, affine=True, track_running_stats=True)\n",
       "      (conv3): Conv2d(512, 2048, kernel_size=(1, 1), stride=(1, 1))\n",
       "      (bn3): BatchNorm2d(2048, eps=1e-05, momentum=0.1, affine=True, track_running_stats=True)\n",
       "      (relu): ReLU()\n",
       "    )\n",
       "  )\n",
       "  (avgpool): AdaptiveAvgPool2d(output_size=(1, 1))\n",
       "  (fc): Linear(in_features=2048, out_features=1000, bias=True)\n",
       ")"
      ]
     },
     "execution_count": 10,
     "metadata": {},
     "output_type": "execute_result"
    }
   ],
   "source": [
    "device= 'cuda'\n",
    "model = Resnet50()\n",
    "model.to(device)"
   ]
  },
  {
   "cell_type": "code",
   "execution_count": 11,
   "id": "61a788c8",
   "metadata": {
    "execution": {
     "iopub.execute_input": "2024-03-21T00:51:23.952792Z",
     "iopub.status.busy": "2024-03-21T00:51:23.952140Z",
     "iopub.status.idle": "2024-03-21T00:51:23.959726Z",
     "shell.execute_reply": "2024-03-21T00:51:23.958704Z"
    },
    "papermill": {
     "duration": 0.019217,
     "end_time": "2024-03-21T00:51:23.962281",
     "exception": false,
     "start_time": "2024-03-21T00:51:23.943064",
     "status": "completed"
    },
    "tags": []
   },
   "outputs": [],
   "source": [
    "criterion = nn.CrossEntropyLoss()\n",
    "optimizer = optim.Adam(model.parameters(), lr= learning_rate)"
   ]
  },
  {
   "cell_type": "code",
   "execution_count": 12,
   "id": "ed7ef75f",
   "metadata": {
    "execution": {
     "iopub.execute_input": "2024-03-21T00:51:23.977175Z",
     "iopub.status.busy": "2024-03-21T00:51:23.976569Z",
     "iopub.status.idle": "2024-03-21T00:51:23.986471Z",
     "shell.execute_reply": "2024-03-21T00:51:23.985147Z"
    },
    "papermill": {
     "duration": 0.020764,
     "end_time": "2024-03-21T00:51:23.989286",
     "exception": false,
     "start_time": "2024-03-21T00:51:23.968522",
     "status": "completed"
    },
    "tags": []
   },
   "outputs": [],
   "source": [
    "def check_accuracy(loader, model, Train= True):\n",
    "    if Train:\n",
    "        print('Checking accuracy on training data')\n",
    "    else:\n",
    "        print('Checking accuracy on test data')\n",
    "    num_correct = 0\n",
    "    num_samples = 0\n",
    "    model.eval()\n",
    "    with torch.no_grad():\n",
    "        for x, y in loader:\n",
    "            x = x.to(device)\n",
    "            y = y.to(device)\n",
    "\n",
    "            scores = model(x)\n",
    "            _, predictions = scores.max(1)\n",
    "            num_correct += (predictions == y).sum()\n",
    "            num_samples += predictions.size(0)\n",
    "    acc = float(num_correct/float(num_samples))\n",
    "    print(f'{num_correct}/{num_samples} with accuracy {float(num_correct/float(num_samples))*100:.2f}')\n",
    "    model.train()\n",
    "    return acc"
   ]
  },
  {
   "cell_type": "code",
   "execution_count": 13,
   "id": "0e691403",
   "metadata": {
    "execution": {
     "iopub.execute_input": "2024-03-21T00:51:24.004590Z",
     "iopub.status.busy": "2024-03-21T00:51:24.004134Z",
     "iopub.status.idle": "2024-03-21T00:51:24.009641Z",
     "shell.execute_reply": "2024-03-21T00:51:24.008507Z"
    },
    "papermill": {
     "duration": 0.016535,
     "end_time": "2024-03-21T00:51:24.012312",
     "exception": false,
     "start_time": "2024-03-21T00:51:23.995777",
     "status": "completed"
    },
    "tags": []
   },
   "outputs": [],
   "source": [
    "# Early Stopping\n",
    "patience = 5\n",
    "minDelta = 0.01\n",
    "currentPatience = 0\n",
    "bestLoss = float('inf')"
   ]
  },
  {
   "cell_type": "code",
   "execution_count": 14,
   "id": "6e9a7c51",
   "metadata": {
    "execution": {
     "iopub.execute_input": "2024-03-21T00:51:24.026012Z",
     "iopub.status.busy": "2024-03-21T00:51:24.025711Z",
     "iopub.status.idle": "2024-03-21T01:14:56.740489Z",
     "shell.execute_reply": "2024-03-21T01:14:56.739457Z"
    },
    "papermill": {
     "duration": 1412.724464,
     "end_time": "2024-03-21T01:14:56.742869",
     "exception": false,
     "start_time": "2024-03-21T00:51:24.018405",
     "status": "completed"
    },
    "tags": []
   },
   "outputs": [
    {
     "name": "stderr",
     "output_type": "stream",
     "text": [
      "                                                                           \r"
     ]
    },
    {
     "name": "stdout",
     "output_type": "stream",
     "text": [
      "Checking accuracy on training data\n",
      "10014/11879 with accuracy 84.30\n"
     ]
    },
    {
     "name": "stderr",
     "output_type": "stream",
     "text": [
      "                                                                           \r"
     ]
    },
    {
     "name": "stdout",
     "output_type": "stream",
     "text": [
      "Checking accuracy on training data\n",
      "9675/11879 with accuracy 81.45\n"
     ]
    },
    {
     "name": "stderr",
     "output_type": "stream",
     "text": [
      "                                                                           \r"
     ]
    },
    {
     "name": "stdout",
     "output_type": "stream",
     "text": [
      "Checking accuracy on training data\n",
      "10314/11879 with accuracy 86.83\n"
     ]
    },
    {
     "name": "stderr",
     "output_type": "stream",
     "text": [
      "                                                                           \r"
     ]
    },
    {
     "name": "stdout",
     "output_type": "stream",
     "text": [
      "Checking accuracy on training data\n",
      "7777/11879 with accuracy 65.47\n"
     ]
    },
    {
     "name": "stderr",
     "output_type": "stream",
     "text": [
      "                                                                           \r"
     ]
    },
    {
     "name": "stdout",
     "output_type": "stream",
     "text": [
      "Checking accuracy on training data\n",
      "10423/11879 with accuracy 87.74\n"
     ]
    },
    {
     "name": "stderr",
     "output_type": "stream",
     "text": [
      "                                                                           \r"
     ]
    },
    {
     "name": "stdout",
     "output_type": "stream",
     "text": [
      "Checking accuracy on training data\n",
      "10426/11879 with accuracy 87.77\n"
     ]
    },
    {
     "name": "stderr",
     "output_type": "stream",
     "text": [
      "                                                                          \r"
     ]
    },
    {
     "name": "stdout",
     "output_type": "stream",
     "text": [
      "Checking accuracy on training data\n",
      "10557/11879 with accuracy 88.87\n"
     ]
    },
    {
     "name": "stderr",
     "output_type": "stream",
     "text": [
      "                                                                            \r"
     ]
    },
    {
     "name": "stdout",
     "output_type": "stream",
     "text": [
      "Checking accuracy on training data\n",
      "9905/11879 with accuracy 83.38\n"
     ]
    },
    {
     "name": "stderr",
     "output_type": "stream",
     "text": [
      "                                                                          \r"
     ]
    },
    {
     "name": "stdout",
     "output_type": "stream",
     "text": [
      "Checking accuracy on training data\n",
      "10548/11879 with accuracy 88.80\n"
     ]
    },
    {
     "name": "stderr",
     "output_type": "stream",
     "text": [
      "                                                                           \r"
     ]
    },
    {
     "name": "stdout",
     "output_type": "stream",
     "text": [
      "Checking accuracy on training data\n",
      "10599/11879 with accuracy 89.22\n",
      "Checking accuracy on test data\n",
      "1841/2000 with accuracy 92.05\n"
     ]
    },
    {
     "data": {
      "text/plain": [
       "0.9205000400543213"
      ]
     },
     "execution_count": 14,
     "metadata": {},
     "output_type": "execute_result"
    }
   ],
   "source": [
    "epochs = 10\n",
    "for epoch in range(epochs):\n",
    "    model.train()\n",
    "    runningLoss = 0.0\n",
    "    loop = tqdm(enumerate(train_loader), total= len(train_loader), leave= False)\n",
    "    for batch_idx, (data, targets) in loop:\n",
    "        # Send data to device\n",
    "        data = data.to(device)\n",
    "        targets = targets.to(device)\n",
    "        \n",
    "        # forward\n",
    "        scores = model(data)\n",
    "        loss = criterion(scores, targets)\n",
    "        \n",
    "        #backprop\n",
    "        optimizer.zero_grad()\n",
    "        loss.backward()\n",
    "        \n",
    "        #log\n",
    "        runningLoss += loss.item()\n",
    "        \n",
    "        #otimizer\n",
    "        optimizer.step()\n",
    "        \n",
    "        # update progress bar\n",
    "        loop.set_description(f'Epoch [{epoch}/{epochs}]')\n",
    "        loop.set_postfix(loss = loss.item())\n",
    "    \n",
    "    trainLoss= runningLoss/len(train_loader)\n",
    "    check_accuracy(train_loader, model, Train=True)\n",
    "check_accuracy(test_loader, model, Train=False)"
   ]
  },
  {
   "cell_type": "code",
   "execution_count": null,
   "id": "ab7889f7",
   "metadata": {
    "papermill": {
     "duration": 0.931155,
     "end_time": "2024-03-21T01:14:58.653809",
     "exception": false,
     "start_time": "2024-03-21T01:14:57.722654",
     "status": "completed"
    },
    "tags": []
   },
   "outputs": [],
   "source": []
  }
 ],
 "metadata": {
  "kaggle": {
   "accelerator": "gpu",
   "dataSources": [
    {
     "datasetId": 4459076,
     "sourceId": 7649273,
     "sourceType": "datasetVersion"
    }
   ],
   "dockerImageVersionId": 30674,
   "isGpuEnabled": true,
   "isInternetEnabled": true,
   "language": "python",
   "sourceType": "notebook"
  },
  "kernelspec": {
   "display_name": "Python 3",
   "language": "python",
   "name": "python3"
  },
  "language_info": {
   "codemirror_mode": {
    "name": "ipython",
    "version": 3
   },
   "file_extension": ".py",
   "mimetype": "text/x-python",
   "name": "python",
   "nbconvert_exporter": "python",
   "pygments_lexer": "ipython3",
   "version": "3.10.13"
  },
  "papermill": {
   "default_parameters": {},
   "duration": 1445.181119,
   "end_time": "2024-03-21T01:15:02.225594",
   "environment_variables": {},
   "exception": null,
   "input_path": "__notebook__.ipynb",
   "output_path": "__notebook__.ipynb",
   "parameters": {},
   "start_time": "2024-03-21T00:50:57.044475",
   "version": "2.5.0"
  }
 },
 "nbformat": 4,
 "nbformat_minor": 5
}
