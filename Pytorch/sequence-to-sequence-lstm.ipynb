{
 "cells": [
  {
   "cell_type": "code",
   "execution_count": 1,
   "id": "8cabd5c3",
   "metadata": {
    "execution": {
     "iopub.execute_input": "2024-04-11T01:15:55.047885Z",
     "iopub.status.busy": "2024-04-11T01:15:55.047096Z",
     "iopub.status.idle": "2024-04-11T01:15:56.624904Z",
     "shell.execute_reply": "2024-04-11T01:15:56.623933Z"
    },
    "papermill": {
     "duration": 1.592342,
     "end_time": "2024-04-11T01:15:56.627121",
     "exception": false,
     "start_time": "2024-04-11T01:15:55.034779",
     "status": "completed"
    },
    "tags": []
   },
   "outputs": [
    {
     "name": "stdout",
     "output_type": "stream",
     "text": [
      "--2024-04-11 01:15:55--  https://raw.githubusercontent.com/Apress/applied-natural-language-processing-w-python/master/data_etc/deu.txt\r\n",
      "Resolving raw.githubusercontent.com (raw.githubusercontent.com)... 185.199.108.133, 185.199.109.133, 185.199.110.133, ...\r\n",
      "Connecting to raw.githubusercontent.com (raw.githubusercontent.com)|185.199.108.133|:443... connected.\r\n",
      "HTTP request sent, awaiting response... 200 OK\r\n",
      "Length: 12316220 (12M) [text/plain]\r\n",
      "Saving to: 'deu.txt'\r\n",
      "\r\n",
      "deu.txt             100%[===================>]  11.75M  --.-KB/s    in 0.09s   \r\n",
      "\r\n",
      "2024-04-11 01:15:56 (131 MB/s) - 'deu.txt' saved [12316220/12316220]\r\n",
      "\r\n"
     ]
    }
   ],
   "source": [
    "!wget 'https://raw.githubusercontent.com/Apress/applied-natural-language-processing-w-python/master/data_etc/deu.txt'"
   ]
  },
  {
   "cell_type": "code",
   "execution_count": 2,
   "id": "e27db615",
   "metadata": {
    "execution": {
     "iopub.execute_input": "2024-04-11T01:15:56.650742Z",
     "iopub.status.busy": "2024-04-11T01:15:56.650437Z",
     "iopub.status.idle": "2024-04-11T01:16:36.133458Z",
     "shell.execute_reply": "2024-04-11T01:16:36.132479Z"
    },
    "papermill": {
     "duration": 39.497504,
     "end_time": "2024-04-11T01:16:36.135930",
     "exception": false,
     "start_time": "2024-04-11T01:15:56.638426",
     "status": "completed"
    },
    "tags": []
   },
   "outputs": [
    {
     "name": "stdout",
     "output_type": "stream",
     "text": [
      "Collecting en-core-web-sm==3.7.1\r\n",
      "  Downloading https://github.com/explosion/spacy-models/releases/download/en_core_web_sm-3.7.1/en_core_web_sm-3.7.1-py3-none-any.whl (12.8 MB)\r\n",
      "\u001b[2K     \u001b[90m━━━━━━━━━━━━━━━━━━━━━━━━━━━━━━━━━━━━━━━━\u001b[0m \u001b[32m12.8/12.8 MB\u001b[0m \u001b[31m82.9 MB/s\u001b[0m eta \u001b[36m0:00:00\u001b[0m\r\n",
      "\u001b[?25hRequirement already satisfied: spacy<3.8.0,>=3.7.2 in /opt/conda/lib/python3.10/site-packages (from en-core-web-sm==3.7.1) (3.7.2)\r\n",
      "Requirement already satisfied: spacy-legacy<3.1.0,>=3.0.11 in /opt/conda/lib/python3.10/site-packages (from spacy<3.8.0,>=3.7.2->en-core-web-sm==3.7.1) (3.0.12)\r\n",
      "Requirement already satisfied: spacy-loggers<2.0.0,>=1.0.0 in /opt/conda/lib/python3.10/site-packages (from spacy<3.8.0,>=3.7.2->en-core-web-sm==3.7.1) (1.0.5)\r\n",
      "Requirement already satisfied: murmurhash<1.1.0,>=0.28.0 in /opt/conda/lib/python3.10/site-packages (from spacy<3.8.0,>=3.7.2->en-core-web-sm==3.7.1) (1.0.10)\r\n",
      "Requirement already satisfied: cymem<2.1.0,>=2.0.2 in /opt/conda/lib/python3.10/site-packages (from spacy<3.8.0,>=3.7.2->en-core-web-sm==3.7.1) (2.0.8)\r\n",
      "Requirement already satisfied: preshed<3.1.0,>=3.0.2 in /opt/conda/lib/python3.10/site-packages (from spacy<3.8.0,>=3.7.2->en-core-web-sm==3.7.1) (3.0.9)\r\n",
      "Requirement already satisfied: thinc<8.3.0,>=8.1.8 in /opt/conda/lib/python3.10/site-packages (from spacy<3.8.0,>=3.7.2->en-core-web-sm==3.7.1) (8.2.2)\r\n",
      "Requirement already satisfied: wasabi<1.2.0,>=0.9.1 in /opt/conda/lib/python3.10/site-packages (from spacy<3.8.0,>=3.7.2->en-core-web-sm==3.7.1) (1.1.2)\r\n",
      "Requirement already satisfied: srsly<3.0.0,>=2.4.3 in /opt/conda/lib/python3.10/site-packages (from spacy<3.8.0,>=3.7.2->en-core-web-sm==3.7.1) (2.4.8)\r\n",
      "Requirement already satisfied: catalogue<2.1.0,>=2.0.6 in /opt/conda/lib/python3.10/site-packages (from spacy<3.8.0,>=3.7.2->en-core-web-sm==3.7.1) (2.0.10)\r\n",
      "Requirement already satisfied: weasel<0.4.0,>=0.1.0 in /opt/conda/lib/python3.10/site-packages (from spacy<3.8.0,>=3.7.2->en-core-web-sm==3.7.1) (0.3.4)\r\n",
      "Requirement already satisfied: typer<0.10.0,>=0.3.0 in /opt/conda/lib/python3.10/site-packages (from spacy<3.8.0,>=3.7.2->en-core-web-sm==3.7.1) (0.9.0)\r\n",
      "Requirement already satisfied: smart-open<7.0.0,>=5.2.1 in /opt/conda/lib/python3.10/site-packages (from spacy<3.8.0,>=3.7.2->en-core-web-sm==3.7.1) (6.4.0)\r\n",
      "Requirement already satisfied: tqdm<5.0.0,>=4.38.0 in /opt/conda/lib/python3.10/site-packages (from spacy<3.8.0,>=3.7.2->en-core-web-sm==3.7.1) (4.66.1)\r\n",
      "Requirement already satisfied: requests<3.0.0,>=2.13.0 in /opt/conda/lib/python3.10/site-packages (from spacy<3.8.0,>=3.7.2->en-core-web-sm==3.7.1) (2.31.0)\r\n",
      "Requirement already satisfied: pydantic!=1.8,!=1.8.1,<3.0.0,>=1.7.4 in /opt/conda/lib/python3.10/site-packages (from spacy<3.8.0,>=3.7.2->en-core-web-sm==3.7.1) (2.5.3)\r\n",
      "Requirement already satisfied: jinja2 in /opt/conda/lib/python3.10/site-packages (from spacy<3.8.0,>=3.7.2->en-core-web-sm==3.7.1) (3.1.2)\r\n",
      "Requirement already satisfied: setuptools in /opt/conda/lib/python3.10/site-packages (from spacy<3.8.0,>=3.7.2->en-core-web-sm==3.7.1) (69.0.3)\r\n",
      "Requirement already satisfied: packaging>=20.0 in /opt/conda/lib/python3.10/site-packages (from spacy<3.8.0,>=3.7.2->en-core-web-sm==3.7.1) (21.3)\r\n",
      "Requirement already satisfied: langcodes<4.0.0,>=3.2.0 in /opt/conda/lib/python3.10/site-packages (from spacy<3.8.0,>=3.7.2->en-core-web-sm==3.7.1) (3.3.0)\r\n",
      "Requirement already satisfied: numpy>=1.19.0 in /opt/conda/lib/python3.10/site-packages (from spacy<3.8.0,>=3.7.2->en-core-web-sm==3.7.1) (1.26.4)\r\n",
      "Requirement already satisfied: pyparsing!=3.0.5,>=2.0.2 in /opt/conda/lib/python3.10/site-packages (from packaging>=20.0->spacy<3.8.0,>=3.7.2->en-core-web-sm==3.7.1) (3.1.1)\r\n",
      "Requirement already satisfied: annotated-types>=0.4.0 in /opt/conda/lib/python3.10/site-packages (from pydantic!=1.8,!=1.8.1,<3.0.0,>=1.7.4->spacy<3.8.0,>=3.7.2->en-core-web-sm==3.7.1) (0.6.0)\r\n",
      "Requirement already satisfied: pydantic-core==2.14.6 in /opt/conda/lib/python3.10/site-packages (from pydantic!=1.8,!=1.8.1,<3.0.0,>=1.7.4->spacy<3.8.0,>=3.7.2->en-core-web-sm==3.7.1) (2.14.6)\r\n",
      "Requirement already satisfied: typing-extensions>=4.6.1 in /opt/conda/lib/python3.10/site-packages (from pydantic!=1.8,!=1.8.1,<3.0.0,>=1.7.4->spacy<3.8.0,>=3.7.2->en-core-web-sm==3.7.1) (4.9.0)\r\n",
      "Requirement already satisfied: charset-normalizer<4,>=2 in /opt/conda/lib/python3.10/site-packages (from requests<3.0.0,>=2.13.0->spacy<3.8.0,>=3.7.2->en-core-web-sm==3.7.1) (3.3.2)\r\n",
      "Requirement already satisfied: idna<4,>=2.5 in /opt/conda/lib/python3.10/site-packages (from requests<3.0.0,>=2.13.0->spacy<3.8.0,>=3.7.2->en-core-web-sm==3.7.1) (3.6)\r\n",
      "Requirement already satisfied: urllib3<3,>=1.21.1 in /opt/conda/lib/python3.10/site-packages (from requests<3.0.0,>=2.13.0->spacy<3.8.0,>=3.7.2->en-core-web-sm==3.7.1) (1.26.18)\r\n",
      "Requirement already satisfied: certifi>=2017.4.17 in /opt/conda/lib/python3.10/site-packages (from requests<3.0.0,>=2.13.0->spacy<3.8.0,>=3.7.2->en-core-web-sm==3.7.1) (2024.2.2)\r\n",
      "Requirement already satisfied: blis<0.8.0,>=0.7.8 in /opt/conda/lib/python3.10/site-packages (from thinc<8.3.0,>=8.1.8->spacy<3.8.0,>=3.7.2->en-core-web-sm==3.7.1) (0.7.10)\r\n",
      "Requirement already satisfied: confection<1.0.0,>=0.0.1 in /opt/conda/lib/python3.10/site-packages (from thinc<8.3.0,>=8.1.8->spacy<3.8.0,>=3.7.2->en-core-web-sm==3.7.1) (0.1.4)\r\n",
      "Requirement already satisfied: click<9.0.0,>=7.1.1 in /opt/conda/lib/python3.10/site-packages (from typer<0.10.0,>=0.3.0->spacy<3.8.0,>=3.7.2->en-core-web-sm==3.7.1) (8.1.7)\r\n",
      "Requirement already satisfied: cloudpathlib<0.17.0,>=0.7.0 in /opt/conda/lib/python3.10/site-packages (from weasel<0.4.0,>=0.1.0->spacy<3.8.0,>=3.7.2->en-core-web-sm==3.7.1) (0.16.0)\r\n",
      "Requirement already satisfied: MarkupSafe>=2.0 in /opt/conda/lib/python3.10/site-packages (from jinja2->spacy<3.8.0,>=3.7.2->en-core-web-sm==3.7.1) (2.1.3)\r\n",
      "\u001b[38;5;2m✔ Download and installation successful\u001b[0m\r\n",
      "You can now load the package via spacy.load('en_core_web_sm')\r\n",
      "Collecting de-core-news-sm==3.7.0\r\n",
      "  Downloading https://github.com/explosion/spacy-models/releases/download/de_core_news_sm-3.7.0/de_core_news_sm-3.7.0-py3-none-any.whl (14.6 MB)\r\n",
      "\u001b[2K     \u001b[90m━━━━━━━━━━━━━━━━━━━━━━━━━━━━━━━━━━━━━━━━\u001b[0m \u001b[32m14.6/14.6 MB\u001b[0m \u001b[31m77.3 MB/s\u001b[0m eta \u001b[36m0:00:00\u001b[0m\r\n",
      "\u001b[?25hRequirement already satisfied: spacy<3.8.0,>=3.7.0 in /opt/conda/lib/python3.10/site-packages (from de-core-news-sm==3.7.0) (3.7.2)\r\n",
      "Requirement already satisfied: spacy-legacy<3.1.0,>=3.0.11 in /opt/conda/lib/python3.10/site-packages (from spacy<3.8.0,>=3.7.0->de-core-news-sm==3.7.0) (3.0.12)\r\n",
      "Requirement already satisfied: spacy-loggers<2.0.0,>=1.0.0 in /opt/conda/lib/python3.10/site-packages (from spacy<3.8.0,>=3.7.0->de-core-news-sm==3.7.0) (1.0.5)\r\n",
      "Requirement already satisfied: murmurhash<1.1.0,>=0.28.0 in /opt/conda/lib/python3.10/site-packages (from spacy<3.8.0,>=3.7.0->de-core-news-sm==3.7.0) (1.0.10)\r\n",
      "Requirement already satisfied: cymem<2.1.0,>=2.0.2 in /opt/conda/lib/python3.10/site-packages (from spacy<3.8.0,>=3.7.0->de-core-news-sm==3.7.0) (2.0.8)\r\n",
      "Requirement already satisfied: preshed<3.1.0,>=3.0.2 in /opt/conda/lib/python3.10/site-packages (from spacy<3.8.0,>=3.7.0->de-core-news-sm==3.7.0) (3.0.9)\r\n",
      "Requirement already satisfied: thinc<8.3.0,>=8.1.8 in /opt/conda/lib/python3.10/site-packages (from spacy<3.8.0,>=3.7.0->de-core-news-sm==3.7.0) (8.2.2)\r\n",
      "Requirement already satisfied: wasabi<1.2.0,>=0.9.1 in /opt/conda/lib/python3.10/site-packages (from spacy<3.8.0,>=3.7.0->de-core-news-sm==3.7.0) (1.1.2)\r\n",
      "Requirement already satisfied: srsly<3.0.0,>=2.4.3 in /opt/conda/lib/python3.10/site-packages (from spacy<3.8.0,>=3.7.0->de-core-news-sm==3.7.0) (2.4.8)\r\n",
      "Requirement already satisfied: catalogue<2.1.0,>=2.0.6 in /opt/conda/lib/python3.10/site-packages (from spacy<3.8.0,>=3.7.0->de-core-news-sm==3.7.0) (2.0.10)\r\n",
      "Requirement already satisfied: weasel<0.4.0,>=0.1.0 in /opt/conda/lib/python3.10/site-packages (from spacy<3.8.0,>=3.7.0->de-core-news-sm==3.7.0) (0.3.4)\r\n",
      "Requirement already satisfied: typer<0.10.0,>=0.3.0 in /opt/conda/lib/python3.10/site-packages (from spacy<3.8.0,>=3.7.0->de-core-news-sm==3.7.0) (0.9.0)\r\n",
      "Requirement already satisfied: smart-open<7.0.0,>=5.2.1 in /opt/conda/lib/python3.10/site-packages (from spacy<3.8.0,>=3.7.0->de-core-news-sm==3.7.0) (6.4.0)\r\n",
      "Requirement already satisfied: tqdm<5.0.0,>=4.38.0 in /opt/conda/lib/python3.10/site-packages (from spacy<3.8.0,>=3.7.0->de-core-news-sm==3.7.0) (4.66.1)\r\n",
      "Requirement already satisfied: requests<3.0.0,>=2.13.0 in /opt/conda/lib/python3.10/site-packages (from spacy<3.8.0,>=3.7.0->de-core-news-sm==3.7.0) (2.31.0)\r\n",
      "Requirement already satisfied: pydantic!=1.8,!=1.8.1,<3.0.0,>=1.7.4 in /opt/conda/lib/python3.10/site-packages (from spacy<3.8.0,>=3.7.0->de-core-news-sm==3.7.0) (2.5.3)\r\n",
      "Requirement already satisfied: jinja2 in /opt/conda/lib/python3.10/site-packages (from spacy<3.8.0,>=3.7.0->de-core-news-sm==3.7.0) (3.1.2)\r\n",
      "Requirement already satisfied: setuptools in /opt/conda/lib/python3.10/site-packages (from spacy<3.8.0,>=3.7.0->de-core-news-sm==3.7.0) (69.0.3)\r\n",
      "Requirement already satisfied: packaging>=20.0 in /opt/conda/lib/python3.10/site-packages (from spacy<3.8.0,>=3.7.0->de-core-news-sm==3.7.0) (21.3)\r\n",
      "Requirement already satisfied: langcodes<4.0.0,>=3.2.0 in /opt/conda/lib/python3.10/site-packages (from spacy<3.8.0,>=3.7.0->de-core-news-sm==3.7.0) (3.3.0)\r\n",
      "Requirement already satisfied: numpy>=1.19.0 in /opt/conda/lib/python3.10/site-packages (from spacy<3.8.0,>=3.7.0->de-core-news-sm==3.7.0) (1.26.4)\r\n",
      "Requirement already satisfied: pyparsing!=3.0.5,>=2.0.2 in /opt/conda/lib/python3.10/site-packages (from packaging>=20.0->spacy<3.8.0,>=3.7.0->de-core-news-sm==3.7.0) (3.1.1)\r\n",
      "Requirement already satisfied: annotated-types>=0.4.0 in /opt/conda/lib/python3.10/site-packages (from pydantic!=1.8,!=1.8.1,<3.0.0,>=1.7.4->spacy<3.8.0,>=3.7.0->de-core-news-sm==3.7.0) (0.6.0)\r\n",
      "Requirement already satisfied: pydantic-core==2.14.6 in /opt/conda/lib/python3.10/site-packages (from pydantic!=1.8,!=1.8.1,<3.0.0,>=1.7.4->spacy<3.8.0,>=3.7.0->de-core-news-sm==3.7.0) (2.14.6)\r\n",
      "Requirement already satisfied: typing-extensions>=4.6.1 in /opt/conda/lib/python3.10/site-packages (from pydantic!=1.8,!=1.8.1,<3.0.0,>=1.7.4->spacy<3.8.0,>=3.7.0->de-core-news-sm==3.7.0) (4.9.0)\r\n",
      "Requirement already satisfied: charset-normalizer<4,>=2 in /opt/conda/lib/python3.10/site-packages (from requests<3.0.0,>=2.13.0->spacy<3.8.0,>=3.7.0->de-core-news-sm==3.7.0) (3.3.2)\r\n",
      "Requirement already satisfied: idna<4,>=2.5 in /opt/conda/lib/python3.10/site-packages (from requests<3.0.0,>=2.13.0->spacy<3.8.0,>=3.7.0->de-core-news-sm==3.7.0) (3.6)\r\n",
      "Requirement already satisfied: urllib3<3,>=1.21.1 in /opt/conda/lib/python3.10/site-packages (from requests<3.0.0,>=2.13.0->spacy<3.8.0,>=3.7.0->de-core-news-sm==3.7.0) (1.26.18)\r\n",
      "Requirement already satisfied: certifi>=2017.4.17 in /opt/conda/lib/python3.10/site-packages (from requests<3.0.0,>=2.13.0->spacy<3.8.0,>=3.7.0->de-core-news-sm==3.7.0) (2024.2.2)\r\n",
      "Requirement already satisfied: blis<0.8.0,>=0.7.8 in /opt/conda/lib/python3.10/site-packages (from thinc<8.3.0,>=8.1.8->spacy<3.8.0,>=3.7.0->de-core-news-sm==3.7.0) (0.7.10)\r\n",
      "Requirement already satisfied: confection<1.0.0,>=0.0.1 in /opt/conda/lib/python3.10/site-packages (from thinc<8.3.0,>=8.1.8->spacy<3.8.0,>=3.7.0->de-core-news-sm==3.7.0) (0.1.4)\r\n",
      "Requirement already satisfied: click<9.0.0,>=7.1.1 in /opt/conda/lib/python3.10/site-packages (from typer<0.10.0,>=0.3.0->spacy<3.8.0,>=3.7.0->de-core-news-sm==3.7.0) (8.1.7)\r\n",
      "Requirement already satisfied: cloudpathlib<0.17.0,>=0.7.0 in /opt/conda/lib/python3.10/site-packages (from weasel<0.4.0,>=0.1.0->spacy<3.8.0,>=3.7.0->de-core-news-sm==3.7.0) (0.16.0)\r\n",
      "Requirement already satisfied: MarkupSafe>=2.0 in /opt/conda/lib/python3.10/site-packages (from jinja2->spacy<3.8.0,>=3.7.0->de-core-news-sm==3.7.0) (2.1.3)\r\n",
      "Installing collected packages: de-core-news-sm\r\n",
      "Successfully installed de-core-news-sm-3.7.0\r\n",
      "\u001b[38;5;2m✔ Download and installation successful\u001b[0m\r\n",
      "You can now load the package via spacy.load('de_core_news_sm')\r\n"
     ]
    }
   ],
   "source": [
    "!python -m spacy download en_core_web_sm\n",
    "!python -m spacy download de_core_news_sm"
   ]
  },
  {
   "cell_type": "code",
   "execution_count": 3,
   "id": "746239d5",
   "metadata": {
    "execution": {
     "iopub.execute_input": "2024-04-11T01:16:36.165546Z",
     "iopub.status.busy": "2024-04-11T01:16:36.164888Z",
     "iopub.status.idle": "2024-04-11T01:16:37.868902Z",
     "shell.execute_reply": "2024-04-11T01:16:37.868120Z"
    },
    "papermill": {
     "duration": 1.721539,
     "end_time": "2024-04-11T01:16:37.871078",
     "exception": false,
     "start_time": "2024-04-11T01:16:36.149539",
     "status": "completed"
    },
    "tags": []
   },
   "outputs": [],
   "source": [
    "import torch"
   ]
  },
  {
   "cell_type": "code",
   "execution_count": 4,
   "id": "1affbfde",
   "metadata": {
    "execution": {
     "iopub.execute_input": "2024-04-11T01:16:37.900456Z",
     "iopub.status.busy": "2024-04-11T01:16:37.900052Z",
     "iopub.status.idle": "2024-04-11T01:16:37.919692Z",
     "shell.execute_reply": "2024-04-11T01:16:37.918819Z"
    },
    "papermill": {
     "duration": 0.037059,
     "end_time": "2024-04-11T01:16:37.921603",
     "exception": false,
     "start_time": "2024-04-11T01:16:37.884544",
     "status": "completed"
    },
    "tags": []
   },
   "outputs": [],
   "source": [
    "device = torch.device('cuda' if torch.cuda.is_available() else 'cpu')"
   ]
  },
  {
   "cell_type": "code",
   "execution_count": 5,
   "id": "69be2f54",
   "metadata": {
    "execution": {
     "iopub.execute_input": "2024-04-11T01:16:37.948792Z",
     "iopub.status.busy": "2024-04-11T01:16:37.948525Z",
     "iopub.status.idle": "2024-04-11T01:16:37.952881Z",
     "shell.execute_reply": "2024-04-11T01:16:37.952054Z"
    },
    "papermill": {
     "duration": 0.02031,
     "end_time": "2024-04-11T01:16:37.954925",
     "exception": false,
     "start_time": "2024-04-11T01:16:37.934615",
     "status": "completed"
    },
    "tags": []
   },
   "outputs": [
    {
     "name": "stdout",
     "output_type": "stream",
     "text": [
      "cuda\n"
     ]
    }
   ],
   "source": [
    "print(device)"
   ]
  },
  {
   "cell_type": "code",
   "execution_count": 6,
   "id": "af5f953e",
   "metadata": {
    "execution": {
     "iopub.execute_input": "2024-04-11T01:16:37.982483Z",
     "iopub.status.busy": "2024-04-11T01:16:37.981800Z",
     "iopub.status.idle": "2024-04-11T01:16:44.600952Z",
     "shell.execute_reply": "2024-04-11T01:16:44.600119Z"
    },
    "papermill": {
     "duration": 6.635195,
     "end_time": "2024-04-11T01:16:44.603218",
     "exception": false,
     "start_time": "2024-04-11T01:16:37.968023",
     "status": "completed"
    },
    "tags": []
   },
   "outputs": [],
   "source": [
    "import torchdata.datapipes as dp\n",
    "import torchtext.transforms as T\n",
    "import spacy\n",
    "import random\n",
    "from torchtext.vocab import build_vocab_from_iterator\n",
    "eng = spacy.load(\"en_core_web_sm\") # Load the English model to tokenize English text\n",
    "de = spacy.load(\"de_core_news_sm\") # Load the German model to tokenize German text"
   ]
  },
  {
   "cell_type": "code",
   "execution_count": 7,
   "id": "a4158040",
   "metadata": {
    "execution": {
     "iopub.execute_input": "2024-04-11T01:16:44.631305Z",
     "iopub.status.busy": "2024-04-11T01:16:44.630799Z",
     "iopub.status.idle": "2024-04-11T01:16:44.922170Z",
     "shell.execute_reply": "2024-04-11T01:16:44.921377Z"
    },
    "papermill": {
     "duration": 0.307788,
     "end_time": "2024-04-11T01:16:44.924545",
     "exception": false,
     "start_time": "2024-04-11T01:16:44.616757",
     "status": "completed"
    },
    "tags": []
   },
   "outputs": [],
   "source": [
    "import random\n",
    "\n",
    "def split_dataset(input_file, train_file, test_file, train_percent):\n",
    "    with open(input_file, 'r') as file:\n",
    "        lines = file.readlines()  \n",
    "\n",
    "    total_lines = len(lines)\n",
    "    train_lines = int(total_lines * train_percent)\n",
    "    test_lines = total_lines - train_lines\n",
    "\n",
    "\n",
    "    random.shuffle(lines)\n",
    "\n",
    "    with open(train_file, 'w') as train:\n",
    "        for line in lines[:train_lines]:\n",
    "            train.write(line)\n",
    "\n",
    "    with open(test_file, 'w') as test:\n",
    "        for line in lines[train_lines:]:\n",
    "            test.write(line)\n",
    "\n",
    "\n",
    "input_file = '/kaggle/working/deu.txt'\n",
    "\n",
    "\n",
    "train_file = 'shiny_train.txt'\n",
    "test_file = 'shiny_test.txt'\n",
    "\n",
    "train_percent = 0.8\n",
    "\n",
    "split_dataset(input_file, train_file, test_file, train_percent)"
   ]
  },
  {
   "cell_type": "code",
   "execution_count": 8,
   "id": "37175307",
   "metadata": {
    "execution": {
     "iopub.execute_input": "2024-04-11T01:16:44.952544Z",
     "iopub.status.busy": "2024-04-11T01:16:44.952177Z",
     "iopub.status.idle": "2024-04-11T01:16:44.957281Z",
     "shell.execute_reply": "2024-04-11T01:16:44.956368Z"
    },
    "papermill": {
     "duration": 0.021066,
     "end_time": "2024-04-11T01:16:44.959186",
     "exception": false,
     "start_time": "2024-04-11T01:16:44.938120",
     "status": "completed"
    },
    "tags": []
   },
   "outputs": [],
   "source": [
    "FILE_PATH = '/kaggle/working/shiny_train.txt'\n",
    "data_pipe = dp.iter.IterableWrapper([FILE_PATH])\n",
    "data_pipe = dp.iter.FileOpener(data_pipe, mode='rb')\n",
    "data_pipe = data_pipe.parse_csv(skip_lines=1, delimiter='\\t', as_tuple=True)"
   ]
  },
  {
   "cell_type": "code",
   "execution_count": 9,
   "id": "877b37e5",
   "metadata": {
    "execution": {
     "iopub.execute_input": "2024-04-11T01:16:44.986458Z",
     "iopub.status.busy": "2024-04-11T01:16:44.986142Z",
     "iopub.status.idle": "2024-04-11T01:16:44.991112Z",
     "shell.execute_reply": "2024-04-11T01:16:44.990285Z"
    },
    "papermill": {
     "duration": 0.020627,
     "end_time": "2024-04-11T01:16:44.992964",
     "exception": false,
     "start_time": "2024-04-11T01:16:44.972337",
     "status": "completed"
    },
    "tags": []
   },
   "outputs": [
    {
     "name": "stdout",
     "output_type": "stream",
     "text": [
      "('Tom gave up on doing that.', 'Tom hat aufgegeben, das zu tun.')\n"
     ]
    }
   ],
   "source": [
    "for sample in data_pipe:\n",
    "    print(sample)\n",
    "    break"
   ]
  },
  {
   "cell_type": "code",
   "execution_count": 10,
   "id": "ed335954",
   "metadata": {
    "execution": {
     "iopub.execute_input": "2024-04-11T01:16:45.021003Z",
     "iopub.status.busy": "2024-04-11T01:16:45.020450Z",
     "iopub.status.idle": "2024-04-11T01:16:45.025816Z",
     "shell.execute_reply": "2024-04-11T01:16:45.024975Z"
    },
    "papermill": {
     "duration": 0.021745,
     "end_time": "2024-04-11T01:16:45.027840",
     "exception": false,
     "start_time": "2024-04-11T01:16:45.006095",
     "status": "completed"
    },
    "tags": []
   },
   "outputs": [],
   "source": [
    "def engTokenize(text):\n",
    "    \"\"\"\n",
    "    Tokenize an English text and return a list of tokens\n",
    "    \"\"\"\n",
    "    return [token.text for token in eng.tokenizer(text)]\n",
    "\n",
    "def deTokenize(text):\n",
    "    \"\"\"\n",
    "    Tokenize a German text and return a list of tokens\n",
    "    \"\"\"\n",
    "    return [token.text for token in de.tokenizer(text)]"
   ]
  },
  {
   "cell_type": "code",
   "execution_count": 11,
   "id": "c5923a8c",
   "metadata": {
    "execution": {
     "iopub.execute_input": "2024-04-11T01:16:45.055877Z",
     "iopub.status.busy": "2024-04-11T01:16:45.055604Z",
     "iopub.status.idle": "2024-04-11T01:16:45.060924Z",
     "shell.execute_reply": "2024-04-11T01:16:45.060087Z"
    },
    "papermill": {
     "duration": 0.021529,
     "end_time": "2024-04-11T01:16:45.063043",
     "exception": false,
     "start_time": "2024-04-11T01:16:45.041514",
     "status": "completed"
    },
    "tags": []
   },
   "outputs": [
    {
     "name": "stdout",
     "output_type": "stream",
     "text": [
      "['Have', 'a', 'good', 'day', '!', '!', '!']\n",
      "['Haben', 'Sie', 'einen', 'guten', 'Tag', '!', '!', '!']\n"
     ]
    }
   ],
   "source": [
    "print(engTokenize(\"Have a good day!!!\"))\n",
    "print(deTokenize(\"Haben Sie einen guten Tag!!!\"))"
   ]
  },
  {
   "cell_type": "code",
   "execution_count": 12,
   "id": "1f311d28",
   "metadata": {
    "execution": {
     "iopub.execute_input": "2024-04-11T01:16:45.091115Z",
     "iopub.status.busy": "2024-04-11T01:16:45.090847Z",
     "iopub.status.idle": "2024-04-11T01:16:45.095725Z",
     "shell.execute_reply": "2024-04-11T01:16:45.094945Z"
    },
    "papermill": {
     "duration": 0.021397,
     "end_time": "2024-04-11T01:16:45.097660",
     "exception": false,
     "start_time": "2024-04-11T01:16:45.076263",
     "status": "completed"
    },
    "tags": []
   },
   "outputs": [],
   "source": [
    "def getTokens(data_iter, place):\n",
    "    \"\"\"\n",
    "    Function to yield tokens from an iterator. Since, our iterator contains\n",
    "    tuple of sentences (source and target), `place` parameters defines for which\n",
    "    index to return the tokens for. `place=0` for source and `place=1` for target\n",
    "    \"\"\"\n",
    "    for english, german in data_iter:\n",
    "        if place == 0:\n",
    "            yield engTokenize(english)\n",
    "        else:\n",
    "            yield deTokenize(german)"
   ]
  },
  {
   "cell_type": "code",
   "execution_count": 13,
   "id": "48cd2b7c",
   "metadata": {
    "execution": {
     "iopub.execute_input": "2024-04-11T01:16:45.125658Z",
     "iopub.status.busy": "2024-04-11T01:16:45.125378Z",
     "iopub.status.idle": "2024-04-11T01:16:51.660789Z",
     "shell.execute_reply": "2024-04-11T01:16:51.659752Z"
    },
    "papermill": {
     "duration": 6.552064,
     "end_time": "2024-04-11T01:16:51.663207",
     "exception": false,
     "start_time": "2024-04-11T01:16:45.111143",
     "status": "completed"
    },
    "tags": []
   },
   "outputs": [],
   "source": [
    "source_vocab = build_vocab_from_iterator(\n",
    "    getTokens(data_pipe,0),\n",
    "    min_freq=2,\n",
    "    specials= ['<pad>', '<sos>', '<eos>', '<unk>'],\n",
    "    special_first=True\n",
    ")\n",
    "source_vocab.set_default_index(source_vocab['<unk>'])"
   ]
  },
  {
   "cell_type": "code",
   "execution_count": 14,
   "id": "48603f27",
   "metadata": {
    "execution": {
     "iopub.execute_input": "2024-04-11T01:16:51.691560Z",
     "iopub.status.busy": "2024-04-11T01:16:51.691000Z",
     "iopub.status.idle": "2024-04-11T01:16:59.771136Z",
     "shell.execute_reply": "2024-04-11T01:16:59.770353Z"
    },
    "papermill": {
     "duration": 8.09655,
     "end_time": "2024-04-11T01:16:59.773427",
     "exception": false,
     "start_time": "2024-04-11T01:16:51.676877",
     "status": "completed"
    },
    "tags": []
   },
   "outputs": [],
   "source": [
    "target_vocab = build_vocab_from_iterator(\n",
    "    getTokens(data_pipe,1),\n",
    "    min_freq=2,\n",
    "    specials= ['<pad>', '<sos>', '<eos>', '<unk>'],\n",
    "    special_first=True\n",
    ")\n",
    "target_vocab.set_default_index(target_vocab['<unk>'])\n",
    "    "
   ]
  },
  {
   "cell_type": "code",
   "execution_count": 15,
   "id": "15cbd12a",
   "metadata": {
    "execution": {
     "iopub.execute_input": "2024-04-11T01:16:59.801903Z",
     "iopub.status.busy": "2024-04-11T01:16:59.801178Z",
     "iopub.status.idle": "2024-04-11T01:16:59.806554Z",
     "shell.execute_reply": "2024-04-11T01:16:59.805714Z"
    },
    "papermill": {
     "duration": 0.021804,
     "end_time": "2024-04-11T01:16:59.808794",
     "exception": false,
     "start_time": "2024-04-11T01:16:59.786990",
     "status": "completed"
    },
    "tags": []
   },
   "outputs": [
    {
     "name": "stdout",
     "output_type": "stream",
     "text": [
      "['<pad>', '<sos>', '<eos>', '<unk>', '.', 'I', 'Tom', 'to', 'you']\n"
     ]
    }
   ],
   "source": [
    "print(source_vocab.get_itos()[:9])"
   ]
  },
  {
   "cell_type": "code",
   "execution_count": 16,
   "id": "f6a88ebe",
   "metadata": {
    "execution": {
     "iopub.execute_input": "2024-04-11T01:16:59.836131Z",
     "iopub.status.busy": "2024-04-11T01:16:59.835859Z",
     "iopub.status.idle": "2024-04-11T01:16:59.841091Z",
     "shell.execute_reply": "2024-04-11T01:16:59.840279Z"
    },
    "papermill": {
     "duration": 0.021026,
     "end_time": "2024-04-11T01:16:59.843030",
     "exception": false,
     "start_time": "2024-04-11T01:16:59.822004",
     "status": "completed"
    },
    "tags": []
   },
   "outputs": [],
   "source": [
    "def getTransform(vocab):\n",
    "    \"\"\"\n",
    "    Create transforms based on given vocabulary. The returned transform is applied to sequence\n",
    "    of tokens.\n",
    "    \"\"\"\n",
    "    text_tranform = T.Sequential(\n",
    "        ## converts the sentences to indices based on given vocabulary\n",
    "        T.VocabTransform(vocab=vocab),\n",
    "        ## Add <sos> at beginning of each sentence. 1 because the index for <sos> in vocabulary is\n",
    "        # 1 as seen in previous section\n",
    "        T.AddToken(1, begin=True),\n",
    "        ## Add <eos> at beginning of each sentence. 2 because the index for <eos> in vocabulary is\n",
    "        # 2 as seen in previous section\n",
    "        T.AddToken(2, begin=False)\n",
    "    )\n",
    "    return text_tranform"
   ]
  },
  {
   "cell_type": "code",
   "execution_count": 17,
   "id": "1cbc6151",
   "metadata": {
    "execution": {
     "iopub.execute_input": "2024-04-11T01:16:59.870920Z",
     "iopub.status.busy": "2024-04-11T01:16:59.870282Z",
     "iopub.status.idle": "2024-04-11T01:17:00.574153Z",
     "shell.execute_reply": "2024-04-11T01:17:00.573226Z"
    },
    "papermill": {
     "duration": 0.72064,
     "end_time": "2024-04-11T01:17:00.576826",
     "exception": false,
     "start_time": "2024-04-11T01:16:59.856186",
     "status": "completed"
    },
    "tags": []
   },
   "outputs": [
    {
     "name": "stdout",
     "output_type": "stream",
     "text": [
      "Some sentence= She cared for her sick mother.\n",
      "Transformed sentence=[1, 50, 2890, 24, 70, 473, 232, 4, 2]\n",
      "<sos> She cared for her sick mother . <eos> "
     ]
    }
   ],
   "source": [
    "temp_list = list(data_pipe)\n",
    "some_sentence = temp_list[798][0]\n",
    "print(\"Some sentence= \", end=\"\")\n",
    "print(some_sentence)\n",
    "transformed_sentence = getTransform(source_vocab)(engTokenize(some_sentence))\n",
    "print(\"Transformed sentence=\", end=\"\")\n",
    "print(transformed_sentence)\n",
    "index_to_string = source_vocab.get_itos()\n",
    "for index in transformed_sentence:\n",
    "    print(index_to_string[index], end=\" \")"
   ]
  },
  {
   "cell_type": "code",
   "execution_count": 18,
   "id": "361bb271",
   "metadata": {
    "execution": {
     "iopub.execute_input": "2024-04-11T01:17:00.605491Z",
     "iopub.status.busy": "2024-04-11T01:17:00.604724Z",
     "iopub.status.idle": "2024-04-11T01:17:42.805719Z",
     "shell.execute_reply": "2024-04-11T01:17:42.804784Z"
    },
    "papermill": {
     "duration": 42.230606,
     "end_time": "2024-04-11T01:17:42.821278",
     "exception": false,
     "start_time": "2024-04-11T01:17:00.590672",
     "status": "completed"
    },
    "tags": []
   },
   "outputs": [
    {
     "name": "stdout",
     "output_type": "stream",
     "text": [
      "([1, 6, 251, 67, 38, 182, 18, 4, 2], [1, 6, 18, 1858, 5, 14, 11, 77, 4, 2])\n"
     ]
    }
   ],
   "source": [
    "def applyTransform(sequence_pair):\n",
    "    \"\"\"\n",
    "    Apply transforms to sequence of tokens in a sequence pair\n",
    "    \"\"\"\n",
    "\n",
    "    return (\n",
    "        getTransform(source_vocab)(engTokenize(sequence_pair[0])),\n",
    "        getTransform(target_vocab)(deTokenize(sequence_pair[1]))\n",
    "    )\n",
    "data_pipe = data_pipe.map(applyTransform) ## Apply the function to each element in the iterator\n",
    "temp_list = list(data_pipe)\n",
    "print(temp_list[0])"
   ]
  },
  {
   "cell_type": "code",
   "execution_count": 19,
   "id": "1fb21cb3",
   "metadata": {
    "execution": {
     "iopub.execute_input": "2024-04-11T01:17:42.850496Z",
     "iopub.status.busy": "2024-04-11T01:17:42.849606Z",
     "iopub.status.idle": "2024-04-11T01:17:42.854798Z",
     "shell.execute_reply": "2024-04-11T01:17:42.853951Z"
    },
    "papermill": {
     "duration": 0.021761,
     "end_time": "2024-04-11T01:17:42.856732",
     "exception": false,
     "start_time": "2024-04-11T01:17:42.834971",
     "status": "completed"
    },
    "tags": []
   },
   "outputs": [],
   "source": [
    "def sortBucket(bucket):\n",
    "    \"\"\"\n",
    "    Function to sort a given bucket. Here, we want to sort based on the length of\n",
    "    source and target sequence.\n",
    "    \"\"\"\n",
    "    return sorted(bucket, key=lambda x: (len(x[0]), len(x[1])))\n"
   ]
  },
  {
   "cell_type": "code",
   "execution_count": 20,
   "id": "940ddb9b",
   "metadata": {
    "execution": {
     "iopub.execute_input": "2024-04-11T01:17:42.885005Z",
     "iopub.status.busy": "2024-04-11T01:17:42.884705Z",
     "iopub.status.idle": "2024-04-11T01:17:42.890448Z",
     "shell.execute_reply": "2024-04-11T01:17:42.889615Z"
    },
    "papermill": {
     "duration": 0.022658,
     "end_time": "2024-04-11T01:17:42.892708",
     "exception": false,
     "start_time": "2024-04-11T01:17:42.870050",
     "status": "completed"
    },
    "tags": []
   },
   "outputs": [
    {
     "name": "stdout",
     "output_type": "stream",
     "text": [
      "(['hello', 'world'], ['hallo', 'welt'])\n",
      "(['how', 'are', 'you'], ['wie', 'geht', 'es', 'dir'])\n",
      "(['this', 'is', 'a', 'test'], ['das', 'ist', 'ein', 'test'])\n"
     ]
    }
   ],
   "source": [
    "bucket = [\n",
    "    (['how', 'are', 'you'], ['wie', 'geht', 'es', 'dir']),\n",
    "    (['hello', 'world'], ['hallo', 'welt']),\n",
    "    (['this', 'is', 'a', 'test'], ['das', 'ist', 'ein', 'test'])\n",
    "]\n",
    "\n",
    "sorted_data = sortBucket(bucket)\n",
    "\n",
    "for item in sorted_data:\n",
    "    print(item)"
   ]
  },
  {
   "cell_type": "code",
   "execution_count": 21,
   "id": "2a06ab53",
   "metadata": {
    "execution": {
     "iopub.execute_input": "2024-04-11T01:17:42.921242Z",
     "iopub.status.busy": "2024-04-11T01:17:42.920916Z",
     "iopub.status.idle": "2024-04-11T01:17:42.925817Z",
     "shell.execute_reply": "2024-04-11T01:17:42.924993Z"
    },
    "papermill": {
     "duration": 0.021332,
     "end_time": "2024-04-11T01:17:42.927707",
     "exception": false,
     "start_time": "2024-04-11T01:17:42.906375",
     "status": "completed"
    },
    "tags": []
   },
   "outputs": [],
   "source": [
    "data_pipe = data_pipe.bucketbatch(\n",
    "    batch_size = 64, batch_num=5,  bucket_num=1,\n",
    "    use_in_batch_shuffle=False, sort_key=sortBucket\n",
    ")"
   ]
  },
  {
   "cell_type": "code",
   "execution_count": 22,
   "id": "1f7dd06a",
   "metadata": {
    "execution": {
     "iopub.execute_input": "2024-04-11T01:17:42.957075Z",
     "iopub.status.busy": "2024-04-11T01:17:42.956071Z",
     "iopub.status.idle": "2024-04-11T01:18:25.738590Z",
     "shell.execute_reply": "2024-04-11T01:18:25.737565Z"
    },
    "papermill": {
     "duration": 42.812335,
     "end_time": "2024-04-11T01:18:25.754168",
     "exception": false,
     "start_time": "2024-04-11T01:17:42.941833",
     "status": "completed"
    },
    "tags": []
   },
   "outputs": [
    {
     "name": "stdout",
     "output_type": "stream",
     "text": [
      "[([1, 3, 3, 37, 1010, 1567, 4867, 4, 2], [1, 3, 49, 107, 7667, 1398, 4, 2]), ([1, 1779, 17, 29, 446, 132, 684, 4, 2], [1, 1240, 2815, 1745, 2974, 671, 4, 2]), ([1, 35, 12, 1312, 23, 3378, 184, 4, 2], [1, 1790, 17, 9, 3201, 1086, 25, 2]), ([1, 40, 207, 12, 131, 132, 969, 4, 2], [1, 28, 65, 91, 348, 841, 4, 2]), ([1, 35, 8, 46, 142, 109, 595, 10, 2], [1, 555, 13, 59, 72, 609, 8, 2]), ([1, 27, 929, 1979, 13, 64, 1042, 4, 2], [1, 3620, 224, 10, 68, 420, 4, 2]), ([1, 59, 66, 8, 154, 112, 442, 4, 2], [1, 3765, 99, 13, 11, 578, 294, 4, 2]), ([1, 35, 12, 57, 16, 41, 149, 4, 2], [1, 1131, 12, 9, 20, 134, 202, 25, 2]), ([1, 5, 56, 271, 8, 11, 850, 4, 2], [1, 7, 82, 57, 21, 859, 1245, 4, 2]), ([1, 5, 43, 12, 291, 70, 334, 4, 2], [1, 7, 1046, 51, 9, 162, 329, 4, 2]), ([1, 40, 56, 77, 34, 178, 266, 4, 2], [1, 34, 65, 383, 136, 674, 56, 4, 2]), ([1, 26, 47, 355, 229, 55, 21, 4, 2], [1, 40, 470, 324, 136, 105, 31, 4, 2]), ([1, 143, 5, 76, 124, 7, 194, 10, 2], [1, 370, 15, 72, 11, 489, 323, 8, 2]), ([1, 3117, 13, 766, 24, 697, 1733, 4, 2], [1, 3971, 10, 46, 56, 1920, 1399, 4, 2]), ([1, 93, 37, 12, 8, 39, 6, 10, 2], [1, 92, 99, 13, 9, 107, 6, 8, 2]), ([1, 5, 56, 34, 16, 41, 344, 4, 2], [1, 7, 82, 20, 247, 5618, 56, 4, 2]), ([1, 143, 8, 428, 21, 18, 433, 10, 2], [1, 14822, 13, 27, 14, 539, 164, 8, 2]), ([1, 49, 43, 8, 235, 30, 984, 10, 2], [1, 62, 74, 13, 540, 281, 326, 8, 2]), ([1, 1367, 62, 42, 2115, 245, 311, 4, 2], [1, 776, 330, 44, 219, 9, 5915, 4, 2]), ([1, 50, 280, 11, 1409, 17, 2502, 4, 2], [1, 12, 18, 21, 1547, 3492, 326, 4, 2]), ([1, 5, 1081, 11, 476, 38, 1844, 4, 2], [1, 7, 24, 27, 43, 3, 2637, 4, 2]), ([1, 259, 8, 197, 21, 11, 2694, 10, 2], [1, 641, 12, 27, 43, 4195, 7237, 8, 2]), ([1, 143, 8, 445, 11, 4399, 8050, 10, 2], [1, 421, 12, 21, 173, 29, 6968, 299, 8, 2]), ([1, 6, 617, 9, 220, 16, 1428, 4, 2], [1, 6, 18, 16, 288, 69, 828, 1265, 4, 2]), ([1, 27, 2836, 1340, 549, 9, 614, 4, 2], [1, 28, 2361, 2017, 26, 562, 50, 806, 4, 2]), ([1, 6, 1141, 55, 33, 217, 1222, 4, 2], [1, 6, 4825, 20, 2603, 30, 109, 12691, 4, 2]), ([1, 5, 102, 5, 56, 76, 23, 4, 2], [1, 7, 119, 5, 15, 82, 17, 323, 4, 2]), ([1, 6, 301, 8, 97, 41, 94, 4, 2], [1, 6, 232, 5, 13, 510, 96, 237, 4, 2]), ([1, 87, 718, 270, 4075, 41, 429, 4, 2], [1, 180, 559, 4844, 27, 250, 16, 751, 4, 2]), ([1, 6, 978, 486, 48, 33, 692, 4, 2], [1, 6, 1041, 14, 819, 41, 223, 851, 21, 4, 2]), ([1, 6975, 4281, 18, 9, 1114, 3898, 4, 2], [1, 10392, 3, 5, 19, 26, 16, 1267, 3517, 4, 2]), ([1, 5, 125, 152, 6, 710, 21, 4, 2], [1, 7, 233, 603, 5, 19, 6, 31, 148, 4, 2]), ([1, 5, 58, 6, 43, 18, 3882, 4, 2], [1, 7, 165, 5, 6, 18, 14, 1685, 209, 4, 2]), ([1, 6, 20, 200, 28, 20, 757, 4, 2], [1, 6, 35, 26, 212, 5, 19, 39, 4825, 4, 2]), ([1, 26, 53, 63, 2892, 63, 174, 4, 2], [1, 40, 99, 53, 8031, 58, 4481, 33, 412, 4, 2]), ([1, 28, 13, 44, 41, 383, 584, 4, 2], [1, 39, 10, 46, 31, 58, 37, 1995, 594, 4, 2]), ([1, 5, 84, 687, 700, 104, 4480, 4, 2], [1, 7, 4857, 1112, 5, 60, 19, 15, 31, 11539, 4, 2]), ([1, 5, 45, 377, 5, 3054, 8, 4, 2], [1, 34, 284, 27, 402, 5, 19, 15, 12, 4515, 24, 25, 2]), ([1, 259, 8, 297, 334, 39, 21, 10, 2], [1, 1883, 17, 150, 72, 2161, 5, 29, 27, 11, 162, 8, 2]), ([1, 73, 14, 42, 51, 29, 13, 55, 4, 2], [1, 3601, 157, 17, 9, 4, 2]), ([1, 49, 325, 17, 493, 37, 8, 16, 10, 2], [1, 220, 2675, 689, 9828, 13, 8, 2]), ([1, 78, 43, 8, 528, 11, 408, 1833, 10, 2], [1, 73, 49, 12, 1184, 535, 8, 2]), ([1, 5, 296, 8, 9, 293, 17, 1450, 4, 2], [1, 7, 2051, 104, 93, 683, 4, 2]), ([1, 129, 332, 16, 550, 17, 6144, 3, 4, 2], [1, 190, 315, 12, 84, 202, 3, 2]), ([1, 5, 46, 7, 163, 7, 41, 1054, 4, 2], [1, 7, 85, 176, 1405, 171, 4, 2]), ([1, 35, 8, 97, 7, 133, 38, 745, 10, 2], [1, 4672, 13, 110, 867, 418, 8, 2]), ([1, 26, 92, 156, 228, 21, 15, 18, 4, 2], [1, 28, 17086, 13, 177, 27, 4, 2]), ([1, 79, 130, 18, 31, 13, 1413, 1060, 4, 2], [1, 23, 10, 9284, 318, 472, 4, 2]), ([1, 26, 22, 7, 111, 21, 9, 374, 4, 2], [1, 12, 146, 27, 16, 380, 106, 4, 2]), ([1, 40, 20, 1421, 18, 4222, 80, 516, 4, 2], [1, 303, 1287, 5, 3501, 2902, 1374, 4, 2]), ([1, 348, 9, 3, 4155, 9, 169, 476, 4, 2], [1, 332, 10597, 3, 32, 445, 544, 4, 2]), ([1, 5, 45, 42, 74, 7, 30, 155, 4, 2], [1, 7, 312, 9, 11, 540, 166, 4, 2]), ([1, 153, 14, 57, 127, 7, 9, 5782, 4, 2], [1, 519, 64, 226, 98, 7735, 81, 25, 2]), ([1, 40, 446, 684, 19, 65, 12, 23, 10, 2], [1, 28, 10, 198, 5174, 5, 114, 8, 2]), ([1, 5, 57, 63, 270, 63, 5, 62, 4, 2], [1, 7, 312, 5, 3, 15, 44, 4, 2]), ([1, 49, 84, 9, 387, 34, 245, 834, 10, 2], [1, 62, 174, 16, 396, 260, 742, 8, 2]), ([1, 5, 1006, 9, 374, 17, 33, 816, 4, 2], [1, 7, 2514, 32, 9194, 151, 5632, 4, 2]), ([1, 49, 14, 6, 67, 7, 16, 137, 10, 2], [1, 62, 18, 6, 20, 125, 84, 8, 2]), ([1, 106, 8, 82, 17, 6, 14, 3713, 10, 2], [1, 263, 13, 37, 45, 130, 4721, 8, 2]), ([1, 5, 62, 105, 57, 127, 90, 158, 4, 2], [1, 7, 44, 101, 78, 632, 3582, 4, 2]), ([1, 78, 141, 71, 8, 22, 7, 332, 10, 2], [1, 73, 172, 253, 13, 315, 146, 8, 2]), ([1, 6, 20, 508, 16, 11, 2120, 364, 4, 2], [1, 6, 196, 107, 111, 3, 1404, 219, 4, 2]), ([1, 25, 269, 511, 359, 17, 9, 730, 4, 2], [1, 23, 1806, 26, 115, 61, 32, 693, 4, 2]), ([1, 6, 183, 28, 208, 117, 20, 1182, 4, 2], [1, 6, 364, 39, 5, 248, 51, 9682, 4, 2])]\n"
     ]
    }
   ],
   "source": [
    "print(list(data_pipe)[0])"
   ]
  },
  {
   "cell_type": "code",
   "execution_count": 23,
   "id": "4c6abde3",
   "metadata": {
    "execution": {
     "iopub.execute_input": "2024-04-11T01:18:25.782566Z",
     "iopub.status.busy": "2024-04-11T01:18:25.782260Z",
     "iopub.status.idle": "2024-04-11T01:19:08.204824Z",
     "shell.execute_reply": "2024-04-11T01:19:08.203818Z"
    },
    "papermill": {
     "duration": 42.452367,
     "end_time": "2024-04-11T01:19:08.220294",
     "exception": false,
     "start_time": "2024-04-11T01:18:25.767927",
     "status": "completed"
    },
    "tags": []
   },
   "outputs": [
    {
     "name": "stdout",
     "output_type": "stream",
     "text": [
      "(([1, 457, 21, 55, 30, 350, 4, 2], [1, 129, 405, 166, 9, 581, 4, 2], [1, 26, 22, 11, 333, 155, 4, 2], [1, 40, 14, 101, 98, 1859, 4, 2], [1, 26, 56, 97, 11, 3167, 4, 2], [1, 2768, 23, 193, 702, 23, 4, 2], [1, 201, 37, 41, 169, 1452, 10, 2], [1, 59, 13, 6, 14, 2596, 4, 2], [1, 36, 37, 533, 437, 3334, 4, 2], [1, 26, 85, 69, 2723, 21, 4, 2], [1, 5, 198, 9, 461, 335, 4, 2], [1, 59, 13, 88, 406, 3846, 4, 2], [1, 308, 3129, 13, 42, 3350, 4, 2], [1, 106, 8, 11, 83, 2228, 10, 2], [1, 6, 144, 23, 38, 66, 4, 2], [1, 26, 71, 34, 5290, 7543, 4, 2], [1, 5, 1220, 67, 112, 248, 4, 2], [1, 5, 168, 41, 1497, 1535, 4, 2], [1, 49, 14, 409, 14, 607, 4, 2], [1, 27, 532, 1260, 33, 432, 4, 2], [1, 159, 8, 174, 281, 622, 10, 2], [1, 5, 1049, 8, 47, 114, 4, 2], [1, 5, 45, 125, 170, 1901, 4, 2], [1, 26, 22, 88, 7752, 1407, 4, 2], [1, 36, 198, 749, 336, 519, 4, 2], [1, 6, 1297, 28, 11, 136, 4, 2], [1, 35, 12, 34, 98, 441, 4, 2], [1, 26, 85, 69, 514, 156, 4, 2], [1, 49, 1039, 15, 8, 44, 10, 2], [1, 26, 798, 21, 88, 1098, 4, 2], [1, 5, 555, 345, 67, 388, 4, 2], [1, 5, 20, 1435, 16, 780, 4, 2], [1, 275, 412, 144, 96, 1133, 4, 2], [1, 6, 272, 44, 11, 324, 4, 2], [1, 27, 4303, 3093, 112, 1107, 4, 2], [1, 5, 152, 8, 92, 541, 4, 2], [1, 6, 430, 335, 767, 2975, 4, 2], [1, 5, 138, 1992, 41, 246, 4, 2], [1, 6, 43, 229, 31, 91, 4, 2], [1, 191, 4151, 24, 30, 2420, 4, 2], [1, 35, 12, 197, 23, 7, 340, 4, 2], [1, 26, 15, 12, 22, 11, 3432, 4, 2], [1, 5, 207, 12, 76, 11, 1631, 4, 2], [1, 466, 23, 7, 21, 19, 242, 4, 2], [1, 73, 14, 11, 134, 17, 123, 4, 2], [1, 5, 206, 54, 86, 9, 8132, 4, 2], [1, 5, 455, 566, 320, 489, 402, 4, 2], [1, 35, 12, 793, 67, 18, 398, 4, 2], [1, 5, 45, 1465, 11, 169, 126, 4, 2], [1, 464, 13, 74, 7, 444, 8, 4, 2], [1, 36, 69, 89, 183, 7, 94, 4, 2], [1, 6, 14, 2772, 52, 89, 8971, 4, 2], [1, 847, 709, 1317, 37, 8, 553, 10, 2], [1, 6, 414, 65, 12, 131, 683, 4, 2], [1, 40, 14, 2073, 17, 30, 651, 4, 2], [1, 79, 260, 23, 38, 9, 1030, 4, 2], [1, 328, 6, 22, 11, 329, 319, 10, 2], [1, 25, 183, 11, 1115, 17, 21, 4, 2], [1, 87, 6498, 37, 38, 41, 2437, 4, 2], [1, 28, 52, 12, 280, 673, 279, 4, 2], [1, 159, 8, 260, 9, 2070, 3513, 10, 2], [1, 143, 8, 94, 21, 11, 209, 10, 2], [1, 5, 45, 42, 16, 83, 2363, 4, 2], [1, 59, 339, 13, 3792, 7, 8, 4, 2]), ([1, 3606, 27, 45, 540, 527, 25, 2], [1, 3485, 124, 14, 705, 63, 4, 2], [1, 12, 48, 21, 1341, 166, 4, 2], [1, 34, 10, 185, 53, 4025, 25, 2], [1, 108, 1303, 37, 3998, 361, 4, 2], [1, 206, 3, 5, 22, 16314, 25, 2], [1, 206, 49, 96, 445, 1293, 8, 2], [1, 28, 71, 10, 130, 4381, 4, 2], [1, 38, 235, 3845, 11, 310, 4, 2], [1, 40, 454, 31, 987, 236, 25, 2], [1, 7, 457, 14, 413, 1212, 4, 2], [1, 616, 10, 21, 6691, 5655, 4, 2], [1, 2540, 3834, 10, 9, 1211, 4, 2], [1, 378, 12, 21, 435, 4003, 8, 2], [1, 6, 18, 17, 943, 823, 4, 2], [1, 108, 1303, 542, 7996, 83, 4, 2], [1, 7, 54, 11, 302, 4741, 4, 2], [1, 7, 473, 176, 4270, 1919, 4, 2], [1, 62, 134, 5, 10, 186, 4, 2], [1, 66, 1185, 1773, 16, 491, 4, 2], [1, 123, 13, 79, 147, 999, 159, 8, 2], [1, 7, 1816, 5, 47, 718, 128, 4, 2], [1, 7, 2402, 31, 68, 46, 1168, 4, 2], [1, 40, 74, 37, 971, 9767, 2625, 4, 2], [1, 38, 7321, 728, 456, 521, 197, 4, 2], [1, 6, 18, 39, 21, 133, 8129, 4, 2], [1, 798, 12, 26, 9, 53, 30, 25, 2], [1, 108, 1636, 17, 177, 167, 146, 4, 2], [1, 62, 1040, 13, 46, 37, 1235, 8, 2], [1, 108, 375, 27, 37, 1233, 1164, 4, 2], [1, 7, 933, 17, 5, 388, 1886, 4, 2], [1, 7, 54, 20, 43, 3140, 1498, 4, 2], [1, 479, 393, 717, 64, 98, 1706, 4, 2], [1, 6, 240, 58, 21, 266, 63, 4, 2], [1, 66, 6247, 18, 11, 1353, 6527, 4, 2], [1, 7, 233, 5, 13, 454, 52, 1324, 4, 2], [1, 6, 94, 110, 9745, 2485, 4520, 83, 4, 2], [1, 7, 54, 11, 1256, 107, 176, 964, 4, 2], [1, 6, 18, 136, 209, 5, 42, 36, 183, 4, 2], [1, 7, 981, 11, 241, 5, 42, 13, 139, 634, 4, 2], [1, 460, 17, 794, 4, 2], [1, 40, 74, 88, 655, 4, 2], [1, 7, 1497, 88, 4377, 4, 2], [1, 460, 17, 27, 124, 25, 2], [1, 28, 10, 93, 118, 4, 2], [1, 7, 4489, 56, 10462, 4, 2], [1, 7, 54, 317, 900, 1716, 4, 2], [1, 775, 151, 664, 9, 197, 4, 2], [1, 7, 2000, 21, 577, 173, 4, 2], [1, 309, 65, 57, 72, 2216, 4, 2], [1, 303, 410, 64, 11, 155, 4, 2], [1, 130, 3325, 10, 3, 384, 4, 2], [1, 938, 1614, 1258, 5180, 13, 8, 2], [1, 6, 175, 4347, 88, 291, 4, 2], [1, 28, 157, 52, 91, 41, 25, 2], [1, 12, 1774, 17, 69, 1196, 4, 2], [1, 306, 6, 37, 419, 339, 8, 2], [1, 23, 410, 31, 61, 43, 1342, 4, 2], [1, 180, 8774, 49, 30, 256, 5223, 4, 2], [1, 113, 18, 59, 88, 723, 326, 4, 2], [1, 123, 40, 16, 6003, 4379, 231, 8, 2], [1, 322, 13, 27, 21, 466, 155, 8, 2], [1, 7, 54, 9, 80, 20, 2846, 4, 2], [1, 251, 343, 10, 41, 52, 7075, 4, 2]))\n"
     ]
    }
   ],
   "source": [
    "def separateSourceTarget(sequence_pairs):\n",
    "    \"\"\"\n",
    "    input of form: `[(X_1,y_1), (X_2,y_2), (X_3,y_3), (X_4,y_4)]`\n",
    "    output of form: `((X_1,X_2,X_3,X_4), (y_1,y_2,y_3,y_4))`\n",
    "    \"\"\"\n",
    "    sources,targets = zip(*sequence_pairs)\n",
    "    return sources,targets\n",
    "\n",
    "## Apply the function to each element in the iterator\n",
    "data_pipe = data_pipe.map(separateSourceTarget)\n",
    "print(list(data_pipe)[0])"
   ]
  },
  {
   "cell_type": "code",
   "execution_count": 24,
   "id": "094ddddc",
   "metadata": {
    "execution": {
     "iopub.execute_input": "2024-04-11T01:19:08.248812Z",
     "iopub.status.busy": "2024-04-11T01:19:08.248424Z",
     "iopub.status.idle": "2024-04-11T01:19:08.253625Z",
     "shell.execute_reply": "2024-04-11T01:19:08.252761Z"
    },
    "papermill": {
     "duration": 0.021508,
     "end_time": "2024-04-11T01:19:08.255477",
     "exception": false,
     "start_time": "2024-04-11T01:19:08.233969",
     "status": "completed"
    },
    "tags": []
   },
   "outputs": [],
   "source": [
    "def applyPadding(pair_of_sequences):\n",
    "    \"\"\"\n",
    "    Convert sequences to tensors and apply padding\n",
    "    \"\"\"\n",
    "    return (T.ToTensor(0)(list(pair_of_sequences[0])), T.ToTensor(0)(list(pair_of_sequences[1])))\n",
    "## `T.ToTensor(0)` returns a transform that converts the sequence to `torch.tensor` and also applies\n",
    "# padding. Here, `0` is passed to the constructor to specify the index of the `<pad>` token in the\n",
    "# vocabulary.\n",
    "data_pipe = data_pipe.map(applyPadding)"
   ]
  },
  {
   "cell_type": "code",
   "execution_count": 25,
   "id": "3f912153",
   "metadata": {
    "execution": {
     "iopub.execute_input": "2024-04-11T01:19:08.284123Z",
     "iopub.status.busy": "2024-04-11T01:19:08.283839Z",
     "iopub.status.idle": "2024-04-11T01:19:55.836581Z",
     "shell.execute_reply": "2024-04-11T01:19:55.835610Z"
    },
    "papermill": {
     "duration": 47.582129,
     "end_time": "2024-04-11T01:19:55.851534",
     "exception": false,
     "start_time": "2024-04-11T01:19:08.269405",
     "status": "completed"
    },
    "tags": []
   },
   "outputs": [
    {
     "name": "stdout",
     "output_type": "stream",
     "text": [
      "(tensor([[   1,   99,   37,  ...,    0,    0,    0],\n",
      "        [   1,  308,  494,  ...,    0,    0,    0],\n",
      "        [   1,  106,    8,  ...,    0,    0,    0],\n",
      "        ...,\n",
      "        [   1,    6,  139,  ...,    0,    0,    0],\n",
      "        [   1,    6,   52,  ...,    0,    0,    0],\n",
      "        [   1,    6, 3065,  ...,  149,    4,    2]]), tensor([[   1,   34,  169,  ...,    0,    0,    0],\n",
      "        [   1,  715,  593,  ...,    0,    0,    0],\n",
      "        [   1,  263,   13,  ...,    0,    0,    0],\n",
      "        ...,\n",
      "        [   1,    6,  119,  ...,    0,    0,    0],\n",
      "        [   1, 6768,   18,  ...,    0,    0,    0],\n",
      "        [   1,    6, 2223,  ...,    3,    4,    2]]))\n"
     ]
    }
   ],
   "source": [
    "print(list(data_pipe)[0])"
   ]
  },
  {
   "cell_type": "code",
   "execution_count": 26,
   "id": "cc3896cd",
   "metadata": {
    "execution": {
     "iopub.execute_input": "2024-04-11T01:19:55.880271Z",
     "iopub.status.busy": "2024-04-11T01:19:55.879953Z",
     "iopub.status.idle": "2024-04-11T01:20:02.536357Z",
     "shell.execute_reply": "2024-04-11T01:20:02.535491Z"
    },
    "papermill": {
     "duration": 6.673062,
     "end_time": "2024-04-11T01:20:02.538484",
     "exception": false,
     "start_time": "2024-04-11T01:19:55.865422",
     "status": "completed"
    },
    "tags": []
   },
   "outputs": [
    {
     "name": "stdout",
     "output_type": "stream",
     "text": [
      "Source:  <sos> I do n't like to swim in the pool . <eos> <pad> <pad> <pad> <pad> <pad> <pad> <pad> <pad> <pad>\n",
      "Traget:  <sos> Ich schwimme nicht gern im Becken . <eos> <pad> <pad> <pad> <pad> <pad> <pad> <pad> <pad> <pad> <pad> <pad> <pad> <pad> <pad> <pad> <pad>\n",
      "Source:  <sos> A special tax is imposed on very high incomes . <eos> <pad> <pad> <pad> <pad> <pad> <pad> <pad> <pad> <pad>\n",
      "Traget:  <sos> Sehr hohe Einkommen werden speziell <unk> . <eos> <pad> <pad> <pad> <pad> <pad> <pad> <pad> <pad> <pad> <pad> <pad> <pad> <pad> <pad> <pad> <pad>\n",
      "Source:  <sos> The station is situated in between the two towns . <eos> <pad> <pad> <pad> <pad> <pad> <pad> <pad> <pad> <pad>\n",
      "Traget:  <sos> Der Bahnhof liegt zwischen den zwei Städten . <eos> <pad> <pad> <pad> <pad> <pad> <pad> <pad> <pad> <pad> <pad> <pad> <pad> <pad> <pad> <pad>\n",
      "Source:  <sos> The rich are not always happier than the poor . <eos> <pad> <pad> <pad> <pad> <pad> <pad> <pad> <pad> <pad>\n",
      "Traget:  <sos> Reiche sind nicht immer glücklicher als Arme . <eos> <pad> <pad> <pad> <pad> <pad> <pad> <pad> <pad> <pad> <pad> <pad> <pad> <pad> <pad> <pad>\n"
     ]
    }
   ],
   "source": [
    "source_index_to_string = source_vocab.get_itos()\n",
    "target_index_to_string = target_vocab.get_itos()\n",
    "\n",
    "def showSomeTransformedSentences(data_pipe):\n",
    "    \"\"\"\n",
    "    Function to show how the sentences look like after applying all transforms.\n",
    "    Here we try to print actual words instead of corresponding index\n",
    "    \"\"\"\n",
    "    for sources,targets in data_pipe:\n",
    "        if sources[0][-1] != 0:\n",
    "            continue # Just to visualize padding of shorter sentences\n",
    "        for i in range(4):\n",
    "            source = \"\"\n",
    "            for token in sources[i]:\n",
    "                source += \" \" + source_index_to_string[token]\n",
    "            target = \"\"\n",
    "            for token in targets[i]:\n",
    "                target += \" \" + target_index_to_string[token]\n",
    "            print(f\"Source: {source}\")\n",
    "            print(f\"Traget: {target}\")\n",
    "        break\n",
    "\n",
    "showSomeTransformedSentences(data_pipe)"
   ]
  },
  {
   "cell_type": "code",
   "execution_count": 27,
   "id": "bf7cd0f6",
   "metadata": {
    "execution": {
     "iopub.execute_input": "2024-04-11T01:20:02.568801Z",
     "iopub.status.busy": "2024-04-11T01:20:02.568131Z",
     "iopub.status.idle": "2024-04-11T01:20:08.910776Z",
     "shell.execute_reply": "2024-04-11T01:20:08.909832Z"
    },
    "papermill": {
     "duration": 6.360307,
     "end_time": "2024-04-11T01:20:08.913324",
     "exception": false,
     "start_time": "2024-04-11T01:20:02.553017",
     "status": "completed"
    },
    "tags": []
   },
   "outputs": [
    {
     "name": "stdout",
     "output_type": "stream",
     "text": [
      "tensor([[    1,    49,    53,     8,    83,    48,    10,     2,     0],\n",
      "        [    1,     6,    13,    11,   501,   990,     4,     2,     0],\n",
      "        [    1,    26,    22,     7,    57,   121,     4,     2,     0],\n",
      "        [    1,   543,  5744,    15,     8,   239,    10,     2,     0],\n",
      "        [    1,     5,    46,     7,    95,   137,     4,     2,     0],\n",
      "        [    1,     6,    13,   334,    24,     8,     4,     2,     0],\n",
      "        [    1,   513,    21,   142,    19,   112,     4,     2,     0],\n",
      "        [    1,    36,    97,   142,     3,  3141,     4,     2,     0],\n",
      "        [    1,  2428,    13,   434,   501,   122,     4,     2,     0],\n",
      "        [    1,    25,   218,     7,    34,   729,     4,     2,     0],\n",
      "        [    1,   201,    92,   216,     8,  1485,    10,     2,     0],\n",
      "        [    1,     5,    56,   120,    11,   187,     4,     2,     0],\n",
      "        [    1,    26,    85,   647,     9,   133,     4,     2,     0],\n",
      "        [    1,    26,    53,    42,   773,    60,     4,     2,     0],\n",
      "        [    1,     6,    52,    11,   302,  2475,     4,     2,     0],\n",
      "        [    1,    40,    20,    11,  5810,   930,     4,     2,     0],\n",
      "        [    1,    27,   247,  2272,   282,   190,     4,     2,     0],\n",
      "        [    1,    50,    13,   161,  7710,  1177,     4,     2,     0],\n",
      "        [    1,   667,    62,   161,   204,    66,     4,     2,     0],\n",
      "        [    1,    59,   838,    13,    11,  3889,     4,     2,     0],\n",
      "        [    1,     6,    13,    16,  3866,   122,     4,     2,     0],\n",
      "        [    1,    26,   105,    68,    11,   482,     4,     2,     0],\n",
      "        [    1,   507,  1941,    37,    77,  5828,     4,     2,     0],\n",
      "        [    1,     5,    45,   302,    48,   501,     4,     2,     0],\n",
      "        [    1,    59,  1843,    13,  5306,  4313,     4,     2,     0],\n",
      "        [    1,    26,   713,   167,    34,   351,     4,     2,     0],\n",
      "        [    1,   177,    43,     8,   235,    23,    10,     2,     0],\n",
      "        [    1,    59,    13,   598,     9,  1053,     4,     2,     0],\n",
      "        [    1,     6,    68,   100,   123,   198,     4,     2,     0],\n",
      "        [    1,    36,    69,   842,   203,  1979,     4,     2,     0],\n",
      "        [    1,  2552,   109,   311,     7,    23,     4,     2,     0],\n",
      "        [    1,  6042,    37,   613,   193,  1283,     4,     2,     0],\n",
      "        [    1,    40,    14,   101,    11,   849,     4,     2,     0],\n",
      "        [    1,    35,     8,    22,   132,  2172,    10,     2,     0],\n",
      "        [    1,    36,  4029,     7,     9,  6411,     4,     2,     0],\n",
      "        [    1,    25,  1031,   480,     7,  1085,     4,     2,     0],\n",
      "        [    1,    36,   698,    55,   171,   256,     4,     2,     0],\n",
      "        [    1,    49,   310,    43,     8,    95,    10,     2,     0],\n",
      "        [    1,    49,    85,    81,    15,   222,    10,     2,     0],\n",
      "        [    1,     6,     3,   184,     9,   871,     4,     2,     0],\n",
      "        [    1,    59,  2441,  1548,    44, 10280,     4,     2,     0],\n",
      "        [    1,     5,    58,    23,    14,   650,     4,     2,     0],\n",
      "        [    1,     5,    58,     6,    43,   180,     4,     2,     0],\n",
      "        [    1,   560,  1706,    44,    11,  3544,     4,     2,     0],\n",
      "        [    1,    59,  3328,  7436,  1687,  2360,     4,     2,     0],\n",
      "        [    1,    35,     8,    22,   985,    32,  1135,    10,     2],\n",
      "        [    1,   464,    14,    74,     7,  2290,     8,     4,     2],\n",
      "        [    1,     5,   390,    11,   134,    17,   145,     4,     2],\n",
      "        [    1,   201,    65,     9,  1258,  1648,     7,    10,     2],\n",
      "        [    1,     5,    45,    42,    11,   114,   285,     4,     2],\n",
      "        [    1,    93,    37,     8,   347,    44,    18,    10,     2],\n",
      "        [    1,    35,     8,   291,     9,  1501,   992,    10,     2],\n",
      "        [    1,    49,    14,     9,   352,    39,     8,    10,     2],\n",
      "        [    1,    59,   423,    65,    12,  6281,  7854,     4,     2],\n",
      "        [    1,   153,    21,  2234,  2197,    39,     8,     4,     2],\n",
      "        [    1,    78,   180,    43,     8,    47,     6,    10,     2],\n",
      "        [    1,    87,  1328,  1935,    21,    11,   134,     4,     2],\n",
      "        [    1,    40,    71,    15,  1763,     7,    96,     4,     2],\n",
      "        [    1,     6,   695,  5363,  3048,   212,   734,     4,     2],\n",
      "        [    1,   153,    21,    15,    18,    24,     8,     4,     2],\n",
      "        [    1,    50,   206,     7,    70,   169,   285,     4,     2],\n",
      "        [    1,     5,    45,   535,    55,  2329,  8861,     4,     2],\n",
      "        [    1,     5,    56,    34,   127,    48,   385,     4,     2],\n",
      "        [    1,   201,    13,  1179,   549,     9,  2333,    10,     2]])\n",
      "torch.Size([64, 9])\n",
      "tensor([[    1,  7060,    99,    13, 15233,     8,     2,     0,     0,     0,\n",
      "             0],\n",
      "        [    1,     6,    10,    21,  3255,     4,     2,     0,     0,     0,\n",
      "             0],\n",
      "        [    1,    40,   234,    67,   129,    25,     2,     0,     0,     0,\n",
      "             0],\n",
      "        [    1,   630,  8775,  3722,    13,     8,     2,     0,     0,     0,\n",
      "             0],\n",
      "        [    1,     7,    87,   125,   137,     4,     2,     0,     0,     0,\n",
      "             0],\n",
      "        [    1,     6,   189,   517,    57,     4,     2,     0,     0,     0,\n",
      "             0],\n",
      "        [    1,  2486,    27,   184,  1201,     4,     2,     0,     0,     0,\n",
      "             0],\n",
      "        [    1,    38,   361,     3,  4206,     4,     2,     0,     0,     0,\n",
      "             0],\n",
      "        [    1,  2199,   526,   139,   608,     4,     2,     0,     0,     0,\n",
      "             0],\n",
      "        [    1,    23,    87,   679,    56,     4,     2,     0,     0,     0,\n",
      "             0],\n",
      "        [    1,   206,   112,   104,   603,   328,     8,     2,     0,     0,\n",
      "             0],\n",
      "        [    1,     7,    82,    17,    27,  1550,     4,     2,     0,     0,\n",
      "             0],\n",
      "        [    1,    40,   264,    16,   156,  5105,     4,     2,     0,     0,\n",
      "             0],\n",
      "        [    1,   431,    99,    13,     9,   212,     4,     2,     0,     0,\n",
      "             0],\n",
      "        [    1,     6,    18,    43,  1779,  1294,     4,     2,     0,     0,\n",
      "             0],\n",
      "        [    1,    34,    35,    21,     3,   729,     4,     2,     0,     0,\n",
      "             0],\n",
      "        [    1,    55,   208, 15195,    26,  2395,     4,     2,     0,     0,\n",
      "             0],\n",
      "        [    1,    12,    10,    86,  4521,  2883,     4,     2,     0,     0,\n",
      "             0],\n",
      "        [    1,   303,    44,    86,   103,   354,     4,     2,     0,     0,\n",
      "             0],\n",
      "        [    1,   251,  1853,    10,    21,  7884,     4,     2,     0,     0,\n",
      "             0],\n",
      "        [    1,     6,    10,   143,    69,   966,     4,     2,     0,     0,\n",
      "             0],\n",
      "        [    1,    40,  1690,   101,    37,   910,     4,     2,     0,     0,\n",
      "             0],\n",
      "        [    1,   204,  2201,    49,   168,  9579,     4,     2,     0,     0,\n",
      "             0],\n",
      "        [    1,   220,   608,    54,    15,   691,     4,     2,     0,     0,\n",
      "             0],\n",
      "        [    1,   204,  2709,    10,  7436,  9858,     4,     2,     0,     0,\n",
      "             0],\n",
      "        [    1,    55,   208,   146,   374,    56,     4,     2,     0,     0,\n",
      "             0],\n",
      "        [    1,   213,    74,    13,    17,   326,     8,     2,     0,     0,\n",
      "             0],\n",
      "        [    1,    28,  9930,   471,    14,  1567,     4,     2,     0,     0,\n",
      "             0],\n",
      "        [    1,     6,    89,   126,   118,    78,     4,     2,     0,     0,\n",
      "             0],\n",
      "        [    1,    38,    48,   458,  3620,   657,     4,     2,     0,     0,\n",
      "             0],\n",
      "        [    1,  2630,    12,    78,   330,   349,    25,     2,     0,     0,\n",
      "             0],\n",
      "        [    1,  1078,    49,  1419,   114,  2574,     4,     2,     0,     0,\n",
      "             0],\n",
      "        [    1,    34,    10,    97,    21,  1080,     4,     2,     0,     0,\n",
      "             0],\n",
      "        [    1,   350,    13,    52,   105,  1607,  2566,     8,     2,     0,\n",
      "             0],\n",
      "        [    1,    38,    49,    20,    16,     3,   300,     4,     2,     0,\n",
      "             0],\n",
      "        [    1,    23,   157,   804,    20,    16,  1238,     4,     2,     0,\n",
      "             0],\n",
      "        [    1,    38,    48,   105,   145,   513,  1635,     4,     2,     0,\n",
      "             0],\n",
      "        [    1,    62,    74,    13,   571,    59,   159,     8,     2,     0,\n",
      "             0],\n",
      "        [    1,    62,   236,    70,    60,  1299,   100,     8,     2,     0,\n",
      "             0],\n",
      "        [    1,     6,   637,    30,     3,    32,  1460,  2228,     4,     2,\n",
      "             0],\n",
      "        [    1,   251,  2628,  1719,    26,    41,    58,     3,     4,     2,\n",
      "             0],\n",
      "        [    1,     7,   217,     5,    17,    10,    20,   850,     4,     2,\n",
      "             0],\n",
      "        [    1,     7,   541,     5,     6,    18,    14,    80,   178,     4,\n",
      "             2],\n",
      "        [    1,   721,    30,     5,    52,    58,    21,  2774, 11305,     4,\n",
      "             2],\n",
      "        [    1,   251,  6172,  1022,    68,  2045,  2863,    29,    26,     4,\n",
      "             2],\n",
      "        [    1,   218,    12,  3120,     8,     2,     0,     0,     0,     0,\n",
      "             0],\n",
      "        [    1,   309,    65,    12,  3526,     4,     2,     0,     0,     0,\n",
      "             0],\n",
      "        [    1,     7,  2240,   145,   271,     4,     2,     0,     0,     0,\n",
      "             0],\n",
      "        [    1,  1596,   231,    16,  2945,     8,     2,     0,     0,     0,\n",
      "             0],\n",
      "        [    1,     7,    54,   126,  2611,     4,     2,     0,     0,     0,\n",
      "             0],\n",
      "        [    1,    92,   295,    12,    53,     8,     2,     0,     0,     0,\n",
      "             0],\n",
      "        [    1,  4163,    13,    16,  1576,   682,     8,     2,     0,     0,\n",
      "             0],\n",
      "        [    1,    62,    10,    29,   150,   533,     8,     2,     0,     0,\n",
      "             0],\n",
      "        [    1,   204,   436,  8186,    88,  8965,     4,     2,     0,     0,\n",
      "             0],\n",
      "        [    1,   257,    64,    16,  3133,  6041,     4,     2,     0,     0,\n",
      "             0],\n",
      "        [    1,    73,    80,     3,    47,     6,     8,     2,     0,     0,\n",
      "             0],\n",
      "        [    1,   180,  2199,  1297,    27,    93,     4,     2,     0,     0,\n",
      "             0],\n",
      "        [    1,    34,    65,    64,  1879,     3,     4,     2,     0,     0,\n",
      "             0],\n",
      "        [    1,     6,    18,   243,   773,     3,     4,     2,     0,     0,\n",
      "             0],\n",
      "        [    1,   257,    31,    14,    77,    46,    52,    25,     2,     0,\n",
      "             0],\n",
      "        [    1,   108,  1534,   344,    35,    47,  5548,     4,     2,     0,\n",
      "             0],\n",
      "        [    1,     7,   217,   105,    43,     3,    67,     4,     2,     0,\n",
      "             0],\n",
      "        [    1,     7,    54,    61,   387,   182,   226,     4,     2,     0,\n",
      "             0],\n",
      "        [    1,   206,  1562,    26,   562,    50,  3144,     8,     2,     0,\n",
      "             0]])\n",
      "torch.Size([64, 11])\n"
     ]
    }
   ],
   "source": [
    "for (data, target) in data_pipe:\n",
    "    print(data)\n",
    "    print(data.shape)\n",
    "    print(target)\n",
    "    print(target.shape)\n",
    "    break"
   ]
  },
  {
   "cell_type": "code",
   "execution_count": 28,
   "id": "36f19860",
   "metadata": {
    "execution": {
     "iopub.execute_input": "2024-04-11T01:20:08.943221Z",
     "iopub.status.busy": "2024-04-11T01:20:08.942891Z",
     "iopub.status.idle": "2024-04-11T01:20:08.947507Z",
     "shell.execute_reply": "2024-04-11T01:20:08.946614Z"
    },
    "papermill": {
     "duration": 0.021541,
     "end_time": "2024-04-11T01:20:08.949418",
     "exception": false,
     "start_time": "2024-04-11T01:20:08.927877",
     "status": "completed"
    },
    "tags": []
   },
   "outputs": [],
   "source": [
    "import torch.nn as nn\n",
    "import random\n",
    "import torch.optim as optim\n",
    "from tqdm import tqdm\n",
    "import torch"
   ]
  },
  {
   "cell_type": "code",
   "execution_count": 29,
   "id": "85d24885",
   "metadata": {
    "execution": {
     "iopub.execute_input": "2024-04-11T01:20:08.978951Z",
     "iopub.status.busy": "2024-04-11T01:20:08.978473Z",
     "iopub.status.idle": "2024-04-11T01:20:08.982693Z",
     "shell.execute_reply": "2024-04-11T01:20:08.981794Z"
    },
    "papermill": {
     "duration": 0.021031,
     "end_time": "2024-04-11T01:20:08.984583",
     "exception": false,
     "start_time": "2024-04-11T01:20:08.963552",
     "status": "completed"
    },
    "tags": []
   },
   "outputs": [],
   "source": [
    "device = torch.device('cuda' if torch.cuda.is_available() else 'cpu')"
   ]
  },
  {
   "cell_type": "code",
   "execution_count": 30,
   "id": "a3df68c0",
   "metadata": {
    "execution": {
     "iopub.execute_input": "2024-04-11T01:20:09.056714Z",
     "iopub.status.busy": "2024-04-11T01:20:09.056050Z",
     "iopub.status.idle": "2024-04-11T01:20:09.071426Z",
     "shell.execute_reply": "2024-04-11T01:20:09.070582Z"
    },
    "papermill": {
     "duration": 0.032492,
     "end_time": "2024-04-11T01:20:09.073351",
     "exception": false,
     "start_time": "2024-04-11T01:20:09.040859",
     "status": "completed"
    },
    "tags": []
   },
   "outputs": [],
   "source": [
    "class Encoder(nn.Module):\n",
    "    def __init__(self, input_size, embedding_size, hidden_size, num_layers, p):\n",
    "        super(Encoder, self).__init__()\n",
    "        self.hidden_size = hidden_size\n",
    "        self.num_layers = num_layers\n",
    "        self.dropout = nn.Dropout(p)\n",
    "        self.embedding = nn.Embedding(input_size, embedding_size)\n",
    "        self.rnn = nn.LSTM(embedding_size, hidden_size, num_layers, dropout=p)\n",
    "        \n",
    "    def forward (self, x):\n",
    "        #  sequence_lenght x batch_size \n",
    "        embedding = self.dropout(self.embedding(x))\n",
    "        # embedding shape => (sequence_lenght,batch_size,embedding_size)\n",
    "        outputs , (hidden, cell) = self.rnn(embedding)\n",
    "        return hidden, cell\n",
    "    \n",
    "class Decoder(nn.Module):\n",
    "    def __init__(self, input_size, embedding_size, hidden_size, output_size,\n",
    "                num_layers, p):\n",
    "        super(Decoder, self).__init__()\n",
    "        self.hidden_size = hidden_size\n",
    "        self.num_layers = num_layers\n",
    "        self.dropout = nn.Dropout(p)\n",
    "        self.embedding = nn.Embedding(input_size, embedding_size)\n",
    "        self.rnn = nn.LSTM(embedding_size, hidden_size, num_layers, dropout=p)\n",
    "        self.fc = nn.Linear(hidden_size, output_size)\n",
    "        \n",
    "    def forward(self, x, hidden, cell):\n",
    "        #shape of x: (batch_size) but we want (1, batch_size)\n",
    "        x = x.unsqueeze(0)\n",
    "        embedding = self.dropout(self.embedding(x))\n",
    "        # embedding shape: (1,batch_size, embedding_size)\n",
    "        outputs, (hidden, cell) = self.rnn(embedding, (hidden, cell))\n",
    "        # outputs shape (1, N, hidden_size)\n",
    "        predictions = self.fc(outputs)\n",
    "        # predicitons shape: (1,batch_size, lenght_of_vocab)\n",
    "        predictions = predictions.squeeze(0)\n",
    "        \n",
    "        return predictions, hidden, cell\n",
    "    \n",
    "class Seq2Seq(nn.Module):\n",
    "    def __init__(self, encoder, decoder):\n",
    "        super(Seq2Seq, self).__init__()\n",
    "        self.encoder = encoder\n",
    "        self.decoder = decoder\n",
    "    \n",
    "    def forward(self, source, target, teacher_force_ratio=0.5):\n",
    "        batch_size = source.shape[1]\n",
    "        target_len = target.shape[0]\n",
    "        target_vocab_size = len(target_vocab)\n",
    "        \n",
    "        outputs = torch.zeros(target_len, batch_size, target_vocab_size).to(device)\n",
    "        \n",
    "        hidden, cell = self.encoder(source)\n",
    "        # Grab start token\n",
    "        x = target[0]\n",
    "        \n",
    "        for t in range(1, target_len):\n",
    "            output, hidden, cell = self.decoder(x, hidden, cell)\n",
    "            # output shape: (batch_size, target_vocab_size)\n",
    "            outputs[t] = output\n",
    "            best_guess = output.argmax(1)\n",
    "            \n",
    "            x = target[t] if random.random() < teacher_force_ratio else best_guess\n",
    "        return outputs"
   ]
  },
  {
   "cell_type": "code",
   "execution_count": 31,
   "id": "5d3fa8b0",
   "metadata": {
    "execution": {
     "iopub.execute_input": "2024-04-11T01:20:09.102942Z",
     "iopub.status.busy": "2024-04-11T01:20:09.102366Z",
     "iopub.status.idle": "2024-04-11T01:20:09.107762Z",
     "shell.execute_reply": "2024-04-11T01:20:09.106999Z"
    },
    "papermill": {
     "duration": 0.022023,
     "end_time": "2024-04-11T01:20:09.109516",
     "exception": false,
     "start_time": "2024-04-11T01:20:09.087493",
     "status": "completed"
    },
    "tags": []
   },
   "outputs": [],
   "source": [
    "# Training hyper parameters\n",
    "num_epochs = 20\n",
    "learning_rate = 0.001\n",
    "batch_size = 64\n",
    "load_model = False\n",
    "device = torch.device('cuda' if torch.cuda.is_available() else 'cpu')\n",
    "input_size_encoder = len(source_vocab)\n",
    "output_size_decoder = len(target_vocab)\n",
    "encoder_embedding_size = 300\n",
    "decoder_embedding_size = 300\n",
    "hidden_size = 1024\n",
    "num_layers = 2\n",
    "enc_dropout = 0.5\n",
    "dec_dropout = 0.5\n"
   ]
  },
  {
   "cell_type": "code",
   "execution_count": 32,
   "id": "89ba3191",
   "metadata": {
    "execution": {
     "iopub.execute_input": "2024-04-11T01:20:09.139067Z",
     "iopub.status.busy": "2024-04-11T01:20:09.138797Z",
     "iopub.status.idle": "2024-04-11T01:20:09.952858Z",
     "shell.execute_reply": "2024-04-11T01:20:09.951700Z"
    },
    "papermill": {
     "duration": 0.831288,
     "end_time": "2024-04-11T01:20:09.955327",
     "exception": false,
     "start_time": "2024-04-11T01:20:09.124039",
     "status": "completed"
    },
    "tags": []
   },
   "outputs": [],
   "source": [
    "encoder_net = Encoder(input_size_encoder, encoder_embedding_size, hidden_size,num_layers,\n",
    "                    enc_dropout).to(device)\n",
    "decoder_net = Decoder(output_size_decoder, decoder_embedding_size, hidden_size,output_size_decoder, num_layers,\n",
    "                     dec_dropout).to(device)"
   ]
  },
  {
   "cell_type": "code",
   "execution_count": 33,
   "id": "f2f4aca4",
   "metadata": {
    "execution": {
     "iopub.execute_input": "2024-04-11T01:20:09.986195Z",
     "iopub.status.busy": "2024-04-11T01:20:09.985861Z",
     "iopub.status.idle": "2024-04-11T01:20:11.667716Z",
     "shell.execute_reply": "2024-04-11T01:20:11.666722Z"
    },
    "papermill": {
     "duration": 1.699638,
     "end_time": "2024-04-11T01:20:11.669986",
     "exception": false,
     "start_time": "2024-04-11T01:20:09.970348",
     "status": "completed"
    },
    "tags": []
   },
   "outputs": [],
   "source": [
    "model = Seq2Seq(encoder_net, decoder_net).to(device)\n",
    "optimizer = optim.Adam(model.parameters(), lr=learning_rate)\n",
    "pad_idx = target_vocab.lookup_indices(['<pad>'])[0]\n",
    "criterion = nn.CrossEntropyLoss(ignore_index=pad_idx)"
   ]
  },
  {
   "cell_type": "code",
   "execution_count": 34,
   "id": "e0598dcf",
   "metadata": {
    "execution": {
     "iopub.execute_input": "2024-04-11T01:20:11.701151Z",
     "iopub.status.busy": "2024-04-11T01:20:11.700127Z",
     "iopub.status.idle": "2024-04-11T01:20:11.705396Z",
     "shell.execute_reply": "2024-04-11T01:20:11.704661Z"
    },
    "papermill": {
     "duration": 0.022294,
     "end_time": "2024-04-11T01:20:11.707308",
     "exception": false,
     "start_time": "2024-04-11T01:20:11.685014",
     "status": "completed"
    },
    "tags": []
   },
   "outputs": [],
   "source": [
    "FILE_PATH = '/kaggle/working/shiny_test.txt'\n",
    "test_data_pipe = dp.iter.IterableWrapper([FILE_PATH])\n",
    "test_data_pipe = dp.iter.FileOpener(test_data_pipe, mode='rb')\n",
    "test_data_pipe = test_data_pipe.parse_csv(skip_lines=1, delimiter='\\t', as_tuple=True)\n"
   ]
  },
  {
   "cell_type": "code",
   "execution_count": 35,
   "id": "120481a9",
   "metadata": {
    "execution": {
     "iopub.execute_input": "2024-04-11T01:20:11.738151Z",
     "iopub.status.busy": "2024-04-11T01:20:11.737870Z",
     "iopub.status.idle": "2024-04-11T01:20:11.747592Z",
     "shell.execute_reply": "2024-04-11T01:20:11.746715Z"
    },
    "papermill": {
     "duration": 0.027845,
     "end_time": "2024-04-11T01:20:11.749398",
     "exception": false,
     "start_time": "2024-04-11T01:20:11.721553",
     "status": "completed"
    },
    "tags": []
   },
   "outputs": [],
   "source": [
    "import torch\n",
    "import spacy\n",
    "from torchtext.data.metrics import bleu_score\n",
    "import sys\n",
    "\n",
    "\n",
    "def translate_sentence(model, sentence, german_voc, english_voc, spacy_en, device, max_length=50):\n",
    "    \n",
    "    # Create tokens using spacy and everything in lower case (which is what our vocab is)\n",
    "    if type(sentence) == str:\n",
    "        tokens = [token.text.lower() for token in spacy_en(sentence)]\n",
    "    else:\n",
    "        tokens = [token.lower() for token in sentence]\n",
    "      \n",
    "    # Add <SOS> and <EOS> in beginning and end respectively\n",
    "    tokens.insert(0, '<sos>')\n",
    "    tokens.append('<eos>')\n",
    "    # Go through each german token and convert to an index\n",
    "    text_to_indices = english_voc.lookup_indices(tokens)\n",
    "\n",
    "    \n",
    "    # Convert to Tensor\n",
    "    sentence_tensor = torch.tensor(text_to_indices, device=device).unsqueeze(1)\n",
    "    \n",
    "    # Build encoder hidden, cell state\n",
    "    \n",
    "    with torch.no_grad():\n",
    "        hidden, cell = model.encoder(sentence_tensor)\n",
    " \n",
    "    outputs = german_voc.forward(['<sos>'])\n",
    "    end_of_sentece = german_voc.forward(['<eos>'])[0]\n",
    "    \n",
    "    for _ in range(max_length):\n",
    "        previous_word = torch.tensor([outputs[-1]], device=device)\n",
    "        with torch.no_grad():\n",
    "            output, hidden, cell = model.decoder(previous_word, hidden, cell)\n",
    "            best_guess = output.argmax(1).item()\n",
    "        outputs.append(best_guess)\n",
    "    \n",
    "    \n",
    "        # Model predicts it's the end of the sentence\n",
    "        if best_guess == end_of_sentece:\n",
    "            break\n",
    "    \n",
    "    translated_sentence = german_voc.lookup_tokens(outputs)\n",
    "    # remove start token\n",
    "    return translated_sentence[1:]\n"
   ]
  },
  {
   "cell_type": "code",
   "execution_count": 36,
   "id": "c0709031",
   "metadata": {
    "execution": {
     "iopub.execute_input": "2024-04-11T01:20:11.778860Z",
     "iopub.status.busy": "2024-04-11T01:20:11.778599Z",
     "iopub.status.idle": "2024-04-11T01:20:13.747897Z",
     "shell.execute_reply": "2024-04-11T01:20:13.747104Z"
    },
    "papermill": {
     "duration": 1.986472,
     "end_time": "2024-04-11T01:20:13.750282",
     "exception": false,
     "start_time": "2024-04-11T01:20:11.763810",
     "status": "completed"
    },
    "tags": []
   },
   "outputs": [],
   "source": [
    "from torchmetrics.functional.text import bleu_score\n",
    "from torch.utils.data import DataLoader\n",
    "\n",
    "\n",
    "def bleu(data_pipe, model, german_vocab, english_vocab, device):\n",
    "    spacy_en = spacy.load(\"en_core_web_sm\")\n",
    "    targets = []\n",
    "    outputs = []\n",
    "    \n",
    "    for idx, (source, target) in enumerate(data_pipe):\n",
    "        if idx % 10000 == 0:\n",
    "            print(idx)\n",
    "        \n",
    "        prediction = translate_sentence(model, source, german_vocab, english_vocab, spacy_en, device)\n",
    "        prediction = prediction[:-1]\n",
    "        detokenized  = ' '.join(deTokenize(target))\n",
    "        targets.append([detokenized])\n",
    "        outputs.append(\" \".join(prediction))\n",
    "#         print(f'Source: {source} Target: {t} Pred: {detokenized}', end='\\n\\n')\n",
    "    return bleu_score(outputs, targets)"
   ]
  },
  {
   "cell_type": "code",
   "execution_count": 37,
   "id": "52c651d2",
   "metadata": {
    "execution": {
     "iopub.execute_input": "2024-04-11T01:20:13.780436Z",
     "iopub.status.busy": "2024-04-11T01:20:13.780122Z",
     "iopub.status.idle": "2024-04-11T02:53:39.429724Z",
     "shell.execute_reply": "2024-04-11T02:53:39.428659Z"
    },
    "papermill": {
     "duration": 5605.667178,
     "end_time": "2024-04-11T02:53:39.432287",
     "exception": false,
     "start_time": "2024-04-11T01:20:13.765109",
     "status": "completed"
    },
    "tags": []
   },
   "outputs": [
    {
     "name": "stdout",
     "output_type": "stream",
     "text": [
      "verzichten gestochen nächste nächste Telefonleitung Telefonleitung Telefonleitung dieselben Gruppenzwang Film Film irgendjemand entspannten Film träumte Inseln landete landete landete Entführung Maschinen Maschinen Maschinen Maschinen Maschinen zurückkommen zurückkommen anhören anhören Erfinder Erfinder Erfinder schaust landete landete landete landete Entführung Maschinen Maschinen Maschinen Maschinen Maschinen zurückkommen zurückkommen anhören anhören Erfinder Erfinder\n",
      "Epoch 1 / 20\n",
      "Du musst es .\n",
      "Epoch 2 / 20\n",
      "Du musst es wissen .\n",
      "Epoch 3 / 20\n",
      "Wir müssen es wissen .\n",
      "Epoch 4 / 20\n",
      "Du musst es selbst .\n",
      "Epoch 5 / 20\n",
      "Man muss es selbst wissen .\n",
      "Epoch 6 / 20\n",
      "Das musst ihr selbst wissen .\n",
      "Epoch 7 / 20\n",
      "Du musst es kennen .\n",
      "Epoch 8 / 20\n",
      "Das musst du selbst wissen .\n",
      "Epoch 9 / 20\n",
      "Das musst du selbst wissen .\n",
      "Epoch 10 / 20\n",
      "Man muss es selbst wissen .\n",
      "Epoch 11 / 20\n",
      "Man muss es selbst wissen .\n",
      "Epoch 12 / 20\n",
      "Man muss es selbst wissen .\n",
      "Epoch 13 / 20\n",
      "Man muss es selbst wissen .\n",
      "Epoch 14 / 20\n",
      "Man muss es selbst kennen .\n",
      "Epoch 15 / 20\n",
      "Man muss dich selbst wissen .\n",
      "Epoch 16 / 20\n",
      "Man musst Sie selbst kennen .\n",
      "Epoch 17 / 20\n",
      "Man muss es selbst wissen .\n",
      "Epoch 18 / 20\n",
      "Man muss es selbst kennen .\n",
      "Epoch 19 / 20\n",
      "Man muss dich selbst wissen .\n",
      "Epoch 20 / 20\n"
     ]
    }
   ],
   "source": [
    "sentence = 'You must know yourself.'\n",
    "spacy_en = spacy.load(\"en_core_web_sm\")\n",
    "\n",
    "for epoch in range(num_epochs):\n",
    "    \n",
    "    model.eval()\n",
    "    translated_sentence = translate_sentence(model, sentence, target_vocab, source_vocab,spacy_en, device)\n",
    "    print(' '.join(translated_sentence[:-1]))\n",
    "    model.train()\n",
    "    print(f'Epoch {epoch+1} / {num_epochs}')\n",
    "    for batch_idx, (data, target) in enumerate(data_pipe):\n",
    "            data = data.permute([1,0])\n",
    "            data = data.to(device)\n",
    "            target = target.permute([1,0])\n",
    "            target = target.to(device)\n",
    "            output = model(data, target)\n",
    "            # output shape: (target_len, batch_size, output_len)\n",
    "            output = output[1:].reshape(-1, output.shape[2])\n",
    "            target = target[1:].reshape(-1)\n",
    "            \n",
    "            optimizer.zero_grad()\n",
    "            loss = criterion(output, target)\n",
    "            loss.backward()\n",
    "            torch.nn.utils.clip_grad_norm_(model.parameters(), max_norm=1)\n",
    "            optimizer.step()     "
   ]
  },
  {
   "cell_type": "code",
   "execution_count": 38,
   "id": "f2dbfc38",
   "metadata": {
    "execution": {
     "iopub.execute_input": "2024-04-11T02:53:39.466331Z",
     "iopub.status.busy": "2024-04-11T02:53:39.465997Z",
     "iopub.status.idle": "2024-04-11T03:01:04.814874Z",
     "shell.execute_reply": "2024-04-11T03:01:04.814034Z"
    },
    "papermill": {
     "duration": 445.368053,
     "end_time": "2024-04-11T03:01:04.817201",
     "exception": false,
     "start_time": "2024-04-11T02:53:39.449148",
     "status": "completed"
    },
    "tags": []
   },
   "outputs": [
    {
     "name": "stdout",
     "output_type": "stream",
     "text": [
      "0\n",
      "10000\n",
      "20000\n",
      "30000\n"
     ]
    }
   ],
   "source": [
    "score = bleu(test_data_pipe, model, target_vocab, source_vocab, device)"
   ]
  },
  {
   "cell_type": "code",
   "execution_count": 39,
   "id": "e701a99e",
   "metadata": {
    "execution": {
     "iopub.execute_input": "2024-04-11T03:01:04.851812Z",
     "iopub.status.busy": "2024-04-11T03:01:04.851493Z",
     "iopub.status.idle": "2024-04-11T03:01:04.862194Z",
     "shell.execute_reply": "2024-04-11T03:01:04.861332Z"
    },
    "papermill": {
     "duration": 0.030269,
     "end_time": "2024-04-11T03:01:04.864217",
     "exception": false,
     "start_time": "2024-04-11T03:01:04.833948",
     "status": "completed"
    },
    "tags": []
   },
   "outputs": [
    {
     "name": "stdout",
     "output_type": "stream",
     "text": [
      "tensor(0.0958)\n"
     ]
    }
   ],
   "source": [
    "print(score)"
   ]
  }
 ],
 "metadata": {
  "kaggle": {
   "accelerator": "gpu",
   "dataSources": [],
   "dockerImageVersionId": 30684,
   "isGpuEnabled": true,
   "isInternetEnabled": true,
   "language": "python",
   "sourceType": "notebook"
  },
  "kernelspec": {
   "display_name": "Python 3",
   "language": "python",
   "name": "python3"
  },
  "language_info": {
   "codemirror_mode": {
    "name": "ipython",
    "version": 3
   },
   "file_extension": ".py",
   "mimetype": "text/x-python",
   "name": "python",
   "nbconvert_exporter": "python",
   "pygments_lexer": "ipython3",
   "version": "3.10.13"
  },
  "papermill": {
   "default_parameters": {},
   "duration": 6314.565003,
   "end_time": "2024-04-11T03:01:06.816586",
   "environment_variables": {},
   "exception": null,
   "input_path": "__notebook__.ipynb",
   "output_path": "__notebook__.ipynb",
   "parameters": {},
   "start_time": "2024-04-11T01:15:52.251583",
   "version": "2.5.0"
  }
 },
 "nbformat": 4,
 "nbformat_minor": 5
}
