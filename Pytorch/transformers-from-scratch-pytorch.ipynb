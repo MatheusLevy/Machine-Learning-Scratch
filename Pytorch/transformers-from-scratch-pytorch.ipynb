{
 "cells": [
  {
   "cell_type": "code",
   "execution_count": 1,
   "id": "0c8d71ec",
   "metadata": {
    "_cell_guid": "b1076dfc-b9ad-4769-8c92-a6c4dae69d19",
    "_uuid": "8f2839f25d086af736a60e9eeb907d3b93b6e0e5",
    "execution": {
     "iopub.execute_input": "2024-04-15T15:17:12.224423Z",
     "iopub.status.busy": "2024-04-15T15:17:12.223576Z",
     "iopub.status.idle": "2024-04-15T15:17:15.802704Z",
     "shell.execute_reply": "2024-04-15T15:17:15.801889Z"
    },
    "papermill": {
     "duration": 3.58685,
     "end_time": "2024-04-15T15:17:15.804967",
     "exception": false,
     "start_time": "2024-04-15T15:17:12.218117",
     "status": "completed"
    },
    "tags": []
   },
   "outputs": [],
   "source": [
    "import torch\n",
    "import torch.nn as nn"
   ]
  },
  {
   "cell_type": "code",
   "execution_count": 2,
   "id": "7fe144cd",
   "metadata": {
    "execution": {
     "iopub.execute_input": "2024-04-15T15:17:15.813591Z",
     "iopub.status.busy": "2024-04-15T15:17:15.812792Z",
     "iopub.status.idle": "2024-04-15T15:17:15.824686Z",
     "shell.execute_reply": "2024-04-15T15:17:15.823818Z"
    },
    "papermill": {
     "duration": 0.017919,
     "end_time": "2024-04-15T15:17:15.826591",
     "exception": false,
     "start_time": "2024-04-15T15:17:15.808672",
     "status": "completed"
    },
    "tags": []
   },
   "outputs": [],
   "source": [
    "class SelfAttention(nn.Module):\n",
    "    def __init__(self, embed_size, heads):\n",
    "        super(SelfAttention, self).__init__()\n",
    "        self.embed_size = embed_size\n",
    "        self.heads = heads\n",
    "        self.head_dim = embed_size // heads  # embed_size: 256 and heads: 8 then each head is\n",
    "                                             # 256 // 8 = 32 dim\n",
    "        assert (self.head_dim * heads == embed_size), 'Embed size needs to be div by heads'\n",
    "        \n",
    "        self.values = nn.Linear(self.head_dim, self.head_dim, bias= False)\n",
    "        self.keys =  nn.Linear(self.head_dim, self.head_dim, bias= False)\n",
    "        self.queries = nn.Linear(self.head_dim, self.head_dim, bias= False)\n",
    "        self.fc_out = nn.Linear(heads*self.head_dim, embed_size)\n",
    "        \n",
    "    def forward(self, values, keys, query, mask):\n",
    "        N = query.shape[0]\n",
    "        value_len, key_len, query_len = values.shape[1], keys.shape[1], query.shape[1]\n",
    "        \n",
    "        # Split embedding into self.head pieces\n",
    "        values = values.reshape(N, value_len, self.heads, self.head_dim)\n",
    "        keys = keys.reshape(N, key_len, self.heads, self.head_dim)\n",
    "        queries = query.reshape(N, query_len, self.heads, self.head_dim)\n",
    "        \n",
    "        values = self.values(values)\n",
    "        keys = self.keys(keys)\n",
    "        queries = self.queries(queries)\n",
    "        \n",
    "        energy = torch.einsum('nqhd,nkhd->nhqk', [queries, keys])\n",
    "        # queries shape: (N, query_len, heads, head_dim)\n",
    "        # keys shape: (N, keys_len, heads, head_dim)\n",
    "        # energy = (N, heads, query_len, key_len)\n",
    "        \n",
    "        if mask is not None:\n",
    "            energy = energy.masked_fill(mask == 0, float('-1e20'))\n",
    "        \n",
    "        attention = torch.softmax(energy/(self.embed_size ** (1/2)), dim=3)\n",
    "        \n",
    "        out = torch.einsum('nhql,nlhd->nqhd', [attention, values]).reshape(\n",
    "            N, query_len, self.heads*self.head_dim\n",
    "        )\n",
    "        # attention shape: (N, heads, query_len, key_len)\n",
    "        # values shape: (N, values_len, heads, heads_dim)\n",
    "        # (N, query_len, heads, head_dim) then flatten last two dimension\n",
    "        # (n, query_len, embed_size)\n",
    "        out = self.fc_out(out)\n",
    "        return out"
   ]
  },
  {
   "cell_type": "code",
   "execution_count": 3,
   "id": "22f2eb10",
   "metadata": {
    "execution": {
     "iopub.execute_input": "2024-04-15T15:17:15.833771Z",
     "iopub.status.busy": "2024-04-15T15:17:15.833510Z",
     "iopub.status.idle": "2024-04-15T15:17:15.840658Z",
     "shell.execute_reply": "2024-04-15T15:17:15.839700Z"
    },
    "papermill": {
     "duration": 0.012996,
     "end_time": "2024-04-15T15:17:15.842705",
     "exception": false,
     "start_time": "2024-04-15T15:17:15.829709",
     "status": "completed"
    },
    "tags": []
   },
   "outputs": [],
   "source": [
    "class TransformerBlock(nn.Module):\n",
    "    def __init__(self, embed_size, heads, dropout, forward_expansion):\n",
    "        super(TransformerBlock, self).__init__()\n",
    "        self.attention = SelfAttention(embed_size, heads)\n",
    "        self.norm1 = nn.LayerNorm(embed_size)\n",
    "        self.norm2 = nn.LayerNorm(embed_size)\n",
    "        \n",
    "        self.feed_forward = nn.Sequential(\n",
    "            nn.Linear(embed_size, forward_expansion*embed_size),\n",
    "            nn.ReLU(),\n",
    "            nn.Linear(forward_expansion*embed_size, embed_size)\n",
    "        )\n",
    "        \n",
    "        self.dropout = nn.Dropout(dropout)\n",
    "        \n",
    "    def forward(self, value, key, query, mask):\n",
    "        attention = self.attention(value, key, query, mask)\n",
    "        x = self.dropout(self.norm1(attention + query))\n",
    "        forward = self.feed_forward(x)\n",
    "        out = self.dropout(self.norm2(forward + x))\n",
    "        return out"
   ]
  },
  {
   "cell_type": "code",
   "execution_count": 4,
   "id": "b51f8997",
   "metadata": {
    "execution": {
     "iopub.execute_input": "2024-04-15T15:17:15.850220Z",
     "iopub.status.busy": "2024-04-15T15:17:15.849962Z",
     "iopub.status.idle": "2024-04-15T15:17:15.858193Z",
     "shell.execute_reply": "2024-04-15T15:17:15.857309Z"
    },
    "papermill": {
     "duration": 0.014259,
     "end_time": "2024-04-15T15:17:15.860078",
     "exception": false,
     "start_time": "2024-04-15T15:17:15.845819",
     "status": "completed"
    },
    "tags": []
   },
   "outputs": [],
   "source": [
    "class Encoder(nn.Module):\n",
    "    def __init__(\n",
    "        self,\n",
    "        src_vocab_size,\n",
    "        embed_size,\n",
    "        num_layers,\n",
    "        heads,\n",
    "        device,\n",
    "        forward_expasion,\n",
    "        dropout,\n",
    "        max_lenght\n",
    "    ):\n",
    "        super(Encoder, self).__init__()\n",
    "        self.embed_size = embed_size\n",
    "        self.device = device\n",
    "        self.word_embedding = nn.Embedding(src_vocab_size, embed_size)\n",
    "        self.positional_embedding = nn.Embedding(max_lenght, embed_size)\n",
    "        self.layers = nn.ModuleList(\n",
    "        [\n",
    "            TransformerBlock(\n",
    "                embed_size,\n",
    "                heads,\n",
    "                dropout=dropout,\n",
    "                forward_expansion=forward_expasion,\n",
    "            ) for _ in range(num_layers)\n",
    "        ])\n",
    "        self.dropout = nn.Dropout(dropout)\n",
    "        \n",
    "    def forward(self, x, mask):\n",
    "        N, seq_lenght = x.shape\n",
    "        positions = torch.arange(0, seq_lenght).expand(N, seq_lenght).to(self.device)\n",
    "        out = self.dropout(self.word_embedding(x) + self.positional_embedding(positions))\n",
    "        for layer in self.layers:\n",
    "            out = layer(out, out, out, mask)\n",
    "        return out\n",
    "        "
   ]
  },
  {
   "cell_type": "code",
   "execution_count": 5,
   "id": "a69189b6",
   "metadata": {
    "execution": {
     "iopub.execute_input": "2024-04-15T15:17:15.867409Z",
     "iopub.status.busy": "2024-04-15T15:17:15.867104Z",
     "iopub.status.idle": "2024-04-15T15:17:15.873595Z",
     "shell.execute_reply": "2024-04-15T15:17:15.872786Z"
    },
    "papermill": {
     "duration": 0.012206,
     "end_time": "2024-04-15T15:17:15.875438",
     "exception": false,
     "start_time": "2024-04-15T15:17:15.863232",
     "status": "completed"
    },
    "tags": []
   },
   "outputs": [],
   "source": [
    "class DecoderBlock(nn.Module):\n",
    "    def __init__(self, embed_size, heads, forward_expansion, dropout, device):\n",
    "        super(DecoderBlock, self).__init__()\n",
    "        self.attention = SelfAttention(embed_size, heads)\n",
    "        self.norm = nn.LayerNorm(embed_size)\n",
    "        self.transformer_block = TransformerBlock(\n",
    "            embed_size, heads, dropout, forward_expansion\n",
    "        )\n",
    "        self.dropout = nn.Dropout(dropout)\n",
    "        \n",
    "    def forward(self, x, value, key, src_mask, trg_mask):\n",
    "        attention = self.attention(x, x, x, trg_mask)\n",
    "        query = self.dropout(self.norm(attention + x))\n",
    "        out = self.transformer_block(value, key, query, src_mask)\n",
    "        return out"
   ]
  },
  {
   "cell_type": "code",
   "execution_count": 6,
   "id": "5c204818",
   "metadata": {
    "execution": {
     "iopub.execute_input": "2024-04-15T15:17:15.882674Z",
     "iopub.status.busy": "2024-04-15T15:17:15.882410Z",
     "iopub.status.idle": "2024-04-15T15:17:15.891470Z",
     "shell.execute_reply": "2024-04-15T15:17:15.890464Z"
    },
    "papermill": {
     "duration": 0.014734,
     "end_time": "2024-04-15T15:17:15.893308",
     "exception": false,
     "start_time": "2024-04-15T15:17:15.878574",
     "status": "completed"
    },
    "tags": []
   },
   "outputs": [],
   "source": [
    "class Decoder(nn.Module):\n",
    "    def __init__(self,\n",
    "                 trg_vocab_size,\n",
    "                 embed_size,\n",
    "                 num_layers,\n",
    "                 heads,\n",
    "                 forward_expansion,\n",
    "                 dropout,\n",
    "                 device,\n",
    "                 max_lenght\n",
    "                ):\n",
    "        super(Decoder, self).__init__()\n",
    "        self.device = device\n",
    "        self.word_embedding = nn.Embedding(trg_vocab_size, embed_size)\n",
    "        self.positional_embedding = nn.Embedding(max_lenght, embed_size)\n",
    "        self.layers = nn.ModuleList(\n",
    "            [DecoderBlock(embed_size, heads, forward_expansion, dropout, device)\n",
    "            for _ in range(num_layers)\n",
    "            ]\n",
    "        )\n",
    "        self.fc_out = nn.Linear(embed_size, trg_vocab_size)\n",
    "        self.dropout = nn.Dropout(dropout)\n",
    "        \n",
    "    def forward(self, x, enc_out, src_mask, trg_mask):\n",
    "        N, seq_lenght = x.shape\n",
    "        positions = torch.arange(0, seq_lenght).expand(N, seq_lenght).to(self.device)\n",
    "        x = self.dropout((self.word_embedding(x) + self.positional_embedding(positions)))\n",
    "        for layer in self.layers:\n",
    "            x = layer(x, enc_out, enc_out, src_mask, trg_mask)\n",
    "        \n",
    "        out = self.fc_out(x)\n",
    "        return out"
   ]
  },
  {
   "cell_type": "code",
   "execution_count": 7,
   "id": "2ae17da3",
   "metadata": {
    "execution": {
     "iopub.execute_input": "2024-04-15T15:17:15.900751Z",
     "iopub.status.busy": "2024-04-15T15:17:15.900510Z",
     "iopub.status.idle": "2024-04-15T15:17:15.910142Z",
     "shell.execute_reply": "2024-04-15T15:17:15.909366Z"
    },
    "papermill": {
     "duration": 0.015601,
     "end_time": "2024-04-15T15:17:15.912024",
     "exception": false,
     "start_time": "2024-04-15T15:17:15.896423",
     "status": "completed"
    },
    "tags": []
   },
   "outputs": [],
   "source": [
    "class Transformer(nn.Module):\n",
    "    def __init__(\n",
    "        self,\n",
    "        src_vocab_size,\n",
    "        trg_vocab_size,\n",
    "        src_pad_idx,\n",
    "        trg_pad_idx,\n",
    "        embed_size=256,\n",
    "        num_layers=6,\n",
    "        forward_expansion=4,\n",
    "        heads= 8,\n",
    "        dropout=0,\n",
    "        device='cuda',\n",
    "        max_lenght=100\n",
    "    ):\n",
    "        super(Transformer, self).__init__()\n",
    "        self.encoder = Encoder(\n",
    "            src_vocab_size,\n",
    "            embed_size,\n",
    "            num_layers,\n",
    "            heads,\n",
    "            device,\n",
    "            forward_expansion,\n",
    "            dropout,\n",
    "            max_lenght\n",
    "        )\n",
    "        self.decoder = Decoder(\n",
    "            trg_vocab_size,\n",
    "            embed_size,\n",
    "            num_layers,\n",
    "            heads,\n",
    "            forward_expansion,\n",
    "            dropout,\n",
    "            device,\n",
    "            max_lenght   \n",
    "        )\n",
    "        self.src_pad_idx = src_pad_idx\n",
    "        self.trg_pad_ix = trg_pad_idx\n",
    "        self.device = device\n",
    "        \n",
    "    def make_src_mask(self, src):\n",
    "        src_mask = (src != self.src_pad_idx).unsqueeze(1).unsqueeze(2)\n",
    "        # (N, 1, 1, src_len)\n",
    "        return src_mask.to(self.device)\n",
    "    \n",
    "    def make_trg_mask(self, trg):\n",
    "        N, trg_len = trg.shape\n",
    "        trg_mask = torch.tril(torch.ones((trg_len, trg_len))).expand(N,1,trg_len, trg_len)\n",
    "        return trg_mask.to(self.device)\n",
    "    \n",
    "    def forward(self, src, trg):\n",
    "        src_mask = self.make_src_mask(src)\n",
    "        trg_mask = self.make_trg_mask(trg)\n",
    "        \n",
    "        enc_src = self.encoder(src, src_mask)\n",
    "        out = self.decoder(trg, enc_src, src_mask, trg_mask)\n",
    "        return out"
   ]
  },
  {
   "cell_type": "code",
   "execution_count": 8,
   "id": "e02488df",
   "metadata": {
    "execution": {
     "iopub.execute_input": "2024-04-15T15:17:15.919223Z",
     "iopub.status.busy": "2024-04-15T15:17:15.918945Z",
     "iopub.status.idle": "2024-04-15T15:17:16.895943Z",
     "shell.execute_reply": "2024-04-15T15:17:16.894831Z"
    },
    "papermill": {
     "duration": 0.98322,
     "end_time": "2024-04-15T15:17:16.898326",
     "exception": false,
     "start_time": "2024-04-15T15:17:15.915106",
     "status": "completed"
    },
    "tags": []
   },
   "outputs": [
    {
     "name": "stdout",
     "output_type": "stream",
     "text": [
      "cuda\n",
      "torch.Size([2, 7, 10])\n"
     ]
    }
   ],
   "source": [
    "device = torch.device(\"cuda\" if torch.cuda.is_available() else \"cpu\")\n",
    "print(device)\n",
    "\n",
    "x = torch.tensor([[1, 5, 6, 4, 3, 9, 5, 2, 0], [1, 8, 7, 3, 4, 5, 6, 7, 2]]).to(\n",
    "    device\n",
    ")\n",
    "trg = torch.tensor([[1, 7, 4, 3, 5, 9, 2, 0], [1, 5, 6, 2, 4, 7, 6, 2]]).to(device)\n",
    "\n",
    "src_pad_idx = 0\n",
    "trg_pad_idx = 0\n",
    "src_vocab_size = 10\n",
    "trg_vocab_size = 10\n",
    "model = Transformer(src_vocab_size, trg_vocab_size, src_pad_idx, trg_pad_idx, device=device).to(\n",
    "    device\n",
    ")\n",
    "out = model(x, trg[:, :-1])\n",
    "print(out.shape)"
   ]
  }
 ],
 "metadata": {
  "kaggle": {
   "accelerator": "gpu",
   "dataSources": [],
   "dockerImageVersionId": 30684,
   "isGpuEnabled": true,
   "isInternetEnabled": true,
   "language": "python",
   "sourceType": "notebook"
  },
  "kernelspec": {
   "display_name": "Python 3",
   "language": "python",
   "name": "python3"
  },
  "language_info": {
   "codemirror_mode": {
    "name": "ipython",
    "version": 3
   },
   "file_extension": ".py",
   "mimetype": "text/x-python",
   "name": "python",
   "nbconvert_exporter": "python",
   "pygments_lexer": "ipython3",
   "version": "3.10.13"
  },
  "papermill": {
   "default_parameters": {},
   "duration": 8.611585,
   "end_time": "2024-04-15T15:17:18.025545",
   "environment_variables": {},
   "exception": null,
   "input_path": "__notebook__.ipynb",
   "output_path": "__notebook__.ipynb",
   "parameters": {},
   "start_time": "2024-04-15T15:17:09.413960",
   "version": "2.5.0"
  }
 },
 "nbformat": 4,
 "nbformat_minor": 5
}
