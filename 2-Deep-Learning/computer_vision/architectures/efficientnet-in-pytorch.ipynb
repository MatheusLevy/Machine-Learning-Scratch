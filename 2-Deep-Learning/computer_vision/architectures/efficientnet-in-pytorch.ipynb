{
 "cells": [
  {
   "cell_type": "code",
   "execution_count": 1,
   "id": "dbada77c",
   "metadata": {
    "_cell_guid": "b1076dfc-b9ad-4769-8c92-a6c4dae69d19",
    "_uuid": "8f2839f25d086af736a60e9eeb907d3b93b6e0e5",
    "execution": {
     "iopub.execute_input": "2024-04-14T00:13:51.156579Z",
     "iopub.status.busy": "2024-04-14T00:13:51.156263Z",
     "iopub.status.idle": "2024-04-14T00:13:54.808221Z",
     "shell.execute_reply": "2024-04-14T00:13:54.807326Z"
    },
    "papermill": {
     "duration": 3.661023,
     "end_time": "2024-04-14T00:13:54.810629",
     "exception": false,
     "start_time": "2024-04-14T00:13:51.149606",
     "status": "completed"
    },
    "tags": []
   },
   "outputs": [],
   "source": [
    "import torch\n",
    "import torch.nn as nn\n",
    "from math import ceil"
   ]
  },
  {
   "cell_type": "code",
   "execution_count": 2,
   "id": "e109971f",
   "metadata": {
    "execution": {
     "iopub.execute_input": "2024-04-14T00:13:54.823025Z",
     "iopub.status.busy": "2024-04-14T00:13:54.822202Z",
     "iopub.status.idle": "2024-04-14T00:13:54.827656Z",
     "shell.execute_reply": "2024-04-14T00:13:54.826853Z"
    },
    "papermill": {
     "duration": 0.013615,
     "end_time": "2024-04-14T00:13:54.829659",
     "exception": false,
     "start_time": "2024-04-14T00:13:54.816044",
     "status": "completed"
    },
    "tags": []
   },
   "outputs": [],
   "source": [
    "base_model = [\n",
    "    # expand_ration, channels, repeats, stride, kernel_size\n",
    "    [1, 16, 1, 1, 3],\n",
    "    [6, 24, 2, 2, 3],\n",
    "    [6, 40, 2, 2, 5],\n",
    "    [6, 80, 3, 2, 3],\n",
    "    [6, 112, 3, 1, 5],\n",
    "    [6, 192, 4, 2, 5],\n",
    "    [6, 320, 1, 1, 3],\n",
    "]"
   ]
  },
  {
   "cell_type": "code",
   "execution_count": 3,
   "id": "5a8b0c67",
   "metadata": {
    "execution": {
     "iopub.execute_input": "2024-04-14T00:13:54.841864Z",
     "iopub.status.busy": "2024-04-14T00:13:54.841608Z",
     "iopub.status.idle": "2024-04-14T00:13:54.846732Z",
     "shell.execute_reply": "2024-04-14T00:13:54.845934Z"
    },
    "papermill": {
     "duration": 0.013187,
     "end_time": "2024-04-14T00:13:54.848608",
     "exception": false,
     "start_time": "2024-04-14T00:13:54.835421",
     "status": "completed"
    },
    "tags": []
   },
   "outputs": [],
   "source": [
    "phi_values = {\n",
    "    # tuple of (phi, value, resolution, drop_rate)\n",
    "    'b0': (0, 224, 0.2), # alpha, beta, gamma i.e.: depth = alpha**phi\n",
    "    'b1': (0.5, 240, 0.2),\n",
    "    'b2': (1, 260, 0.3),\n",
    "    'b3': (2, 300, 0.3),\n",
    "    'b4': (3, 380, 0.3),\n",
    "    'b5': (4, 456, 0.4),\n",
    "    'b6': (5, 528, 0.5),\n",
    "    'b7': (6, 600, 0.5),\n",
    "}"
   ]
  },
  {
   "cell_type": "code",
   "execution_count": 4,
   "id": "6aba45a8",
   "metadata": {
    "execution": {
     "iopub.execute_input": "2024-04-14T00:13:54.859812Z",
     "iopub.status.busy": "2024-04-14T00:13:54.859559Z",
     "iopub.status.idle": "2024-04-14T00:13:54.865448Z",
     "shell.execute_reply": "2024-04-14T00:13:54.864648Z"
    },
    "papermill": {
     "duration": 0.013518,
     "end_time": "2024-04-14T00:13:54.867224",
     "exception": false,
     "start_time": "2024-04-14T00:13:54.853706",
     "status": "completed"
    },
    "tags": []
   },
   "outputs": [],
   "source": [
    "class CNNBlock(nn.Module):\n",
    "    def __init__(self, in_channels, out_channels, kernel_size, stride, padding, groups=1):\n",
    "        super(CNNBlock, self).__init__()\n",
    "        self.cnn = nn.Conv2d(\n",
    "            in_channels,\n",
    "            out_channels,\n",
    "            kernel_size,\n",
    "            stride,\n",
    "            padding,\n",
    "            groups=groups,\n",
    "            bias= False,\n",
    "        )\n",
    "        self.bn = nn.BatchNorm2d(out_channels)\n",
    "        self.silu = nn.SiLU() # SiLu <-> Swish\n",
    "    \n",
    "    def forward(self, x):\n",
    "        return self.silu(self.bn(self.cnn(x)))"
   ]
  },
  {
   "cell_type": "code",
   "execution_count": 5,
   "id": "cec31928",
   "metadata": {
    "execution": {
     "iopub.execute_input": "2024-04-14T00:13:54.878014Z",
     "iopub.status.busy": "2024-04-14T00:13:54.877774Z",
     "iopub.status.idle": "2024-04-14T00:13:54.883015Z",
     "shell.execute_reply": "2024-04-14T00:13:54.882227Z"
    },
    "papermill": {
     "duration": 0.012652,
     "end_time": "2024-04-14T00:13:54.884884",
     "exception": false,
     "start_time": "2024-04-14T00:13:54.872232",
     "status": "completed"
    },
    "tags": []
   },
   "outputs": [],
   "source": [
    "class SqueezeExcitation(nn.Module):\n",
    "    def __init__(self, in_channels, reduced_dim):\n",
    "        super(SqueezeExcitation, self).__init__()\n",
    "        self.se = nn.Sequential(\n",
    "            nn.AdaptiveAvgPool2d(1), # C x H x W -> C x 1 x 1 \n",
    "            nn.Conv2d(in_channels, reduced_dim, 1),\n",
    "            nn.SiLU(),\n",
    "            nn.Conv2d(reduced_dim, in_channels, 1),\n",
    "            nn.Sigmoid()\n",
    "        )\n",
    "    \n",
    "    def forward(self, x):\n",
    "        return x * self.se(x)"
   ]
  },
  {
   "cell_type": "code",
   "execution_count": 6,
   "id": "938a9942",
   "metadata": {
    "execution": {
     "iopub.execute_input": "2024-04-14T00:13:54.895793Z",
     "iopub.status.busy": "2024-04-14T00:13:54.895559Z",
     "iopub.status.idle": "2024-04-14T00:13:54.905382Z",
     "shell.execute_reply": "2024-04-14T00:13:54.904596Z"
    },
    "papermill": {
     "duration": 0.01744,
     "end_time": "2024-04-14T00:13:54.907285",
     "exception": false,
     "start_time": "2024-04-14T00:13:54.889845",
     "status": "completed"
    },
    "tags": []
   },
   "outputs": [],
   "source": [
    "class InvertedResidualBlock(nn.Module):\n",
    "    def __init__(\n",
    "        self,\n",
    "        in_channels,\n",
    "        out_channels,\n",
    "        kernel_size,\n",
    "        stride,\n",
    "        padding,\n",
    "        expand_ratio,\n",
    "        reduction=4, # SE\n",
    "        survival_prob=0.8 # for stochastic depth\n",
    "    ):\n",
    "        super(InvertedResidualBlock, self).__init__()\n",
    "        self.survival_prob = 0.8\n",
    "        self.use_residual = in_channels == out_channels and stride == 1\n",
    "        hidden_dim = in_channels * expand_ratio\n",
    "        self.expand = in_channels != hidden_dim\n",
    "        reduced_dim = int(in_channels / reduction)\n",
    "        \n",
    "        if self.expand:\n",
    "            self.expand_conv = CNNBlock(\n",
    "                in_channels, hidden_dim, kernel_size=3, stride=1, padding=1,\n",
    "            )\n",
    "        \n",
    "        self.conv = nn.Sequential(\n",
    "            CNNBlock(\n",
    "                hidden_dim, hidden_dim, kernel_size, stride, padding, groups=hidden_dim,\n",
    "            ),\n",
    "            SqueezeExcitation(hidden_dim, reduced_dim),\n",
    "            nn.Conv2d(hidden_dim, out_channels, 1, bias=False),\n",
    "            nn.BatchNorm2d(out_channels),\n",
    "        )\n",
    "        \n",
    "    def stochastic_depth(self, x):\n",
    "        if not self.training:\n",
    "            return x\n",
    "        \n",
    "        binary_tensor = torch.rand(x.shape[0], 1, 1, 1, device= x.device) < self.survival_prob\n",
    "        return torch.div(x, self.survival_prob) * binary_tensor\n",
    "\n",
    "    def forward(self, inputs):\n",
    "        x = self.expand_conv(inputs) if self.expand else inputs\n",
    "        if self.use_residual:\n",
    "            return self.stochastic_depth(self.conv(x)) + inputs\n",
    "        else:\n",
    "            return self.conv(x)"
   ]
  },
  {
   "cell_type": "code",
   "execution_count": 7,
   "id": "bc3ac110",
   "metadata": {
    "execution": {
     "iopub.execute_input": "2024-04-14T00:13:54.918231Z",
     "iopub.status.busy": "2024-04-14T00:13:54.917949Z",
     "iopub.status.idle": "2024-04-14T00:13:54.929620Z",
     "shell.execute_reply": "2024-04-14T00:13:54.928725Z"
    },
    "papermill": {
     "duration": 0.019096,
     "end_time": "2024-04-14T00:13:54.931381",
     "exception": false,
     "start_time": "2024-04-14T00:13:54.912285",
     "status": "completed"
    },
    "tags": []
   },
   "outputs": [],
   "source": [
    "class EfficientNet(nn.Module):\n",
    "    def __init__(self, version, num_classes):\n",
    "        super(EfficientNet, self).__init__()\n",
    "        width_factor, depth_factor, dropout_rate = self.calculate_factors(version)\n",
    "        last_channels = ceil(1280 * width_factor)\n",
    "        self.pool = nn.AdaptiveAvgPool2d(1)\n",
    "        self.features = self.create_features(width_factor, depth_factor, last_channels)\n",
    "        self.classifier = nn.Sequential(\n",
    "            nn.Dropout(dropout_rate),\n",
    "            nn.Linear(last_channels, num_classes)\n",
    "        )\n",
    "        \n",
    "    def calculate_factors(self, version, alpha=1.2, beta=1.1):\n",
    "        phi, res, drop_rate = phi_values[version]\n",
    "        depht_factor = alpha ** phi\n",
    "        width_factor = beta ** phi\n",
    "        return width_factor, depht_factor, drop_rate\n",
    "    \n",
    "    def create_features(self, width_factor, depth_factor, last_channels):\n",
    "        channels = int(32 * width_factor)\n",
    "        features = [CNNBlock(3, channels, 3, stride=2, padding=1)]\n",
    "        in_channels = channels\n",
    "        \n",
    "        for expand_ratio, channels, repeats, stride, kernel_size, in base_model:\n",
    "            out_channels = 4 * ceil(int(channels * width_factor) / 4) \n",
    "            layers_repeats =  ceil(repeats * depth_factor)\n",
    "            \n",
    "            for layer in range(layers_repeats):\n",
    "                features.append(\n",
    "                    InvertedResidualBlock(\n",
    "                        in_channels,\n",
    "                        out_channels,\n",
    "                        expand_ratio= expand_ratio,\n",
    "                        stride= stride if layer == 0 else 1,\n",
    "                        kernel_size = kernel_size,\n",
    "                        padding = kernel_size // 2, # if k = 1: pad=0, k=3:pad:1, k=5:pad:2\n",
    "                    )\n",
    "                )\n",
    "                in_channels = out_channels\n",
    "                \n",
    "        features.append(\n",
    "            CNNBlock(in_channels, last_channels, kernel_size=1, stride=1, padding=0)\n",
    "        )\n",
    "        \n",
    "        return nn.Sequential(*features)\n",
    "    \n",
    "    def forward(self, x):\n",
    "        x = self.pool(self.features(x))\n",
    "        return self.classifier(x.view(x.shape[0], -1))"
   ]
  },
  {
   "cell_type": "code",
   "execution_count": 8,
   "id": "e0f9d579",
   "metadata": {
    "execution": {
     "iopub.execute_input": "2024-04-14T00:13:54.942378Z",
     "iopub.status.busy": "2024-04-14T00:13:54.941924Z",
     "iopub.status.idle": "2024-04-14T00:13:56.226576Z",
     "shell.execute_reply": "2024-04-14T00:13:56.225389Z"
    },
    "papermill": {
     "duration": 1.292559,
     "end_time": "2024-04-14T00:13:56.228903",
     "exception": false,
     "start_time": "2024-04-14T00:13:54.936344",
     "status": "completed"
    },
    "tags": []
   },
   "outputs": [
    {
     "name": "stdout",
     "output_type": "stream",
     "text": [
      "torch.Size([2, 4])\n"
     ]
    }
   ],
   "source": [
    "device = 'cuda' if torch.cuda.is_available() else 'cpu'\n",
    "version = 'b0'\n",
    "phi, res, drop_rate = phi_values[version]\n",
    "num_examples, num_classes = 2, 4\n",
    "x = torch.randn((num_examples, 3, res, res), device=device)\n",
    "model = EfficientNet(\n",
    "    version=version,\n",
    "    num_classes=num_classes\n",
    ").to(device)\n",
    "\n",
    "print(model(x).shape)"
   ]
  },
  {
   "cell_type": "code",
   "execution_count": 9,
   "id": "84cec659",
   "metadata": {
    "execution": {
     "iopub.execute_input": "2024-04-14T00:13:56.240930Z",
     "iopub.status.busy": "2024-04-14T00:13:56.240650Z",
     "iopub.status.idle": "2024-04-14T00:14:00.023769Z",
     "shell.execute_reply": "2024-04-14T00:14:00.022944Z"
    },
    "papermill": {
     "duration": 3.791512,
     "end_time": "2024-04-14T00:14:00.026012",
     "exception": false,
     "start_time": "2024-04-14T00:13:56.234500",
     "status": "completed"
    },
    "tags": []
   },
   "outputs": [],
   "source": [
    "import torch\n",
    "import torch.nn as nn\n",
    "import torch.optim as optim\n",
    "import torch.nn.functional as F\n",
    "from torch.utils.data import DataLoader\n",
    "import torchvision.datasets as datasets\n",
    "import torchvision.transforms as transforms\n",
    "from tqdm import tqdm\n",
    "from sklearn.metrics import confusion_matrix\n",
    "import sklearn\n",
    "import matplotlib.pyplot as plt\n",
    "import torchvision"
   ]
  },
  {
   "cell_type": "code",
   "execution_count": 10,
   "id": "7e9f8fe7",
   "metadata": {
    "execution": {
     "iopub.execute_input": "2024-04-14T00:14:00.037834Z",
     "iopub.status.busy": "2024-04-14T00:14:00.037443Z",
     "iopub.status.idle": "2024-04-14T00:14:00.043810Z",
     "shell.execute_reply": "2024-04-14T00:14:00.043009Z"
    },
    "papermill": {
     "duration": 0.014161,
     "end_time": "2024-04-14T00:14:00.045649",
     "exception": false,
     "start_time": "2024-04-14T00:14:00.031488",
     "status": "completed"
    },
    "tags": []
   },
   "outputs": [],
   "source": [
    "imgSize = 224\n",
    "\n",
    "# Transformations\n",
    "# Training transformer\n",
    "transformer = transforms.Compose([\n",
    "    transforms.RandomRotation(degrees = 20),\n",
    "    \n",
    "    transforms.RandomHorizontalFlip(p = 0.3),\n",
    "    transforms.RandomVerticalFlip(p = 0.3),\n",
    "    \n",
    "    transforms.Resize(size = (imgSize, imgSize), antialias = True),\n",
    "    transforms.ToTensor(),\n",
    "])\n",
    "\n",
    "# Validation transformer\n",
    "valTransformer = transforms.Compose([\n",
    "    transforms.Resize(size = (imgSize, imgSize), antialias = True),\n",
    "    transforms.ToTensor(),\n",
    "])"
   ]
  },
  {
   "cell_type": "code",
   "execution_count": 11,
   "id": "402096ab",
   "metadata": {
    "execution": {
     "iopub.execute_input": "2024-04-14T00:14:00.057069Z",
     "iopub.status.busy": "2024-04-14T00:14:00.056414Z",
     "iopub.status.idle": "2024-04-14T00:14:00.060123Z",
     "shell.execute_reply": "2024-04-14T00:14:00.059230Z"
    },
    "papermill": {
     "duration": 0.011251,
     "end_time": "2024-04-14T00:14:00.061956",
     "exception": false,
     "start_time": "2024-04-14T00:14:00.050705",
     "status": "completed"
    },
    "tags": []
   },
   "outputs": [],
   "source": [
    "# hyperparameters\n",
    "BATCH_SIZE = 64\n",
    "learning_rate = 0.0001"
   ]
  },
  {
   "cell_type": "code",
   "execution_count": 12,
   "id": "c664d59b",
   "metadata": {
    "execution": {
     "iopub.execute_input": "2024-04-14T00:14:00.073042Z",
     "iopub.status.busy": "2024-04-14T00:14:00.072795Z",
     "iopub.status.idle": "2024-04-14T00:14:11.370437Z",
     "shell.execute_reply": "2024-04-14T00:14:11.369445Z"
    },
    "papermill": {
     "duration": 11.305738,
     "end_time": "2024-04-14T00:14:11.372726",
     "exception": false,
     "start_time": "2024-04-14T00:14:00.066988",
     "status": "completed"
    },
    "tags": []
   },
   "outputs": [],
   "source": [
    "path = '/kaggle/input/melanoma-cancer-dataset/train'\n",
    "valPath = '/kaggle/input/melanoma-cancer-dataset/test'\n",
    "\n",
    "# Reading data\n",
    "trainData = datasets.ImageFolder(root = path, transform = transformer)\n",
    "testData = datasets.ImageFolder(root = valPath, transform = valTransformer)\n",
    "\n",
    "train_loader = DataLoader(dataset=trainData,batch_size= BATCH_SIZE, shuffle= True, num_workers=4)\n",
    "test_loader = DataLoader(dataset=testData, batch_size= BATCH_SIZE, shuffle= False, num_workers=4)\n"
   ]
  },
  {
   "cell_type": "code",
   "execution_count": 13,
   "id": "6c9a3e18",
   "metadata": {
    "execution": {
     "iopub.execute_input": "2024-04-14T00:14:11.384730Z",
     "iopub.status.busy": "2024-04-14T00:14:11.383922Z",
     "iopub.status.idle": "2024-04-14T00:14:11.390532Z",
     "shell.execute_reply": "2024-04-14T00:14:11.389621Z"
    },
    "papermill": {
     "duration": 0.014555,
     "end_time": "2024-04-14T00:14:11.392584",
     "exception": false,
     "start_time": "2024-04-14T00:14:11.378029",
     "status": "completed"
    },
    "tags": []
   },
   "outputs": [],
   "source": [
    "criterion = nn.CrossEntropyLoss()\n",
    "optimizer = optim.Adam(model.parameters(), lr= learning_rate)"
   ]
  },
  {
   "cell_type": "code",
   "execution_count": 14,
   "id": "e46b3537",
   "metadata": {
    "execution": {
     "iopub.execute_input": "2024-04-14T00:14:11.404826Z",
     "iopub.status.busy": "2024-04-14T00:14:11.404548Z",
     "iopub.status.idle": "2024-04-14T00:14:11.411415Z",
     "shell.execute_reply": "2024-04-14T00:14:11.410621Z"
    },
    "papermill": {
     "duration": 0.014698,
     "end_time": "2024-04-14T00:14:11.413215",
     "exception": false,
     "start_time": "2024-04-14T00:14:11.398517",
     "status": "completed"
    },
    "tags": []
   },
   "outputs": [],
   "source": [
    "def check_accuracy(loader, model, Train= True):\n",
    "    if Train:\n",
    "        print('Checking accuracy on training data')\n",
    "    else:\n",
    "        print('Checking accuracy on test data')\n",
    "    num_correct = 0\n",
    "    num_samples = 0\n",
    "    model.eval()\n",
    "    with torch.no_grad():\n",
    "        for x, y in loader:\n",
    "            x = x.to(device)\n",
    "            y = y.to(device)\n",
    "\n",
    "            scores = model(x)\n",
    "            _, predictions = scores.max(1)\n",
    "            num_correct += (predictions == y).sum()\n",
    "            num_samples += predictions.size(0)\n",
    "    acc = float(num_correct/float(num_samples))\n",
    "    print(f'{num_correct}/{num_samples} with accuracy {float(num_correct/float(num_samples))*100:.2f}')\n",
    "    model.train()\n",
    "    return acc"
   ]
  },
  {
   "cell_type": "code",
   "execution_count": 15,
   "id": "503fd709",
   "metadata": {
    "execution": {
     "iopub.execute_input": "2024-04-14T00:14:11.424710Z",
     "iopub.status.busy": "2024-04-14T00:14:11.424051Z",
     "iopub.status.idle": "2024-04-14T00:14:11.428105Z",
     "shell.execute_reply": "2024-04-14T00:14:11.427286Z"
    },
    "papermill": {
     "duration": 0.011839,
     "end_time": "2024-04-14T00:14:11.430025",
     "exception": false,
     "start_time": "2024-04-14T00:14:11.418186",
     "status": "completed"
    },
    "tags": []
   },
   "outputs": [],
   "source": [
    "# Early Stopping\n",
    "patience = 5\n",
    "minDelta = 0.01\n",
    "currentPatience = 0\n",
    "bestLoss = float('inf')"
   ]
  },
  {
   "cell_type": "code",
   "execution_count": 16,
   "id": "e7eae7da",
   "metadata": {
    "execution": {
     "iopub.execute_input": "2024-04-14T00:14:11.440905Z",
     "iopub.status.busy": "2024-04-14T00:14:11.440656Z",
     "iopub.status.idle": "2024-04-14T00:25:07.336129Z",
     "shell.execute_reply": "2024-04-14T00:25:07.335095Z"
    },
    "papermill": {
     "duration": 655.903337,
     "end_time": "2024-04-14T00:25:07.338253",
     "exception": false,
     "start_time": "2024-04-14T00:14:11.434916",
     "status": "completed"
    },
    "tags": []
   },
   "outputs": [
    {
     "name": "stderr",
     "output_type": "stream",
     "text": [
      "                                                                           "
     ]
    },
    {
     "name": "stdout",
     "output_type": "stream",
     "text": [
      "Checking accuracy on training data\n"
     ]
    },
    {
     "name": "stderr",
     "output_type": "stream",
     "text": [
      "\r"
     ]
    },
    {
     "name": "stdout",
     "output_type": "stream",
     "text": [
      "9918/11879 with accuracy 83.49\n"
     ]
    },
    {
     "name": "stderr",
     "output_type": "stream",
     "text": [
      "                                                                           "
     ]
    },
    {
     "name": "stdout",
     "output_type": "stream",
     "text": [
      "Checking accuracy on training data\n"
     ]
    },
    {
     "name": "stderr",
     "output_type": "stream",
     "text": [
      "\r"
     ]
    },
    {
     "name": "stdout",
     "output_type": "stream",
     "text": [
      "10178/11879 with accuracy 85.68\n"
     ]
    },
    {
     "name": "stderr",
     "output_type": "stream",
     "text": [
      "                                                                           "
     ]
    },
    {
     "name": "stdout",
     "output_type": "stream",
     "text": [
      "Checking accuracy on training data\n"
     ]
    },
    {
     "name": "stderr",
     "output_type": "stream",
     "text": [
      "\r"
     ]
    },
    {
     "name": "stdout",
     "output_type": "stream",
     "text": [
      "10217/11879 with accuracy 86.01\n"
     ]
    },
    {
     "name": "stderr",
     "output_type": "stream",
     "text": [
      "                                                                           "
     ]
    },
    {
     "name": "stdout",
     "output_type": "stream",
     "text": [
      "Checking accuracy on training data\n"
     ]
    },
    {
     "name": "stderr",
     "output_type": "stream",
     "text": [
      "\r"
     ]
    },
    {
     "name": "stdout",
     "output_type": "stream",
     "text": [
      "10386/11879 with accuracy 87.43\n"
     ]
    },
    {
     "name": "stderr",
     "output_type": "stream",
     "text": [
      "                                                                           "
     ]
    },
    {
     "name": "stdout",
     "output_type": "stream",
     "text": [
      "Checking accuracy on training data\n"
     ]
    },
    {
     "name": "stderr",
     "output_type": "stream",
     "text": [
      "\r"
     ]
    },
    {
     "name": "stdout",
     "output_type": "stream",
     "text": [
      "10374/11879 with accuracy 87.33\n"
     ]
    },
    {
     "name": "stderr",
     "output_type": "stream",
     "text": [
      "                                                                           "
     ]
    },
    {
     "name": "stdout",
     "output_type": "stream",
     "text": [
      "Checking accuracy on training data\n"
     ]
    },
    {
     "name": "stderr",
     "output_type": "stream",
     "text": [
      "\r"
     ]
    },
    {
     "name": "stdout",
     "output_type": "stream",
     "text": [
      "10515/11879 with accuracy 88.52\n"
     ]
    },
    {
     "name": "stderr",
     "output_type": "stream",
     "text": [
      "                                                                           "
     ]
    },
    {
     "name": "stdout",
     "output_type": "stream",
     "text": [
      "Checking accuracy on training data\n"
     ]
    },
    {
     "name": "stderr",
     "output_type": "stream",
     "text": [
      "\r"
     ]
    },
    {
     "name": "stdout",
     "output_type": "stream",
     "text": [
      "10471/11879 with accuracy 88.15\n"
     ]
    },
    {
     "name": "stderr",
     "output_type": "stream",
     "text": [
      "                                                                           "
     ]
    },
    {
     "name": "stdout",
     "output_type": "stream",
     "text": [
      "Checking accuracy on training data\n"
     ]
    },
    {
     "name": "stderr",
     "output_type": "stream",
     "text": [
      "\r"
     ]
    },
    {
     "name": "stdout",
     "output_type": "stream",
     "text": [
      "10450/11879 with accuracy 87.97\n"
     ]
    },
    {
     "name": "stderr",
     "output_type": "stream",
     "text": [
      "                                                                          "
     ]
    },
    {
     "name": "stdout",
     "output_type": "stream",
     "text": [
      "Checking accuracy on training data\n"
     ]
    },
    {
     "name": "stderr",
     "output_type": "stream",
     "text": [
      "\r"
     ]
    },
    {
     "name": "stdout",
     "output_type": "stream",
     "text": [
      "10535/11879 with accuracy 88.69\n"
     ]
    },
    {
     "name": "stderr",
     "output_type": "stream",
     "text": [
      "                                                                           "
     ]
    },
    {
     "name": "stdout",
     "output_type": "stream",
     "text": [
      "Checking accuracy on training data\n"
     ]
    },
    {
     "name": "stderr",
     "output_type": "stream",
     "text": [
      "\r"
     ]
    },
    {
     "name": "stdout",
     "output_type": "stream",
     "text": [
      "10615/11879 with accuracy 89.36\n",
      "Checking accuracy on test data\n",
      "1798/2000 with accuracy 89.90\n"
     ]
    },
    {
     "data": {
      "text/plain": [
       "0.8990000486373901"
      ]
     },
     "execution_count": 16,
     "metadata": {},
     "output_type": "execute_result"
    }
   ],
   "source": [
    "epochs = 10\n",
    "for epoch in range(epochs):\n",
    "    model.train()\n",
    "    runningLoss = 0.0\n",
    "    loop = tqdm(enumerate(train_loader), total= len(train_loader), leave= False)\n",
    "    for batch_idx, (data, targets) in loop:\n",
    "        # Send data to device\n",
    "        data = data.to(device)\n",
    "        targets = targets.to(device)\n",
    "        \n",
    "        # forward\n",
    "        scores = model(data)\n",
    "        loss = criterion(scores, targets)\n",
    "        \n",
    "        #backprop\n",
    "        optimizer.zero_grad()\n",
    "        loss.backward()\n",
    "        \n",
    "        #log\n",
    "        runningLoss += loss.item()\n",
    "        \n",
    "        #otimizer\n",
    "        optimizer.step()\n",
    "        \n",
    "        # update progress bar\n",
    "        loop.set_description(f'Epoch [{epoch}/{epochs}]')\n",
    "        loop.set_postfix(loss = loss.item())\n",
    "    \n",
    "    trainLoss= runningLoss/len(train_loader)\n",
    "    check_accuracy(train_loader, model, Train=True)\n",
    "check_accuracy(test_loader, model, Train=False)"
   ]
  }
 ],
 "metadata": {
  "kaggle": {
   "accelerator": "gpu",
   "dataSources": [
    {
     "datasetId": 4459076,
     "sourceId": 7649273,
     "sourceType": "datasetVersion"
    }
   ],
   "dockerImageVersionId": 30683,
   "isGpuEnabled": true,
   "isInternetEnabled": true,
   "language": "python",
   "sourceType": "notebook"
  },
  "kernelspec": {
   "display_name": "Python 3",
   "language": "python",
   "name": "python3"
  },
  "language_info": {
   "codemirror_mode": {
    "name": "ipython",
    "version": 3
   },
   "file_extension": ".py",
   "mimetype": "text/x-python",
   "name": "python",
   "nbconvert_exporter": "python",
   "pygments_lexer": "ipython3",
   "version": "3.10.13"
  },
  "papermill": {
   "default_parameters": {},
   "duration": 681.027756,
   "end_time": "2024-04-14T00:25:09.402866",
   "environment_variables": {},
   "exception": null,
   "input_path": "__notebook__.ipynb",
   "output_path": "__notebook__.ipynb",
   "parameters": {},
   "start_time": "2024-04-14T00:13:48.375110",
   "version": "2.5.0"
  }
 },
 "nbformat": 4,
 "nbformat_minor": 5
}
