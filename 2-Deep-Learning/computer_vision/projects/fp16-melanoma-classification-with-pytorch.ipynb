{
 "cells": [
  {
   "cell_type": "code",
   "execution_count": 1,
   "id": "510e17e5",
   "metadata": {
    "_cell_guid": "b1076dfc-b9ad-4769-8c92-a6c4dae69d19",
    "_uuid": "8f2839f25d086af736a60e9eeb907d3b93b6e0e5",
    "execution": {
     "iopub.execute_input": "2024-04-14T00:39:51.130601Z",
     "iopub.status.busy": "2024-04-14T00:39:51.130258Z",
     "iopub.status.idle": "2024-04-14T00:40:00.007143Z",
     "shell.execute_reply": "2024-04-14T00:40:00.006371Z"
    },
    "papermill": {
     "duration": 8.88524,
     "end_time": "2024-04-14T00:40:00.009549",
     "exception": false,
     "start_time": "2024-04-14T00:39:51.124309",
     "status": "completed"
    },
    "tags": []
   },
   "outputs": [],
   "source": [
    "# Imports\n",
    "import torch\n",
    "import torch.nn as nn\n",
    "import torch.optim  as optim\n",
    "import torch.nn.functional as F\n",
    "from torch.utils.data import DataLoader\n",
    "import torchvision.datasets as datasets\n",
    "import torchvision.transforms as transforms\n",
    "import torchvision\n",
    "from tqdm import tqdm\n",
    "from sklearn.metrics import confusion_matrix\n",
    "import sklearn\n",
    "import matplotlib.pyplot as plt\n",
    "import seaborn as sns"
   ]
  },
  {
   "cell_type": "code",
   "execution_count": 2,
   "id": "7745e035",
   "metadata": {
    "execution": {
     "iopub.execute_input": "2024-04-14T00:40:00.019405Z",
     "iopub.status.busy": "2024-04-14T00:40:00.018873Z",
     "iopub.status.idle": "2024-04-14T00:40:00.081803Z",
     "shell.execute_reply": "2024-04-14T00:40:00.080903Z"
    },
    "papermill": {
     "duration": 0.069787,
     "end_time": "2024-04-14T00:40:00.083789",
     "exception": false,
     "start_time": "2024-04-14T00:40:00.014002",
     "status": "completed"
    },
    "tags": []
   },
   "outputs": [],
   "source": [
    "# Setting device\n",
    "device = torch.device('cuda' if torch.cuda.is_available() else 'cpu')\n",
    "# Image Size\n",
    "imgSize = 112\n",
    "\n",
    "# Transformations\n",
    "# Training transformer\n",
    "transformer = transforms.Compose([\n",
    "    transforms.RandomRotation(degrees = 20),\n",
    "    \n",
    "    transforms.RandomHorizontalFlip(p = 0.3),\n",
    "    transforms.RandomVerticalFlip(p = 0.3),\n",
    "    \n",
    "    transforms.Resize(size = (imgSize, imgSize), antialias = True),\n",
    "    transforms.ToTensor(),\n",
    "    transforms.Normalize(mean = [0.485, 0.456, 0.406], std = [0.229, 0.224, 0.225])\n",
    "])\n",
    "\n",
    "# Validation transformer\n",
    "valTransformer = transforms.Compose([\n",
    "    transforms.Resize(size = (imgSize, imgSize), antialias = True),\n",
    "    transforms.ToTensor(),\n",
    "    transforms.Normalize(mean = [0.485, 0.456, 0.406], std = [0.229, 0.224, 0.225])\n",
    "])"
   ]
  },
  {
   "cell_type": "code",
   "execution_count": 3,
   "id": "b2acc86d",
   "metadata": {
    "execution": {
     "iopub.execute_input": "2024-04-14T00:40:00.093151Z",
     "iopub.status.busy": "2024-04-14T00:40:00.092851Z",
     "iopub.status.idle": "2024-04-14T00:40:00.096791Z",
     "shell.execute_reply": "2024-04-14T00:40:00.096023Z"
    },
    "papermill": {
     "duration": 0.010573,
     "end_time": "2024-04-14T00:40:00.098573",
     "exception": false,
     "start_time": "2024-04-14T00:40:00.088000",
     "status": "completed"
    },
    "tags": []
   },
   "outputs": [],
   "source": [
    "# hyperparameters\n",
    "BATCH_SIZE = 128\n",
    "epochs = 30\n",
    "learning_rate = 0.001"
   ]
  },
  {
   "cell_type": "code",
   "execution_count": 4,
   "id": "b21a7ef8",
   "metadata": {
    "execution": {
     "iopub.execute_input": "2024-04-14T00:40:00.107429Z",
     "iopub.status.busy": "2024-04-14T00:40:00.107165Z",
     "iopub.status.idle": "2024-04-14T00:40:04.478122Z",
     "shell.execute_reply": "2024-04-14T00:40:04.477175Z"
    },
    "papermill": {
     "duration": 4.378112,
     "end_time": "2024-04-14T00:40:04.480579",
     "exception": false,
     "start_time": "2024-04-14T00:40:00.102467",
     "status": "completed"
    },
    "tags": []
   },
   "outputs": [],
   "source": [
    "path = '/kaggle/input/melanoma-cancer-dataset/train'\n",
    "valPath = '/kaggle/input/melanoma-cancer-dataset/test'\n",
    "\n",
    "# Reading data\n",
    "trainData = datasets.ImageFolder(root = path, transform = transformer)\n",
    "testData = datasets.ImageFolder(root = valPath, transform = valTransformer)\n",
    "\n",
    "train_loader = DataLoader(dataset=trainData,batch_size= BATCH_SIZE, shuffle= True, num_workers=4)\n",
    "test_loader = DataLoader(dataset=testData, batch_size= BATCH_SIZE, shuffle= False)"
   ]
  },
  {
   "cell_type": "code",
   "execution_count": 5,
   "id": "a5c1c350",
   "metadata": {
    "execution": {
     "iopub.execute_input": "2024-04-14T00:40:04.490219Z",
     "iopub.status.busy": "2024-04-14T00:40:04.489838Z",
     "iopub.status.idle": "2024-04-14T00:40:07.841865Z",
     "shell.execute_reply": "2024-04-14T00:40:07.840918Z"
    },
    "papermill": {
     "duration": 3.359401,
     "end_time": "2024-04-14T00:40:07.844222",
     "exception": false,
     "start_time": "2024-04-14T00:40:04.484821",
     "status": "completed"
    },
    "tags": []
   },
   "outputs": [
    {
     "name": "stderr",
     "output_type": "stream",
     "text": [
      "Downloading: \"https://download.pytorch.org/models/efficientnet_b7_lukemelas-c5b4e57e.pth\" to /root/.cache/torch/hub/checkpoints/efficientnet_b7_lukemelas-c5b4e57e.pth\n",
      "100%|██████████| 255M/255M [00:01<00:00, 165MB/s]\n"
     ]
    },
    {
     "name": "stdout",
     "output_type": "stream",
     "text": [
      "Sequential(\n",
      "  (0): Dropout(p=0.5, inplace=True)\n",
      "  (1): Linear(in_features=2560, out_features=2, bias=True)\n",
      ")\n"
     ]
    }
   ],
   "source": [
    "model = torchvision.models.efficientnet_b7(weights= torchvision.models.EfficientNet_B7_Weights.IMAGENET1K_V1)\n",
    "model.classifier[1] = nn.Linear(2560, 2)\n",
    "print(model.classifier)"
   ]
  },
  {
   "cell_type": "code",
   "execution_count": 6,
   "id": "06ee8de2",
   "metadata": {
    "execution": {
     "iopub.execute_input": "2024-04-14T00:40:07.856833Z",
     "iopub.status.busy": "2024-04-14T00:40:07.856554Z",
     "iopub.status.idle": "2024-04-14T00:40:08.139450Z",
     "shell.execute_reply": "2024-04-14T00:40:08.138679Z"
    },
    "papermill": {
     "duration": 0.291796,
     "end_time": "2024-04-14T00:40:08.141772",
     "exception": false,
     "start_time": "2024-04-14T00:40:07.849976",
     "status": "completed"
    },
    "tags": []
   },
   "outputs": [
    {
     "name": "stdout",
     "output_type": "stream",
     "text": [
      "cuda\n"
     ]
    }
   ],
   "source": [
    "# Send model to gpu\n",
    "print(device)\n",
    "model.to(device)\n",
    "\n",
    "# Loss\n",
    "criterion = nn.CrossEntropyLoss()\n",
    "optimizer = optim.Adam(model.parameters(), lr= learning_rate)\n",
    "scheduler = optim.lr_scheduler.ReduceLROnPlateau(optimizer, patience= 8, verbose=True, factor=0.1)\n",
    "scaler = torch.cuda.amp.GradScaler()"
   ]
  },
  {
   "cell_type": "code",
   "execution_count": 7,
   "id": "174e2142",
   "metadata": {
    "execution": {
     "iopub.execute_input": "2024-04-14T00:40:08.154590Z",
     "iopub.status.busy": "2024-04-14T00:40:08.154320Z",
     "iopub.status.idle": "2024-04-14T00:40:08.161027Z",
     "shell.execute_reply": "2024-04-14T00:40:08.160173Z"
    },
    "papermill": {
     "duration": 0.015194,
     "end_time": "2024-04-14T00:40:08.162938",
     "exception": false,
     "start_time": "2024-04-14T00:40:08.147744",
     "status": "completed"
    },
    "tags": []
   },
   "outputs": [],
   "source": [
    "\n",
    "def check_accuracy(loader, model, Train= True):\n",
    "    if Train:\n",
    "        print('Checking accuracy on training data')\n",
    "    else:\n",
    "        print('Checking accuracy on test data')\n",
    "    num_correct = 0\n",
    "    num_samples = 0\n",
    "    model.eval()\n",
    "    with torch.no_grad():\n",
    "        for x, y in loader:\n",
    "            x = x.to(device)\n",
    "            y = y.to(device)\n",
    "\n",
    "            scores = model(x)\n",
    "            _, predictions = scores.max(1)\n",
    "            num_correct += (predictions == y).sum()\n",
    "            num_samples += predictions.size(0)\n",
    "    acc = float(num_correct/float(num_samples))\n",
    "    print(f'{num_correct}/{num_samples} with accuracy {float(num_correct/float(num_samples))*100:.2f}')\n",
    "    model.train()\n",
    "    return acc"
   ]
  },
  {
   "cell_type": "code",
   "execution_count": 8,
   "id": "70e8c582",
   "metadata": {
    "execution": {
     "iopub.execute_input": "2024-04-14T00:40:08.175375Z",
     "iopub.status.busy": "2024-04-14T00:40:08.175130Z",
     "iopub.status.idle": "2024-04-14T00:40:08.179058Z",
     "shell.execute_reply": "2024-04-14T00:40:08.178265Z"
    },
    "papermill": {
     "duration": 0.012373,
     "end_time": "2024-04-14T00:40:08.180900",
     "exception": false,
     "start_time": "2024-04-14T00:40:08.168527",
     "status": "completed"
    },
    "tags": []
   },
   "outputs": [],
   "source": [
    "# Early Stopping\n",
    "patience = 5\n",
    "minDelta = 0.01\n",
    "currentPatience = 0\n",
    "bestLoss = float('inf')"
   ]
  },
  {
   "cell_type": "code",
   "execution_count": 9,
   "id": "ba44e133",
   "metadata": {
    "execution": {
     "iopub.execute_input": "2024-04-14T00:40:08.193122Z",
     "iopub.status.busy": "2024-04-14T00:40:08.192820Z",
     "iopub.status.idle": "2024-04-14T01:24:06.935918Z",
     "shell.execute_reply": "2024-04-14T01:24:06.934705Z"
    },
    "papermill": {
     "duration": 2638.751526,
     "end_time": "2024-04-14T01:24:06.938012",
     "exception": false,
     "start_time": "2024-04-14T00:40:08.186486",
     "status": "completed"
    },
    "tags": []
   },
   "outputs": [
    {
     "name": "stderr",
     "output_type": "stream",
     "text": [
      "                                                                         "
     ]
    },
    {
     "name": "stdout",
     "output_type": "stream",
     "text": [
      "Checking accuracy on training data\n"
     ]
    },
    {
     "name": "stderr",
     "output_type": "stream",
     "text": [
      "\r"
     ]
    },
    {
     "name": "stdout",
     "output_type": "stream",
     "text": [
      "10638/11879 with accuracy 89.55\n"
     ]
    },
    {
     "name": "stderr",
     "output_type": "stream",
     "text": [
      "                                                                         "
     ]
    },
    {
     "name": "stdout",
     "output_type": "stream",
     "text": [
      "Checking accuracy on training data\n"
     ]
    },
    {
     "name": "stderr",
     "output_type": "stream",
     "text": [
      "\r"
     ]
    },
    {
     "name": "stdout",
     "output_type": "stream",
     "text": [
      "10580/11879 with accuracy 89.06\n"
     ]
    },
    {
     "name": "stderr",
     "output_type": "stream",
     "text": [
      "                                                                         "
     ]
    },
    {
     "name": "stdout",
     "output_type": "stream",
     "text": [
      "Checking accuracy on training data\n"
     ]
    },
    {
     "name": "stderr",
     "output_type": "stream",
     "text": [
      "\r"
     ]
    },
    {
     "name": "stdout",
     "output_type": "stream",
     "text": [
      "10997/11879 with accuracy 92.58\n"
     ]
    },
    {
     "name": "stderr",
     "output_type": "stream",
     "text": [
      "                                                                        "
     ]
    },
    {
     "name": "stdout",
     "output_type": "stream",
     "text": [
      "Checking accuracy on training data\n"
     ]
    },
    {
     "name": "stderr",
     "output_type": "stream",
     "text": [
      "\r"
     ]
    },
    {
     "name": "stdout",
     "output_type": "stream",
     "text": [
      "10933/11879 with accuracy 92.04\n"
     ]
    },
    {
     "name": "stderr",
     "output_type": "stream",
     "text": [
      "                                                                         "
     ]
    },
    {
     "name": "stdout",
     "output_type": "stream",
     "text": [
      "Checking accuracy on training data\n"
     ]
    },
    {
     "name": "stderr",
     "output_type": "stream",
     "text": [
      "\r"
     ]
    },
    {
     "name": "stdout",
     "output_type": "stream",
     "text": [
      "11049/11879 with accuracy 93.01\n"
     ]
    },
    {
     "name": "stderr",
     "output_type": "stream",
     "text": [
      "                                                                         "
     ]
    },
    {
     "name": "stdout",
     "output_type": "stream",
     "text": [
      "Checking accuracy on training data\n"
     ]
    },
    {
     "name": "stderr",
     "output_type": "stream",
     "text": [
      "\r"
     ]
    },
    {
     "name": "stdout",
     "output_type": "stream",
     "text": [
      "11102/11879 with accuracy 93.46\n"
     ]
    },
    {
     "name": "stderr",
     "output_type": "stream",
     "text": [
      "                                                                          "
     ]
    },
    {
     "name": "stdout",
     "output_type": "stream",
     "text": [
      "Checking accuracy on training data\n"
     ]
    },
    {
     "name": "stderr",
     "output_type": "stream",
     "text": [
      "\r"
     ]
    },
    {
     "name": "stdout",
     "output_type": "stream",
     "text": [
      "11215/11879 with accuracy 94.41\n"
     ]
    },
    {
     "name": "stderr",
     "output_type": "stream",
     "text": [
      "                                                                         "
     ]
    },
    {
     "name": "stdout",
     "output_type": "stream",
     "text": [
      "Checking accuracy on training data\n"
     ]
    },
    {
     "name": "stderr",
     "output_type": "stream",
     "text": [
      "\r"
     ]
    },
    {
     "name": "stdout",
     "output_type": "stream",
     "text": [
      "11400/11879 with accuracy 95.97\n"
     ]
    },
    {
     "name": "stderr",
     "output_type": "stream",
     "text": [
      "                                                                          "
     ]
    },
    {
     "name": "stdout",
     "output_type": "stream",
     "text": [
      "Checking accuracy on training data\n"
     ]
    },
    {
     "name": "stderr",
     "output_type": "stream",
     "text": [
      "\r"
     ]
    },
    {
     "name": "stdout",
     "output_type": "stream",
     "text": [
      "11380/11879 with accuracy 95.80\n"
     ]
    },
    {
     "name": "stderr",
     "output_type": "stream",
     "text": [
      "                                                                          "
     ]
    },
    {
     "name": "stdout",
     "output_type": "stream",
     "text": [
      "Checking accuracy on training data\n"
     ]
    },
    {
     "name": "stderr",
     "output_type": "stream",
     "text": [
      "\r"
     ]
    },
    {
     "name": "stdout",
     "output_type": "stream",
     "text": [
      "11557/11879 with accuracy 97.29\n"
     ]
    },
    {
     "name": "stderr",
     "output_type": "stream",
     "text": [
      "                                                                          "
     ]
    },
    {
     "name": "stdout",
     "output_type": "stream",
     "text": [
      "Checking accuracy on training data\n"
     ]
    },
    {
     "name": "stderr",
     "output_type": "stream",
     "text": [
      "\r"
     ]
    },
    {
     "name": "stdout",
     "output_type": "stream",
     "text": [
      "11403/11879 with accuracy 95.99\n"
     ]
    },
    {
     "name": "stderr",
     "output_type": "stream",
     "text": [
      "                                                                           "
     ]
    },
    {
     "name": "stdout",
     "output_type": "stream",
     "text": [
      "Checking accuracy on training data\n"
     ]
    },
    {
     "name": "stderr",
     "output_type": "stream",
     "text": [
      "\r"
     ]
    },
    {
     "name": "stdout",
     "output_type": "stream",
     "text": [
      "11522/11879 with accuracy 96.99\n"
     ]
    },
    {
     "name": "stderr",
     "output_type": "stream",
     "text": [
      "                                                                           "
     ]
    },
    {
     "name": "stdout",
     "output_type": "stream",
     "text": [
      "Checking accuracy on training data\n"
     ]
    },
    {
     "name": "stderr",
     "output_type": "stream",
     "text": [
      "\r"
     ]
    },
    {
     "name": "stdout",
     "output_type": "stream",
     "text": [
      "11614/11879 with accuracy 97.77\n"
     ]
    },
    {
     "name": "stderr",
     "output_type": "stream",
     "text": [
      "                                                                           "
     ]
    },
    {
     "name": "stdout",
     "output_type": "stream",
     "text": [
      "Checking accuracy on training data\n"
     ]
    },
    {
     "name": "stderr",
     "output_type": "stream",
     "text": [
      "\r"
     ]
    },
    {
     "name": "stdout",
     "output_type": "stream",
     "text": [
      "11542/11879 with accuracy 97.16\n"
     ]
    },
    {
     "name": "stderr",
     "output_type": "stream",
     "text": [
      "                                                                          "
     ]
    },
    {
     "name": "stdout",
     "output_type": "stream",
     "text": [
      "Checking accuracy on training data\n"
     ]
    },
    {
     "name": "stderr",
     "output_type": "stream",
     "text": [
      "\r"
     ]
    },
    {
     "name": "stdout",
     "output_type": "stream",
     "text": [
      "11479/11879 with accuracy 96.63\n"
     ]
    },
    {
     "name": "stderr",
     "output_type": "stream",
     "text": [
      "                                                                          "
     ]
    },
    {
     "name": "stdout",
     "output_type": "stream",
     "text": [
      "Checking accuracy on training data\n"
     ]
    },
    {
     "name": "stderr",
     "output_type": "stream",
     "text": [
      "\r"
     ]
    },
    {
     "name": "stdout",
     "output_type": "stream",
     "text": [
      "11629/11879 with accuracy 97.90\n"
     ]
    },
    {
     "name": "stderr",
     "output_type": "stream",
     "text": [
      "                                                                           "
     ]
    },
    {
     "name": "stdout",
     "output_type": "stream",
     "text": [
      "Checking accuracy on training data\n"
     ]
    },
    {
     "name": "stderr",
     "output_type": "stream",
     "text": [
      "\r"
     ]
    },
    {
     "name": "stdout",
     "output_type": "stream",
     "text": [
      "11584/11879 with accuracy 97.52\n"
     ]
    },
    {
     "name": "stderr",
     "output_type": "stream",
     "text": [
      "                                                                           "
     ]
    },
    {
     "name": "stdout",
     "output_type": "stream",
     "text": [
      "Checking accuracy on training data\n"
     ]
    },
    {
     "name": "stderr",
     "output_type": "stream",
     "text": [
      "\r"
     ]
    },
    {
     "name": "stdout",
     "output_type": "stream",
     "text": [
      "11560/11879 with accuracy 97.31\n"
     ]
    },
    {
     "name": "stderr",
     "output_type": "stream",
     "text": [
      "                                                                           "
     ]
    },
    {
     "name": "stdout",
     "output_type": "stream",
     "text": [
      "Checking accuracy on training data\n"
     ]
    },
    {
     "name": "stderr",
     "output_type": "stream",
     "text": [
      "\r"
     ]
    },
    {
     "name": "stdout",
     "output_type": "stream",
     "text": [
      "11550/11879 with accuracy 97.23\n"
     ]
    },
    {
     "name": "stderr",
     "output_type": "stream",
     "text": [
      "                                                                           "
     ]
    },
    {
     "name": "stdout",
     "output_type": "stream",
     "text": [
      "Checking accuracy on training data\n"
     ]
    },
    {
     "name": "stderr",
     "output_type": "stream",
     "text": [
      "\r"
     ]
    },
    {
     "name": "stdout",
     "output_type": "stream",
     "text": [
      "11720/11879 with accuracy 98.66\n"
     ]
    },
    {
     "name": "stderr",
     "output_type": "stream",
     "text": [
      "                                                                          "
     ]
    },
    {
     "name": "stdout",
     "output_type": "stream",
     "text": [
      "Checking accuracy on training data\n"
     ]
    },
    {
     "name": "stderr",
     "output_type": "stream",
     "text": [
      "\r"
     ]
    },
    {
     "name": "stdout",
     "output_type": "stream",
     "text": [
      "11601/11879 with accuracy 97.66\n"
     ]
    },
    {
     "name": "stderr",
     "output_type": "stream",
     "text": [
      "                                                                           "
     ]
    },
    {
     "name": "stdout",
     "output_type": "stream",
     "text": [
      "Checking accuracy on training data\n"
     ]
    },
    {
     "name": "stderr",
     "output_type": "stream",
     "text": [
      "\r"
     ]
    },
    {
     "name": "stdout",
     "output_type": "stream",
     "text": [
      "11688/11879 with accuracy 98.39\n"
     ]
    },
    {
     "name": "stderr",
     "output_type": "stream",
     "text": [
      "                                                                           "
     ]
    },
    {
     "name": "stdout",
     "output_type": "stream",
     "text": [
      "Checking accuracy on training data\n"
     ]
    },
    {
     "name": "stderr",
     "output_type": "stream",
     "text": [
      "\r"
     ]
    },
    {
     "name": "stdout",
     "output_type": "stream",
     "text": [
      "11684/11879 with accuracy 98.36\n"
     ]
    },
    {
     "name": "stderr",
     "output_type": "stream",
     "text": [
      "                                                                           "
     ]
    },
    {
     "name": "stdout",
     "output_type": "stream",
     "text": [
      "Checking accuracy on training data\n"
     ]
    },
    {
     "name": "stderr",
     "output_type": "stream",
     "text": [
      "\r"
     ]
    },
    {
     "name": "stdout",
     "output_type": "stream",
     "text": [
      "11585/11879 with accuracy 97.53\n"
     ]
    },
    {
     "name": "stderr",
     "output_type": "stream",
     "text": [
      "                                                                           "
     ]
    },
    {
     "name": "stdout",
     "output_type": "stream",
     "text": [
      "Checking accuracy on training data\n"
     ]
    },
    {
     "name": "stderr",
     "output_type": "stream",
     "text": [
      "\r"
     ]
    },
    {
     "name": "stdout",
     "output_type": "stream",
     "text": [
      "11747/11879 with accuracy 98.89\n"
     ]
    },
    {
     "name": "stderr",
     "output_type": "stream",
     "text": [
      "                                                                           "
     ]
    },
    {
     "name": "stdout",
     "output_type": "stream",
     "text": [
      "Early stopping triggered.\n"
     ]
    },
    {
     "name": "stderr",
     "output_type": "stream",
     "text": [
      "\r"
     ]
    }
   ],
   "source": [
    "for epoch in range(epochs):\n",
    "    model.train()\n",
    "    runningLoss = 0.0\n",
    "    loop = tqdm(enumerate(train_loader), total= len(train_loader), leave= False)\n",
    "    for batch_idx, (data, targets) in loop:\n",
    "        # Send data to device\n",
    "        data = data.to(device)\n",
    "        targets = targets.to(device)\n",
    "        \n",
    "        # forward\n",
    "        with torch.cuda.amp.autocast():\n",
    "            scores = model(data)\n",
    "            loss = criterion(scores, targets)\n",
    "        \n",
    "        #backprop\n",
    "        optimizer.zero_grad()\n",
    "        \n",
    "        scaler.scale(loss).backward()\n",
    "        \n",
    "        #log\n",
    "        runningLoss += loss.item()\n",
    "        \n",
    "        #otimizer\n",
    "        scaler.step(optimizer)\n",
    "        scaler.update()\n",
    "        \n",
    "        # update progress bar\n",
    "        loop.set_description(f'Epoch [{epoch}/{epochs}]')\n",
    "        loop.set_postfix(loss = loss.item())\n",
    "    \n",
    "    trainLoss= runningLoss/len(train_loader)\n",
    "    \n",
    "    if trainLoss < bestLoss - minDelta:\n",
    "        bestLoss = trainLoss\n",
    "        currentPatience = 0\n",
    "    else:\n",
    "        currentPatience += 1\n",
    "    if currentPatience >= patience:\n",
    "        print('Early stopping triggered.')\n",
    "        break\n",
    "    \n",
    "    scheduler.step(trainLoss)\n",
    "    check_accuracy(train_loader, model, Train=True)"
   ]
  },
  {
   "cell_type": "code",
   "execution_count": 10,
   "id": "4077b2b2",
   "metadata": {
    "execution": {
     "iopub.execute_input": "2024-04-14T01:24:08.093495Z",
     "iopub.status.busy": "2024-04-14T01:24:08.093143Z",
     "iopub.status.idle": "2024-04-14T01:24:41.988853Z",
     "shell.execute_reply": "2024-04-14T01:24:41.987701Z"
    },
    "papermill": {
     "duration": 35.08012,
     "end_time": "2024-04-14T01:24:42.596500",
     "exception": false,
     "start_time": "2024-04-14T01:24:07.516380",
     "status": "completed"
    },
    "tags": []
   },
   "outputs": [
    {
     "name": "stdout",
     "output_type": "stream",
     "text": [
      "Checking accuracy on training data\n",
      "11666/11879 with accuracy 98.21\n",
      "Checking accuracy on test data\n",
      "1884/2000 with accuracy 94.20\n"
     ]
    },
    {
     "data": {
      "text/plain": [
       "0.9420000314712524"
      ]
     },
     "execution_count": 10,
     "metadata": {},
     "output_type": "execute_result"
    }
   ],
   "source": [
    "check_accuracy(train_loader, model, Train= True)\n",
    "check_accuracy(test_loader, model, Train= False)"
   ]
  },
  {
   "cell_type": "code",
   "execution_count": 11,
   "id": "e522b6b9",
   "metadata": {
    "execution": {
     "iopub.execute_input": "2024-04-14T01:24:43.809027Z",
     "iopub.status.busy": "2024-04-14T01:24:43.808355Z",
     "iopub.status.idle": "2024-04-14T01:24:43.816265Z",
     "shell.execute_reply": "2024-04-14T01:24:43.815382Z"
    },
    "papermill": {
     "duration": 0.586889,
     "end_time": "2024-04-14T01:24:43.818237",
     "exception": false,
     "start_time": "2024-04-14T01:24:43.231348",
     "status": "completed"
    },
    "tags": []
   },
   "outputs": [],
   "source": [
    "def calculate_classification_metrics(loader, model):\n",
    "    true = []\n",
    "    preds = []\n",
    "    model.eval()\n",
    "    with torch.no_grad():\n",
    "        for x, y in loader:\n",
    "            x = x.to(device)\n",
    "            y = y.to(device)\n",
    "            \n",
    "            scores = model(x)\n",
    "            _, predictions = scores.max(1)\n",
    "            true.extend(y.to('cpu'))\n",
    "            preds.extend(predictions.to('cpu'))\n",
    "    print(sklearn.metrics.classification_report(true, preds, digits=5))\n",
    "    conf_matrix = confusion_matrix(true, preds)\n",
    "    sns.heatmap(conf_matrix, annot=True,annot_kws={\"size\": 12},fmt='g', cbar=False, cmap=\"viridis\")\n",
    "    plt.show()"
   ]
  },
  {
   "cell_type": "code",
   "execution_count": 12,
   "id": "0591cd7b",
   "metadata": {
    "execution": {
     "iopub.execute_input": "2024-04-14T01:24:44.988233Z",
     "iopub.status.busy": "2024-04-14T01:24:44.987858Z",
     "iopub.status.idle": "2024-04-14T01:24:52.908534Z",
     "shell.execute_reply": "2024-04-14T01:24:52.907871Z"
    },
    "papermill": {
     "duration": 8.509504,
     "end_time": "2024-04-14T01:24:52.910513",
     "exception": false,
     "start_time": "2024-04-14T01:24:44.401009",
     "status": "completed"
    },
    "tags": []
   },
   "outputs": [
    {
     "name": "stdout",
     "output_type": "stream",
     "text": [
      "              precision    recall  f1-score   support\n",
      "\n",
      "           0    0.93676   0.94800   0.94235      1000\n",
      "           1    0.94737   0.93600   0.94165      1000\n",
      "\n",
      "    accuracy                        0.94200      2000\n",
      "   macro avg    0.94206   0.94200   0.94200      2000\n",
      "weighted avg    0.94206   0.94200   0.94200      2000\n",
      "\n"
     ]
    },
    {
     "data": {
      "image/png": "[encoded data removed]",
      "text/plain": [
       "<Figure size 640x480 with 1 Axes>"
      ]
     },
     "metadata": {},
     "output_type": "display_data"
    }
   ],
   "source": [
    "calculate_classification_metrics(test_loader, model)"
   ]
  }
 ],
 "metadata": {
  "kaggle": {
   "accelerator": "gpu",
   "dataSources": [
    {
     "datasetId": 4459076,
     "sourceId": 7649273,
     "sourceType": "datasetVersion"
    }
   ],
   "dockerImageVersionId": 30665,
   "isGpuEnabled": true,
   "isInternetEnabled": true,
   "language": "python",
   "sourceType": "notebook"
  },
  "kernelspec": {
   "display_name": "Python 3",
   "language": "python",
   "name": "python3"
  },
  "language_info": {
   "codemirror_mode": {
    "name": "ipython",
    "version": 3
   },
   "file_extension": ".py",
   "mimetype": "text/x-python",
   "name": "python",
   "nbconvert_exporter": "python",
   "pygments_lexer": "ipython3",
   "version": "3.10.13"
  },
  "papermill": {
   "default_parameters": {},
   "duration": 2707.852943,
   "end_time": "2024-04-14T01:24:56.178260",
   "environment_variables": {},
   "exception": null,
   "input_path": "__notebook__.ipynb",
   "output_path": "__notebook__.ipynb",
   "parameters": {},
   "start_time": "2024-04-14T00:39:48.325317",
   "version": "2.5.0"
  }
 },
 "nbformat": 4,
 "nbformat_minor": 5
}
