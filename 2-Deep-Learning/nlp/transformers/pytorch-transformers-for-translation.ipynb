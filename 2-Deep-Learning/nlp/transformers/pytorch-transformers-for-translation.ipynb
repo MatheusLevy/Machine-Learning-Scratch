{
 "cells": [
  {
   "cell_type": "code",
   "execution_count": 1,
   "id": "70025e98",
   "metadata": {
    "execution": {
     "iopub.execute_input": "2024-04-15T19:13:51.925992Z",
     "iopub.status.busy": "2024-04-15T19:13:51.925641Z",
     "iopub.status.idle": "2024-04-15T19:14:01.180195Z",
     "shell.execute_reply": "2024-04-15T19:14:01.179386Z"
    },
    "papermill": {
     "duration": 9.268822,
     "end_time": "2024-04-15T19:14:01.182591",
     "exception": false,
     "start_time": "2024-04-15T19:13:51.913769",
     "status": "completed"
    },
    "tags": []
   },
   "outputs": [],
   "source": [
    "import torch\n",
    "import torch.nn as nn\n",
    "import torch.optim as optim\n",
    "import torchdata.datapipes as dp\n",
    "import torchtext.transforms as T\n",
    "import spacy\n",
    "import random\n",
    "from torchtext.vocab import build_vocab_from_iterator"
   ]
  },
  {
   "cell_type": "code",
   "execution_count": 2,
   "id": "7264e80b",
   "metadata": {
    "execution": {
     "iopub.execute_input": "2024-04-15T19:14:01.205183Z",
     "iopub.status.busy": "2024-04-15T19:14:01.204211Z",
     "iopub.status.idle": "2024-04-15T19:14:01.208762Z",
     "shell.execute_reply": "2024-04-15T19:14:01.207924Z"
    },
    "papermill": {
     "duration": 0.017445,
     "end_time": "2024-04-15T19:14:01.210601",
     "exception": false,
     "start_time": "2024-04-15T19:14:01.193156",
     "status": "completed"
    },
    "tags": []
   },
   "outputs": [],
   "source": [
    "device = torch.device('cuda' if torch.cuda.is_available() else 'cpu')"
   ]
  },
  {
   "cell_type": "code",
   "execution_count": 3,
   "id": "fadc9053",
   "metadata": {
    "execution": {
     "iopub.execute_input": "2024-04-15T19:14:01.231386Z",
     "iopub.status.busy": "2024-04-15T19:14:01.231130Z",
     "iopub.status.idle": "2024-04-15T19:14:02.908534Z",
     "shell.execute_reply": "2024-04-15T19:14:02.907361Z"
    },
    "papermill": {
     "duration": 1.690562,
     "end_time": "2024-04-15T19:14:02.911005",
     "exception": false,
     "start_time": "2024-04-15T19:14:01.220443",
     "status": "completed"
    },
    "tags": []
   },
   "outputs": [
    {
     "name": "stdout",
     "output_type": "stream",
     "text": [
      "--2024-04-15 19:14:02--  https://raw.githubusercontent.com/Apress/applied-natural-language-processing-w-python/master/data_etc/deu.txt\r\n",
      "Resolving raw.githubusercontent.com (raw.githubusercontent.com)... 185.199.108.133, 185.199.109.133, 185.199.110.133, ...\r\n",
      "Connecting to raw.githubusercontent.com (raw.githubusercontent.com)|185.199.108.133|:443... connected.\r\n",
      "HTTP request sent, awaiting response... 200 OK\r\n",
      "Length: 12316220 (12M) [text/plain]\r\n",
      "Saving to: 'deu.txt'\r\n",
      "\r\n",
      "deu.txt             100%[===================>]  11.75M  --.-KB/s    in 0.08s   \r\n",
      "\r\n",
      "2024-04-15 19:14:02 (138 MB/s) - 'deu.txt' saved [12316220/12316220]\r\n",
      "\r\n"
     ]
    }
   ],
   "source": [
    "!wget 'https://raw.githubusercontent.com/Apress/applied-natural-language-processing-w-python/master/data_etc/deu.txt'"
   ]
  },
  {
   "cell_type": "code",
   "execution_count": 4,
   "id": "b1118567",
   "metadata": {
    "execution": {
     "iopub.execute_input": "2024-04-15T19:14:02.933390Z",
     "iopub.status.busy": "2024-04-15T19:14:02.933063Z",
     "iopub.status.idle": "2024-04-15T19:14:38.761416Z",
     "shell.execute_reply": "2024-04-15T19:14:38.760384Z"
    },
    "papermill": {
     "duration": 35.842354,
     "end_time": "2024-04-15T19:14:38.763950",
     "exception": false,
     "start_time": "2024-04-15T19:14:02.921596",
     "status": "completed"
    },
    "tags": []
   },
   "outputs": [
    {
     "name": "stdout",
     "output_type": "stream",
     "text": [
      "Collecting en-core-web-sm==3.7.1\r\n",
      "  Downloading https://github.com/explosion/spacy-models/releases/download/en_core_web_sm-3.7.1/en_core_web_sm-3.7.1-py3-none-any.whl (12.8 MB)\r\n",
      "\u001b[2K     \u001b[90m━━━━━━━━━━━━━━━━━━━━━━━━━━━━━━━━━━━━━━━━\u001b[0m \u001b[32m12.8/12.8 MB\u001b[0m \u001b[31m77.1 MB/s\u001b[0m eta \u001b[36m0:00:00\u001b[0m\r\n",
      "\u001b[?25hRequirement already satisfied: spacy<3.8.0,>=3.7.2 in /opt/conda/lib/python3.10/site-packages (from en-core-web-sm==3.7.1) (3.7.2)\r\n",
      "Requirement already satisfied: spacy-legacy<3.1.0,>=3.0.11 in /opt/conda/lib/python3.10/site-packages (from spacy<3.8.0,>=3.7.2->en-core-web-sm==3.7.1) (3.0.12)\r\n",
      "Requirement already satisfied: spacy-loggers<2.0.0,>=1.0.0 in /opt/conda/lib/python3.10/site-packages (from spacy<3.8.0,>=3.7.2->en-core-web-sm==3.7.1) (1.0.5)\r\n",
      "Requirement already satisfied: murmurhash<1.1.0,>=0.28.0 in /opt/conda/lib/python3.10/site-packages (from spacy<3.8.0,>=3.7.2->en-core-web-sm==3.7.1) (1.0.10)\r\n",
      "Requirement already satisfied: cymem<2.1.0,>=2.0.2 in /opt/conda/lib/python3.10/site-packages (from spacy<3.8.0,>=3.7.2->en-core-web-sm==3.7.1) (2.0.8)\r\n",
      "Requirement already satisfied: preshed<3.1.0,>=3.0.2 in /opt/conda/lib/python3.10/site-packages (from spacy<3.8.0,>=3.7.2->en-core-web-sm==3.7.1) (3.0.9)\r\n",
      "Requirement already satisfied: thinc<8.3.0,>=8.1.8 in /opt/conda/lib/python3.10/site-packages (from spacy<3.8.0,>=3.7.2->en-core-web-sm==3.7.1) (8.2.2)\r\n",
      "Requirement already satisfied: wasabi<1.2.0,>=0.9.1 in /opt/conda/lib/python3.10/site-packages (from spacy<3.8.0,>=3.7.2->en-core-web-sm==3.7.1) (1.1.2)\r\n",
      "Requirement already satisfied: srsly<3.0.0,>=2.4.3 in /opt/conda/lib/python3.10/site-packages (from spacy<3.8.0,>=3.7.2->en-core-web-sm==3.7.1) (2.4.8)\r\n",
      "Requirement already satisfied: catalogue<2.1.0,>=2.0.6 in /opt/conda/lib/python3.10/site-packages (from spacy<3.8.0,>=3.7.2->en-core-web-sm==3.7.1) (2.0.10)\r\n",
      "Requirement already satisfied: weasel<0.4.0,>=0.1.0 in /opt/conda/lib/python3.10/site-packages (from spacy<3.8.0,>=3.7.2->en-core-web-sm==3.7.1) (0.3.4)\r\n",
      "Requirement already satisfied: typer<0.10.0,>=0.3.0 in /opt/conda/lib/python3.10/site-packages (from spacy<3.8.0,>=3.7.2->en-core-web-sm==3.7.1) (0.9.0)\r\n",
      "Requirement already satisfied: smart-open<7.0.0,>=5.2.1 in /opt/conda/lib/python3.10/site-packages (from spacy<3.8.0,>=3.7.2->en-core-web-sm==3.7.1) (6.4.0)\r\n",
      "Requirement already satisfied: tqdm<5.0.0,>=4.38.0 in /opt/conda/lib/python3.10/site-packages (from spacy<3.8.0,>=3.7.2->en-core-web-sm==3.7.1) (4.66.1)\r\n",
      "Requirement already satisfied: requests<3.0.0,>=2.13.0 in /opt/conda/lib/python3.10/site-packages (from spacy<3.8.0,>=3.7.2->en-core-web-sm==3.7.1) (2.31.0)\r\n",
      "Requirement already satisfied: pydantic!=1.8,!=1.8.1,<3.0.0,>=1.7.4 in /opt/conda/lib/python3.10/site-packages (from spacy<3.8.0,>=3.7.2->en-core-web-sm==3.7.1) (2.5.3)\r\n",
      "Requirement already satisfied: jinja2 in /opt/conda/lib/python3.10/site-packages (from spacy<3.8.0,>=3.7.2->en-core-web-sm==3.7.1) (3.1.2)\r\n",
      "Requirement already satisfied: setuptools in /opt/conda/lib/python3.10/site-packages (from spacy<3.8.0,>=3.7.2->en-core-web-sm==3.7.1) (69.0.3)\r\n",
      "Requirement already satisfied: packaging>=20.0 in /opt/conda/lib/python3.10/site-packages (from spacy<3.8.0,>=3.7.2->en-core-web-sm==3.7.1) (21.3)\r\n",
      "Requirement already satisfied: langcodes<4.0.0,>=3.2.0 in /opt/conda/lib/python3.10/site-packages (from spacy<3.8.0,>=3.7.2->en-core-web-sm==3.7.1) (3.3.0)\r\n",
      "Requirement already satisfied: numpy>=1.19.0 in /opt/conda/lib/python3.10/site-packages (from spacy<3.8.0,>=3.7.2->en-core-web-sm==3.7.1) (1.26.4)\r\n",
      "Requirement already satisfied: pyparsing!=3.0.5,>=2.0.2 in /opt/conda/lib/python3.10/site-packages (from packaging>=20.0->spacy<3.8.0,>=3.7.2->en-core-web-sm==3.7.1) (3.1.1)\r\n",
      "Requirement already satisfied: annotated-types>=0.4.0 in /opt/conda/lib/python3.10/site-packages (from pydantic!=1.8,!=1.8.1,<3.0.0,>=1.7.4->spacy<3.8.0,>=3.7.2->en-core-web-sm==3.7.1) (0.6.0)\r\n",
      "Requirement already satisfied: pydantic-core==2.14.6 in /opt/conda/lib/python3.10/site-packages (from pydantic!=1.8,!=1.8.1,<3.0.0,>=1.7.4->spacy<3.8.0,>=3.7.2->en-core-web-sm==3.7.1) (2.14.6)\r\n",
      "Requirement already satisfied: typing-extensions>=4.6.1 in /opt/conda/lib/python3.10/site-packages (from pydantic!=1.8,!=1.8.1,<3.0.0,>=1.7.4->spacy<3.8.0,>=3.7.2->en-core-web-sm==3.7.1) (4.9.0)\r\n",
      "Requirement already satisfied: charset-normalizer<4,>=2 in /opt/conda/lib/python3.10/site-packages (from requests<3.0.0,>=2.13.0->spacy<3.8.0,>=3.7.2->en-core-web-sm==3.7.1) (3.3.2)\r\n",
      "Requirement already satisfied: idna<4,>=2.5 in /opt/conda/lib/python3.10/site-packages (from requests<3.0.0,>=2.13.0->spacy<3.8.0,>=3.7.2->en-core-web-sm==3.7.1) (3.6)\r\n",
      "Requirement already satisfied: urllib3<3,>=1.21.1 in /opt/conda/lib/python3.10/site-packages (from requests<3.0.0,>=2.13.0->spacy<3.8.0,>=3.7.2->en-core-web-sm==3.7.1) (1.26.18)\r\n",
      "Requirement already satisfied: certifi>=2017.4.17 in /opt/conda/lib/python3.10/site-packages (from requests<3.0.0,>=2.13.0->spacy<3.8.0,>=3.7.2->en-core-web-sm==3.7.1) (2024.2.2)\r\n",
      "Requirement already satisfied: blis<0.8.0,>=0.7.8 in /opt/conda/lib/python3.10/site-packages (from thinc<8.3.0,>=8.1.8->spacy<3.8.0,>=3.7.2->en-core-web-sm==3.7.1) (0.7.10)\r\n",
      "Requirement already satisfied: confection<1.0.0,>=0.0.1 in /opt/conda/lib/python3.10/site-packages (from thinc<8.3.0,>=8.1.8->spacy<3.8.0,>=3.7.2->en-core-web-sm==3.7.1) (0.1.4)\r\n",
      "Requirement already satisfied: click<9.0.0,>=7.1.1 in /opt/conda/lib/python3.10/site-packages (from typer<0.10.0,>=0.3.0->spacy<3.8.0,>=3.7.2->en-core-web-sm==3.7.1) (8.1.7)\r\n",
      "Requirement already satisfied: cloudpathlib<0.17.0,>=0.7.0 in /opt/conda/lib/python3.10/site-packages (from weasel<0.4.0,>=0.1.0->spacy<3.8.0,>=3.7.2->en-core-web-sm==3.7.1) (0.16.0)\r\n",
      "Requirement already satisfied: MarkupSafe>=2.0 in /opt/conda/lib/python3.10/site-packages (from jinja2->spacy<3.8.0,>=3.7.2->en-core-web-sm==3.7.1) (2.1.3)\r\n",
      "\u001b[38;5;2m✔ Download and installation successful\u001b[0m\r\n",
      "You can now load the package via spacy.load('en_core_web_sm')\r\n",
      "Collecting de-core-news-sm==3.7.0\r\n",
      "  Downloading https://github.com/explosion/spacy-models/releases/download/de_core_news_sm-3.7.0/de_core_news_sm-3.7.0-py3-none-any.whl (14.6 MB)\r\n",
      "\u001b[2K     \u001b[90m━━━━━━━━━━━━━━━━━━━━━━━━━━━━━━━━━━━━━━━━\u001b[0m \u001b[32m14.6/14.6 MB\u001b[0m \u001b[31m71.6 MB/s\u001b[0m eta \u001b[36m0:00:00\u001b[0m\r\n",
      "\u001b[?25hRequirement already satisfied: spacy<3.8.0,>=3.7.0 in /opt/conda/lib/python3.10/site-packages (from de-core-news-sm==3.7.0) (3.7.2)\r\n",
      "Requirement already satisfied: spacy-legacy<3.1.0,>=3.0.11 in /opt/conda/lib/python3.10/site-packages (from spacy<3.8.0,>=3.7.0->de-core-news-sm==3.7.0) (3.0.12)\r\n",
      "Requirement already satisfied: spacy-loggers<2.0.0,>=1.0.0 in /opt/conda/lib/python3.10/site-packages (from spacy<3.8.0,>=3.7.0->de-core-news-sm==3.7.0) (1.0.5)\r\n",
      "Requirement already satisfied: murmurhash<1.1.0,>=0.28.0 in /opt/conda/lib/python3.10/site-packages (from spacy<3.8.0,>=3.7.0->de-core-news-sm==3.7.0) (1.0.10)\r\n",
      "Requirement already satisfied: cymem<2.1.0,>=2.0.2 in /opt/conda/lib/python3.10/site-packages (from spacy<3.8.0,>=3.7.0->de-core-news-sm==3.7.0) (2.0.8)\r\n",
      "Requirement already satisfied: preshed<3.1.0,>=3.0.2 in /opt/conda/lib/python3.10/site-packages (from spacy<3.8.0,>=3.7.0->de-core-news-sm==3.7.0) (3.0.9)\r\n",
      "Requirement already satisfied: thinc<8.3.0,>=8.1.8 in /opt/conda/lib/python3.10/site-packages (from spacy<3.8.0,>=3.7.0->de-core-news-sm==3.7.0) (8.2.2)\r\n",
      "Requirement already satisfied: wasabi<1.2.0,>=0.9.1 in /opt/conda/lib/python3.10/site-packages (from spacy<3.8.0,>=3.7.0->de-core-news-sm==3.7.0) (1.1.2)\r\n",
      "Requirement already satisfied: srsly<3.0.0,>=2.4.3 in /opt/conda/lib/python3.10/site-packages (from spacy<3.8.0,>=3.7.0->de-core-news-sm==3.7.0) (2.4.8)\r\n",
      "Requirement already satisfied: catalogue<2.1.0,>=2.0.6 in /opt/conda/lib/python3.10/site-packages (from spacy<3.8.0,>=3.7.0->de-core-news-sm==3.7.0) (2.0.10)\r\n",
      "Requirement already satisfied: weasel<0.4.0,>=0.1.0 in /opt/conda/lib/python3.10/site-packages (from spacy<3.8.0,>=3.7.0->de-core-news-sm==3.7.0) (0.3.4)\r\n",
      "Requirement already satisfied: typer<0.10.0,>=0.3.0 in /opt/conda/lib/python3.10/site-packages (from spacy<3.8.0,>=3.7.0->de-core-news-sm==3.7.0) (0.9.0)\r\n",
      "Requirement already satisfied: smart-open<7.0.0,>=5.2.1 in /opt/conda/lib/python3.10/site-packages (from spacy<3.8.0,>=3.7.0->de-core-news-sm==3.7.0) (6.4.0)\r\n",
      "Requirement already satisfied: tqdm<5.0.0,>=4.38.0 in /opt/conda/lib/python3.10/site-packages (from spacy<3.8.0,>=3.7.0->de-core-news-sm==3.7.0) (4.66.1)\r\n",
      "Requirement already satisfied: requests<3.0.0,>=2.13.0 in /opt/conda/lib/python3.10/site-packages (from spacy<3.8.0,>=3.7.0->de-core-news-sm==3.7.0) (2.31.0)\r\n",
      "Requirement already satisfied: pydantic!=1.8,!=1.8.1,<3.0.0,>=1.7.4 in /opt/conda/lib/python3.10/site-packages (from spacy<3.8.0,>=3.7.0->de-core-news-sm==3.7.0) (2.5.3)\r\n",
      "Requirement already satisfied: jinja2 in /opt/conda/lib/python3.10/site-packages (from spacy<3.8.0,>=3.7.0->de-core-news-sm==3.7.0) (3.1.2)\r\n",
      "Requirement already satisfied: setuptools in /opt/conda/lib/python3.10/site-packages (from spacy<3.8.0,>=3.7.0->de-core-news-sm==3.7.0) (69.0.3)\r\n",
      "Requirement already satisfied: packaging>=20.0 in /opt/conda/lib/python3.10/site-packages (from spacy<3.8.0,>=3.7.0->de-core-news-sm==3.7.0) (21.3)\r\n",
      "Requirement already satisfied: langcodes<4.0.0,>=3.2.0 in /opt/conda/lib/python3.10/site-packages (from spacy<3.8.0,>=3.7.0->de-core-news-sm==3.7.0) (3.3.0)\r\n",
      "Requirement already satisfied: numpy>=1.19.0 in /opt/conda/lib/python3.10/site-packages (from spacy<3.8.0,>=3.7.0->de-core-news-sm==3.7.0) (1.26.4)\r\n",
      "Requirement already satisfied: pyparsing!=3.0.5,>=2.0.2 in /opt/conda/lib/python3.10/site-packages (from packaging>=20.0->spacy<3.8.0,>=3.7.0->de-core-news-sm==3.7.0) (3.1.1)\r\n",
      "Requirement already satisfied: annotated-types>=0.4.0 in /opt/conda/lib/python3.10/site-packages (from pydantic!=1.8,!=1.8.1,<3.0.0,>=1.7.4->spacy<3.8.0,>=3.7.0->de-core-news-sm==3.7.0) (0.6.0)\r\n",
      "Requirement already satisfied: pydantic-core==2.14.6 in /opt/conda/lib/python3.10/site-packages (from pydantic!=1.8,!=1.8.1,<3.0.0,>=1.7.4->spacy<3.8.0,>=3.7.0->de-core-news-sm==3.7.0) (2.14.6)\r\n",
      "Requirement already satisfied: typing-extensions>=4.6.1 in /opt/conda/lib/python3.10/site-packages (from pydantic!=1.8,!=1.8.1,<3.0.0,>=1.7.4->spacy<3.8.0,>=3.7.0->de-core-news-sm==3.7.0) (4.9.0)\r\n",
      "Requirement already satisfied: charset-normalizer<4,>=2 in /opt/conda/lib/python3.10/site-packages (from requests<3.0.0,>=2.13.0->spacy<3.8.0,>=3.7.0->de-core-news-sm==3.7.0) (3.3.2)\r\n",
      "Requirement already satisfied: idna<4,>=2.5 in /opt/conda/lib/python3.10/site-packages (from requests<3.0.0,>=2.13.0->spacy<3.8.0,>=3.7.0->de-core-news-sm==3.7.0) (3.6)\r\n",
      "Requirement already satisfied: urllib3<3,>=1.21.1 in /opt/conda/lib/python3.10/site-packages (from requests<3.0.0,>=2.13.0->spacy<3.8.0,>=3.7.0->de-core-news-sm==3.7.0) (1.26.18)\r\n",
      "Requirement already satisfied: certifi>=2017.4.17 in /opt/conda/lib/python3.10/site-packages (from requests<3.0.0,>=2.13.0->spacy<3.8.0,>=3.7.0->de-core-news-sm==3.7.0) (2024.2.2)\r\n",
      "Requirement already satisfied: blis<0.8.0,>=0.7.8 in /opt/conda/lib/python3.10/site-packages (from thinc<8.3.0,>=8.1.8->spacy<3.8.0,>=3.7.0->de-core-news-sm==3.7.0) (0.7.10)\r\n",
      "Requirement already satisfied: confection<1.0.0,>=0.0.1 in /opt/conda/lib/python3.10/site-packages (from thinc<8.3.0,>=8.1.8->spacy<3.8.0,>=3.7.0->de-core-news-sm==3.7.0) (0.1.4)\r\n",
      "Requirement already satisfied: click<9.0.0,>=7.1.1 in /opt/conda/lib/python3.10/site-packages (from typer<0.10.0,>=0.3.0->spacy<3.8.0,>=3.7.0->de-core-news-sm==3.7.0) (8.1.7)\r\n",
      "Requirement already satisfied: cloudpathlib<0.17.0,>=0.7.0 in /opt/conda/lib/python3.10/site-packages (from weasel<0.4.0,>=0.1.0->spacy<3.8.0,>=3.7.0->de-core-news-sm==3.7.0) (0.16.0)\r\n",
      "Requirement already satisfied: MarkupSafe>=2.0 in /opt/conda/lib/python3.10/site-packages (from jinja2->spacy<3.8.0,>=3.7.0->de-core-news-sm==3.7.0) (2.1.3)\r\n",
      "Installing collected packages: de-core-news-sm\r\n",
      "Successfully installed de-core-news-sm-3.7.0\r\n",
      "\u001b[38;5;2m✔ Download and installation successful\u001b[0m\r\n",
      "You can now load the package via spacy.load('de_core_news_sm')\r\n"
     ]
    }
   ],
   "source": [
    "!python -m spacy download en_core_web_sm\n",
    "!python -m spacy download de_core_news_sm"
   ]
  },
  {
   "cell_type": "code",
   "execution_count": 5,
   "id": "20cc0ad8",
   "metadata": {
    "execution": {
     "iopub.execute_input": "2024-04-15T19:14:38.792201Z",
     "iopub.status.busy": "2024-04-15T19:14:38.791485Z",
     "iopub.status.idle": "2024-04-15T19:14:41.857083Z",
     "shell.execute_reply": "2024-04-15T19:14:41.856241Z"
    },
    "papermill": {
     "duration": 3.081611,
     "end_time": "2024-04-15T19:14:41.859374",
     "exception": false,
     "start_time": "2024-04-15T19:14:38.777763",
     "status": "completed"
    },
    "tags": []
   },
   "outputs": [],
   "source": [
    "eng = spacy.load(\"en_core_web_sm\") # Load the English model to tokenize English text\n",
    "de = spacy.load(\"de_core_news_sm\") # Load the German model to tokenize German text"
   ]
  },
  {
   "cell_type": "code",
   "execution_count": 6,
   "id": "4ca9b3c9",
   "metadata": {
    "execution": {
     "iopub.execute_input": "2024-04-15T19:14:41.886096Z",
     "iopub.status.busy": "2024-04-15T19:14:41.885806Z",
     "iopub.status.idle": "2024-04-15T19:14:42.181417Z",
     "shell.execute_reply": "2024-04-15T19:14:42.180405Z"
    },
    "papermill": {
     "duration": 0.311652,
     "end_time": "2024-04-15T19:14:42.183858",
     "exception": false,
     "start_time": "2024-04-15T19:14:41.872206",
     "status": "completed"
    },
    "tags": []
   },
   "outputs": [],
   "source": [
    "import random\n",
    "\n",
    "def split_dataset(input_file, train_file, test_file, train_percent):\n",
    "    with open(input_file, 'r') as file:\n",
    "        lines = file.readlines()  \n",
    "\n",
    "    total_lines = len(lines)\n",
    "    train_lines = int(total_lines * train_percent)\n",
    "    test_lines = total_lines - train_lines\n",
    "\n",
    "\n",
    "    random.shuffle(lines)\n",
    "\n",
    "    with open(train_file, 'w') as train:\n",
    "        for line in lines[:train_lines]:\n",
    "            train.write(line)\n",
    "\n",
    "    with open(test_file, 'w') as test:\n",
    "        for line in lines[train_lines:]:\n",
    "            test.write(line)\n",
    "\n",
    "\n",
    "input_file = '/kaggle/working/deu.txt'\n",
    "\n",
    "\n",
    "train_file = 'shiny_train.txt'\n",
    "test_file = 'shiny_test.txt'\n",
    "\n",
    "train_percent = 0.8\n",
    "\n",
    "split_dataset(input_file, train_file, test_file, train_percent)"
   ]
  },
  {
   "cell_type": "code",
   "execution_count": 7,
   "id": "c4b74d4d",
   "metadata": {
    "execution": {
     "iopub.execute_input": "2024-04-15T19:14:42.211018Z",
     "iopub.status.busy": "2024-04-15T19:14:42.210325Z",
     "iopub.status.idle": "2024-04-15T19:14:42.215494Z",
     "shell.execute_reply": "2024-04-15T19:14:42.214596Z"
    },
    "papermill": {
     "duration": 0.020967,
     "end_time": "2024-04-15T19:14:42.217409",
     "exception": false,
     "start_time": "2024-04-15T19:14:42.196442",
     "status": "completed"
    },
    "tags": []
   },
   "outputs": [],
   "source": [
    "FILE_PATH = '/kaggle/working/shiny_train.txt'\n",
    "data_pipe = dp.iter.IterableWrapper([FILE_PATH])\n",
    "data_pipe = dp.iter.FileOpener(data_pipe, mode='rb')\n",
    "data_pipe = data_pipe.parse_csv(skip_lines=1, delimiter='\\t', as_tuple=True)"
   ]
  },
  {
   "cell_type": "code",
   "execution_count": 8,
   "id": "3cb9e3a7",
   "metadata": {
    "execution": {
     "iopub.execute_input": "2024-04-15T19:14:42.244092Z",
     "iopub.status.busy": "2024-04-15T19:14:42.243381Z",
     "iopub.status.idle": "2024-04-15T19:14:42.248673Z",
     "shell.execute_reply": "2024-04-15T19:14:42.247736Z"
    },
    "papermill": {
     "duration": 0.020546,
     "end_time": "2024-04-15T19:14:42.250565",
     "exception": false,
     "start_time": "2024-04-15T19:14:42.230019",
     "status": "completed"
    },
    "tags": []
   },
   "outputs": [
    {
     "name": "stdout",
     "output_type": "stream",
     "text": [
      "('The city was founded in 573.', 'Die Stadt wurde 573 gegründet.')\n"
     ]
    }
   ],
   "source": [
    "for sample in data_pipe:\n",
    "    print(sample)\n",
    "    break"
   ]
  },
  {
   "cell_type": "code",
   "execution_count": 9,
   "id": "572257fe",
   "metadata": {
    "execution": {
     "iopub.execute_input": "2024-04-15T19:14:42.276789Z",
     "iopub.status.busy": "2024-04-15T19:14:42.276431Z",
     "iopub.status.idle": "2024-04-15T19:14:42.281803Z",
     "shell.execute_reply": "2024-04-15T19:14:42.280969Z"
    },
    "papermill": {
     "duration": 0.020617,
     "end_time": "2024-04-15T19:14:42.283714",
     "exception": false,
     "start_time": "2024-04-15T19:14:42.263097",
     "status": "completed"
    },
    "tags": []
   },
   "outputs": [],
   "source": [
    "def engTokenize(text):\n",
    "    \"\"\"\n",
    "    Tokenize an English text and return a list of tokens\n",
    "    \"\"\"\n",
    "    return [token.text for token in eng.tokenizer(text)]\n",
    "\n",
    "def deTokenize(text):\n",
    "    \"\"\"\n",
    "    Tokenize a German text and return a list of tokens\n",
    "    \"\"\"\n",
    "    return [token.text for token in de.tokenizer(text)]"
   ]
  },
  {
   "cell_type": "code",
   "execution_count": 10,
   "id": "747fc80c",
   "metadata": {
    "execution": {
     "iopub.execute_input": "2024-04-15T19:14:42.309972Z",
     "iopub.status.busy": "2024-04-15T19:14:42.309421Z",
     "iopub.status.idle": "2024-04-15T19:14:42.314725Z",
     "shell.execute_reply": "2024-04-15T19:14:42.313884Z"
    },
    "papermill": {
     "duration": 0.020739,
     "end_time": "2024-04-15T19:14:42.316810",
     "exception": false,
     "start_time": "2024-04-15T19:14:42.296071",
     "status": "completed"
    },
    "tags": []
   },
   "outputs": [
    {
     "name": "stdout",
     "output_type": "stream",
     "text": [
      "['Have', 'a', 'good', 'day', '!', '!', '!']\n",
      "['Haben', 'Sie', 'einen', 'guten', 'Tag', '!', '!', '!']\n"
     ]
    }
   ],
   "source": [
    "print(engTokenize(\"Have a good day!!!\"))\n",
    "print(deTokenize(\"Haben Sie einen guten Tag!!!\"))"
   ]
  },
  {
   "cell_type": "code",
   "execution_count": 11,
   "id": "434335d0",
   "metadata": {
    "execution": {
     "iopub.execute_input": "2024-04-15T19:14:42.342645Z",
     "iopub.status.busy": "2024-04-15T19:14:42.342354Z",
     "iopub.status.idle": "2024-04-15T19:14:42.347310Z",
     "shell.execute_reply": "2024-04-15T19:14:42.346492Z"
    },
    "papermill": {
     "duration": 0.020134,
     "end_time": "2024-04-15T19:14:42.349236",
     "exception": false,
     "start_time": "2024-04-15T19:14:42.329102",
     "status": "completed"
    },
    "tags": []
   },
   "outputs": [],
   "source": [
    "def getTokens(data_iter, place):\n",
    "    \"\"\"\n",
    "    Function to yield tokens from an iterator. Since, our iterator contains\n",
    "    tuple of sentences (source and target), `place` parameters defines for which\n",
    "    index to return the tokens for. `place=0` for source and `place=1` for target\n",
    "    \"\"\"\n",
    "    for english, german in data_iter:\n",
    "        if place == 0:\n",
    "            yield engTokenize(english)\n",
    "        else:\n",
    "            yield deTokenize(german)"
   ]
  },
  {
   "cell_type": "code",
   "execution_count": 12,
   "id": "2964b953",
   "metadata": {
    "execution": {
     "iopub.execute_input": "2024-04-15T19:14:42.375428Z",
     "iopub.status.busy": "2024-04-15T19:14:42.375153Z",
     "iopub.status.idle": "2024-04-15T19:14:48.742439Z",
     "shell.execute_reply": "2024-04-15T19:14:48.741658Z"
    },
    "papermill": {
     "duration": 6.383243,
     "end_time": "2024-04-15T19:14:48.744843",
     "exception": false,
     "start_time": "2024-04-15T19:14:42.361600",
     "status": "completed"
    },
    "tags": []
   },
   "outputs": [],
   "source": [
    "source_vocab = build_vocab_from_iterator(\n",
    "    getTokens(data_pipe,0),\n",
    "    min_freq=2,\n",
    "    specials= ['<pad>', '<sos>', '<eos>', '<unk>'],\n",
    "    special_first=True\n",
    ")\n",
    "source_vocab.set_default_index(source_vocab['<unk>'])"
   ]
  },
  {
   "cell_type": "code",
   "execution_count": 13,
   "id": "ee160a67",
   "metadata": {
    "execution": {
     "iopub.execute_input": "2024-04-15T19:14:48.772291Z",
     "iopub.status.busy": "2024-04-15T19:14:48.771997Z",
     "iopub.status.idle": "2024-04-15T19:14:56.852602Z",
     "shell.execute_reply": "2024-04-15T19:14:56.851724Z"
    },
    "papermill": {
     "duration": 8.096923,
     "end_time": "2024-04-15T19:14:56.855008",
     "exception": false,
     "start_time": "2024-04-15T19:14:48.758085",
     "status": "completed"
    },
    "tags": []
   },
   "outputs": [],
   "source": [
    "target_vocab = build_vocab_from_iterator(\n",
    "    getTokens(data_pipe,1),\n",
    "    min_freq=2,\n",
    "    specials= ['<pad>', '<sos>', '<eos>', '<unk>'],\n",
    "    special_first=True\n",
    ")\n",
    "target_vocab.set_default_index(target_vocab['<unk>'])"
   ]
  },
  {
   "cell_type": "code",
   "execution_count": 14,
   "id": "600eacda",
   "metadata": {
    "execution": {
     "iopub.execute_input": "2024-04-15T19:14:56.881992Z",
     "iopub.status.busy": "2024-04-15T19:14:56.881696Z",
     "iopub.status.idle": "2024-04-15T19:14:56.887137Z",
     "shell.execute_reply": "2024-04-15T19:14:56.886279Z"
    },
    "papermill": {
     "duration": 0.021322,
     "end_time": "2024-04-15T19:14:56.889469",
     "exception": false,
     "start_time": "2024-04-15T19:14:56.868147",
     "status": "completed"
    },
    "tags": []
   },
   "outputs": [
    {
     "name": "stdout",
     "output_type": "stream",
     "text": [
      "['<pad>', '<sos>', '<eos>', '<unk>', '.', 'I', 'Tom', 'to', 'you']\n"
     ]
    }
   ],
   "source": [
    "print(source_vocab.get_itos()[:9])"
   ]
  },
  {
   "cell_type": "code",
   "execution_count": 15,
   "id": "4e328500",
   "metadata": {
    "execution": {
     "iopub.execute_input": "2024-04-15T19:14:56.915632Z",
     "iopub.status.busy": "2024-04-15T19:14:56.915329Z",
     "iopub.status.idle": "2024-04-15T19:14:56.920813Z",
     "shell.execute_reply": "2024-04-15T19:14:56.919872Z"
    },
    "papermill": {
     "duration": 0.020823,
     "end_time": "2024-04-15T19:14:56.922851",
     "exception": false,
     "start_time": "2024-04-15T19:14:56.902028",
     "status": "completed"
    },
    "tags": []
   },
   "outputs": [],
   "source": [
    "def getTransform(vocab):\n",
    "    \"\"\"\n",
    "    Create transforms based on given vocabulary. The returned transform is applied to sequence\n",
    "    of tokens.\n",
    "    \"\"\"\n",
    "    text_tranform = T.Sequential(\n",
    "        ## converts the sentences to indices based on given vocabulary\n",
    "        T.VocabTransform(vocab=vocab),\n",
    "        ## Add <sos> at beginning of each sentence. 1 because the index for <sos> in vocabulary is\n",
    "        # 1 as seen in previous section\n",
    "        T.AddToken(1, begin=True),\n",
    "        ## Add <eos> at beginning of each sentence. 2 because the index for <eos> in vocabulary is\n",
    "        # 2 as seen in previous section\n",
    "        T.AddToken(2, begin=False)\n",
    "    )\n",
    "    return text_tranform"
   ]
  },
  {
   "cell_type": "code",
   "execution_count": 16,
   "id": "0ca3b0c2",
   "metadata": {
    "execution": {
     "iopub.execute_input": "2024-04-15T19:14:56.949261Z",
     "iopub.status.busy": "2024-04-15T19:14:56.948978Z",
     "iopub.status.idle": "2024-04-15T19:14:57.639738Z",
     "shell.execute_reply": "2024-04-15T19:14:57.638533Z"
    },
    "papermill": {
     "duration": 0.706455,
     "end_time": "2024-04-15T19:14:57.641958",
     "exception": false,
     "start_time": "2024-04-15T19:14:56.935503",
     "status": "completed"
    },
    "tags": []
   },
   "outputs": [
    {
     "name": "stdout",
     "output_type": "stream",
     "text": [
      "Some sentence= That's why I like you.\n",
      "Transformed sentence=[1, 73, 14, 211, 5, 44, 8, 4, 2]\n",
      "<sos> That 's why I like you . <eos> "
     ]
    }
   ],
   "source": [
    "temp_list = list(data_pipe)\n",
    "some_sentence = temp_list[798][0]\n",
    "print(\"Some sentence= \", end=\"\")\n",
    "print(some_sentence)\n",
    "transformed_sentence = getTransform(source_vocab)(engTokenize(some_sentence))\n",
    "print(\"Transformed sentence=\", end=\"\")\n",
    "print(transformed_sentence)\n",
    "index_to_string = source_vocab.get_itos()\n",
    "for index in transformed_sentence:\n",
    "    print(index_to_string[index], end=\" \")"
   ]
  },
  {
   "cell_type": "code",
   "execution_count": 17,
   "id": "d87a27cb",
   "metadata": {
    "execution": {
     "iopub.execute_input": "2024-04-15T19:14:57.670873Z",
     "iopub.status.busy": "2024-04-15T19:14:57.670523Z",
     "iopub.status.idle": "2024-04-15T19:15:39.727317Z",
     "shell.execute_reply": "2024-04-15T19:15:39.726363Z"
    },
    "papermill": {
     "duration": 42.085447,
     "end_time": "2024-04-15T19:15:39.742140",
     "exception": false,
     "start_time": "2024-04-15T19:14:57.656693",
     "status": "completed"
    },
    "tags": []
   },
   "outputs": [
    {
     "name": "stdout",
     "output_type": "stream",
     "text": [
      "([1, 27, 449, 20, 3860, 16, 3, 4, 2], [1, 55, 302, 88, 3, 3530, 4, 2])\n"
     ]
    }
   ],
   "source": [
    "def applyTransform(sequence_pair):\n",
    "    \"\"\"\n",
    "    Apply transforms to sequence of tokens in a sequence pair\n",
    "    \"\"\"\n",
    "\n",
    "    return (\n",
    "        getTransform(source_vocab)(engTokenize(sequence_pair[0])),\n",
    "        getTransform(target_vocab)(deTokenize(sequence_pair[1]))\n",
    "    )\n",
    "data_pipe = data_pipe.map(applyTransform) ## Apply the function to each element in the iterator\n",
    "temp_list = list(data_pipe)\n",
    "print(temp_list[0])"
   ]
  },
  {
   "cell_type": "code",
   "execution_count": 18,
   "id": "6883f34f",
   "metadata": {
    "execution": {
     "iopub.execute_input": "2024-04-15T19:15:39.769752Z",
     "iopub.status.busy": "2024-04-15T19:15:39.769420Z",
     "iopub.status.idle": "2024-04-15T19:15:39.774328Z",
     "shell.execute_reply": "2024-04-15T19:15:39.773576Z"
    },
    "papermill": {
     "duration": 0.021177,
     "end_time": "2024-04-15T19:15:39.776195",
     "exception": false,
     "start_time": "2024-04-15T19:15:39.755018",
     "status": "completed"
    },
    "tags": []
   },
   "outputs": [],
   "source": [
    "def sortBucket(bucket):\n",
    "    \"\"\"\n",
    "    Function to sort a given bucket. Here, we want to sort based on the length of\n",
    "    source and target sequence.\n",
    "    \"\"\"\n",
    "    return sorted(bucket, key=lambda x: (len(x[0]), len(x[1])))"
   ]
  },
  {
   "cell_type": "code",
   "execution_count": 19,
   "id": "9bcadfc8",
   "metadata": {
    "execution": {
     "iopub.execute_input": "2024-04-15T19:15:39.802877Z",
     "iopub.status.busy": "2024-04-15T19:15:39.802269Z",
     "iopub.status.idle": "2024-04-15T19:15:39.809012Z",
     "shell.execute_reply": "2024-04-15T19:15:39.808228Z"
    },
    "papermill": {
     "duration": 0.022223,
     "end_time": "2024-04-15T19:15:39.811016",
     "exception": false,
     "start_time": "2024-04-15T19:15:39.788793",
     "status": "completed"
    },
    "tags": []
   },
   "outputs": [
    {
     "name": "stdout",
     "output_type": "stream",
     "text": [
      "(['hello', 'world'], ['hallo', 'welt'])\n",
      "(['how', 'are', 'you'], ['wie', 'geht', 'es', 'dir'])\n",
      "(['this', 'is', 'a', 'test'], ['das', 'ist', 'ein', 'test'])\n"
     ]
    }
   ],
   "source": [
    "bucket = [\n",
    "    (['how', 'are', 'you'], ['wie', 'geht', 'es', 'dir']),\n",
    "    (['hello', 'world'], ['hallo', 'welt']),\n",
    "    (['this', 'is', 'a', 'test'], ['das', 'ist', 'ein', 'test'])\n",
    "]\n",
    "\n",
    "sorted_data = sortBucket(bucket)\n",
    "\n",
    "for item in sorted_data:\n",
    "    print(item)"
   ]
  },
  {
   "cell_type": "code",
   "execution_count": 20,
   "id": "7f889832",
   "metadata": {
    "execution": {
     "iopub.execute_input": "2024-04-15T19:15:39.837866Z",
     "iopub.status.busy": "2024-04-15T19:15:39.837072Z",
     "iopub.status.idle": "2024-04-15T19:15:39.841736Z",
     "shell.execute_reply": "2024-04-15T19:15:39.841046Z"
    },
    "papermill": {
     "duration": 0.019861,
     "end_time": "2024-04-15T19:15:39.843537",
     "exception": false,
     "start_time": "2024-04-15T19:15:39.823676",
     "status": "completed"
    },
    "tags": []
   },
   "outputs": [],
   "source": [
    "data_pipe = data_pipe.bucketbatch(\n",
    "    batch_size = 64, batch_num=5,  bucket_num=1,\n",
    "    use_in_batch_shuffle=False, sort_key=sortBucket\n",
    ")"
   ]
  },
  {
   "cell_type": "code",
   "execution_count": 21,
   "id": "4172a515",
   "metadata": {
    "execution": {
     "iopub.execute_input": "2024-04-15T19:15:39.869982Z",
     "iopub.status.busy": "2024-04-15T19:15:39.869587Z",
     "iopub.status.idle": "2024-04-15T19:16:22.542584Z",
     "shell.execute_reply": "2024-04-15T19:16:22.541659Z"
    },
    "papermill": {
     "duration": 42.701845,
     "end_time": "2024-04-15T19:16:22.558033",
     "exception": false,
     "start_time": "2024-04-15T19:15:39.856188",
     "status": "completed"
    },
    "tags": []
   },
   "outputs": [
    {
     "name": "stdout",
     "output_type": "stream",
     "text": [
      "[([1, 27, 293, 110, 16, 40, 64, 4, 2], [1, 67, 310, 191, 1176, 41, 4, 2]), ([1, 80, 43, 12, 22, 255, 120, 4, 2], [1, 12, 437, 9, 297, 115, 4, 2]), ([1, 5, 45, 42, 881, 387, 199, 4, 2], [1, 7, 1109, 498, 189, 205, 4, 2]), ([1, 39, 86, 194, 6, 11, 468, 4, 2], [1, 38, 280, 6, 37, 920, 274, 4, 2]), ([1, 6, 110, 66, 467, 38, 28, 4, 2], [1, 6, 88, 69, 677, 30, 39, 4, 2]), ([1, 50, 13, 863, 17, 70, 417, 4, 2], [1, 12, 10, 841, 30, 389, 430, 4, 2]), ([1, 173, 43, 23, 977, 7, 406, 10, 2], [1, 212, 20, 17, 895, 11, 784, 8, 2]), ([1, 73, 135, 13, 11, 170, 135, 4, 2], [1, 221, 134, 10, 21, 548, 134, 4, 2]), ([1, 50, 640, 7, 925, 9, 212, 4, 2], [1, 12, 2256, 32, 214, 11, 2343, 4, 2]), ([1, 26, 86, 380, 6, 11, 2092, 4, 2], [1, 1387, 12, 6, 177, 37, 554, 4, 2]), ([1, 5, 2740, 2152, 16, 9, 731, 4, 2], [1, 7, 24, 2503, 68, 685, 4532, 4, 2]), ([1, 5, 22, 11, 66, 176, 2419, 4, 2], [1, 7, 24, 37, 69, 504, 3935, 4, 2]), ([1, 173, 43, 8, 290, 9, 776, 10, 2], [1, 212, 75, 13, 14, 1907, 225, 8, 2]), ([1, 173, 43, 8, 107, 7, 1104, 10, 2], [1, 212, 378, 50, 66, 1221, 304, 8, 2]), ([1, 39, 22, 239, 7, 1547, 55, 4, 2], [1, 38, 116, 64, 104, 94, 2458, 4, 2]), ([1, 6, 425, 128, 172, 31, 1045, 4, 2], [1, 6, 1111, 19, 107, 1277, 240, 4, 2]), ([1, 5, 157, 72, 38, 37, 250, 4, 2], [1, 7, 193, 29, 182, 1034, 1190, 4, 2]), ([1, 6, 13, 12, 83, 17, 97, 4, 2], [1, 6, 10, 9, 131, 44, 64, 4, 2]), ([1, 41, 20, 112, 399, 24, 21, 4, 2], [1, 33, 34, 11, 640, 46, 31, 4, 2]), ([1, 149, 14, 121, 9, 628, 636, 4, 2], [1, 750, 12, 64, 16, 4615, 479, 25, 2]), ([1, 100, 81, 842, 2416, 167, 3544, 4, 2], [1, 33, 187, 59, 453, 210, 846, 4, 2]), ([1, 1612, 8, 63, 297, 9, 284, 4, 2], [1, 13657, 50, 808, 142, 276, 736, 4, 2]), ([1, 328, 37, 250, 71, 35, 90, 4, 2], [1, 309, 97, 312, 83, 140, 57, 4, 2]), ([1, 189, 3676, 17, 408, 3165, 1119, 4, 2], [1, 474, 5736, 22, 728, 1278, 368, 4, 2]), ([1, 5, 69, 162, 201, 11, 464, 4, 2], [1, 7, 144, 80, 90, 21, 376, 48, 4, 2]), ([1, 151, 43, 8, 75, 30, 3304, 10, 2], [1, 157, 75, 13, 272, 14891, 2056, 178, 8, 2]), ([1, 6, 13, 40, 31, 388, 123, 4, 2], [1, 6, 10, 143, 30, 28, 230, 1458, 4, 2]), ([1, 3770, 11, 1076, 40, 30, 655, 4, 2], [1, 11211, 12, 43, 7926, 30, 110, 2057, 4, 2]), ([1, 6, 104, 1256, 55, 31, 232, 4, 2], [1, 6, 176, 98, 1200, 104, 158, 3035, 4, 2]), ([1, 448, 221, 8, 7, 15, 29, 4, 2], [1, 318, 89, 5, 18, 12, 14, 102, 4, 2]), ([1, 5, 553, 11, 574, 24, 8, 4, 2], [1, 7, 24, 21, 683, 46, 52, 466, 4, 2]), ([1, 5, 894, 37, 195, 14, 2456, 4, 2], [1, 7, 24, 14, 3777, 676, 1533, 995, 4, 2]), ([1, 5, 278, 8, 15, 12, 298, 4, 2], [1, 7, 332, 5, 13, 75, 94, 823, 4, 2]), ([1, 6, 102, 28, 13, 48, 115, 4, 2], [1, 6, 120, 5, 39, 277, 11, 125, 4, 2]), ([1, 77, 55, 11, 626, 17, 329, 10, 2], [1, 62, 830, 13, 11, 131, 704, 331, 8, 2]), ([1, 259, 8, 44, 677, 37, 1869, 10, 2], [1, 568, 13, 16, 1616, 44, 247, 979, 9274, 8, 2]), ([1, 73, 13, 116, 9, 379, 2142, 4, 2], [1, 517, 142, 1730, 191, 17, 11, 47, 533, 4, 2]), ([1, 3, 102, 6, 6784, 31, 712, 4, 2], [1, 67, 3, 2940, 20, 6, 107, 557, 3, 4, 2]), ([1, 80, 192, 854, 353, 11, 273, 4, 2], [1, 261, 282, 19, 22, 273, 235, 51, 921, 4, 2]), ([1, 73, 14, 51, 5, 139, 54, 4, 2], [1, 27, 10, 17, 5, 42, 15, 96, 120, 4, 2]), ([1, 5, 299, 5, 81, 11, 2947, 4, 2], [1, 2163, 2365, 482, 5, 103, 15, 21, 3809, 171, 4, 2]), ([1, 310, 275, 14, 16, 9, 190, 155, 4, 2], [1, 110, 262, 10, 2307, 4, 2]), ([1, 25, 1025, 19, 108, 180, 19, 534, 4, 2], [1, 23, 195, 95, 816, 4, 2]), ([1, 203, 14, 74, 7, 364, 24, 29, 10, 2], [1, 208, 65, 431, 5066, 8, 2]), ([1, 36, 12, 3733, 48, 21, 44, 18, 4, 2], [1, 1432, 31, 9, 53, 41, 4, 2]), ([1, 73, 249, 21, 11, 134, 17, 1940, 4, 2], [1, 27, 3267, 26, 93, 2575, 4, 2]), ([1, 5, 15, 42, 163, 54, 132, 404, 4, 2], [1, 7, 446, 76, 9, 78, 4, 2]), ([1, 6, 266, 486, 411, 16, 9, 757, 4, 2], [1, 6, 4539, 1791, 114, 882, 4, 2]), ([1, 5, 140, 1363, 68, 38, 30, 2356, 4, 2], [1, 7, 24, 272, 3992, 2049, 4, 2]), ([1, 5, 15, 42, 610, 54, 132, 404, 4, 2], [1, 7, 3110, 96, 9, 78, 4, 2]), ([1, 325, 8, 943, 21, 11, 1236, 428, 10, 2], [1, 6233, 26, 37, 15787, 476, 25, 2]), ([1, 50, 52, 89, 474, 24, 11, 273, 4, 2], [1, 12, 10, 268, 131, 273, 451, 4, 2]), ([1, 5, 45, 5730, 7, 567, 38, 8, 4, 2], [1, 7, 54, 9554, 5, 145, 5623, 4, 2]), ([1, 6, 20, 55, 7, 1730, 72, 903, 4, 2], [1, 6, 34, 666, 1588, 5, 11887, 4, 2]), ([1, 5, 15, 12, 75, 584, 38, 54, 4, 2], [1, 7, 469, 29, 96, 9, 848, 4, 2]), ([1, 6, 206, 12, 430, 68, 60, 156, 4, 2], [1, 6, 112, 70, 9, 78, 15006, 4, 2]), ([1, 1911, 5, 2240, 11, 1067, 24, 8, 10, 2], [1, 900, 15, 145, 37, 1285, 5214, 8, 2]), ([1, 27, 647, 319, 157, 7, 9, 806, 4, 2], [1, 55, 11852, 338, 193, 99, 901, 4, 2]), ([1, 6, 65, 12, 704, 96, 113, 309, 4, 2], [1, 6, 1836, 9, 78, 53, 93, 4, 2]), ([1, 77, 107, 8, 47, 118, 96, 186, 10, 2], [1, 732, 185, 13, 53, 82, 136, 8, 2]), ([1, 39, 15, 12, 22, 18, 16, 1193, 4, 2], [1, 38, 48, 14, 9, 19, 1461, 4, 2]), ([1, 41, 56, 730, 187, 11, 1171, 883, 4, 2], [1, 27, 65, 104, 2249, 1016, 1602, 4, 2]), ([1, 25, 2733, 21, 11, 134, 17, 120, 4, 2], [1, 23, 3554, 26, 37, 510, 115, 4, 2]), ([1, 5, 61, 12, 318, 184, 48, 23, 4, 2], [1, 7, 45, 17, 9, 148, 1536, 4, 2])]\n"
     ]
    }
   ],
   "source": [
    "print(list(data_pipe)[0])"
   ]
  },
  {
   "cell_type": "code",
   "execution_count": 22,
   "id": "057daa41",
   "metadata": {
    "execution": {
     "iopub.execute_input": "2024-04-15T19:16:22.585548Z",
     "iopub.status.busy": "2024-04-15T19:16:22.585220Z",
     "iopub.status.idle": "2024-04-15T19:17:05.459079Z",
     "shell.execute_reply": "2024-04-15T19:17:05.458139Z"
    },
    "papermill": {
     "duration": 42.903595,
     "end_time": "2024-04-15T19:17:05.474626",
     "exception": false,
     "start_time": "2024-04-15T19:16:22.571031",
     "status": "completed"
    },
    "tags": []
   },
   "outputs": [
    {
     "name": "stdout",
     "output_type": "stream",
     "text": [
      "(([1, 5, 22, 12, 1157, 187, 37, 307, 308, 272, 4, 2], [1, 59, 590, 1476, 13, 1969, 105, 9, 801, 83, 4, 2], [1, 36, 8, 223, 30, 247, 244, 16, 9, 604, 10, 2], [1, 36, 8, 58, 6, 13, 16, 163, 38, 8, 10, 2], [1, 5, 47, 11, 341, 1565, 195, 13, 11, 971, 4, 2], [1, 3263, 145, 33, 12, 162, 6884, 105, 372, 145, 4, 2], [1, 27, 343, 20, 7429, 7, 1550, 78, 9, 461, 4, 2], [1, 49, 14, 30, 397, 363, 7, 893, 16, 403, 10, 2], [1, 25, 1203, 21, 7, 210, 9, 155, 48, 353, 4, 2], [1, 27, 118, 2531, 13, 801, 19, 672, 34, 590, 4, 2], [1, 39, 264, 18, 9, 288, 85, 12, 35, 252, 4, 2], [1, 5, 314, 7, 129, 202, 18, 493, 67, 421, 4, 2], [1, 6, 14, 734, 33, 239, 2700, 7, 28, 14, 4, 2], [1, 41, 274, 44, 8, 53, 579, 55, 126, 302, 4, 2], [1, 5, 86, 69, 1541, 8, 18, 29, 347, 369, 4, 2], [1, 5, 47, 8, 33, 1237, 317, 577, 9, 2519, 4, 2], [1, 6, 102, 8, 347, 35, 514, 16, 29, 135, 4, 2], [1, 5, 91, 160, 121, 51, 1146, 172, 9, 1210, 4, 2], [1, 6, 243, 7, 244, 1828, 175, 32, 110, 277, 4, 2], [1, 5, 69, 1274, 614, 8, 311, 629, 198, 42, 4, 2], [1, 6, 5329, 31, 3584, 196, 327, 175, 9, 653, 4, 2], [1, 6, 274, 44, 32, 14, 526, 11, 307, 131, 4, 2], [1, 3, 15, 12, 2341, 19, 103, 307, 145, 15, 4, 2], [1, 6, 528, 216, 241, 7, 97, 387, 150, 771, 376, 4, 2], [1, 36, 8, 125, 46, 7, 240, 60, 24, 11, 273, 10, 2], [1, 36, 8, 125, 46, 7, 240, 60, 24, 11, 273, 10, 2], [1, 5, 343, 7, 210, 138, 62, 254, 62, 5, 63, 4, 2], [1, 435, 8, 15, 51, 8, 53, 139, 19, 24, 353, 10, 2], [1, 41, 85, 35, 11, 451, 7, 1805, 6, 14, 491, 4, 2], [1, 675, 888, 32, 52, 120, 19, 32, 13, 12, 191, 4, 2], [1, 148, 384, 14, 16, 503, 19, 8, 86, 94, 245, 4, 2], [1, 26, 129, 709, 108, 8, 15, 258, 16, 11, 674, 4, 2], [1, 41, 13, 9, 373, 4308, 452, 5, 22, 180, 759, 4, 2], [1, 41, 207, 21, 1321, 196, 367, 7, 380, 9, 2923, 4, 2], [1, 41, 316, 18, 32, 20, 252, 24, 9, 360, 226, 4, 2], [1, 39, 164, 127, 257, 7, 129, 68, 24, 261, 64, 4, 2], [1, 27, 609, 3, 9, 6493, 4153, 7, 1374, 1703, 5169, 4, 2], [1, 5, 46, 54, 7, 35, 2537, 55, 18, 16, 1786, 4, 2], [1, 27, 237, 13, 79, 15, 12, 47, 171, 6, 13, 4, 2], [1, 80, 144, 5793, 76, 219, 19, 741, 512, 21, 1196, 4, 2], [1, 25, 13, 42, 96, 113, 11, 5876, 62, 11, 411, 2641, 4, 2], [1, 27, 8044, 868, 429, 21, 109, 105, 9, 212, 2023, 43, 4, 2], [1, 27, 2066, 3926, 11, 2029, 17, 31, 2249, 135, 7, 21, 4, 2], [1, 100, 33, 342, 40, 37, 6237, 18, 5, 22, 12, 220, 4, 2], [1, 5, 46, 7, 682, 8, 24, 3511, 6, 68, 214, 153, 4, 2], [1, 80, 81, 3, 48, 285, 190, 48, 9, 1009, 17, 251, 4232, 4, 2], [1, 5, 364, 373, 17, 37, 2022, 40, 9, 236, 17, 285, 501, 4, 2], [1, 122, 8, 22, 7, 1536, 11, 1593, 38, 30, 994, 198, 1138, 10, 2], [1, 6, 102, 32, 43, 12, 47, 211, 28, 67, 7, 15, 18, 4, 2], [1, 646, 8, 66, 113, 24, 338, 76, 9, 165, 7, 95, 21, 4, 2], [1, 828, 651, 33, 292, 10, 183, 80, 33, 37, 195, 14, 4, 183, 2], [1, 49, 15, 8, 58, 81, 9, 282, 14, 385, 2229, 6511, 17, 506, 10, 2], [1, 36, 8, 44, 1266, 10, 183, 1854, 19, 5, 2614, 44, 909, 4, 183, 2], [1, 1211, 251, 1733, 20, 16, 118, 19, 5, 91, 12, 238, 11, 402, 4, 2], [1, 5, 22, 83, 1171, 561, 16, 5964, 1060, 5044, 34, 450, 891, 16, 1792, 4, 2], [1, 26, 15, 12, 22, 7, 185, 55, 23, 108, 8, 15, 12, 46, 7, 4, 2], [1, 5, 163, 8, 34, 5, 15, 12, 46, 137, 307, 7, 369, 7, 8, 4, 2], [1, 6, 43, 12, 46, 7, 185, 7, 28, 19, 103, 32, 67, 99, 818, 4, 2], [1, 6, 43, 12, 22, 255, 120, 7, 235, 51, 28, 201, 54, 7, 235, 24, 70, 4, 2], [1, 6, 698, 876, 21, 11, 330, 6242, 87, 710, 21, 55, 11, 1969, 363, 7, 235, 83, 4, 2], [1, 6, 139, 9, 247, 18, 188, 91, 240, 60, 16, 9, 155, 108, 188, 43, 12, 129, 132, 748, 4, 2], [1, 6, 261, 96, 113, 812, 18, 83, 17, 31, 250, 495, 1340, 773, 54, 16, 9, 604, 19, 242, 3, 54, 4, 2], [1, 189, 374, 71, 22, 9, 618, 17, 88, 2435, 117, 3, 126, 19, 103, 9, 618, 17, 9, 4077, 117, 5859, 23, 4, 2], [1, 148, 8, 1242, 78, 30, 906, 562, 172, 30, 388, 1131, 562, 19, 694, 105, 9, 190, 165, 294, 19, 8, 53, 905, 1105, 7, 129, 709, 4, 2]), ([1, 7, 54, 97, 3884, 1266, 59, 9, 7316, 4, 2], [1, 251, 2048, 1817, 10, 3082, 58, 22, 2179, 4, 2], [1, 6919, 13, 124, 206, 30, 22, 428, 289, 8, 2], [1, 743, 13, 5, 6, 10, 19, 52, 764, 8, 2], [1, 7, 391, 21, 267, 5, 1254, 174, 1273, 10, 4, 2], [1, 55, 5238, 49, 9, 90, 2917, 58, 16, 650, 4, 2], [1, 67, 497, 34, 44, 1549, 41, 99, 7875, 2543, 4, 2], [1, 1310, 19, 433, 2525, 13, 108, 13714, 19, 1116, 8, 2], [1, 23, 3666, 26, 5, 465, 14, 210, 11, 549, 4, 2], [1, 55, 2230, 4939, 10, 2083, 5, 74, 35, 1441, 4, 2], [1, 38, 1522, 5, 22, 349, 112, 28, 9, 1900, 4, 2], [1, 7, 485, 11, 1019, 5, 18, 691, 471, 87, 4, 2], [1, 139, 886, 49, 94, 68, 3994, 11, 1172, 400, 4, 2], [1, 33, 269, 5, 18, 13, 41, 72, 648, 680, 4, 2], [1, 7, 118, 52, 3023, 233, 5, 18, 14, 889, 45, 4, 2], [1, 7, 74, 5, 18, 13, 52, 589, 47, 3365, 6038, 4, 2], [1, 6, 120, 5, 12, 867, 1413, 41, 217, 134, 48, 4, 2], [1, 7, 181, 95, 1743, 5, 42, 19, 32, 1107, 3417, 4, 2], [1, 6, 20, 456, 90, 1139, 1047, 5, 1675, 36, 2236, 4, 2], [1, 7, 24, 367, 5, 201, 13, 831, 3020, 117, 9, 4, 2], [1, 6, 20, 28, 222, 464, 84, 22, 837, 32, 5720, 6682, 4, 2], [1, 6, 238, 63, 5, 58, 201, 36, 43, 1897, 164, 20, 4, 2], [1, 3, 167, 17, 9, 5, 122, 1225, 308, 167, 17, 80, 4, 2], [1, 6, 1363, 200, 84, 149, 1583, 2307, 4, 2], [1, 1672, 50, 70, 156, 37, 273, 287, 8, 2], [1, 1079, 12, 1517, 37, 273, 70, 1205, 8, 2], [1, 7, 24, 84, 5, 6407, 63, 128, 11263, 4, 2], [1, 2965, 13, 15616, 170, 5, 42, 119, 56, 239, 25, 2], [1, 33, 171, 21, 295, 5, 139, 583, 11, 2302, 4, 2], [1, 13909, 36, 115, 20, 5, 10, 36, 9, 250, 4, 2], [1, 137, 328, 19, 713, 10, 5, 91, 119, 96, 154, 4, 2], [1, 12, 102, 295, 5, 103, 12, 542, 19, 2103, 102, 4, 2], [1, 33, 10, 14, 3, 560, 5, 14, 15, 449, 3263, 24, 4, 2], [1, 7, 939, 322, 222, 414, 5, 61, 32, 2772, 11, 492, 4, 2], [1, 33, 269, 5, 18, 36, 207, 11, 314, 162, 2317, 191, 4, 2], [1, 38, 151, 1739, 395, 5, 61, 16, 3902, 101, 160, 16925, 4, 2], [1, 27, 634, 642, 16, 3, 2113, 162, 3, 131, 3, 317, 3, 4, 2], [1, 7, 89, 5, 18, 36, 263, 80, 68, 2450, 19, 3952, 1832, 65, 4, 2], [1, 27, 245, 733, 1081, 5, 18, 71, 9, 165, 5, 194, 6, 28, 737, 4, 2], [1, 12, 48, 16, 360, 291, 402, 1141, 178, 5, 6000, 15, 9, 527, 181, 4, 2], [1, 23, 10, 1186, 37, 13076, 58, 21, 2173, 4, 2], [1, 55, 3, 579, 26, 78, 799, 58, 22, 13382, 4, 2], [1, 67, 3585, 1683, 26, 21, 6149, 644, 5539, 2101, 4, 2], [1, 33, 167, 342, 19, 247, 2070, 5, 16, 15, 9, 522, 24, 4, 2], [1, 7, 89, 56, 1171, 5, 18, 13, 6, 44, 22, 175, 5055, 75, 25, 2], [1, 12, 8098, 28, 2409, 5, 53, 1119, 51, 976, 4, 2], [1, 7, 3514, 16, 663, 253, 3134, 108, 10361, 141, 2438, 4, 2], [1, 8980, 13, 56, 21, 2281, 29, 272, 8694, 117, 1450, 2687, 8, 2], [1, 6, 120, 5, 36, 2200, 9, 5, 249, 39, 14, 77, 1572, 4, 2], [1, 2122, 1359, 5, 18, 12, 32, 9973, 412, 304, 49, 5, 61, 31, 11, 547, 4, 2], [1, 199, 1478, 826, 10, 14, 8, 204, 817, 345, 199, 27, 10, 16, 826, 676, 1533, 4, 204, 2], [1, 631, 397, 3, 187, 407, 420, 66, 16, 6701, 141, 2787, 8, 2], [1, 2640, 12, 1783, 8, 493, 1617, 5, 719, 146, 15, 1550, 4, 493, 2], [1, 3, 51, 28, 30, 136, 3106, 5, 2482, 15, 9, 21, 439, 4, 2], [1, 7, 24, 8152, 463, 19, 14087, 35, 4282, 19, 6408, 4, 2], [1, 110, 1029, 9, 263, 293, 5, 103, 50, 9, 2306, 4, 2], [1, 7, 446, 52, 5, 35, 15, 85, 9, 5, 18, 56, 1229, 284, 4, 2], [1, 6, 144, 9, 29, 39, 180, 5, 122, 36, 87, 86, 375, 801, 4, 2], [1, 6, 87, 9, 297, 115, 5, 61, 39, 14, 11, 306, 5, 42, 51, 28, 44, 96, 6529, 87, 4, 2], [1, 627, 139, 241, 181, 15, 21, 270, 5744, 2604, 5, 423, 36, 26, 133, 20, 5, 194, 15, 17, 5933, 306, 45, 4, 2], [1, 6, 120, 32, 828, 5, 18, 51, 70, 68, 210, 287, 8143, 5, 103, 51, 192, 1141, 1742, 4, 2], [1, 6, 20, 53, 93, 2175, 5, 18, 21, 262, 44, 96, 30, 22, 428, 3861, 41, 96, 3, 5, 257, 76, 11, 2227, 4, 2], [1, 1182, 3, 325, 3, 3, 28, 325, 3, 162, 3, 3, 4, 2], [1, 1247, 131, 11231, 19, 16, 2160, 2421, 28, 482, 29, 15659, 3, 58, 9862, 4, 2]))\n"
     ]
    }
   ],
   "source": [
    "def separateSourceTarget(sequence_pairs):\n",
    "    \"\"\"\n",
    "    input of form: `[(X_1,y_1), (X_2,y_2), (X_3,y_3), (X_4,y_4)]`\n",
    "    output of form: `((X_1,X_2,X_3,X_4), (y_1,y_2,y_3,y_4))`\n",
    "    \"\"\"\n",
    "    sources,targets = zip(*sequence_pairs)\n",
    "    return sources,targets\n",
    "\n",
    "## Apply the function to each element in the iterator\n",
    "data_pipe = data_pipe.map(separateSourceTarget)\n",
    "print(list(data_pipe)[0])"
   ]
  },
  {
   "cell_type": "code",
   "execution_count": 23,
   "id": "96a0f840",
   "metadata": {
    "_kg_hide-input": true,
    "execution": {
     "iopub.execute_input": "2024-04-15T19:17:05.501836Z",
     "iopub.status.busy": "2024-04-15T19:17:05.501498Z",
     "iopub.status.idle": "2024-04-15T19:17:05.506785Z",
     "shell.execute_reply": "2024-04-15T19:17:05.506051Z"
    },
    "papermill": {
     "duration": 0.02108,
     "end_time": "2024-04-15T19:17:05.508592",
     "exception": false,
     "start_time": "2024-04-15T19:17:05.487512",
     "status": "completed"
    },
    "tags": []
   },
   "outputs": [],
   "source": [
    "def applyPadding(pair_of_sequences):\n",
    "    \"\"\"\n",
    "    Convert sequences to tensors and apply padding\n",
    "    \"\"\"\n",
    "    return (T.ToTensor(0)(list(pair_of_sequences[0])), T.ToTensor(0)(list(pair_of_sequences[1])))\n",
    "## `T.ToTensor(0)` returns a transform that converts the sequence to `torch.tensor` and also applies\n",
    "# padding. Here, `0` is passed to the constructor to specify the index of the `<pad>` token in the\n",
    "# vocabulary.\n",
    "data_pipe = data_pipe.map(applyPadding)"
   ]
  },
  {
   "cell_type": "code",
   "execution_count": 24,
   "id": "a956b484",
   "metadata": {
    "execution": {
     "iopub.execute_input": "2024-04-15T19:17:05.535585Z",
     "iopub.status.busy": "2024-04-15T19:17:05.535317Z",
     "iopub.status.idle": "2024-04-15T19:17:53.462156Z",
     "shell.execute_reply": "2024-04-15T19:17:53.461047Z"
    },
    "papermill": {
     "duration": 47.956813,
     "end_time": "2024-04-15T19:17:53.478378",
     "exception": false,
     "start_time": "2024-04-15T19:17:05.521565",
     "status": "completed"
    },
    "tags": []
   },
   "outputs": [
    {
     "name": "stdout",
     "output_type": "stream",
     "text": [
      "(tensor([[   1, 1460,   12,   79,  101,   57,  115,   10,    2,    0],\n",
      "        [   1,   41,   14,   24,   30,  388,   82,    4,    2,    0],\n",
      "        [   1,    5,   20,  917,   38,    9, 1562,    4,    2,    0],\n",
      "        [   1,    6,   34,   28,   33,  162, 1673,    4,    2,    0],\n",
      "        [   1,   39,  162,  323,  181,   40,   54,    4,    2,    0],\n",
      "        [   1,   80,   67,   11, 2543,   64,  381,    4,    2,    0],\n",
      "        [   1,    5,   45,   42, 2373, 1196,  272,    4,    2,    0],\n",
      "        [   1,   26,   15,   12, 1658,   21,  309,    4,    2,    0],\n",
      "        [   1, 8446,  285, 6184,   17,    9, 5965,    4,    2,    0],\n",
      "        [   1,   80, 6796,    9, 4879,   38,  346,    4,    2,    0],\n",
      "        [   1,    5,   45,  305,   32,   13, 1038,    4,    2,    0],\n",
      "        [   1,  504,   33,   24,    8,   19,    6,    4,    2,    0],\n",
      "        [   1,   26, 1024,    7,   22,  542,  152,    4,    2,    0],\n",
      "        [   1,  166,    8,  180,   89,    7, 8313,   10,    2,    0],\n",
      "        [   1, 3263,  735,   63,  356,  170, 2765,    4,    2,    0],\n",
      "        [   1,   36,    8,   47,  116,   18,  274,   10,    2,    0],\n",
      "        [   1,    5,  263,  157, 1022,   38,   54,    4,    2,    0],\n",
      "        [   1,   49,   14,   30,  397, 3169, 1091,   10,    2,    0],\n",
      "        [   1,    6, 1561, 5211,   40,    9,  654,    4,    2,    0],\n",
      "        [   1, 1164,   21,  108,    8,   98,   94,    4,    2,    0],\n",
      "        [   1,    5,   58,   79,   86,   15,   23,    4,    2,    0],\n",
      "        [   1,    5,   22,   11,  336,  631,  212,    4,    2,    0],\n",
      "        [   1,    6,  102,   32,   92,   35,   60,    4,    2,    0],\n",
      "        [   1,    6,   20, 1493,  117,   32,  370,    4,    2,    0],\n",
      "        [   1,  286, 1356,   20,  137,  103, 1716,    4,    2,    0],\n",
      "        [   1,   25, 2268,   32,   67,  109,   64,    4,    2,    0],\n",
      "        [   1,    5,  280,   23,   24, 1395,  561,    4,    2,    0],\n",
      "        [   1,   84,  418,  642,    5,   45,  815,    4,    2,    0],\n",
      "        [   1, 1755,    8,   48,  196,   29,  622,    4,    2,    0],\n",
      "        [   1,   84,  352,   13,  724,   78,  602,    4,    2,    0],\n",
      "        [   1,    5,   86,   12,   22, 6540,  161,    4,    2,    0],\n",
      "        [   1,    5,   58,   18,   85,   35,  665,    4,    2,    0],\n",
      "        [   1,  122,    8,  287,    7,  235, 3284,   10,    2,    0],\n",
      "        [   1,   41,  274,   44,    6,   13,  665,    4,    2,    0],\n",
      "        [   1,    6,   13,   74,  475,   11, 9553, 4069,    4,    2],\n",
      "        [   1,    6,   13,   11,  308,  178,    3, 2728,    4,    2],\n",
      "        [   1,    5,  140, 4236,  445,   87,    9, 5128,    4,    2],\n",
      "        [   1,    6,  218,   72,   17,   31, 1237,  363,    4,    2],\n",
      "        [   1,    5,   15,   12,  222,  132,   17,    8,    4,    2],\n",
      "        [   1,    6, 1459,   11,  142,  178,    3,  774,    4,    2],\n",
      "        [   1,   25,  473,   23,   62, 1780,   62, 2818,    4,    2],\n",
      "        [   1,   36,   12, 1394,  137,   40,    9,  654,    4,    2],\n",
      "        [   1,   39,   53,  394,   11,  134,  520,  123,    4,    2],\n",
      "        [   1,    5,   43,   12,   46,    7, 1658,    8,    4,    2],\n",
      "        [   1,   26,   47,  395,   11,  134,   55,    3,    4,    2],\n",
      "        [   1,    5,   15,   12,  270,   44,  532,  123,    4,    2],\n",
      "        [   1,    6,   65,   12,   47,  113,   55,    3,    4,    2],\n",
      "        [   1,   25,  570,   62,   11, 9301,   16, 4285,    4,    2],\n",
      "        [   1,    6,  740,   55,    9,  237,   38,   28,    4,    2],\n",
      "        [   1,   26,   53,   74,   16,    9,  231, 2337,    4,    2],\n",
      "        [   1,   50,   14,   89,  474,  419,  147, 3795,    4,    2],\n",
      "        [   1,  398,   11,  165,   19,    8,   33,  143,    4,    2],\n",
      "        [   1,    5,   46,    7, 1165, 1591,    9, 2382,    4,    2],\n",
      "        [   1,    5,   91,   12,   22,  228,   23,  248,    4,    2],\n",
      "        [   1,    5,   45,   42,  305,   17,    6,  309,    4,    2],\n",
      "        [   1,    5,   92,   44,    8,    7,   94,    6,    4,    2],\n",
      "        [   1,    6,  200,    9,  722,   16,   31, 1222,    4,    2],\n",
      "        [   1,   50,   13,   42, 1521,   17,   70, 1759,    4,    2],\n",
      "        [   1,    5,  110,   68,   48,  934,   29,  283,    4,    2],\n",
      "        [   1,    6, 2614,  266,   74,    7, 1909, 2954,    4,    2],\n",
      "        [   1,    5,   45,  413,   11,  135,   55,  967,    4,    2],\n",
      "        [   1,   25,   52,   89,    7, 1193,  168,  431,    4,    2],\n",
      "        [   1,   28,   65,   12,  184,   44,   70,  224,    4,    2],\n",
      "        [   1,   59,   13,  171,    6,  221,    7,  213,    4,    2]]), tensor([[    1,   404,    71,   179,    66,   125,   168,     8,     2,     0,\n",
      "             0,     0,     0,     0],\n",
      "        [    1,    33,    10,    11,   572,  1018,  3930,     4,     2,     0,\n",
      "             0,     0,     0,     0],\n",
      "        [    1,     7,    34,    44,    47,  2373,   927,     4,     2,     0,\n",
      "             0,     0,     0,     0],\n",
      "        [    1,     6,    35,    39,  1768,    28,  3657,     4,     2,     0,\n",
      "             0,     0,     0,     0],\n",
      "        [    1,    38,    48,    90,    30,    76,     3,     4,     2,     0,\n",
      "             0,     0,     0,     0],\n",
      "        [    1,    12,  3434,   294,    37,  6707,   101,     4,     2,     0,\n",
      "             0,     0,     0,     0],\n",
      "        [    1,     7,    54,    59,     9,   266,  1122,     4,     2,     0,\n",
      "             0,     0,     0,     0],\n",
      "        [    1,    40,   550,    26,    86,   348,    78,    25,     2,     0,\n",
      "             0,     0,     0,     0],\n",
      "        [    1, 10706,    12,   258,  5822,   141, 12911,     4,     2,     0,\n",
      "             0,     0,     0,     0],\n",
      "        [    1,    12, 12258,    16,  5668,    29,  2722,     4,     2,     0,\n",
      "             0,     0,     0,     0],\n",
      "        [    1,     7,   996,     5,    36,    10,   451,     4,     2,     0,\n",
      "             0,     0,     0,     0],\n",
      "        [    1,    55,    49,    46,    52,     5,     6,     4,     2,     0,\n",
      "             0,     0,     0,     0],\n",
      "        [    1,    27,   478,    13,   177,   165,   151,     4,     2,     0,\n",
      "             0,     0,     0,     0],\n",
      "        [    1,  1467,    13,    80,   170,    68, 12896,     8,     2,     0,\n",
      "             0,     0,     0,     0],\n",
      "        [    1,  3196,   827,   116,   440, 11071,   264,     4,     2,     0,\n",
      "             0,     0,     0,     0],\n",
      "        [    1,   468,    13,     5,    60,    14,  1564,     8,     2,     0,\n",
      "             0,     0,     0,     0],\n",
      "        [    1,     7,   193,   242,    29,    96,  5915,     4,     2,     0,\n",
      "             0,     0,     0,     0],\n",
      "        [    1,    62,    46,     3,   491,    13,   108,  1705,     8,     2,\n",
      "             0,     0,     0,     0],\n",
      "        [    1,     6,   780, 11991,    30,    47,   818,  1603,     4,     2,\n",
      "             0,     0,     0,     0],\n",
      "        [    1,  1414,    31,     5,   103,    13,   241,   507,    25,     2,\n",
      "             0,     0,     0,     0],\n",
      "        [    1,     7,   558,     5,    71,   280,    17,    77,     4,     2,\n",
      "             0,     0,     0,     0],\n",
      "        [    1,     7,    24,    43,   531,     5,  2536,   214,     4,     2,\n",
      "             0,     0,     0,     0],\n",
      "        [    1,     6,   120,     5,    36,   112,    70,    57,     4,     2,\n",
      "             0,     0,     0,     0],\n",
      "        [    1,     6,    34,  1852,     5,    58,    36,   682,     4,     2,\n",
      "             0,     0,     0,     0],\n",
      "        [    1,   477,  1754,    34,   135,   375,    58,  2041,     4,     2,\n",
      "             0,     0,     0,     0],\n",
      "        [    1,    23,   370,     5,    36,   118,    78,   101,     4,     2,\n",
      "             0,     0,     0,     0],\n",
      "        [    1,     7,    24,    17,    46,  1866,   463,   329,     4,     2,\n",
      "             0,     0,     0,     0],\n",
      "        [    1,   173,   265,  1102,     5,    15,    54,   868,     4,     2,\n",
      "             0,     0,     0,     0],\n",
      "        [    1,    38,   138,    64,    61,   222,   186,   121,   712,    25,\n",
      "             2,     0,     0,     0],\n",
      "        [    1,   173,   186,  2939,    37,   375,   101,    58,   124,     4,\n",
      "             2,     0,     0,     0],\n",
      "        [    1,    33,    34,    37,  1161,   540,     5,    28,     3,     4,\n",
      "             2,     0,     0,     0],\n",
      "        [    1,    27,   171,     5,   209,    15,     5,    19,   856,     4,\n",
      "             2,     0,     0,     0],\n",
      "        [    1,   123,    13,   343,   662,     5,  4166,    11,   306,     8,\n",
      "             2,     0,     0,     0],\n",
      "        [    1,    33,   238,    53,    63,     5,    58,   201,    17,     6,\n",
      "            82,   155,     4,     2],\n",
      "        [    1,     6,    20,    37,     3,     4,     2,     0,     0,     0,\n",
      "             0,     0,     0,     0],\n",
      "        [    1,     6,    10,    21,     3,  2641,     4,     2,     0,     0,\n",
      "             0,     0,     0,     0],\n",
      "        [    1,     7,     3,    31,   108,   735,     4,     2,     0,     0,\n",
      "             0,     0,     0,     0],\n",
      "        [    1,     6,   191,    63,   216,  3646,     4,     2,     0,     0,\n",
      "             0,     0,     0,     0],\n",
      "        [    1,     7,   161,  2129,    44,   105,     4,     2,     0,     0,\n",
      "             0,     0,     0,     0],\n",
      "        [    1,     6,   825,    21,     3,   962,     4,     2,     0,     0,\n",
      "             0,     0,     0,     0],\n",
      "        [    1,    23,    88,     3,   256,   346,     4,     2,     0,     0,\n",
      "             0,     0,     0,     0],\n",
      "        [    1,  3825,    94,    30,    32,   818,    25,     2,     0,     0,\n",
      "             0,     0,     0,     0],\n",
      "        [    1,    38,    49,   143,   422, 15450,   697,     4,     2,     0,\n",
      "             0,     0,     0,     0],\n",
      "        [    1,     7,   144,   145,    86,  3606,  9450,     4,     2,     0,\n",
      "             0,     0,     0,     0],\n",
      "        [    1,    40,   444,   408,    93,   104,     3,     4,     2,     0,\n",
      "             0,     0,     0,     0],\n",
      "        [    1,   301,    10,   143,     9,    66,   484,     4,     2,     0,\n",
      "             0,     0,     0,     0],\n",
      "        [    1,     6,    74,     9,    93,   104,     3,     4,     2,     0,\n",
      "             0,     0,     0,     0],\n",
      "        [    1,    23,   546,    58,     3,    19,  5805,     4,     2,     0,\n",
      "             0,     0,     0,     0],\n",
      "        [    1,     6,  9379,    14,   245,    29,   113,     4,     2,     0,\n",
      "             0,     0,     0,     0],\n",
      "        [    1,    40,   624,    19,    16,  2229,  1753,     4,     2,     0,\n",
      "             0,     0,     0,     0],\n",
      "        [    1,    12,    10,   268,   436,  4994,   451,     4,     2,     0,\n",
      "             0,     0,     0,     0],\n",
      "        [    1,   218,  6527,  1730,    75,    13,   347,     4,     2,     0,\n",
      "             0,     0,     0,     0],\n",
      "        [    1,     7,    85,   104,    32,  3256,  1362,     4,     2,     0,\n",
      "             0,     0,     0,     0],\n",
      "        [    1,  6748,   118,    15,    14,     9,   877,     4,     2,     0,\n",
      "             0,     0,     0,     0],\n",
      "        [    1,     7,   996,    31,     9,    78,    84,     6,     4,     2,\n",
      "             0,     0,     0,     0],\n",
      "        [    1,     7,    89,     5,    18,    13,     6,  3864,     4,     2,\n",
      "             0,     0,     0,     0],\n",
      "        [    1,     6,  1544,    32,   622,    19,   107,  6877,     4,     2,\n",
      "             0,     0,     0,     0],\n",
      "        [    1,    12,    10,    28,   490,  2213,     9,  1653,     4,     2,\n",
      "             0,     0,     0,     0],\n",
      "        [    1,     7,    54,   121,   339,    61,   942,  1883,     4,     2,\n",
      "             0,     0,     0,     0],\n",
      "        [    1,     6,   155,   719,   244,    19,  8275,  3811,     4,     2,\n",
      "             0,     0,     0,     0],\n",
      "        [    1,     7,  1704,   129,    21,   134,   104,  1170,     4,     2,\n",
      "             0,     0,     0,     0],\n",
      "        [    1,    23,    34,  1316,  1872,    19,  1461,   361,     4,     2,\n",
      "             0,     0,     0,     0],\n",
      "        [    1,    39,   238,     9,    60,   243,   198,    63,     4,     2,\n",
      "             0,     0,     0,     0],\n",
      "        [    1,    27,    10,     5,   194,     6,   392,    85,     4,     2,\n",
      "             0,     0,     0,     0]]))\n"
     ]
    }
   ],
   "source": [
    "print(list(data_pipe)[0])"
   ]
  },
  {
   "cell_type": "code",
   "execution_count": 25,
   "id": "49d52329",
   "metadata": {
    "execution": {
     "iopub.execute_input": "2024-04-15T19:17:53.506459Z",
     "iopub.status.busy": "2024-04-15T19:17:53.506153Z",
     "iopub.status.idle": "2024-04-15T19:18:00.193481Z",
     "shell.execute_reply": "2024-04-15T19:18:00.192483Z"
    },
    "papermill": {
     "duration": 6.703856,
     "end_time": "2024-04-15T19:18:00.195702",
     "exception": false,
     "start_time": "2024-04-15T19:17:53.491846",
     "status": "completed"
    },
    "tags": []
   },
   "outputs": [
    {
     "name": "stdout",
     "output_type": "stream",
     "text": [
      "Source:  <sos> Keep them . <eos> <pad> <pad> <pad>\n",
      "Traget:  <sos> Behaltet sie . <eos> <pad> <pad> <pad> <pad> <pad> <pad>\n",
      "Source:  <sos> We 're screaming . <eos> <pad> <pad>\n",
      "Traget:  <sos> Wir schreien . <eos> <pad> <pad> <pad> <pad> <pad> <pad>\n",
      "Source:  <sos> Expect the unexpected . <eos> <pad> <pad>\n",
      "Traget:  <sos> Erwarte das Unerwartete ! <eos> <pad> <pad> <pad> <pad> <pad>\n",
      "Source:  <sos> It works great . <eos> <pad> <pad>\n",
      "Traget:  <sos> Es funktioniert bestens . <eos> <pad> <pad> <pad> <pad> <pad>\n"
     ]
    }
   ],
   "source": [
    "source_index_to_string = source_vocab.get_itos()\n",
    "target_index_to_string = target_vocab.get_itos()\n",
    "\n",
    "def showSomeTransformedSentences(data_pipe):\n",
    "    \"\"\"\n",
    "    Function to show how the sentences look like after applying all transforms.\n",
    "    Here we try to print actual words instead of corresponding index\n",
    "    \"\"\"\n",
    "    for sources,targets in data_pipe:\n",
    "        if sources[0][-1] != 0:\n",
    "            continue # Just to visualize padding of shorter sentences\n",
    "        for i in range(4):\n",
    "            source = \"\"\n",
    "            for token in sources[i]:\n",
    "                source += \" \" + source_index_to_string[token]\n",
    "            target = \"\"\n",
    "            for token in targets[i]:\n",
    "                target += \" \" + target_index_to_string[token]\n",
    "            print(f\"Source: {source}\")\n",
    "            print(f\"Traget: {target}\")\n",
    "        break\n",
    "\n",
    "showSomeTransformedSentences(data_pipe)"
   ]
  },
  {
   "cell_type": "code",
   "execution_count": 26,
   "id": "de356926",
   "metadata": {
    "execution": {
     "iopub.execute_input": "2024-04-15T19:18:00.225278Z",
     "iopub.status.busy": "2024-04-15T19:18:00.224967Z",
     "iopub.status.idle": "2024-04-15T19:18:06.755905Z",
     "shell.execute_reply": "2024-04-15T19:18:06.754909Z"
    },
    "papermill": {
     "duration": 6.548812,
     "end_time": "2024-04-15T19:18:06.758937",
     "exception": false,
     "start_time": "2024-04-15T19:18:00.210125",
     "status": "completed"
    },
    "tags": []
   },
   "outputs": [
    {
     "name": "stdout",
     "output_type": "stream",
     "text": [
      "tensor([[   1,    6,  535, 3166,   78,    9, 1350,    4,    2,    0],\n",
      "        [   1,    6,   52,   12,  537,   11,  543,    4,    2,    0],\n",
      "        [   1,   27, 2625, 3882,   40,    9, 1392,    4,    2,    0],\n",
      "        [   1,   25,   43,   23,   24,    9,  120,    4,    2,    0],\n",
      "        [   1,  106,   28,   34, 1326,  125, 1138,   10,    2,    0],\n",
      "        [   1,    5,  179,    6,    7,  427,  294,    4,    2,    0],\n",
      "        [   1,   50,  249,   97,  126,    7,  192,    4,    2,    0],\n",
      "        [   1,    5,  432,  116,    6,  265,   72,    4,    2,    0],\n",
      "        [   1,   25,   14,  112,  176,   24,   21,    4,    2,    0],\n",
      "        [   1,    5,   15,   12,  352,    3,  309,    4,    2,    0],\n",
      "        [   1,   27,  288,   13, 1419,   78,  836,    4,    2,    0],\n",
      "        [   1,  151,   81,    8,  117,   23,  256,   10,    2,    0],\n",
      "        [   1,    5,   47,  116,  467,    8,   33,    4,    2,    0],\n",
      "        [   1,    6,  102, 1250,   67,   89, 1336,    4,    2,    0],\n",
      "        [   1,    5,   91,   42, 1285,    9,  360,    4,    2,    0],\n",
      "        [   1,   26,   22,    7,  896,    9, 1101,    4,    2,    0],\n",
      "        [   1,   25,   20, 3621,    7,   57,  902,    4,    2,    0],\n",
      "        [   1,   27, 5663,    3,  737,    9,    3,    4,    2,    0],\n",
      "        [   1,  106,    8, 4598,   21,   17, 2697,   10,    2,    0],\n",
      "        [   1,    5,  603,    6,   71,   35,  252,    4,    2,    0],\n",
      "        [   1,   25, 1121,   42,    7,   47,   21,    4,    2,    0],\n",
      "        [   1,   77,   15,    8, 1814,   30,  319,  230,   10,    2],\n",
      "        [   1,   49,   65,   32,  133,   16,   31,  334,   10,    2],\n",
      "        [   1,    6,   65,   12,   47,  137,   55, 2182,    4,    2],\n",
      "        [   1, 2011, 1575,   19,    6,  505,   31,  696,    4,    2],\n",
      "        [   1,   49,  322,   17,   94,   15,    8,   98,   10,    2],\n",
      "        [   1,   49,   15,    8,   46,    7,   15,  123,   10,    2],\n",
      "        [   1,    6,   13,   12,   74,    7,   44,   29,    4,    2],\n",
      "        [   1,   27,  337, 2655,   16,    9,  439,  155,    4,    2],\n",
      "        [   1,   26,   86,   69,  416,   90,   87,  317,    4,    2],\n",
      "        [   1,   25,   20,   11,  715,   19, 2262,  182,    4,    2],\n",
      "        [   1,  621,  145,   22,  144,    9,  303,  451,    4,    2],\n",
      "        [   1,    5,   92,   44,    7,   95,  245,  394,    4,    2],\n",
      "        [   1,   77,   13,    6,   74,    7,   15,   18,   10,    2],\n",
      "        [   1,    6,  234,   11,  134,   55,  835, 1119,    4,    2],\n",
      "        [   1,    6,  200,  227,  128,   40,    9, 1585,    4,    2],\n",
      "        [   1,   27,  360,   71,  121,  363,  216,  751,    4,    2],\n",
      "        [   1,   27, 4337, 1483,   31,  451,    7,   21,    4,    2],\n",
      "        [   1,   80, 2082,   23,   72,   40,  251,  388,    4,    2],\n",
      "        [   1,    5,   46,    7,   15,   23,   24,    8,    4,    2],\n",
      "        [   1,    6,   13,  186,  542,   62,   11, 1226,    4,    2],\n",
      "        [   1,  915,  589, 2382,   71,  556,  633,  406,    4,    2],\n",
      "        [   1,    6,   20,   55,    7, 1730,  172, 1477,    4,    2],\n",
      "        [   1,   27,  464,   13,  786,   40,   31, 1719,    4,    2],\n",
      "        [   1,   39,   69, 1110,    7,  285,  190,  175,    4,    2],\n",
      "        [   1,   25,  164,   22, 1157,  187,   31,  308,    4,    2],\n",
      "        [   1,    5,   69,  104,   89,   29,  281,  175,    4,    2],\n",
      "        [   1,   41,   14, 2512,   40,   11,  296,  405,    4,    2],\n",
      "        [   1,    5,   15,   12,   44,  326,  115,  248,    4,    2],\n",
      "        [   1,    5,   47,  116,  281,    8,   69,   89,    4,    2],\n",
      "        [   1,   50,   71,   22,   11,  540,  216,  501,    4,    2],\n",
      "        [   1, 1261, 1799,   34,   11, 2419,   19,  246,    4,    2],\n",
      "        [   1,  119,    9,  623,  594,    7,    9,  870,   10,    2],\n",
      "        [   1,    6, 1420,   78,   11,   66, 9138, 1353,    4,    2],\n",
      "        [   1,    6,   20,   60,  101,   11, 1040,  376,    4,    2],\n",
      "        [   1,    5,  163,   51,    5,   45,  177,   60,    4,    2],\n",
      "        [   1,   26,   86,   42, 1148,   48,   31,  451,    4,    2],\n",
      "        [   1,   27,  176,  182,  110,  161,    9,  359,    4,    2],\n",
      "        [   1,    5,   20,    9, 1845,   17,   97,  196,    4,    2],\n",
      "        [   1,  130, 5826,   54,   11,  796,   17,  639,    4,    2],\n",
      "        [   1,   26,   61,   12, 2619,    6,    7,  240,    4,    2],\n",
      "        [   1,   26,   33,  162, 1485,   55,   30,  880,    4,    2],\n",
      "        [   1,  328,    9,  120,   20,  668,   40,  517,    4,    2],\n",
      "        [   1,  458,   34,   95,   51,    6,   13,  177,    4,    2]])\n",
      "torch.Size([64, 10])\n",
      "tensor([[    1,     6,    34,    44,    22,  1908,  8398,     4,     2,     0,\n",
      "             0,     0,     0,     0],\n",
      "        [    1,     6,    20,    28,   127,   452,  1459,     4,     2,     0,\n",
      "             0,     0,     0,     0],\n",
      "        [    1,    67,  3614,  5525,    30,    47,  1663,     4,     2,     0,\n",
      "             0,     0,     0,     0],\n",
      "        [    1,    23,    20,    17,    46,   115,   202,     4,     2,     0,\n",
      "             0,     0,     0,     0],\n",
      "        [    1,   386,    39,    35,  1613,   156,  1450,     8,     2,     0,\n",
      "             0,     0,     0,     0],\n",
      "        [    1,     7,   413,     6,   738,     5, 12156,     4,     2,     0,\n",
      "             0,     0,     0,     0],\n",
      "        [    1,    12,   246,    64,    72,    11,   235,     4,     2,     0,\n",
      "             0,     0,     0,     0],\n",
      "        [    1,    73,     6,    14,   303,  2748,    20,     8,     2,     0,\n",
      "             0,     0,     0,     0],\n",
      "        [    1,    23,    10,    11,   315,    46,    31,     4,     2,     0,\n",
      "             0,     0,     0,     0],\n",
      "        [    1,     7,   576,    26,    86,     3,    78,    41,     4,     2,\n",
      "             0,     0,     0,     0],\n",
      "        [    1,    67,   349,   195,  3397,    44,    22,  3643,     4,     2,\n",
      "             0,     0,     0,     0],\n",
      "        [    1,   157,   187,    12,     5,    58,    17,  1896,     8,     2,\n",
      "             0,     0,     0,     0],\n",
      "        [    1,     7,    74,     5,    60,   677,    13,   100,     4,     2,\n",
      "             0,     0,     0,     0],\n",
      "        [    1,     6,   120,     5,    18,   460,   791,    88,     4,     2,\n",
      "             0,     0,     0,     0],\n",
      "        [    1,     7,   181,     9,    41,    22,  3645,  2250,     4,     2,\n",
      "             0,     0,     0,     0],\n",
      "        [    1,    40,   231,    52,    41,    16,  1429,   543,     4,     2,\n",
      "             0,     0,     0,     0],\n",
      "        [    1,    23,    34,  1735,     5,   196,   929,    11,    79,     4,\n",
      "             2,     0,     0,     0],\n",
      "        [    1,    55, 10406,     3,    28,    19,    16,     3,  2091,     4,\n",
      "             2,     0,     0,     0],\n",
      "        [    1, 14752,    13,    26,    84,     5,    18,    15,     3,     8,\n",
      "             2,     0,     0,     0],\n",
      "        [    1,     7,  8363,   256,     5,    18,     6,    28,  1900,    65,\n",
      "             4,     2,     0,     0],\n",
      "        [    1,    23,   579,    53,     5,    58,   201,    36,    31,     9,\n",
      "           699,   112,     4,     2],\n",
      "        [    1,    73,    65,   184,  3329,   466,     8,     2,     0,     0,\n",
      "             0,     0,     0,     0],\n",
      "        [    1,    62,   382,    19,   216,   340,     8,     2,     0,     0,\n",
      "             0,     0,     0,     0],\n",
      "        [    1,     6,   943,    44, 10863,    94,     4,     2,     0,     0,\n",
      "             0,     0,     0,     0],\n",
      "        [    1,  3965,   566,     6,   107,   206,     4,     2,     0,     0,\n",
      "             0,     0,     0,     0],\n",
      "        [    1,    62,    46,   241,   507,    13,     8,     2,     0,     0,\n",
      "             0,     0,     0,     0],\n",
      "        [    1,    62,   237,    12,   143,   102,     8,     2,     0,     0,\n",
      "             0,     0,     0,     0],\n",
      "        [    1,     6,    65,    14,     9,   585,     4,     2,     0,     0,\n",
      "             0,     0,     0,     0],\n",
      "        [    1,    67,   371,  1088,    68,  2394,     4,     2,     0,     0,\n",
      "             0,     0,     0,     0],\n",
      "        [    1,    40,   478,   278,  1117,   233,     4,     2,     0,     0,\n",
      "             0,     0,     0,     0],\n",
      "        [    1,    23,    34,    21,     3,   188,     4,     2,     0,     0,\n",
      "             0,     0,     0,     0],\n",
      "        [    1,   571,    48,  3518,   295,   178,     4,     2,     0,     0,\n",
      "             0,     0,     0,     0],\n",
      "        [    1,     7,    85,    51,   422,   138,     4,     2,     0,     0,\n",
      "             0,     0,     0,     0],\n",
      "        [    1,    73,    65,     6,    14,   102,     8,     2,     0,     0,\n",
      "             0,     0,     0,     0],\n",
      "        [    1,     6,    74,    93,   104,  2397,   368,     4,     2,     0,\n",
      "             0,     0,     0,     0],\n",
      "        [    1,     6,   796,   135,   240,   196,  2070,     4,     2,     0,\n",
      "             0,     0,     0,     0],\n",
      "        [    1,    27,   994,  1102,   480,   838,  1368,     4,     2,     0,\n",
      "             0,     0,     0,     0],\n",
      "        [    1,    67, 10174,  2745,    26,   158,   295,     4,     2,     0,\n",
      "             0,     0,     0,     0],\n",
      "        [    1,    12,    49,    44,   278,   383,   304,     4,     2,     0,\n",
      "             0,     0,     0,     0],\n",
      "        [    1,     7,    89,    17,    46,    52,    77,     4,     2,     0,\n",
      "             0,     0,     0,     0],\n",
      "        [    1,     6,    10,    58,  1784,    69,  1126,     4,     2,     0,\n",
      "             0,     0,     0,     0],\n",
      "        [    1,    55,  3680,  3256,   425,   213,   745,     4,     2,     0,\n",
      "             0,     0,     0,     0],\n",
      "        [    1,     6,    34,   666,  1588,     5, 11887,     4,     2,     0,\n",
      "             0,     0,     0,     0],\n",
      "        [    1,    27,   376,  1088,    30,    47,  3199,     4,     2,     0,\n",
      "             0,     0,     0,     0],\n",
      "        [    1,    38,    48,    80,   148,   941,   565,     4,     2,     0,\n",
      "             0,     0,     0,     0],\n",
      "        [    1,   511,  1266,    10,   665,   177,   530,     4,     2,     0,\n",
      "             0,     0,     0,     0],\n",
      "        [    1,     7,    34,    59,    98,    53,   326,     4,     2,     0,\n",
      "             0,     0,     0,     0],\n",
      "        [    1,    27,  5434,    30,   131,  3742, 12699,     4,     2,     0,\n",
      "             0,     0,     0,     0],\n",
      "        [    1,     7,    54,     9,   244,   230,    11,   125,     4,     2,\n",
      "             0,     0,     0,     0],\n",
      "        [    1,     7,    74,     5,    60,   326,    12,   187,     4,     2,\n",
      "             0,     0,     0,     0],\n",
      "        [    1,    12,    65,   480,   590,    21,   376,     3,     4,     2,\n",
      "             0,     0,     0,     0],\n",
      "        [    1,  2147,  2656,    35,    37,  3935,     5,   126,     4,     2,\n",
      "             0,     0,     0,     0],\n",
      "        [    1,  8654,    28,    14,   654,  1333,   108,   960,     8,     2,\n",
      "             0,     0,     0,     0],\n",
      "        [    1,     6,   438,   158,  2056,    41,   131,     3,     4,     2,\n",
      "             0,     0,     0,     0],\n",
      "        [    1,     6,    34,   129,    84,   131,  1984,    70,     4,     2,\n",
      "             0,     0,     0,     0],\n",
      "        [    1,     7,   446,     5,    42,    15,    70,   532,     4,     2,\n",
      "             0,     0,     0,     0],\n",
      "        [    1,    40,  1319,     9,   104,   158,   295,  1472,     4,     2,\n",
      "             0,     0,     0,     0],\n",
      "        [    1,    67,   504,   188,  1031,    63,    47,   410,     4,     2,\n",
      "             0,     0,     0,     0],\n",
      "        [    1,     7,    34,    22,     3,    44,    64,   598,     4,     2,\n",
      "             0,     0,     0,     0],\n",
      "        [    1,   197,     3,    96,    21,   845,   630,    21,     4,     2,\n",
      "             0,     0,     0,     0],\n",
      "        [    1,    40,   185,     6,     9,  2615,    11,   287,     4,     2,\n",
      "             0,     0,     0,     0],\n",
      "        [    1,    40,     3,    52,    90,   104,   272,   188,     4,     2,\n",
      "             0,     0,     0,     0],\n",
      "        [    1,    27,   115,    88,  3307,    46,  1209,  2898,     4,     2,\n",
      "             0,     0,     0,     0],\n",
      "        [    1,   514,    35,  2686,     5,    42,     6,   176,     4,     2,\n",
      "             0,     0,     0,     0]])\n",
      "torch.Size([64, 14])\n"
     ]
    }
   ],
   "source": [
    "for (data, target) in data_pipe:\n",
    "    print(data)\n",
    "    print(data.shape)\n",
    "    print(target)\n",
    "    print(target.shape)\n",
    "    break"
   ]
  },
  {
   "cell_type": "code",
   "execution_count": 27,
   "id": "d8c151df",
   "metadata": {
    "execution": {
     "iopub.execute_input": "2024-04-15T19:18:06.788296Z",
     "iopub.status.busy": "2024-04-15T19:18:06.787986Z",
     "iopub.status.idle": "2024-04-15T19:18:06.792333Z",
     "shell.execute_reply": "2024-04-15T19:18:06.791481Z"
    },
    "papermill": {
     "duration": 0.020944,
     "end_time": "2024-04-15T19:18:06.794148",
     "exception": false,
     "start_time": "2024-04-15T19:18:06.773204",
     "status": "completed"
    },
    "tags": []
   },
   "outputs": [],
   "source": [
    "import torch.nn as nn\n",
    "import random\n",
    "import torch.optim as optim\n",
    "from tqdm import tqdm\n",
    "import torch"
   ]
  },
  {
   "cell_type": "code",
   "execution_count": 28,
   "id": "b8c3cb8c",
   "metadata": {
    "execution": {
     "iopub.execute_input": "2024-04-15T19:18:06.822665Z",
     "iopub.status.busy": "2024-04-15T19:18:06.822357Z",
     "iopub.status.idle": "2024-04-15T19:18:06.835307Z",
     "shell.execute_reply": "2024-04-15T19:18:06.834460Z"
    },
    "papermill": {
     "duration": 0.029402,
     "end_time": "2024-04-15T19:18:06.837239",
     "exception": false,
     "start_time": "2024-04-15T19:18:06.807837",
     "status": "completed"
    },
    "tags": []
   },
   "outputs": [],
   "source": [
    "class Transformers(nn.Module):\n",
    "    def __init__(\n",
    "        self,\n",
    "        embedding_size,\n",
    "        src_vocab_size,\n",
    "        trg_vocab_size,\n",
    "        src_pad_idx,\n",
    "        num_heads,\n",
    "        num_encoder_layers,\n",
    "        num_decoder_layers,\n",
    "        forward_expansion,\n",
    "        dropout,\n",
    "        max_len,\n",
    "        device\n",
    "    ):\n",
    "        super(Transformers, self).__init__()\n",
    "        self.src_word_embedding = nn.Embedding(src_vocab_size, embedding_size)\n",
    "        self.src_position_embedding = nn.Embedding(max_len, embedding_size)\n",
    "        self.trg_word_embedding = nn.Embedding(trg_vocab_size, embedding_size)\n",
    "        self.trg_position_embedding = nn.Embedding(max_len, embedding_size)\n",
    "        self.device = device\n",
    "        self.transformer = nn.Transformer(\n",
    "            embedding_size,\n",
    "            num_heads,\n",
    "            num_encoder_layers,\n",
    "            num_decoder_layers,\n",
    "            forward_expansion,\n",
    "            dropout,\n",
    "        )\n",
    "        self.fc_out = nn.Linear(embedding_size, trg_vocab_size)\n",
    "        self.dropout = nn.Dropout(dropout)\n",
    "        self.src_pad_idx = src_pad_idx\n",
    "    \n",
    "    def make_src_mask(self, src):\n",
    "        # src shape = (src_len, N)\n",
    "        src_mask = src.transpose(0, 1) == self.src_pad_idx\n",
    "        # (N, src_len)\n",
    "        return src_mask\n",
    "    \n",
    "    def forward(self, src, trg):\n",
    "        src_seq_lenght, N = src.shape\n",
    "        trg_seq_lenght, N = trg.shape\n",
    "        \n",
    "        src_positions = (\n",
    "            torch.arange(0, src_seq_lenght).unsqueeze(1).expand(src_seq_lenght, N)\n",
    "            .to(self.device)\n",
    "        )\n",
    "        \n",
    "        trg_positions = (\n",
    "            torch.arange(0, trg_seq_lenght).unsqueeze(1).expand(trg_seq_lenght, N)\n",
    "            .to(self.device)\n",
    "        )\n",
    "        \n",
    "        embed_src = self.dropout(self.src_word_embedding(src) + self.src_position_embedding(src_positions))\n",
    "        embed_trg = self.dropout(self.trg_word_embedding(trg) + self.trg_position_embedding(trg_positions))\n",
    "        src_mask_padding_mask = self.make_src_mask(src)\n",
    "        trg_mask = self.transformer.generate_square_subsequent_mask(trg_seq_lenght).to(self.device)\n",
    "        \n",
    "        out = self.transformer(\n",
    "            embed_src,\n",
    "            embed_trg,\n",
    "            src_key_padding_mask = src_mask_padding_mask,\n",
    "            tgt_mask = trg_mask\n",
    "        )\n",
    "        out = self.fc_out(out)\n",
    "        return out"
   ]
  },
  {
   "cell_type": "code",
   "execution_count": 29,
   "id": "366be8ce",
   "metadata": {
    "execution": {
     "iopub.execute_input": "2024-04-15T19:18:06.865819Z",
     "iopub.status.busy": "2024-04-15T19:18:06.865340Z",
     "iopub.status.idle": "2024-04-15T19:18:06.870563Z",
     "shell.execute_reply": "2024-04-15T19:18:06.869747Z"
    },
    "papermill": {
     "duration": 0.021475,
     "end_time": "2024-04-15T19:18:06.872440",
     "exception": false,
     "start_time": "2024-04-15T19:18:06.850965",
     "status": "completed"
    },
    "tags": []
   },
   "outputs": [],
   "source": [
    "num_epochs = 10\n",
    "learning_rate = 3e-4\n",
    "batch_size = 64\n",
    "\n",
    "src_vocab_size = len(source_vocab)\n",
    "trg_vocab_size = len(target_vocab)\n",
    "embedding_size = 512\n",
    "num_heads = 8\n",
    "num_encoder_layers = 3\n",
    "num_decoder_layers = 3\n",
    "dropout = 0.10\n",
    "max_len = 57\n",
    "forward_expansion = 2048\n",
    "src_pad_idx = target_vocab.lookup_indices(['<pad>'])[0]"
   ]
  },
  {
   "cell_type": "code",
   "execution_count": 30,
   "id": "92f9f117",
   "metadata": {
    "execution": {
     "iopub.execute_input": "2024-04-15T19:18:06.901299Z",
     "iopub.status.busy": "2024-04-15T19:18:06.900659Z",
     "iopub.status.idle": "2024-04-15T19:18:06.905412Z",
     "shell.execute_reply": "2024-04-15T19:18:06.904595Z"
    },
    "papermill": {
     "duration": 0.021097,
     "end_time": "2024-04-15T19:18:06.907325",
     "exception": false,
     "start_time": "2024-04-15T19:18:06.886228",
     "status": "completed"
    },
    "tags": []
   },
   "outputs": [],
   "source": [
    "FILE_PATH = '/kaggle/working/shiny_test.txt'\n",
    "test_data_pipe = dp.iter.IterableWrapper([FILE_PATH])\n",
    "test_data_pipe = dp.iter.FileOpener(test_data_pipe, mode='rb')\n",
    "test_data_pipe = test_data_pipe.parse_csv(skip_lines=1, delimiter='\\t', as_tuple=True)"
   ]
  },
  {
   "cell_type": "code",
   "execution_count": 31,
   "id": "d1c3f476",
   "metadata": {
    "execution": {
     "iopub.execute_input": "2024-04-15T19:18:06.936471Z",
     "iopub.status.busy": "2024-04-15T19:18:06.936184Z",
     "iopub.status.idle": "2024-04-15T19:18:06.945868Z",
     "shell.execute_reply": "2024-04-15T19:18:06.945141Z"
    },
    "papermill": {
     "duration": 0.026697,
     "end_time": "2024-04-15T19:18:06.947782",
     "exception": false,
     "start_time": "2024-04-15T19:18:06.921085",
     "status": "completed"
    },
    "tags": []
   },
   "outputs": [],
   "source": [
    "import torch\n",
    "import spacy\n",
    "from torchtext.data.metrics import bleu_score\n",
    "import sys\n",
    "\n",
    "def translate_sentence(model, sentence, german_voc, english_voc, spacy_en, device, max_length=50):\n",
    "\n",
    "    # Create tokens using spacy and everything in lower case (which is what our vocab is)\n",
    "    if type(sentence) == str:\n",
    "        tokens = [token.text.lower() for token in spacy_en(sentence)]\n",
    "    else:\n",
    "        tokens = [token.lower() for token in sentence]\n",
    "\n",
    "    # Add <SOS> and <EOS> in beginning and end respectively\n",
    "    tokens.insert(0, '<sos>')\n",
    "    tokens.append('<eos>')\n",
    "    \n",
    "    # Go through each german token and convert to an index\n",
    "    text_to_indices = english_voc.lookup_indices(tokens)\n",
    "\n",
    "    # Convert to Tensor\n",
    "    sentence_tensor = torch.tensor(text_to_indices, device=device).unsqueeze(1)\n",
    "\n",
    "    outputs = german_voc.forward(['<sos>'])\n",
    "    end_of_sentece = german_voc.forward(['<eos>'])[0]\n",
    "    \n",
    "    for i in range(max_length):\n",
    "        trg_tensor = torch.tensor(outputs, device=device).unsqueeze(1)\n",
    "\n",
    "        with torch.no_grad():\n",
    "            output = model(sentence_tensor, trg_tensor)\n",
    "\n",
    "        best_guess = output.argmax(2)[-1, :].item()\n",
    "        outputs.append(best_guess)\n",
    "\n",
    "        if best_guess == end_of_sentece:\n",
    "            break\n",
    "\n",
    "    translated_sentence = german_voc.lookup_tokens(outputs)\n",
    "    # remove start token\n",
    "    return translated_sentence[1:]"
   ]
  },
  {
   "cell_type": "code",
   "execution_count": 32,
   "id": "8bccbb90",
   "metadata": {
    "execution": {
     "iopub.execute_input": "2024-04-15T19:18:06.976087Z",
     "iopub.status.busy": "2024-04-15T19:18:06.975833Z",
     "iopub.status.idle": "2024-04-15T19:18:07.675670Z",
     "shell.execute_reply": "2024-04-15T19:18:07.674572Z"
    },
    "papermill": {
     "duration": 0.716751,
     "end_time": "2024-04-15T19:18:07.678186",
     "exception": false,
     "start_time": "2024-04-15T19:18:06.961435",
     "status": "completed"
    },
    "tags": []
   },
   "outputs": [
    {
     "name": "stderr",
     "output_type": "stream",
     "text": [
      "/opt/conda/lib/python3.10/site-packages/torch/nn/modules/transformer.py:282: UserWarning: enable_nested_tensor is True, but self.use_nested_tensor is False because encoder_layer.self_attn.batch_first was not True(use batch_first for better inference performance)\n",
      "  warnings.warn(f\"enable_nested_tensor is True, but self.use_nested_tensor is False because {why_not_sparsity_fast_path}\")\n"
     ]
    }
   ],
   "source": [
    "model = Transformers(\n",
    "    embedding_size,\n",
    "    src_vocab_size,\n",
    "    trg_vocab_size,\n",
    "    src_pad_idx,\n",
    "    num_heads,\n",
    "    num_encoder_layers,\n",
    "    num_decoder_layers,\n",
    "    forward_expansion,\n",
    "    dropout,\n",
    "    max_len,\n",
    "    device\n",
    ").to(device)"
   ]
  },
  {
   "cell_type": "code",
   "execution_count": 33,
   "id": "9816c1cb",
   "metadata": {
    "execution": {
     "iopub.execute_input": "2024-04-15T19:18:07.710651Z",
     "iopub.status.busy": "2024-04-15T19:18:07.710282Z",
     "iopub.status.idle": "2024-04-15T19:18:09.523694Z",
     "shell.execute_reply": "2024-04-15T19:18:09.522870Z"
    },
    "papermill": {
     "duration": 1.833084,
     "end_time": "2024-04-15T19:18:09.526029",
     "exception": false,
     "start_time": "2024-04-15T19:18:07.692945",
     "status": "completed"
    },
    "tags": []
   },
   "outputs": [],
   "source": [
    "optimizer = optim.Adam(model.parameters(), lr=learning_rate)\n",
    "pad_idx = target_vocab.lookup_indices(['<pad>'])[0]\n",
    "criterion = nn.CrossEntropyLoss(ignore_index=pad_idx)"
   ]
  },
  {
   "cell_type": "code",
   "execution_count": 34,
   "id": "f83c4894",
   "metadata": {
    "execution": {
     "iopub.execute_input": "2024-04-15T19:18:09.556098Z",
     "iopub.status.busy": "2024-04-15T19:18:09.555050Z",
     "iopub.status.idle": "2024-04-15T19:40:00.082992Z",
     "shell.execute_reply": "2024-04-15T19:40:00.082168Z"
    },
    "papermill": {
     "duration": 1310.545174,
     "end_time": "2024-04-15T19:40:00.085483",
     "exception": false,
     "start_time": "2024-04-15T19:18:09.540309",
     "status": "completed"
    },
    "tags": []
   },
   "outputs": [
    {
     "name": "stdout",
     "output_type": "stream",
     "text": [
      "Flitterwochen erfreut Flitterwochen abgeschnitten Fußstapfen Flitterwochen sauren Verausgabe Verausgabe Protesten vergiss abgeschnitten Verausgabe Verausgabe Protesten Schlips Verausgabe Verausgabe Verausgabe unausstehlich beklagt Bauern enttäuschen Computerspiel Verausgabe Verausgabe Verausgabe lud liebe gelesen geküsst Computerspiel Verausgabe Flitterwochen abgeschnitten Fußstapfen anliegende beklagt enttäuschen irrte Protesten Bauern kannte Fußballmannschaft zusammen Verausgabe seien Beförderung attraktiver\n",
      "Epoch 1 / 10\n",
      "Du musst dich wissen .\n",
      "Epoch 2 / 10\n",
      "Sie müssen sich selbst wissen .\n",
      "Epoch 3 / 10\n",
      "Du musst dich selbst wissen .\n",
      "Epoch 4 / 10\n",
      "Du musst dich selbst wissen .\n",
      "Epoch 5 / 10\n",
      "Sie müssen sich selbst wissen .\n",
      "Epoch 6 / 10\n",
      "Sie müssen sich selbst kennen .\n",
      "Epoch 7 / 10\n",
      "Sie müssen sich selbst kennen .\n",
      "Epoch 8 / 10\n",
      "Sie müssen sich kennen .\n",
      "Epoch 9 / 10\n",
      "Sie müssen sich kennen .\n",
      "Epoch 10 / 10\n"
     ]
    }
   ],
   "source": [
    "sentence = 'You must know yourself.'\n",
    "spacy_en = spacy.load(\"en_core_web_sm\")\n",
    "\n",
    "for epoch in range(num_epochs):\n",
    "    \n",
    "    model.eval()\n",
    "    translated_sentence = translate_sentence(model, sentence, target_vocab, source_vocab, spacy_en, device)\n",
    "    print(' '.join(translated_sentence[:-1]))\n",
    "    model.train()\n",
    "    print(f'Epoch {epoch+1} / {num_epochs}')\n",
    "    for batch_idx, (data, target) in enumerate(data_pipe):\n",
    "            data = data.permute([1,0])\n",
    "            data = data.to(device)\n",
    "           \n",
    "            target = target.permute([1,0])\n",
    "            target = target.to(device)\n",
    "    \n",
    "            output = model(data, target[:-1])\n",
    "        \n",
    "            output = output.reshape(-1, output.shape[2])\n",
    "            target = target[1:].reshape(-1)\n",
    "            \n",
    "            optimizer.zero_grad()\n",
    "            loss = criterion(output, target)\n",
    "            loss.backward()\n",
    "            torch.nn.utils.clip_grad_norm_(model.parameters(), max_norm=1)\n",
    "            optimizer.step()"
   ]
  },
  {
   "cell_type": "code",
   "execution_count": 35,
   "id": "d9c826a1",
   "metadata": {
    "execution": {
     "iopub.execute_input": "2024-04-15T19:40:00.117369Z",
     "iopub.status.busy": "2024-04-15T19:40:00.116607Z",
     "iopub.status.idle": "2024-04-15T19:40:02.129454Z",
     "shell.execute_reply": "2024-04-15T19:40:02.128661Z"
    },
    "papermill": {
     "duration": 2.030854,
     "end_time": "2024-04-15T19:40:02.131811",
     "exception": false,
     "start_time": "2024-04-15T19:40:00.100957",
     "status": "completed"
    },
    "tags": []
   },
   "outputs": [],
   "source": [
    "from torchmetrics.functional.text import bleu_score\n",
    "from torch.utils.data import DataLoader\n",
    "\n",
    "\n",
    "def bleu(data_pipe, model, german_vocab, english_vocab, device):\n",
    "    spacy_en = spacy.load(\"en_core_web_sm\")\n",
    "    targets = []\n",
    "    outputs = []\n",
    "    \n",
    "    for idx, (source, target) in enumerate(data_pipe):\n",
    "        if idx % 10000 == 0:\n",
    "            print(idx)\n",
    "        \n",
    "        prediction = translate_sentence(model, source, german_vocab, english_vocab, spacy_en, device)\n",
    "        prediction = prediction[:-1]\n",
    "        detokenized  = ' '.join(deTokenize(target))\n",
    "        targets.append([detokenized])\n",
    "        outputs.append(\" \".join(prediction))\n",
    "#         print(f'Source: {source} Target: {t} Pred: {detokenized}', end='\\n\\n')\n",
    "    return bleu_score(outputs, targets)"
   ]
  },
  {
   "cell_type": "code",
   "execution_count": 36,
   "id": "e4ae8c34",
   "metadata": {
    "execution": {
     "iopub.execute_input": "2024-04-15T19:40:02.163128Z",
     "iopub.status.busy": "2024-04-15T19:40:02.162425Z",
     "iopub.status.idle": "2024-04-15T20:11:19.552654Z",
     "shell.execute_reply": "2024-04-15T20:11:19.551807Z"
    },
    "papermill": {
     "duration": 1877.408301,
     "end_time": "2024-04-15T20:11:19.555218",
     "exception": false,
     "start_time": "2024-04-15T19:40:02.146917",
     "status": "completed"
    },
    "tags": []
   },
   "outputs": [
    {
     "name": "stdout",
     "output_type": "stream",
     "text": [
      "0\n",
      "10000\n",
      "20000\n",
      "30000\n"
     ]
    }
   ],
   "source": [
    "score = bleu(test_data_pipe, model, target_vocab, source_vocab, device)"
   ]
  },
  {
   "cell_type": "code",
   "execution_count": 37,
   "id": "f8164874",
   "metadata": {
    "execution": {
     "iopub.execute_input": "2024-04-15T20:11:19.586900Z",
     "iopub.status.busy": "2024-04-15T20:11:19.586555Z",
     "iopub.status.idle": "2024-04-15T20:11:19.597344Z",
     "shell.execute_reply": "2024-04-15T20:11:19.596314Z"
    },
    "papermill": {
     "duration": 0.028587,
     "end_time": "2024-04-15T20:11:19.599295",
     "exception": false,
     "start_time": "2024-04-15T20:11:19.570708",
     "status": "completed"
    },
    "tags": []
   },
   "outputs": [
    {
     "name": "stdout",
     "output_type": "stream",
     "text": [
      "tensor(0.2155)\n"
     ]
    }
   ],
   "source": [
    "print(score)"
   ]
  }
 ],
 "metadata": {
  "kaggle": {
   "accelerator": "gpu",
   "dataSources": [],
   "dockerImageVersionId": 30683,
   "isGpuEnabled": true,
   "isInternetEnabled": true,
   "language": "python",
   "sourceType": "notebook"
  },
  "kernelspec": {
   "display_name": "Python 3",
   "language": "python",
   "name": "python3"
  },
  "language_info": {
   "codemirror_mode": {
    "name": "ipython",
    "version": 3
   },
   "file_extension": ".py",
   "mimetype": "text/x-python",
   "name": "python",
   "nbconvert_exporter": "python",
   "pygments_lexer": "ipython3",
   "version": "3.10.13"
  },
  "papermill": {
   "default_parameters": {},
   "duration": 3452.352219,
   "end_time": "2024-04-15T20:11:21.444119",
   "environment_variables": {},
   "exception": null,
   "input_path": "__notebook__.ipynb",
   "output_path": "__notebook__.ipynb",
   "parameters": {},
   "start_time": "2024-04-15T19:13:49.091900",
   "version": "2.5.0"
  }
 },
 "nbformat": 4,
 "nbformat_minor": 5
}
